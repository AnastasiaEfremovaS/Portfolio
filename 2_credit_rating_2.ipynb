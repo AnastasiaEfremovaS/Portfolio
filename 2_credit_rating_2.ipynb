{
 "cells": [
  {
   "cell_type": "markdown",
   "id": "ca6b599e",
   "metadata": {},
   "source": [
    "**Анастасия, привет!**\n",
    "\n",
    "Меня зовут Василий Митров и я буду проверять твой проект. Предлагаю общаться на «ты». Если это неприемлемо, то дай мне знать и мы перейдем на «вы». Моя основная цель — не указать на совершенные тобою ошибки, а поделиться своим опытом и помочь тебе стать аналитиком данных.\n",
    "\n",
    "Для удобства я оставлю комментарии в отдельных ячейках Markdown с заголовком «Комментарий ревьюера». Пожалуйста, не перемещай, не изменяй и не удаляй их - так наше общение будет более продуктивным. Я буду использовать цветовую разметку:\n",
    "\n",
    "<div class=\"alert alert-danger\">\n",
    "<b>Комментарий ревьюера</b> \n",
    "    \n",
    "✍ Так выделены самые важные замечания. Без их отработки проект не будет принят. При проверке я обращаю внимание не только на код, но и на интерпретацию и анализ результатов, а также соответствие данных техническому заданию.\n",
    "</div>\n",
    "\n",
    "<div class=\"alert alert-warning\">\n",
    "<b>Комментарий ревьюера</b> \n",
    "    \n",
    "📝 Так выделены небольшие замечания или рекомендации. Постарайся, пожалуйста, учесть эти комментарии в этом проекте или в будущих проектах.\n",
    "</div>\n",
    "\n",
    "<div class=\"alert alert-success\">\n",
    "<b>Комментарий ревьюера</b> \n",
    "    \n",
    "👍 Так выделены все остальные комментарии, включая рекомендации, позитивные моменты или какие-то рассуждения и пояснения.\n",
    "</div>\n",
    "\n",
    "Давай работать над проектом в диалоге: если ты что-то меняешь в проекте или отвечаешь на мои комментарии — пиши об этом. Мне будет легче отследить изменения, если ты выделишь свои комментарии:\n",
    "\n",
    "<div class=\"alert alert-info\"> \n",
    "<b>Комментарий студента</b> \n",
    "    \n",
    "Например, вот так. Также, если есть какие-то вопросы, или что-то осталось непонятным по ревью - спрашивай в таких блоках и я постараюсь дать ответ.\n",
    "</div>\n",
    "\n",
    "---"
   ]
  },
  {
   "cell_type": "markdown",
   "id": "1c6a579e",
   "metadata": {
    "deletable": false,
    "editable": false,
    "id": "c81daeeb"
   },
   "source": [
    "# Исследование надежности заемщиков\n"
   ]
  },
  {
   "cell_type": "markdown",
   "id": "d256861c",
   "metadata": {
    "deletable": false,
    "editable": false,
    "id": "827c20bf"
   },
   "source": [
    "Во второй части проекта вы выполните шаги 3 и 4. Их вручную проверит ревьюер.\n",
    "Чтобы вам не пришлось писать код заново для шагов 1 и 2, мы добавили авторские решения в ячейки с кодом. \n",
    "\n"
   ]
  },
  {
   "cell_type": "markdown",
   "id": "78e9be1f",
   "metadata": {
    "deletable": false,
    "editable": false,
    "id": "744d7639"
   },
   "source": [
    "## Откройте таблицу и изучите общую информацию о данных"
   ]
  },
  {
   "cell_type": "markdown",
   "id": "3fcb0c96",
   "metadata": {
    "deletable": false,
    "editable": false,
    "id": "e7a14c31"
   },
   "source": [
    "**Задание 1. Импортируйте библиотеку pandas. Считайте данные из csv-файла в датафрейм и сохраните в переменную `data`. Путь к файлу:**\n",
    "\n",
    "`/datasets/data.csv`"
   ]
  },
  {
   "cell_type": "code",
   "execution_count": 36,
   "id": "849e0c08",
   "metadata": {
    "deletable": false,
    "id": "7bcf75c9"
   },
   "outputs": [],
   "source": [
    "import pandas as pd\n",
    "\n",
    "try:\n",
    "    data = pd.read_csv('/datasets/data.csv')\n",
    "except:\n",
    "    data = pd.read_csv('https://code.s3.yandex.net/datasets/data.csv')"
   ]
  },
  {
   "cell_type": "markdown",
   "id": "30cc24da",
   "metadata": {
    "deletable": false,
    "editable": false,
    "id": "b8038fe3"
   },
   "source": [
    "**Задание 2. Выведите первые 20 строчек датафрейма `data` на экран.**"
   ]
  },
  {
   "cell_type": "code",
   "execution_count": 37,
   "id": "06e1fc24",
   "metadata": {
    "deletable": false,
    "id": "2a7cab99",
    "outputId": "1a8f3ef2-d323-4ec2-ddf7-89670b5944c4"
   },
   "outputs": [
    {
     "data": {
      "text/html": [
       "<div>\n",
       "<style scoped>\n",
       "    .dataframe tbody tr th:only-of-type {\n",
       "        vertical-align: middle;\n",
       "    }\n",
       "\n",
       "    .dataframe tbody tr th {\n",
       "        vertical-align: top;\n",
       "    }\n",
       "\n",
       "    .dataframe thead th {\n",
       "        text-align: right;\n",
       "    }\n",
       "</style>\n",
       "<table border=\"1\" class=\"dataframe\">\n",
       "  <thead>\n",
       "    <tr style=\"text-align: right;\">\n",
       "      <th></th>\n",
       "      <th>children</th>\n",
       "      <th>days_employed</th>\n",
       "      <th>dob_years</th>\n",
       "      <th>education</th>\n",
       "      <th>education_id</th>\n",
       "      <th>family_status</th>\n",
       "      <th>family_status_id</th>\n",
       "      <th>gender</th>\n",
       "      <th>income_type</th>\n",
       "      <th>debt</th>\n",
       "      <th>total_income</th>\n",
       "      <th>purpose</th>\n",
       "    </tr>\n",
       "  </thead>\n",
       "  <tbody>\n",
       "    <tr>\n",
       "      <th>0</th>\n",
       "      <td>1</td>\n",
       "      <td>-8437.673028</td>\n",
       "      <td>42</td>\n",
       "      <td>высшее</td>\n",
       "      <td>0</td>\n",
       "      <td>женат / замужем</td>\n",
       "      <td>0</td>\n",
       "      <td>F</td>\n",
       "      <td>сотрудник</td>\n",
       "      <td>0</td>\n",
       "      <td>253875.639453</td>\n",
       "      <td>покупка жилья</td>\n",
       "    </tr>\n",
       "    <tr>\n",
       "      <th>1</th>\n",
       "      <td>1</td>\n",
       "      <td>-4024.803754</td>\n",
       "      <td>36</td>\n",
       "      <td>среднее</td>\n",
       "      <td>1</td>\n",
       "      <td>женат / замужем</td>\n",
       "      <td>0</td>\n",
       "      <td>F</td>\n",
       "      <td>сотрудник</td>\n",
       "      <td>0</td>\n",
       "      <td>112080.014102</td>\n",
       "      <td>приобретение автомобиля</td>\n",
       "    </tr>\n",
       "    <tr>\n",
       "      <th>2</th>\n",
       "      <td>0</td>\n",
       "      <td>-5623.422610</td>\n",
       "      <td>33</td>\n",
       "      <td>Среднее</td>\n",
       "      <td>1</td>\n",
       "      <td>женат / замужем</td>\n",
       "      <td>0</td>\n",
       "      <td>M</td>\n",
       "      <td>сотрудник</td>\n",
       "      <td>0</td>\n",
       "      <td>145885.952297</td>\n",
       "      <td>покупка жилья</td>\n",
       "    </tr>\n",
       "    <tr>\n",
       "      <th>3</th>\n",
       "      <td>3</td>\n",
       "      <td>-4124.747207</td>\n",
       "      <td>32</td>\n",
       "      <td>среднее</td>\n",
       "      <td>1</td>\n",
       "      <td>женат / замужем</td>\n",
       "      <td>0</td>\n",
       "      <td>M</td>\n",
       "      <td>сотрудник</td>\n",
       "      <td>0</td>\n",
       "      <td>267628.550329</td>\n",
       "      <td>дополнительное образование</td>\n",
       "    </tr>\n",
       "    <tr>\n",
       "      <th>4</th>\n",
       "      <td>0</td>\n",
       "      <td>340266.072047</td>\n",
       "      <td>53</td>\n",
       "      <td>среднее</td>\n",
       "      <td>1</td>\n",
       "      <td>гражданский брак</td>\n",
       "      <td>1</td>\n",
       "      <td>F</td>\n",
       "      <td>пенсионер</td>\n",
       "      <td>0</td>\n",
       "      <td>158616.077870</td>\n",
       "      <td>сыграть свадьбу</td>\n",
       "    </tr>\n",
       "    <tr>\n",
       "      <th>5</th>\n",
       "      <td>0</td>\n",
       "      <td>-926.185831</td>\n",
       "      <td>27</td>\n",
       "      <td>высшее</td>\n",
       "      <td>0</td>\n",
       "      <td>гражданский брак</td>\n",
       "      <td>1</td>\n",
       "      <td>M</td>\n",
       "      <td>компаньон</td>\n",
       "      <td>0</td>\n",
       "      <td>255763.565419</td>\n",
       "      <td>покупка жилья</td>\n",
       "    </tr>\n",
       "    <tr>\n",
       "      <th>6</th>\n",
       "      <td>0</td>\n",
       "      <td>-2879.202052</td>\n",
       "      <td>43</td>\n",
       "      <td>высшее</td>\n",
       "      <td>0</td>\n",
       "      <td>женат / замужем</td>\n",
       "      <td>0</td>\n",
       "      <td>F</td>\n",
       "      <td>компаньон</td>\n",
       "      <td>0</td>\n",
       "      <td>240525.971920</td>\n",
       "      <td>операции с жильем</td>\n",
       "    </tr>\n",
       "    <tr>\n",
       "      <th>7</th>\n",
       "      <td>0</td>\n",
       "      <td>-152.779569</td>\n",
       "      <td>50</td>\n",
       "      <td>СРЕДНЕЕ</td>\n",
       "      <td>1</td>\n",
       "      <td>женат / замужем</td>\n",
       "      <td>0</td>\n",
       "      <td>M</td>\n",
       "      <td>сотрудник</td>\n",
       "      <td>0</td>\n",
       "      <td>135823.934197</td>\n",
       "      <td>образование</td>\n",
       "    </tr>\n",
       "    <tr>\n",
       "      <th>8</th>\n",
       "      <td>2</td>\n",
       "      <td>-6929.865299</td>\n",
       "      <td>35</td>\n",
       "      <td>ВЫСШЕЕ</td>\n",
       "      <td>0</td>\n",
       "      <td>гражданский брак</td>\n",
       "      <td>1</td>\n",
       "      <td>F</td>\n",
       "      <td>сотрудник</td>\n",
       "      <td>0</td>\n",
       "      <td>95856.832424</td>\n",
       "      <td>на проведение свадьбы</td>\n",
       "    </tr>\n",
       "    <tr>\n",
       "      <th>9</th>\n",
       "      <td>0</td>\n",
       "      <td>-2188.756445</td>\n",
       "      <td>41</td>\n",
       "      <td>среднее</td>\n",
       "      <td>1</td>\n",
       "      <td>женат / замужем</td>\n",
       "      <td>0</td>\n",
       "      <td>M</td>\n",
       "      <td>сотрудник</td>\n",
       "      <td>0</td>\n",
       "      <td>144425.938277</td>\n",
       "      <td>покупка жилья для семьи</td>\n",
       "    </tr>\n",
       "    <tr>\n",
       "      <th>10</th>\n",
       "      <td>2</td>\n",
       "      <td>-4171.483647</td>\n",
       "      <td>36</td>\n",
       "      <td>высшее</td>\n",
       "      <td>0</td>\n",
       "      <td>женат / замужем</td>\n",
       "      <td>0</td>\n",
       "      <td>M</td>\n",
       "      <td>компаньон</td>\n",
       "      <td>0</td>\n",
       "      <td>113943.491460</td>\n",
       "      <td>покупка недвижимости</td>\n",
       "    </tr>\n",
       "    <tr>\n",
       "      <th>11</th>\n",
       "      <td>0</td>\n",
       "      <td>-792.701887</td>\n",
       "      <td>40</td>\n",
       "      <td>среднее</td>\n",
       "      <td>1</td>\n",
       "      <td>женат / замужем</td>\n",
       "      <td>0</td>\n",
       "      <td>F</td>\n",
       "      <td>сотрудник</td>\n",
       "      <td>0</td>\n",
       "      <td>77069.234271</td>\n",
       "      <td>покупка коммерческой недвижимости</td>\n",
       "    </tr>\n",
       "    <tr>\n",
       "      <th>12</th>\n",
       "      <td>0</td>\n",
       "      <td>NaN</td>\n",
       "      <td>65</td>\n",
       "      <td>среднее</td>\n",
       "      <td>1</td>\n",
       "      <td>гражданский брак</td>\n",
       "      <td>1</td>\n",
       "      <td>M</td>\n",
       "      <td>пенсионер</td>\n",
       "      <td>0</td>\n",
       "      <td>NaN</td>\n",
       "      <td>сыграть свадьбу</td>\n",
       "    </tr>\n",
       "    <tr>\n",
       "      <th>13</th>\n",
       "      <td>0</td>\n",
       "      <td>-1846.641941</td>\n",
       "      <td>54</td>\n",
       "      <td>неоконченное высшее</td>\n",
       "      <td>2</td>\n",
       "      <td>женат / замужем</td>\n",
       "      <td>0</td>\n",
       "      <td>F</td>\n",
       "      <td>сотрудник</td>\n",
       "      <td>0</td>\n",
       "      <td>130458.228857</td>\n",
       "      <td>приобретение автомобиля</td>\n",
       "    </tr>\n",
       "    <tr>\n",
       "      <th>14</th>\n",
       "      <td>0</td>\n",
       "      <td>-1844.956182</td>\n",
       "      <td>56</td>\n",
       "      <td>высшее</td>\n",
       "      <td>0</td>\n",
       "      <td>гражданский брак</td>\n",
       "      <td>1</td>\n",
       "      <td>F</td>\n",
       "      <td>компаньон</td>\n",
       "      <td>1</td>\n",
       "      <td>165127.911772</td>\n",
       "      <td>покупка жилой недвижимости</td>\n",
       "    </tr>\n",
       "    <tr>\n",
       "      <th>15</th>\n",
       "      <td>1</td>\n",
       "      <td>-972.364419</td>\n",
       "      <td>26</td>\n",
       "      <td>среднее</td>\n",
       "      <td>1</td>\n",
       "      <td>женат / замужем</td>\n",
       "      <td>0</td>\n",
       "      <td>F</td>\n",
       "      <td>сотрудник</td>\n",
       "      <td>0</td>\n",
       "      <td>116820.904450</td>\n",
       "      <td>строительство собственной недвижимости</td>\n",
       "    </tr>\n",
       "    <tr>\n",
       "      <th>16</th>\n",
       "      <td>0</td>\n",
       "      <td>-1719.934226</td>\n",
       "      <td>35</td>\n",
       "      <td>среднее</td>\n",
       "      <td>1</td>\n",
       "      <td>женат / замужем</td>\n",
       "      <td>0</td>\n",
       "      <td>F</td>\n",
       "      <td>сотрудник</td>\n",
       "      <td>0</td>\n",
       "      <td>289202.704229</td>\n",
       "      <td>недвижимость</td>\n",
       "    </tr>\n",
       "    <tr>\n",
       "      <th>17</th>\n",
       "      <td>0</td>\n",
       "      <td>-2369.999720</td>\n",
       "      <td>33</td>\n",
       "      <td>высшее</td>\n",
       "      <td>0</td>\n",
       "      <td>гражданский брак</td>\n",
       "      <td>1</td>\n",
       "      <td>M</td>\n",
       "      <td>сотрудник</td>\n",
       "      <td>0</td>\n",
       "      <td>90410.586745</td>\n",
       "      <td>строительство недвижимости</td>\n",
       "    </tr>\n",
       "    <tr>\n",
       "      <th>18</th>\n",
       "      <td>0</td>\n",
       "      <td>400281.136913</td>\n",
       "      <td>53</td>\n",
       "      <td>среднее</td>\n",
       "      <td>1</td>\n",
       "      <td>вдовец / вдова</td>\n",
       "      <td>2</td>\n",
       "      <td>F</td>\n",
       "      <td>пенсионер</td>\n",
       "      <td>0</td>\n",
       "      <td>56823.777243</td>\n",
       "      <td>на покупку подержанного автомобиля</td>\n",
       "    </tr>\n",
       "    <tr>\n",
       "      <th>19</th>\n",
       "      <td>0</td>\n",
       "      <td>-10038.818549</td>\n",
       "      <td>48</td>\n",
       "      <td>СРЕДНЕЕ</td>\n",
       "      <td>1</td>\n",
       "      <td>в разводе</td>\n",
       "      <td>3</td>\n",
       "      <td>F</td>\n",
       "      <td>сотрудник</td>\n",
       "      <td>0</td>\n",
       "      <td>242831.107982</td>\n",
       "      <td>на покупку своего автомобиля</td>\n",
       "    </tr>\n",
       "  </tbody>\n",
       "</table>\n",
       "</div>"
      ],
      "text/plain": [
       "    children  days_employed  dob_years            education  education_id  \\\n",
       "0          1   -8437.673028         42               высшее             0   \n",
       "1          1   -4024.803754         36              среднее             1   \n",
       "2          0   -5623.422610         33              Среднее             1   \n",
       "3          3   -4124.747207         32              среднее             1   \n",
       "4          0  340266.072047         53              среднее             1   \n",
       "5          0    -926.185831         27               высшее             0   \n",
       "6          0   -2879.202052         43               высшее             0   \n",
       "7          0    -152.779569         50              СРЕДНЕЕ             1   \n",
       "8          2   -6929.865299         35               ВЫСШЕЕ             0   \n",
       "9          0   -2188.756445         41              среднее             1   \n",
       "10         2   -4171.483647         36               высшее             0   \n",
       "11         0    -792.701887         40              среднее             1   \n",
       "12         0            NaN         65              среднее             1   \n",
       "13         0   -1846.641941         54  неоконченное высшее             2   \n",
       "14         0   -1844.956182         56               высшее             0   \n",
       "15         1    -972.364419         26              среднее             1   \n",
       "16         0   -1719.934226         35              среднее             1   \n",
       "17         0   -2369.999720         33               высшее             0   \n",
       "18         0  400281.136913         53              среднее             1   \n",
       "19         0  -10038.818549         48              СРЕДНЕЕ             1   \n",
       "\n",
       "       family_status  family_status_id gender income_type  debt  \\\n",
       "0    женат / замужем                 0      F   сотрудник     0   \n",
       "1    женат / замужем                 0      F   сотрудник     0   \n",
       "2    женат / замужем                 0      M   сотрудник     0   \n",
       "3    женат / замужем                 0      M   сотрудник     0   \n",
       "4   гражданский брак                 1      F   пенсионер     0   \n",
       "5   гражданский брак                 1      M   компаньон     0   \n",
       "6    женат / замужем                 0      F   компаньон     0   \n",
       "7    женат / замужем                 0      M   сотрудник     0   \n",
       "8   гражданский брак                 1      F   сотрудник     0   \n",
       "9    женат / замужем                 0      M   сотрудник     0   \n",
       "10   женат / замужем                 0      M   компаньон     0   \n",
       "11   женат / замужем                 0      F   сотрудник     0   \n",
       "12  гражданский брак                 1      M   пенсионер     0   \n",
       "13   женат / замужем                 0      F   сотрудник     0   \n",
       "14  гражданский брак                 1      F   компаньон     1   \n",
       "15   женат / замужем                 0      F   сотрудник     0   \n",
       "16   женат / замужем                 0      F   сотрудник     0   \n",
       "17  гражданский брак                 1      M   сотрудник     0   \n",
       "18    вдовец / вдова                 2      F   пенсионер     0   \n",
       "19         в разводе                 3      F   сотрудник     0   \n",
       "\n",
       "     total_income                                 purpose  \n",
       "0   253875.639453                           покупка жилья  \n",
       "1   112080.014102                 приобретение автомобиля  \n",
       "2   145885.952297                           покупка жилья  \n",
       "3   267628.550329              дополнительное образование  \n",
       "4   158616.077870                         сыграть свадьбу  \n",
       "5   255763.565419                           покупка жилья  \n",
       "6   240525.971920                       операции с жильем  \n",
       "7   135823.934197                             образование  \n",
       "8    95856.832424                   на проведение свадьбы  \n",
       "9   144425.938277                 покупка жилья для семьи  \n",
       "10  113943.491460                    покупка недвижимости  \n",
       "11   77069.234271       покупка коммерческой недвижимости  \n",
       "12            NaN                         сыграть свадьбу  \n",
       "13  130458.228857                 приобретение автомобиля  \n",
       "14  165127.911772              покупка жилой недвижимости  \n",
       "15  116820.904450  строительство собственной недвижимости  \n",
       "16  289202.704229                            недвижимость  \n",
       "17   90410.586745              строительство недвижимости  \n",
       "18   56823.777243      на покупку подержанного автомобиля  \n",
       "19  242831.107982            на покупку своего автомобиля  "
      ]
     },
     "execution_count": 37,
     "metadata": {},
     "output_type": "execute_result"
    }
   ],
   "source": [
    "data.head(20)"
   ]
  },
  {
   "cell_type": "markdown",
   "id": "414e5c91",
   "metadata": {
    "deletable": false,
    "editable": false,
    "id": "1c12e233"
   },
   "source": [
    "**Задание 3. Выведите основную информацию о датафрейме с помощью метода `info()`.**"
   ]
  },
  {
   "cell_type": "code",
   "execution_count": 38,
   "id": "463e3bb1",
   "metadata": {
    "deletable": false,
    "id": "2b757bca",
    "outputId": "15376089-8dad-46c9-b520-c05248d43158"
   },
   "outputs": [
    {
     "name": "stdout",
     "output_type": "stream",
     "text": [
      "<class 'pandas.core.frame.DataFrame'>\n",
      "RangeIndex: 21525 entries, 0 to 21524\n",
      "Data columns (total 12 columns):\n",
      " #   Column            Non-Null Count  Dtype  \n",
      "---  ------            --------------  -----  \n",
      " 0   children          21525 non-null  int64  \n",
      " 1   days_employed     19351 non-null  float64\n",
      " 2   dob_years         21525 non-null  int64  \n",
      " 3   education         21525 non-null  object \n",
      " 4   education_id      21525 non-null  int64  \n",
      " 5   family_status     21525 non-null  object \n",
      " 6   family_status_id  21525 non-null  int64  \n",
      " 7   gender            21525 non-null  object \n",
      " 8   income_type       21525 non-null  object \n",
      " 9   debt              21525 non-null  int64  \n",
      " 10  total_income      19351 non-null  float64\n",
      " 11  purpose           21525 non-null  object \n",
      "dtypes: float64(2), int64(5), object(5)\n",
      "memory usage: 2.0+ MB\n"
     ]
    }
   ],
   "source": [
    "data.info()"
   ]
  },
  {
   "cell_type": "markdown",
   "id": "6b97a89a",
   "metadata": {
    "deletable": false,
    "editable": false,
    "id": "333ec665"
   },
   "source": [
    "## Предобработка данных"
   ]
  },
  {
   "cell_type": "markdown",
   "id": "e2c5981c",
   "metadata": {
    "deletable": false,
    "editable": false,
    "id": "02d92d53"
   },
   "source": [
    "### Удаление пропусков"
   ]
  },
  {
   "cell_type": "markdown",
   "id": "e564cb03",
   "metadata": {
    "deletable": false,
    "editable": false,
    "id": "cd84967c"
   },
   "source": [
    "**Задание 4. Выведите количество пропущенных значений для каждого столбца. Используйте комбинацию двух методов.**"
   ]
  },
  {
   "cell_type": "code",
   "execution_count": 39,
   "id": "1af4e92a",
   "metadata": {
    "deletable": false,
    "id": "7f9b2309",
    "outputId": "81f4d817-781c-465c-ed15-91ce4446810d"
   },
   "outputs": [
    {
     "data": {
      "text/plain": [
       "children               0\n",
       "days_employed       2174\n",
       "dob_years              0\n",
       "education              0\n",
       "education_id           0\n",
       "family_status          0\n",
       "family_status_id       0\n",
       "gender                 0\n",
       "income_type            0\n",
       "debt                   0\n",
       "total_income        2174\n",
       "purpose                0\n",
       "dtype: int64"
      ]
     },
     "execution_count": 39,
     "metadata": {},
     "output_type": "execute_result"
    }
   ],
   "source": [
    "data.isna().sum()"
   ]
  },
  {
   "cell_type": "markdown",
   "id": "d1a97a3d",
   "metadata": {
    "deletable": false,
    "editable": false,
    "id": "db86e27b"
   },
   "source": [
    "**Задание 5. В двух столбцах есть пропущенные значения. Один из них — `days_employed`. Пропуски в этом столбце вы обработаете на следующем этапе. Другой столбец с пропущенными значениями — `total_income` — хранит данные о доходах. На сумму дохода сильнее всего влияет тип занятости, поэтому заполнить пропуски в этом столбце нужно медианным значением по каждому типу из столбца `income_type`. Например, у человека с типом занятости `сотрудник` пропуск в столбце `total_income` должен быть заполнен медианным доходом среди всех записей с тем же типом.**"
   ]
  },
  {
   "cell_type": "code",
   "execution_count": 40,
   "id": "d2192a32",
   "metadata": {
    "deletable": false,
    "id": "42006a93"
   },
   "outputs": [],
   "source": [
    "for t in data['income_type'].unique():\n",
    "    data.loc[(data['income_type'] == t) & (data['total_income'].isna()), 'total_income'] = \\\n",
    "    data.loc[(data['income_type'] == t), 'total_income'].median()"
   ]
  },
  {
   "cell_type": "markdown",
   "id": "1670ea62",
   "metadata": {
    "deletable": false,
    "editable": false,
    "id": "89da5ece"
   },
   "source": [
    "### Обработка аномальных значений"
   ]
  },
  {
   "cell_type": "markdown",
   "id": "d30b1e82",
   "metadata": {
    "deletable": false,
    "editable": false,
    "id": "57964554"
   },
   "source": [
    "**Задание 6. В данных могут встречаться артефакты (аномалии) — значения, которые не отражают действительность и появились по какой-то ошибке. таким артефактом будет отрицательное количество дней трудового стажа в столбце `days_employed`. Для реальных данных это нормально. Обработайте значения в этом столбце: замените все отрицательные значения положительными с помощью метода `abs()`.**"
   ]
  },
  {
   "cell_type": "code",
   "execution_count": 41,
   "id": "d2a1ca9b",
   "metadata": {
    "deletable": false,
    "id": "f6f055bf"
   },
   "outputs": [],
   "source": [
    "data['days_employed'] = data['days_employed'].abs()"
   ]
  },
  {
   "cell_type": "markdown",
   "id": "50d74b1e",
   "metadata": {
    "deletable": false,
    "editable": false,
    "id": "6107dd2f"
   },
   "source": [
    "**Задание 7. Для каждого типа занятости выведите медианное значение трудового стажа `days_employed` в днях.**"
   ]
  },
  {
   "cell_type": "code",
   "execution_count": 42,
   "id": "2b016861",
   "metadata": {
    "deletable": false,
    "id": "85a5faf6",
    "outputId": "801ef80e-522b-4668-f34e-565af7432bcf"
   },
   "outputs": [
    {
     "data": {
      "text/plain": [
       "income_type\n",
       "безработный        366413.652744\n",
       "в декрете            3296.759962\n",
       "госслужащий          2689.368353\n",
       "компаньон            1547.382223\n",
       "пенсионер          365213.306266\n",
       "предприниматель       520.848083\n",
       "сотрудник            1574.202821\n",
       "студент               578.751554\n",
       "Name: days_employed, dtype: float64"
      ]
     },
     "execution_count": 42,
     "metadata": {},
     "output_type": "execute_result"
    }
   ],
   "source": [
    "data.groupby('income_type')['days_employed'].agg('median')"
   ]
  },
  {
   "cell_type": "markdown",
   "id": "f065a1d6",
   "metadata": {
    "deletable": false,
    "editable": false,
    "id": "38d1a030"
   },
   "source": [
    "У двух типов (безработные и пенсионеры) получатся аномально большие значения. Исправить такие значения сложно, поэтому оставьте их как есть. Тем более этот столбец не понадобится вам для исследования."
   ]
  },
  {
   "cell_type": "markdown",
   "id": "4e0f3e0f",
   "metadata": {
    "deletable": false,
    "editable": false,
    "id": "d8a9f147"
   },
   "source": [
    "**Задание 8. Выведите перечень уникальных значений столбца `children`.**"
   ]
  },
  {
   "cell_type": "code",
   "execution_count": 43,
   "id": "9cd8020e",
   "metadata": {
    "deletable": false,
    "id": "ef5056eb",
    "outputId": "6975b15c-7f95-4697-d16d-a0c79b657b03"
   },
   "outputs": [
    {
     "data": {
      "text/plain": [
       "array([ 1,  0,  3,  2, -1,  4, 20,  5])"
      ]
     },
     "execution_count": 43,
     "metadata": {},
     "output_type": "execute_result"
    }
   ],
   "source": [
    "data['children'].unique()"
   ]
  },
  {
   "cell_type": "markdown",
   "id": "c84b37da",
   "metadata": {
    "deletable": false,
    "editable": false,
    "id": "40b9ebf2"
   },
   "source": [
    "**Задание 9. В столбце `children` есть два аномальных значения. Удалите строки, в которых встречаются такие аномальные значения из датафрейма `data`.**"
   ]
  },
  {
   "cell_type": "code",
   "execution_count": 44,
   "id": "b28594c4",
   "metadata": {
    "deletable": false,
    "id": "3ff9801d"
   },
   "outputs": [],
   "source": [
    "data = data[(data['children'] != -1) & (data['children'] != 20)]"
   ]
  },
  {
   "cell_type": "markdown",
   "id": "9a0cf0b2",
   "metadata": {
    "deletable": false,
    "editable": false,
    "id": "bbc4d0ce"
   },
   "source": [
    "**Задание 10. Ещё раз выведите перечень уникальных значений столбца `children`, чтобы убедиться, что артефакты удалены.**"
   ]
  },
  {
   "cell_type": "code",
   "execution_count": 45,
   "id": "c17752bd",
   "metadata": {
    "deletable": false,
    "id": "ad4fa8b7",
    "outputId": "b2097101-d49d-44d9-901b-32a65c9463d1"
   },
   "outputs": [
    {
     "data": {
      "text/plain": [
       "array([1, 0, 3, 2, 4, 5])"
      ]
     },
     "execution_count": 45,
     "metadata": {},
     "output_type": "execute_result"
    }
   ],
   "source": [
    "data['children'].unique()"
   ]
  },
  {
   "cell_type": "markdown",
   "id": "de5b7afb",
   "metadata": {
    "deletable": false,
    "editable": false,
    "id": "75440b63"
   },
   "source": [
    "### Удаление пропусков (продолжение)"
   ]
  },
  {
   "cell_type": "markdown",
   "id": "28bf4d5f",
   "metadata": {
    "deletable": false,
    "editable": false,
    "id": "f4ea573f"
   },
   "source": [
    "**Задание 11. Заполните пропуски в столбце `days_employed` медианными значениями по каждого типа занятости `income_type`.**"
   ]
  },
  {
   "cell_type": "code",
   "execution_count": 46,
   "id": "23e1cc9f",
   "metadata": {
    "deletable": false,
    "id": "af6b1a7e"
   },
   "outputs": [],
   "source": [
    "for t in data['income_type'].unique():\n",
    "    data.loc[(data['income_type'] == t) & (data['days_employed'].isna()), 'days_employed'] = \\\n",
    "    data.loc[(data['income_type'] == t), 'days_employed'].median()"
   ]
  },
  {
   "cell_type": "markdown",
   "id": "dc6076ca",
   "metadata": {
    "deletable": false,
    "editable": false,
    "id": "2753f40d"
   },
   "source": [
    "**Задание 12. Убедитесь, что все пропуски заполнены. Проверьте себя и ещё раз выведите количество пропущенных значений для каждого столбца с помощью двух методов.**"
   ]
  },
  {
   "cell_type": "code",
   "execution_count": 47,
   "id": "8d68bb67",
   "metadata": {
    "deletable": false,
    "id": "55f78bc2",
    "outputId": "8da1e4e1-358e-4e87-98c9-f261bce0a7b2"
   },
   "outputs": [
    {
     "data": {
      "text/plain": [
       "children            0\n",
       "days_employed       0\n",
       "dob_years           0\n",
       "education           0\n",
       "education_id        0\n",
       "family_status       0\n",
       "family_status_id    0\n",
       "gender              0\n",
       "income_type         0\n",
       "debt                0\n",
       "total_income        0\n",
       "purpose             0\n",
       "dtype: int64"
      ]
     },
     "execution_count": 47,
     "metadata": {},
     "output_type": "execute_result"
    }
   ],
   "source": [
    "data.isna().sum()"
   ]
  },
  {
   "cell_type": "markdown",
   "id": "39bd4065",
   "metadata": {
    "deletable": false,
    "editable": false,
    "id": "ddc81e43"
   },
   "source": [
    "### Изменение типов данных"
   ]
  },
  {
   "cell_type": "markdown",
   "id": "85528962",
   "metadata": {
    "deletable": false,
    "editable": false,
    "id": "42d19d24"
   },
   "source": [
    "**Задание 13. Замените вещественный тип данных в столбце `total_income` на целочисленный с помощью метода `astype()`.**"
   ]
  },
  {
   "cell_type": "code",
   "execution_count": 48,
   "id": "75ae3a7b",
   "metadata": {
    "deletable": false,
    "id": "920b65ad"
   },
   "outputs": [],
   "source": [
    "data['total_income'] = data['total_income'].astype(int)"
   ]
  },
  {
   "cell_type": "markdown",
   "id": "571a8fdb",
   "metadata": {
    "deletable": false,
    "editable": false,
    "id": "80c420ba"
   },
   "source": [
    "### Обработка дубликатов"
   ]
  },
  {
   "cell_type": "markdown",
   "id": "a274f85f",
   "metadata": {
    "deletable": false,
    "editable": false
   },
   "source": [
    "**Задание 14. Обработайте неявные дубликаты в столбце `education`. В этом столбце есть одни и те же значения, но записанные по-разному: с использованием заглавных и строчных букв. Приведите их к нижнему регистру. Проверьте остальные столбцы.**"
   ]
  },
  {
   "cell_type": "code",
   "execution_count": 49,
   "id": "09d61cca",
   "metadata": {
    "deletable": false
   },
   "outputs": [],
   "source": [
    "data['education'] = data['education'].str.lower()"
   ]
  },
  {
   "cell_type": "markdown",
   "id": "c5146fe9",
   "metadata": {
    "deletable": false,
    "editable": false,
    "id": "dc587695"
   },
   "source": [
    "**Задание 15. Выведите на экран количество строк-дубликатов в данных. Если такие строки присутствуют, удалите их.**"
   ]
  },
  {
   "cell_type": "code",
   "execution_count": 50,
   "id": "3688a98d",
   "metadata": {
    "deletable": false,
    "id": "3ee445e4",
    "outputId": "9684deba-1934-42d1-99e1-cda61740f822"
   },
   "outputs": [
    {
     "data": {
      "text/plain": [
       "71"
      ]
     },
     "execution_count": 50,
     "metadata": {},
     "output_type": "execute_result"
    }
   ],
   "source": [
    "data.duplicated().sum()"
   ]
  },
  {
   "cell_type": "code",
   "execution_count": 51,
   "id": "c53fc017",
   "metadata": {
    "deletable": false,
    "id": "8575fe05"
   },
   "outputs": [],
   "source": [
    "data = data.drop_duplicates()"
   ]
  },
  {
   "cell_type": "markdown",
   "id": "698cf27d",
   "metadata": {
    "deletable": false,
    "editable": false,
    "id": "9904cf55"
   },
   "source": [
    "### Категоризация данных"
   ]
  },
  {
   "cell_type": "markdown",
   "id": "4f7b9863",
   "metadata": {
    "deletable": false,
    "editable": false,
    "id": "72fcc8a2"
   },
   "source": [
    "**Задание 16. На основании диапазонов, указанных ниже, создайте в датафрейме `data` столбец `total_income_category` с категориями:**\n",
    "\n",
    "- 0–30000 — `'E'`;\n",
    "- 30001–50000 — `'D'`;\n",
    "- 50001–200000 — `'C'`;\n",
    "- 200001–1000000 — `'B'`;\n",
    "- 1000001 и выше — `'A'`.\n",
    "\n",
    "\n",
    "**Например, кредитополучателю с доходом 25000 нужно назначить категорию `'E'`, а клиенту, получающему 235000, — `'B'`. Используйте собственную функцию с именем `categorize_income()` и метод `apply()`.**"
   ]
  },
  {
   "cell_type": "code",
   "execution_count": 52,
   "id": "5851ba9c",
   "metadata": {
    "deletable": false,
    "id": "e1771346"
   },
   "outputs": [],
   "source": [
    "def categorize_income(income):\n",
    "    try:\n",
    "        if 0 <= income <= 30000:\n",
    "            return 'E'\n",
    "        elif 30001 <= income <= 50000:\n",
    "            return 'D'\n",
    "        elif 50001 <= income <= 200000:\n",
    "            return 'C'\n",
    "        elif 200001 <= income <= 1000000:\n",
    "            return 'B'\n",
    "        elif income >= 1000001:\n",
    "            return 'A'\n",
    "    except:\n",
    "        pass"
   ]
  },
  {
   "cell_type": "code",
   "execution_count": 53,
   "id": "a1022ac3",
   "metadata": {
    "deletable": false,
    "id": "d5f3586d"
   },
   "outputs": [],
   "source": [
    "data['total_income_category'] = data['total_income'].apply(categorize_income)"
   ]
  },
  {
   "cell_type": "markdown",
   "id": "31223d7b",
   "metadata": {
    "deletable": false,
    "editable": false,
    "id": "dde49b5c"
   },
   "source": [
    "**Задание 17. Выведите на экран перечень уникальных целей взятия кредита из столбца `purpose`.**"
   ]
  },
  {
   "cell_type": "code",
   "execution_count": 54,
   "id": "61a99b45",
   "metadata": {
    "deletable": false,
    "id": "f67ce9b3",
    "outputId": "673c12d9-7d7e-4ae0-9812-c622c89dd244"
   },
   "outputs": [
    {
     "data": {
      "text/plain": [
       "array(['покупка жилья', 'приобретение автомобиля',\n",
       "       'дополнительное образование', 'сыграть свадьбу',\n",
       "       'операции с жильем', 'образование', 'на проведение свадьбы',\n",
       "       'покупка жилья для семьи', 'покупка недвижимости',\n",
       "       'покупка коммерческой недвижимости', 'покупка жилой недвижимости',\n",
       "       'строительство собственной недвижимости', 'недвижимость',\n",
       "       'строительство недвижимости', 'на покупку подержанного автомобиля',\n",
       "       'на покупку своего автомобиля',\n",
       "       'операции с коммерческой недвижимостью',\n",
       "       'строительство жилой недвижимости', 'жилье',\n",
       "       'операции со своей недвижимостью', 'автомобили',\n",
       "       'заняться образованием', 'сделка с подержанным автомобилем',\n",
       "       'получение образования', 'автомобиль', 'свадьба',\n",
       "       'получение дополнительного образования', 'покупка своего жилья',\n",
       "       'операции с недвижимостью', 'получение высшего образования',\n",
       "       'свой автомобиль', 'сделка с автомобилем',\n",
       "       'профильное образование', 'высшее образование',\n",
       "       'покупка жилья для сдачи', 'на покупку автомобиля', 'ремонт жилью',\n",
       "       'заняться высшим образованием'], dtype=object)"
      ]
     },
     "execution_count": 54,
     "metadata": {},
     "output_type": "execute_result"
    }
   ],
   "source": [
    "data['purpose'].unique()"
   ]
  },
  {
   "cell_type": "markdown",
   "id": "b4ce93b3",
   "metadata": {
    "deletable": false,
    "editable": false,
    "id": "85d0aef0"
   },
   "source": [
    "**Задание 18. Создайте функцию, которая на основании данных из столбца `purpose` сформирует новый столбец `purpose_category`, в который войдут следующие категории:**\n",
    "\n",
    "- `'операции с автомобилем'`,\n",
    "- `'операции с недвижимостью'`,\n",
    "- `'проведение свадьбы'`,\n",
    "- `'получение образования'`.\n",
    "\n",
    "**Например, если в столбце `purpose` находится подстрока `'на покупку автомобиля'`, то в столбце `purpose_category` должна появиться строка `'операции с автомобилем'`.**\n",
    "\n",
    "**Используйте собственную функцию с именем `categorize_purpose()` и метод `apply()`. Изучите данные в столбце `purpose` и определите, какие подстроки помогут вам правильно определить категорию.**"
   ]
  },
  {
   "cell_type": "code",
   "execution_count": 55,
   "id": "9b511b9a",
   "metadata": {
    "deletable": false,
    "id": "e149fab4"
   },
   "outputs": [],
   "source": [
    "def categorize_purpose(row):\n",
    "    try:\n",
    "        if 'автом' in row:\n",
    "            return 'операции с автомобилем'\n",
    "        elif 'жил' in row or 'недвиж' in row:\n",
    "            return 'операции с недвижимостью'\n",
    "        elif 'свад' in row:\n",
    "            return 'проведение свадьбы'\n",
    "        elif 'образов' in row:\n",
    "            return 'получение образования'\n",
    "    except:\n",
    "        return 'нет категории'"
   ]
  },
  {
   "cell_type": "code",
   "execution_count": 56,
   "id": "cd40b6f7",
   "metadata": {
    "deletable": false,
    "id": "bf36e69b"
   },
   "outputs": [
    {
     "data": {
      "text/html": [
       "<div>\n",
       "<style scoped>\n",
       "    .dataframe tbody tr th:only-of-type {\n",
       "        vertical-align: middle;\n",
       "    }\n",
       "\n",
       "    .dataframe tbody tr th {\n",
       "        vertical-align: top;\n",
       "    }\n",
       "\n",
       "    .dataframe thead th {\n",
       "        text-align: right;\n",
       "    }\n",
       "</style>\n",
       "<table border=\"1\" class=\"dataframe\">\n",
       "  <thead>\n",
       "    <tr style=\"text-align: right;\">\n",
       "      <th></th>\n",
       "      <th>children</th>\n",
       "      <th>days_employed</th>\n",
       "      <th>dob_years</th>\n",
       "      <th>education</th>\n",
       "      <th>education_id</th>\n",
       "      <th>family_status</th>\n",
       "      <th>family_status_id</th>\n",
       "      <th>gender</th>\n",
       "      <th>income_type</th>\n",
       "      <th>debt</th>\n",
       "      <th>total_income</th>\n",
       "      <th>purpose</th>\n",
       "      <th>total_income_category</th>\n",
       "      <th>purpose_category</th>\n",
       "    </tr>\n",
       "  </thead>\n",
       "  <tbody>\n",
       "    <tr>\n",
       "      <th>0</th>\n",
       "      <td>1</td>\n",
       "      <td>8437.673028</td>\n",
       "      <td>42</td>\n",
       "      <td>высшее</td>\n",
       "      <td>0</td>\n",
       "      <td>женат / замужем</td>\n",
       "      <td>0</td>\n",
       "      <td>F</td>\n",
       "      <td>сотрудник</td>\n",
       "      <td>0</td>\n",
       "      <td>253875</td>\n",
       "      <td>покупка жилья</td>\n",
       "      <td>B</td>\n",
       "      <td>операции с недвижимостью</td>\n",
       "    </tr>\n",
       "    <tr>\n",
       "      <th>1</th>\n",
       "      <td>1</td>\n",
       "      <td>4024.803754</td>\n",
       "      <td>36</td>\n",
       "      <td>среднее</td>\n",
       "      <td>1</td>\n",
       "      <td>женат / замужем</td>\n",
       "      <td>0</td>\n",
       "      <td>F</td>\n",
       "      <td>сотрудник</td>\n",
       "      <td>0</td>\n",
       "      <td>112080</td>\n",
       "      <td>приобретение автомобиля</td>\n",
       "      <td>C</td>\n",
       "      <td>операции с автомобилем</td>\n",
       "    </tr>\n",
       "    <tr>\n",
       "      <th>2</th>\n",
       "      <td>0</td>\n",
       "      <td>5623.422610</td>\n",
       "      <td>33</td>\n",
       "      <td>среднее</td>\n",
       "      <td>1</td>\n",
       "      <td>женат / замужем</td>\n",
       "      <td>0</td>\n",
       "      <td>M</td>\n",
       "      <td>сотрудник</td>\n",
       "      <td>0</td>\n",
       "      <td>145885</td>\n",
       "      <td>покупка жилья</td>\n",
       "      <td>C</td>\n",
       "      <td>операции с недвижимостью</td>\n",
       "    </tr>\n",
       "    <tr>\n",
       "      <th>3</th>\n",
       "      <td>3</td>\n",
       "      <td>4124.747207</td>\n",
       "      <td>32</td>\n",
       "      <td>среднее</td>\n",
       "      <td>1</td>\n",
       "      <td>женат / замужем</td>\n",
       "      <td>0</td>\n",
       "      <td>M</td>\n",
       "      <td>сотрудник</td>\n",
       "      <td>0</td>\n",
       "      <td>267628</td>\n",
       "      <td>дополнительное образование</td>\n",
       "      <td>B</td>\n",
       "      <td>получение образования</td>\n",
       "    </tr>\n",
       "    <tr>\n",
       "      <th>4</th>\n",
       "      <td>0</td>\n",
       "      <td>340266.072047</td>\n",
       "      <td>53</td>\n",
       "      <td>среднее</td>\n",
       "      <td>1</td>\n",
       "      <td>гражданский брак</td>\n",
       "      <td>1</td>\n",
       "      <td>F</td>\n",
       "      <td>пенсионер</td>\n",
       "      <td>0</td>\n",
       "      <td>158616</td>\n",
       "      <td>сыграть свадьбу</td>\n",
       "      <td>C</td>\n",
       "      <td>проведение свадьбы</td>\n",
       "    </tr>\n",
       "  </tbody>\n",
       "</table>\n",
       "</div>"
      ],
      "text/plain": [
       "   children  days_employed  dob_years education  education_id  \\\n",
       "0         1    8437.673028         42    высшее             0   \n",
       "1         1    4024.803754         36   среднее             1   \n",
       "2         0    5623.422610         33   среднее             1   \n",
       "3         3    4124.747207         32   среднее             1   \n",
       "4         0  340266.072047         53   среднее             1   \n",
       "\n",
       "      family_status  family_status_id gender income_type  debt  total_income  \\\n",
       "0   женат / замужем                 0      F   сотрудник     0        253875   \n",
       "1   женат / замужем                 0      F   сотрудник     0        112080   \n",
       "2   женат / замужем                 0      M   сотрудник     0        145885   \n",
       "3   женат / замужем                 0      M   сотрудник     0        267628   \n",
       "4  гражданский брак                 1      F   пенсионер     0        158616   \n",
       "\n",
       "                      purpose total_income_category          purpose_category  \n",
       "0               покупка жилья                     B  операции с недвижимостью  \n",
       "1     приобретение автомобиля                     C    операции с автомобилем  \n",
       "2               покупка жилья                     C  операции с недвижимостью  \n",
       "3  дополнительное образование                     B     получение образования  \n",
       "4             сыграть свадьбу                     C        проведение свадьбы  "
      ]
     },
     "execution_count": 56,
     "metadata": {},
     "output_type": "execute_result"
    }
   ],
   "source": [
    "data['purpose_category'] = data['purpose'].apply(categorize_purpose)\n",
    "data.head(5)"
   ]
  },
  {
   "cell_type": "markdown",
   "id": "f9978328",
   "metadata": {
    "deletable": false,
    "editable": false,
    "id": "09b242bf"
   },
   "source": [
    "### Шаг 3. Исследуйте данные и ответьте на вопросы"
   ]
  },
  {
   "cell_type": "markdown",
   "id": "bdb333ac",
   "metadata": {
    "deletable": false,
    "editable": false,
    "id": "c5d66278"
   },
   "source": [
    "#### 3.1 Есть ли зависимость между количеством детей и возвратом кредита в срок?"
   ]
  },
  {
   "cell_type": "markdown",
   "id": "d33d162e",
   "metadata": {},
   "source": [
    "Для оценки зависимости между количеством детей и возвратом кредита в срок, необходимо проанализировать показатели по количеству заемщиков с разным числом детей и сколько из них имели задолженность по возврату кредита. Такие данные содержатся в колонках children и debt.  "
   ]
  },
  {
   "cell_type": "code",
   "execution_count": 57,
   "id": "a16d1239",
   "metadata": {
    "deletable": false,
    "id": "2cacfc4a"
   },
   "outputs": [
    {
     "data": {
      "text/html": [
       "<div>\n",
       "<style scoped>\n",
       "    .dataframe tbody tr th:only-of-type {\n",
       "        vertical-align: middle;\n",
       "    }\n",
       "\n",
       "    .dataframe tbody tr th {\n",
       "        vertical-align: top;\n",
       "    }\n",
       "\n",
       "    .dataframe thead th {\n",
       "        text-align: right;\n",
       "    }\n",
       "</style>\n",
       "<table border=\"1\" class=\"dataframe\">\n",
       "  <thead>\n",
       "    <tr style=\"text-align: right;\">\n",
       "      <th></th>\n",
       "      <th>count</th>\n",
       "      <th>sum</th>\n",
       "    </tr>\n",
       "    <tr>\n",
       "      <th>children</th>\n",
       "      <th></th>\n",
       "      <th></th>\n",
       "    </tr>\n",
       "  </thead>\n",
       "  <tbody>\n",
       "    <tr>\n",
       "      <th>0</th>\n",
       "      <td>14091</td>\n",
       "      <td>1063</td>\n",
       "    </tr>\n",
       "    <tr>\n",
       "      <th>1</th>\n",
       "      <td>4808</td>\n",
       "      <td>444</td>\n",
       "    </tr>\n",
       "    <tr>\n",
       "      <th>2</th>\n",
       "      <td>2052</td>\n",
       "      <td>194</td>\n",
       "    </tr>\n",
       "    <tr>\n",
       "      <th>3</th>\n",
       "      <td>330</td>\n",
       "      <td>27</td>\n",
       "    </tr>\n",
       "    <tr>\n",
       "      <th>4</th>\n",
       "      <td>41</td>\n",
       "      <td>4</td>\n",
       "    </tr>\n",
       "    <tr>\n",
       "      <th>5</th>\n",
       "      <td>9</td>\n",
       "      <td>0</td>\n",
       "    </tr>\n",
       "  </tbody>\n",
       "</table>\n",
       "</div>"
      ],
      "text/plain": [
       "          count   sum\n",
       "children             \n",
       "0         14091  1063\n",
       "1          4808   444\n",
       "2          2052   194\n",
       "3           330    27\n",
       "4            41     4\n",
       "5             9     0"
      ]
     },
     "execution_count": 57,
     "metadata": {},
     "output_type": "execute_result"
    }
   ],
   "source": [
    "#Let's group debt data by the number of children in new table - data_kids \n",
    "data_kids = data.groupby('children')['debt'].agg(['count', 'sum'])\n",
    "data_kids"
   ]
  },
  {
   "cell_type": "markdown",
   "id": "ede87501",
   "metadata": {},
   "source": [
    "Мы получили данные о числе заемщиков по количеству детей, а также в колонке sum - общее количество клиентов с задолженностью. Можно заключить, что заемщики с 5 детьми вообще не задерживают выплату займов, но их количество слишком мало (0,04% от общего количества), это не репрезентативно. Также исключим из анализа клиентов с 4 детьми, их тоже очень мало - 0,19%\n",
    "\n",
    "Для вывода по остальным группам, нужно посмотреть на отношение заемщиков с задолженностью к общему количеству клиентов по каждой группе."
   ]
  },
  {
   "cell_type": "code",
   "execution_count": 58,
   "id": "d04cb25a",
   "metadata": {},
   "outputs": [
    {
     "data": {
      "text/html": [
       "<div>\n",
       "<style scoped>\n",
       "    .dataframe tbody tr th:only-of-type {\n",
       "        vertical-align: middle;\n",
       "    }\n",
       "\n",
       "    .dataframe tbody tr th {\n",
       "        vertical-align: top;\n",
       "    }\n",
       "\n",
       "    .dataframe thead th {\n",
       "        text-align: right;\n",
       "    }\n",
       "</style>\n",
       "<table border=\"1\" class=\"dataframe\">\n",
       "  <thead>\n",
       "    <tr style=\"text-align: right;\">\n",
       "      <th></th>\n",
       "      <th>count</th>\n",
       "      <th>sum</th>\n",
       "      <th>debt_ratio_%</th>\n",
       "    </tr>\n",
       "    <tr>\n",
       "      <th>children</th>\n",
       "      <th></th>\n",
       "      <th></th>\n",
       "      <th></th>\n",
       "    </tr>\n",
       "  </thead>\n",
       "  <tbody>\n",
       "    <tr>\n",
       "      <th>0</th>\n",
       "      <td>14091</td>\n",
       "      <td>1063</td>\n",
       "      <td>7.543822</td>\n",
       "    </tr>\n",
       "    <tr>\n",
       "      <th>1</th>\n",
       "      <td>4808</td>\n",
       "      <td>444</td>\n",
       "      <td>9.234609</td>\n",
       "    </tr>\n",
       "    <tr>\n",
       "      <th>2</th>\n",
       "      <td>2052</td>\n",
       "      <td>194</td>\n",
       "      <td>9.454191</td>\n",
       "    </tr>\n",
       "    <tr>\n",
       "      <th>3</th>\n",
       "      <td>330</td>\n",
       "      <td>27</td>\n",
       "      <td>8.181818</td>\n",
       "    </tr>\n",
       "  </tbody>\n",
       "</table>\n",
       "</div>"
      ],
      "text/plain": [
       "          count   sum  debt_ratio_%\n",
       "children                           \n",
       "0         14091  1063      7.543822\n",
       "1          4808   444      9.234609\n",
       "2          2052   194      9.454191\n",
       "3           330    27      8.181818"
      ]
     },
     "execution_count": 58,
     "metadata": {},
     "output_type": "execute_result"
    }
   ],
   "source": [
    "#We need to create new column with the ratio debt sum/debt count\n",
    "data_kids['debt_ratio_%'] = data_kids['sum'] / data_kids['count'] * 100\n",
    "data_kids.head(4)"
   ]
  },
  {
   "cell_type": "markdown",
   "id": "6c690dea",
   "metadata": {},
   "source": [
    "Полученные данные уже можно интерпретировать, так как они представляют собой разбитые по группам показатели невыплат займов. \n",
    "Данные по всем группам (кроме 4 и 5-детных, которых решено проигнорировать) в среднем показывают, что заемщики с детьми возвращают займы хуже, чем клиенты без детей. Но прямой зависимости между *количеством* детей и возвратом кредита в срок нет. "
   ]
  },
  {
   "cell_type": "markdown",
   "id": "d19adb88",
   "metadata": {
    "deletable": false,
    "id": "3a6b99ec"
   },
   "source": [
    "**Вывод:** Прямой зависимости между количеством детей и возвратом кредита в срок **нет**. Чтобы это понять, мы просмотрели *отношение* количества заемщиков с задолженностью к общему количеству заемщиков в разбивке по группам: бездетные, 1 ребенок, 2 ребенка и т.д. \n",
    "\n",
    "Отношение (ratio) в процентах колеблется от 7,5 до 9,5 (заемщики с 4 и 5 детьми не взяты для анализа, т.к. вместе составляют всего 0,23% от общей совокупности). \n",
    "\n",
    "Можно с уверенностью утверждать что положение с возвратом кредитов лучше у бездетных - 7,5%; но у клиентов с 3 детьми почти такой же ratio - 8,2%; а у клиентов с 1 и 2 детьми ratio не намного выше - 9,2 и 9,5%, соответственно"
   ]
  },
  {
   "cell_type": "markdown",
   "id": "b7098451",
   "metadata": {},
   "source": [
    "<div class=\"alert alert-success\">\n",
    "<b>Комментарий ревьюера v.1</b> \n",
    "    \n",
    "👍 \n",
    "Да, кредитополучатели без детей являются немного более ответственными, чем клиенты у которых есть дети. Видимо, наличие ребенка накладывает на клиента дополнительные затраты, что усложняет своевременную выплату по кредитным обязательствам.\n",
    "</div>"
   ]
  },
  {
   "cell_type": "markdown",
   "id": "54fbff99",
   "metadata": {
    "deletable": false,
    "editable": false,
    "id": "97be82ca"
   },
   "source": [
    "#### 3.2 Есть ли зависимость между семейным положением и возвратом кредита в срок?"
   ]
  },
  {
   "cell_type": "markdown",
   "id": "08739c12",
   "metadata": {},
   "source": [
    "Для оценки зависимости между семейным положением и возвратом кредита в срок, необходимо проанализировать показатели по количеству заемщиков в каждой группе и сколько из них имели задолженность по возврату кредита. Такие данные содержатся в колонках family_status и debt.  "
   ]
  },
  {
   "cell_type": "code",
   "execution_count": 59,
   "id": "fa9252e7",
   "metadata": {
    "deletable": false,
    "id": "dc3f7ee8"
   },
   "outputs": [
    {
     "data": {
      "text/html": [
       "<div>\n",
       "<style scoped>\n",
       "    .dataframe tbody tr th:only-of-type {\n",
       "        vertical-align: middle;\n",
       "    }\n",
       "\n",
       "    .dataframe tbody tr th {\n",
       "        vertical-align: top;\n",
       "    }\n",
       "\n",
       "    .dataframe thead th {\n",
       "        text-align: right;\n",
       "    }\n",
       "</style>\n",
       "<table border=\"1\" class=\"dataframe\">\n",
       "  <thead>\n",
       "    <tr style=\"text-align: right;\">\n",
       "      <th></th>\n",
       "      <th>count</th>\n",
       "      <th>sum</th>\n",
       "    </tr>\n",
       "    <tr>\n",
       "      <th>family_status</th>\n",
       "      <th></th>\n",
       "      <th></th>\n",
       "    </tr>\n",
       "  </thead>\n",
       "  <tbody>\n",
       "    <tr>\n",
       "      <th>Не женат / не замужем</th>\n",
       "      <td>2796</td>\n",
       "      <td>273</td>\n",
       "    </tr>\n",
       "    <tr>\n",
       "      <th>в разводе</th>\n",
       "      <td>1189</td>\n",
       "      <td>84</td>\n",
       "    </tr>\n",
       "    <tr>\n",
       "      <th>вдовец / вдова</th>\n",
       "      <td>951</td>\n",
       "      <td>63</td>\n",
       "    </tr>\n",
       "    <tr>\n",
       "      <th>гражданский брак</th>\n",
       "      <td>4134</td>\n",
       "      <td>385</td>\n",
       "    </tr>\n",
       "    <tr>\n",
       "      <th>женат / замужем</th>\n",
       "      <td>12261</td>\n",
       "      <td>927</td>\n",
       "    </tr>\n",
       "  </tbody>\n",
       "</table>\n",
       "</div>"
      ],
      "text/plain": [
       "                       count  sum\n",
       "family_status                    \n",
       "Не женат / не замужем   2796  273\n",
       "в разводе               1189   84\n",
       "вдовец / вдова           951   63\n",
       "гражданский брак        4134  385\n",
       "женат / замужем        12261  927"
      ]
     },
     "execution_count": 59,
     "metadata": {},
     "output_type": "execute_result"
    }
   ],
   "source": [
    "#Let's group debt data by family status - data_family\n",
    "data_family = data.groupby('family_status')['debt'].agg(['count', 'sum'])\n",
    "data_family"
   ]
  },
  {
   "cell_type": "markdown",
   "id": "bad6eb1a",
   "metadata": {},
   "source": [
    "Полученные цифры трудно анализировать, можно пока только сказать что задержки по кредитам были у всех статусов, как у вдовцов так и у холостых и у семейных клиентов.\n",
    "Необходимо опять найти отношение количества задержек по кредитам к общему числу заемщиков, сразу отсортируем их по убыванию рейтинга чтобы отчет был более наглядным."
   ]
  },
  {
   "cell_type": "code",
   "execution_count": 60,
   "id": "ffa0cdd2",
   "metadata": {},
   "outputs": [
    {
     "data": {
      "text/html": [
       "<div>\n",
       "<style scoped>\n",
       "    .dataframe tbody tr th:only-of-type {\n",
       "        vertical-align: middle;\n",
       "    }\n",
       "\n",
       "    .dataframe tbody tr th {\n",
       "        vertical-align: top;\n",
       "    }\n",
       "\n",
       "    .dataframe thead th {\n",
       "        text-align: right;\n",
       "    }\n",
       "</style>\n",
       "<table border=\"1\" class=\"dataframe\">\n",
       "  <thead>\n",
       "    <tr style=\"text-align: right;\">\n",
       "      <th></th>\n",
       "      <th>count</th>\n",
       "      <th>sum</th>\n",
       "      <th>debt_ratio_%</th>\n",
       "    </tr>\n",
       "    <tr>\n",
       "      <th>family_status</th>\n",
       "      <th></th>\n",
       "      <th></th>\n",
       "      <th></th>\n",
       "    </tr>\n",
       "  </thead>\n",
       "  <tbody>\n",
       "    <tr>\n",
       "      <th>Не женат / не замужем</th>\n",
       "      <td>2796</td>\n",
       "      <td>273</td>\n",
       "      <td>9.763948</td>\n",
       "    </tr>\n",
       "    <tr>\n",
       "      <th>гражданский брак</th>\n",
       "      <td>4134</td>\n",
       "      <td>385</td>\n",
       "      <td>9.313014</td>\n",
       "    </tr>\n",
       "    <tr>\n",
       "      <th>женат / замужем</th>\n",
       "      <td>12261</td>\n",
       "      <td>927</td>\n",
       "      <td>7.560558</td>\n",
       "    </tr>\n",
       "    <tr>\n",
       "      <th>в разводе</th>\n",
       "      <td>1189</td>\n",
       "      <td>84</td>\n",
       "      <td>7.064760</td>\n",
       "    </tr>\n",
       "    <tr>\n",
       "      <th>вдовец / вдова</th>\n",
       "      <td>951</td>\n",
       "      <td>63</td>\n",
       "      <td>6.624606</td>\n",
       "    </tr>\n",
       "  </tbody>\n",
       "</table>\n",
       "</div>"
      ],
      "text/plain": [
       "                       count  sum  debt_ratio_%\n",
       "family_status                                  \n",
       "Не женат / не замужем   2796  273      9.763948\n",
       "гражданский брак        4134  385      9.313014\n",
       "женат / замужем        12261  927      7.560558\n",
       "в разводе               1189   84      7.064760\n",
       "вдовец / вдова           951   63      6.624606"
      ]
     },
     "execution_count": 60,
     "metadata": {},
     "output_type": "execute_result"
    }
   ],
   "source": [
    "#We need to create new column with the ratio debt sum/debt count \n",
    "data_family['debt_ratio_%'] =data_family['sum'] / data_family['count'] * 100\n",
    "#Now let's sort it by ration column\n",
    "data_family.sort_values(['debt_ratio_%'],ascending=False)"
   ]
  },
  {
   "cell_type": "markdown",
   "id": "f6f9da0c",
   "metadata": {},
   "source": [
    "Теперь уже очевидно, что те кто находится в официальном браке или был в нем (но развелся или остался вдовцом), платят по кредитам более ответственно, чем заемщики без печати в паспорте. "
   ]
  },
  {
   "cell_type": "markdown",
   "id": "6559a71d",
   "metadata": {
    "deletable": false,
    "id": "1cef7837"
   },
   "source": [
    "**Вывод:** Зависимость между семейным положением и выплатой кредита в срок **есть**: замужние и женатые клиенты более ответственны, нежели холостые или находящиеся в гражданском браке. Уровень заемщиков с задолженностью к общему количеству заемщиков находящихся  или бывших в официальном браке составляет 6,6-7,6%, тогда как у граждан вне брака этот уровень 9,3-9,8%."
   ]
  },
  {
   "cell_type": "markdown",
   "id": "e5dd3663",
   "metadata": {},
   "source": [
    "<div class=\"alert alert-success\">\n",
    "<b>Комментарий ревьюера v.1</b> \n",
    "    \n",
    "👍 \n",
    "В точку! Кредитному отделу следует с осторожностью относиться к клиентам, которые не состоят или не состояли в браке.\n",
    "</div>"
   ]
  },
  {
   "cell_type": "markdown",
   "id": "7b33cbdc",
   "metadata": {
    "deletable": false,
    "editable": false,
    "id": "1e8b2fca"
   },
   "source": [
    "#### 3.3 Есть ли зависимость между уровнем дохода и возвратом кредита в срок?"
   ]
  },
  {
   "cell_type": "markdown",
   "id": "c8edc864",
   "metadata": {
    "deletable": false,
    "id": "cd7e3720"
   },
   "source": [
    "Для оценки зависимости между уровнем дохода и возвратом кредита в срок, необходимо проанализировать показатели по количеству заемщиков в каждой группе доходов и сколько из них имели задолженность по возврату кредита. Такие данные содержатся в колонках total_income_category и debt."
   ]
  },
  {
   "cell_type": "code",
   "execution_count": 61,
   "id": "22fa66f9",
   "metadata": {},
   "outputs": [
    {
     "data": {
      "text/html": [
       "<div>\n",
       "<style scoped>\n",
       "    .dataframe tbody tr th:only-of-type {\n",
       "        vertical-align: middle;\n",
       "    }\n",
       "\n",
       "    .dataframe tbody tr th {\n",
       "        vertical-align: top;\n",
       "    }\n",
       "\n",
       "    .dataframe thead th {\n",
       "        text-align: right;\n",
       "    }\n",
       "</style>\n",
       "<table border=\"1\" class=\"dataframe\">\n",
       "  <thead>\n",
       "    <tr style=\"text-align: right;\">\n",
       "      <th></th>\n",
       "      <th>count</th>\n",
       "      <th>sum</th>\n",
       "    </tr>\n",
       "    <tr>\n",
       "      <th>total_income_category</th>\n",
       "      <th></th>\n",
       "      <th></th>\n",
       "    </tr>\n",
       "  </thead>\n",
       "  <tbody>\n",
       "    <tr>\n",
       "      <th>A</th>\n",
       "      <td>25</td>\n",
       "      <td>2</td>\n",
       "    </tr>\n",
       "    <tr>\n",
       "      <th>B</th>\n",
       "      <td>5014</td>\n",
       "      <td>354</td>\n",
       "    </tr>\n",
       "    <tr>\n",
       "      <th>C</th>\n",
       "      <td>15921</td>\n",
       "      <td>1353</td>\n",
       "    </tr>\n",
       "    <tr>\n",
       "      <th>D</th>\n",
       "      <td>349</td>\n",
       "      <td>21</td>\n",
       "    </tr>\n",
       "    <tr>\n",
       "      <th>E</th>\n",
       "      <td>22</td>\n",
       "      <td>2</td>\n",
       "    </tr>\n",
       "  </tbody>\n",
       "</table>\n",
       "</div>"
      ],
      "text/plain": [
       "                       count   sum\n",
       "total_income_category             \n",
       "A                         25     2\n",
       "B                       5014   354\n",
       "C                      15921  1353\n",
       "D                        349    21\n",
       "E                         22     2"
      ]
     },
     "execution_count": 61,
     "metadata": {},
     "output_type": "execute_result"
    }
   ],
   "source": [
    "#Let's group debt data by income rate - data_income\n",
    "data_income = data.groupby('total_income_category')['debt'].agg(['count', 'sum'])\n",
    "data_income"
   ]
  },
  {
   "cell_type": "markdown",
   "id": "0a988517",
   "metadata": {},
   "source": [
    "Пока можно сделать уверенный вывод только о том, что больше всего кредиты любят брать граждане с доходами от 50000 до 200000 рублей (категория С). Но нужно также посмотреть сколько процентов из них возвращает кредиты несвоевременно."
   ]
  },
  {
   "cell_type": "code",
   "execution_count": 62,
   "id": "1198b52f",
   "metadata": {},
   "outputs": [
    {
     "data": {
      "text/html": [
       "<div>\n",
       "<style scoped>\n",
       "    .dataframe tbody tr th:only-of-type {\n",
       "        vertical-align: middle;\n",
       "    }\n",
       "\n",
       "    .dataframe tbody tr th {\n",
       "        vertical-align: top;\n",
       "    }\n",
       "\n",
       "    .dataframe thead th {\n",
       "        text-align: right;\n",
       "    }\n",
       "</style>\n",
       "<table border=\"1\" class=\"dataframe\">\n",
       "  <thead>\n",
       "    <tr style=\"text-align: right;\">\n",
       "      <th></th>\n",
       "      <th>count</th>\n",
       "      <th>sum</th>\n",
       "      <th>debt_ratio_%</th>\n",
       "    </tr>\n",
       "    <tr>\n",
       "      <th>total_income_category</th>\n",
       "      <th></th>\n",
       "      <th></th>\n",
       "      <th></th>\n",
       "    </tr>\n",
       "  </thead>\n",
       "  <tbody>\n",
       "    <tr>\n",
       "      <th>D</th>\n",
       "      <td>349</td>\n",
       "      <td>21</td>\n",
       "      <td>6.017192</td>\n",
       "    </tr>\n",
       "    <tr>\n",
       "      <th>B</th>\n",
       "      <td>5014</td>\n",
       "      <td>354</td>\n",
       "      <td>7.060231</td>\n",
       "    </tr>\n",
       "    <tr>\n",
       "      <th>A</th>\n",
       "      <td>25</td>\n",
       "      <td>2</td>\n",
       "      <td>8.000000</td>\n",
       "    </tr>\n",
       "    <tr>\n",
       "      <th>C</th>\n",
       "      <td>15921</td>\n",
       "      <td>1353</td>\n",
       "      <td>8.498210</td>\n",
       "    </tr>\n",
       "    <tr>\n",
       "      <th>E</th>\n",
       "      <td>22</td>\n",
       "      <td>2</td>\n",
       "      <td>9.090909</td>\n",
       "    </tr>\n",
       "  </tbody>\n",
       "</table>\n",
       "</div>"
      ],
      "text/plain": [
       "                       count   sum  debt_ratio_%\n",
       "total_income_category                           \n",
       "D                        349    21      6.017192\n",
       "B                       5014   354      7.060231\n",
       "A                         25     2      8.000000\n",
       "C                      15921  1353      8.498210\n",
       "E                         22     2      9.090909"
      ]
     },
     "execution_count": 62,
     "metadata": {},
     "output_type": "execute_result"
    }
   ],
   "source": [
    "#We need to create new column with the ratio debt sum/debt count \n",
    "data_income['debt_ratio_%'] =data_income['sum'] / data_income['count'] * 100\n",
    "data_income.sort_values(['debt_ratio_%'])"
   ]
  },
  {
   "cell_type": "markdown",
   "id": "3fc5d488",
   "metadata": {},
   "source": [
    "Исключим из анализа клиентов категории А и Е, т.к. их очень мало (около 0,2% от общего количества).\n",
    "\n",
    "Разброс процента несвоевременного возврата в категориях B,C и D от 6 до 8,5, но нет прямой зависимости от уровня доходов."
   ]
  },
  {
   "cell_type": "markdown",
   "id": "918e623d",
   "metadata": {
    "deletable": false,
    "id": "e8593def"
   },
   "source": [
    "**Вывод:** Прямой зависимости между уровнем дохода и возвратом кредита в срок **нет**. Чтобы это понять, мы просмотрели отношение количества заемщиков с задолженностью к общему количеству заемщиков в разбивке по категориям доходов.\n",
    "\n",
    "Отношение (ratio) в процентах колеблется от 6 до 8,5, при этом самые дисциплинированные заемщики - клиенты с доходами от 30000 до 50000 рублей, немного хуже платят клиенты с доходами от 200000 до 1 млн рублей, и самые безответственные - клиенты с доходами от 50000 до 200000 рублей, которых в принципе большинство (75% от общего количества)."
   ]
  },
  {
   "cell_type": "markdown",
   "id": "011336a9",
   "metadata": {},
   "source": [
    "<div class=\"alert alert-warning\">\n",
    "<b>Комментарий ревьюера v.1</b> \n",
    "    \n",
    "📝 \n",
    "Обрати внимание на то, что выборки крайне несбалансированны и для выявления зависимости нужно сравнивать только самые многочисленные выборки B и C.\n",
    "</div>"
   ]
  },
  {
   "cell_type": "markdown",
   "id": "141de04d",
   "metadata": {},
   "source": [
    "<div class=\"alert alert-info\"> \n",
    "<b>Комментарий студента</b> \n",
    "    \n",
    "Спасибо за комментарий, я решила поправить - в тексте только, в будущем обязательно буду уделять внимание таким разбросам.\n",
    "</div>"
   ]
  },
  {
   "cell_type": "markdown",
   "id": "c602384c",
   "metadata": {
    "deletable": false,
    "editable": false,
    "id": "99ecbd1f"
   },
   "source": [
    "#### 3.4 Как разные цели кредита влияют на его возврат в срок?"
   ]
  },
  {
   "cell_type": "markdown",
   "id": "06b45f4b",
   "metadata": {
    "deletable": false,
    "id": "2b687290"
   },
   "source": [
    "Для оценки зависимости между целью кредита и возвратом его в срок, необходимо проанализировать показатели по количеству заемщиков в разбивке по целям и сколько из них имели задолженность по возврату кредита. Такие данные содержатся в колонках purpose_category и debt.\n",
    "Сразу отсортируем данные по количеству, чтобы увидеть какая цель самая насущная для наших клиентов."
   ]
  },
  {
   "cell_type": "code",
   "execution_count": 63,
   "id": "ecb6a2bf",
   "metadata": {},
   "outputs": [
    {
     "data": {
      "text/html": [
       "<div>\n",
       "<style scoped>\n",
       "    .dataframe tbody tr th:only-of-type {\n",
       "        vertical-align: middle;\n",
       "    }\n",
       "\n",
       "    .dataframe tbody tr th {\n",
       "        vertical-align: top;\n",
       "    }\n",
       "\n",
       "    .dataframe thead th {\n",
       "        text-align: right;\n",
       "    }\n",
       "</style>\n",
       "<table border=\"1\" class=\"dataframe\">\n",
       "  <thead>\n",
       "    <tr style=\"text-align: right;\">\n",
       "      <th></th>\n",
       "      <th>count</th>\n",
       "      <th>sum</th>\n",
       "    </tr>\n",
       "    <tr>\n",
       "      <th>purpose_category</th>\n",
       "      <th></th>\n",
       "      <th></th>\n",
       "    </tr>\n",
       "  </thead>\n",
       "  <tbody>\n",
       "    <tr>\n",
       "      <th>операции с недвижимостью</th>\n",
       "      <td>10751</td>\n",
       "      <td>780</td>\n",
       "    </tr>\n",
       "    <tr>\n",
       "      <th>операции с автомобилем</th>\n",
       "      <td>4279</td>\n",
       "      <td>400</td>\n",
       "    </tr>\n",
       "    <tr>\n",
       "      <th>получение образования</th>\n",
       "      <td>3988</td>\n",
       "      <td>369</td>\n",
       "    </tr>\n",
       "    <tr>\n",
       "      <th>проведение свадьбы</th>\n",
       "      <td>2313</td>\n",
       "      <td>183</td>\n",
       "    </tr>\n",
       "  </tbody>\n",
       "</table>\n",
       "</div>"
      ],
      "text/plain": [
       "                          count  sum\n",
       "purpose_category                    \n",
       "операции с недвижимостью  10751  780\n",
       "операции с автомобилем     4279  400\n",
       "получение образования      3988  369\n",
       "проведение свадьбы         2313  183"
      ]
     },
     "execution_count": 63,
     "metadata": {},
     "output_type": "execute_result"
    }
   ],
   "source": [
    "#Let's group debt data by purpose - data_purpose\n",
    "data_purpose = data.groupby('purpose_category')['debt'].agg(['count', 'sum'])\n",
    "#Now we sort our data to see what purpose is the leader\n",
    "data_purpose.sort_values(['count'],ascending=False)"
   ]
  },
  {
   "cell_type": "markdown",
   "id": "01783f8d",
   "metadata": {},
   "source": [
    "Чаще всего кредиты берут для операций с недвижимостью, что довольно логично - жилье стоит недешево. А вот насколько часто задерживают выплаты по таким кредитам по сравнению с другими категориями - сейчас увидим."
   ]
  },
  {
   "cell_type": "code",
   "execution_count": 64,
   "id": "f4fe35b3",
   "metadata": {},
   "outputs": [
    {
     "data": {
      "text/html": [
       "<div>\n",
       "<style scoped>\n",
       "    .dataframe tbody tr th:only-of-type {\n",
       "        vertical-align: middle;\n",
       "    }\n",
       "\n",
       "    .dataframe tbody tr th {\n",
       "        vertical-align: top;\n",
       "    }\n",
       "\n",
       "    .dataframe thead th {\n",
       "        text-align: right;\n",
       "    }\n",
       "</style>\n",
       "<table border=\"1\" class=\"dataframe\">\n",
       "  <thead>\n",
       "    <tr style=\"text-align: right;\">\n",
       "      <th></th>\n",
       "      <th>count</th>\n",
       "      <th>sum</th>\n",
       "      <th>debt_ratio_%</th>\n",
       "    </tr>\n",
       "    <tr>\n",
       "      <th>purpose_category</th>\n",
       "      <th></th>\n",
       "      <th></th>\n",
       "      <th></th>\n",
       "    </tr>\n",
       "  </thead>\n",
       "  <tbody>\n",
       "    <tr>\n",
       "      <th>операции с недвижимостью</th>\n",
       "      <td>10751</td>\n",
       "      <td>780</td>\n",
       "      <td>7.255139</td>\n",
       "    </tr>\n",
       "    <tr>\n",
       "      <th>проведение свадьбы</th>\n",
       "      <td>2313</td>\n",
       "      <td>183</td>\n",
       "      <td>7.911803</td>\n",
       "    </tr>\n",
       "    <tr>\n",
       "      <th>получение образования</th>\n",
       "      <td>3988</td>\n",
       "      <td>369</td>\n",
       "      <td>9.252758</td>\n",
       "    </tr>\n",
       "    <tr>\n",
       "      <th>операции с автомобилем</th>\n",
       "      <td>4279</td>\n",
       "      <td>400</td>\n",
       "      <td>9.347978</td>\n",
       "    </tr>\n",
       "  </tbody>\n",
       "</table>\n",
       "</div>"
      ],
      "text/plain": [
       "                          count  sum  debt_ratio_%\n",
       "purpose_category                                  \n",
       "операции с недвижимостью  10751  780      7.255139\n",
       "проведение свадьбы         2313  183      7.911803\n",
       "получение образования      3988  369      9.252758\n",
       "операции с автомобилем     4279  400      9.347978"
      ]
     },
     "execution_count": 64,
     "metadata": {},
     "output_type": "execute_result"
    }
   ],
   "source": [
    "#We need to create new column with the ratio debt sum/debt count \n",
    "data_purpose['debt_ratio_%'] =data_purpose['sum'] / data_purpose['count'] * 100\n",
    "data_purpose.sort_values(['debt_ratio_%'])"
   ]
  },
  {
   "cell_type": "markdown",
   "id": "da392d58",
   "metadata": {},
   "source": [
    "Очевидно что кредиты на покупку жилья и прочие операции с недвидимостью возвращают лучше всего, по таким кредитам задолженность имели только 7,3% заемщиков. Еще бы, ведь залогом выступает зачастую квартира или дом в котором проживает заемщик, никому не хочется его потерять.\n",
    "\n",
    "Чуть хуже обстоят дела с кредитам на свадьбу, задержки по выплатам тут были у 7,9% заемщиков. \n",
    "\n",
    "Менее ответственны клиенты, желающие получить образование либо купить автомобиль, у них рейтинг задолженности 9,3%."
   ]
  },
  {
   "cell_type": "markdown",
   "id": "66fffb9f",
   "metadata": {
    "deletable": false,
    "id": "b4bb2ce6"
   },
   "source": [
    "**Вывод:** В зависимости от цели кредита, возврат кредита в срок различный: ответственней всего возвращают кредиты на операции с недвижимостью и на проведение свадьбы, хуже - кредиты на операции с автомобилем и получение образования. "
   ]
  },
  {
   "cell_type": "markdown",
   "id": "071971af",
   "metadata": {},
   "source": [
    "<div class=\"alert alert-success\">\n",
    "<b>Комментарий ревьюера v.1</b> \n",
    "    \n",
    "👍 \n",
    "Клиенты, бравшие кредит на автомобиль и на образование, чаще становятся должниками. Сложно сказать, каковы причины таких особенностей.\n",
    "</div>"
   ]
  },
  {
   "cell_type": "markdown",
   "id": "b1414790",
   "metadata": {
    "deletable": false,
    "editable": false,
    "id": "09c3ac4c"
   },
   "source": [
    "#### 3.5 Приведите возможные причины появления пропусков в исходных данных."
   ]
  },
  {
   "cell_type": "markdown",
   "id": "520cd8af",
   "metadata": {
    "deletable": false,
    "id": "9da2ceda"
   },
   "source": [
    "*Ответ:* Пропущенные значения были в двух столбцах — days_employed и total_income. Причем пропусков одинаковое количество, что наводит на мысль о системной проблеме.\n",
    "\n",
    "Пропуски в колонке total_income скорее всего не случайны, люди часто **не хотят указывать** информацию о том, сколько они получают. Поэтому данные пропуски можно отнести к категории MNAR (Missing Not At Random).\n",
    "\n",
    "Пропуски в колонке days_employed больше похожи на **системную проблему**: скорее всего они не заполняются в случае если не заполнены данные по total_income. В таком случае их также нельзя отнести к случайным пропускам, но скорее всего они возникли не по вине заполняющих. \n",
    "\n",
    "Необходимо обратить внимание разработчиков и проверить как ведет себя анкета, если не заполнено поле total_income: не стираются ли при этом данные в поле days_employed."
   ]
  },
  {
   "cell_type": "markdown",
   "id": "251bdcdf",
   "metadata": {},
   "source": [
    "<div class=\"alert alert-success\">\n",
    "<b>Комментарий ревьюера v.1</b> \n",
    "    \n",
    "👍 \n",
    "Совершенно верно! Очень важное наблюдение про MNAR.\n",
    "</div>"
   ]
  },
  {
   "cell_type": "markdown",
   "id": "308f9b1b",
   "metadata": {
    "deletable": false,
    "editable": false,
    "id": "7b0487d6"
   },
   "source": [
    "#### 3.6 Объясните, почему заполнить пропуски медианным значением — лучшее решение для количественных переменных."
   ]
  },
  {
   "cell_type": "markdown",
   "id": "ad2472cc",
   "metadata": {
    "deletable": false,
    "id": "7ecf2b8e"
   },
   "source": [
    "*Ответ:* При отсутствии каких-либо количественных данных, анализировать тенденции будет сложно и результат может оказаться неправильным - там где значения пропущены, тренды будут \"проседать\". Заполнять пропуски нулём, минимальным или максимальным значением тоже не стоит, т.к. такие значения нельзя назвать характерными.\n",
    "\n",
    "Наиболее логичным выбором остаются среднее арифметическое значение или медиана. Но среднее значение часто бывает смещено в сторону 1-2 нехарактерно высоких или низких показателя. Например если считают средний вес 10 пингвинов и один из них императорский, а остальные - синие пингвины, то среднее арифметическое будет завышено из-за одного тяжелого представителя нелетающих птиц.\n",
    "\n",
    "Медиана (серединное значение набора чисел) в этом случае - самое подходящее значение для подстановки в пропуски, если она рассчитана по каждой категории с которой связана пропущенная величина. Критические значения останутся по краям, и наиболее характерные для выборки значения будут как раз сосредоточены в середине."
   ]
  },
  {
   "cell_type": "markdown",
   "id": "22b24f35",
   "metadata": {},
   "source": [
    "<div class=\"alert alert-success\">\n",
    "<b>Комментарий ревьюера v.1</b> \n",
    "    \n",
    "👍 \n",
    "Верно, медианы более устойчивы к выборсам.\n",
    "</div>"
   ]
  },
  {
   "cell_type": "markdown",
   "id": "ea87a21a",
   "metadata": {
    "deletable": false,
    "editable": false,
    "id": "6db5255a"
   },
   "source": [
    "### Шаг 4: общий вывод."
   ]
  },
  {
   "cell_type": "markdown",
   "id": "199c52ab",
   "metadata": {
    "deletable": false,
    "id": "bad65432"
   },
   "source": [
    "**По результату исследования данных о заемщиках в таблице \"data\", можно сделать вывод что:**\n",
    "1. родители 1-2 детей возвращают кредиты с задержкой чаще, чем бездетные клиенты и заемщики с 3 и более детьми;\n",
    "2. клиенты находящиеся в официальном браке или бывшие в нем ранее (вдовцы, разведенные) - более ответственные плательщики, чем клиенты вне брака;\n",
    "3. по уровню дохода, из анализа исключены клиенты с самыми низкими и самыми высокими доходами, т.к. вместе составляют лишь 0,2% от общего количества. По остальным трем категориям вывод следующий:\n",
    "- самые дисциплинированные заемщики - клиенты с доходами 30000-50000 рублей\n",
    "- немного хуже платят клиенты с доходами от 200000 до 1 млн рублей\n",
    "- самые безответственные из трех категорий - клиенты с доходами от 50000 до 200000 рублей;\n",
    "4. кредиты под операции с недвижимостью - самые популярные и возвращаются заемщиками в срок чаще других. Почти также хорошо возвращаются кредиты для проведения свадьбы. Хуже всего возвращают кредиты, взятые для получения образования или операций с автомобилем.\n",
    "\n",
    "Данные выводы можно расширить, если провести исследование по зависимости возврата кредита в срок от пола, возраста, уровня образования и типа занятости. Тогда появится полный профиль заемщика для целей скоринга и принятия решения о выдаче кредита либо отказе в нем."
   ]
  },
  {
   "cell_type": "markdown",
   "id": "e07083be",
   "metadata": {},
   "source": [
    "<div class=\"alert alert-success\">\n",
    "<b>Комментарий ревьюера v.1</b> \n",
    "    \n",
    "👍 \n",
    "Выводы понятны и логичны, а самое главное подкреплены выявленными фактами. \n",
    "</div>"
   ]
  },
  {
   "cell_type": "code",
   "execution_count": 65,
   "id": "9ed97224",
   "metadata": {},
   "outputs": [
    {
     "data": {
      "text/html": [
       "<div>\n",
       "<style scoped>\n",
       "    .dataframe tbody tr th:only-of-type {\n",
       "        vertical-align: middle;\n",
       "    }\n",
       "\n",
       "    .dataframe tbody tr th {\n",
       "        vertical-align: top;\n",
       "    }\n",
       "\n",
       "    .dataframe thead th {\n",
       "        text-align: right;\n",
       "    }\n",
       "</style>\n",
       "<table border=\"1\" class=\"dataframe\">\n",
       "  <thead>\n",
       "    <tr style=\"text-align: right;\">\n",
       "      <th></th>\n",
       "      <th>count</th>\n",
       "      <th>sum</th>\n",
       "      <th>debt_ratio_%</th>\n",
       "    </tr>\n",
       "    <tr>\n",
       "      <th>gender</th>\n",
       "      <th></th>\n",
       "      <th></th>\n",
       "      <th></th>\n",
       "    </tr>\n",
       "  </thead>\n",
       "  <tbody>\n",
       "    <tr>\n",
       "      <th>F</th>\n",
       "      <td>14092</td>\n",
       "      <td>989</td>\n",
       "      <td>7.018166</td>\n",
       "    </tr>\n",
       "    <tr>\n",
       "      <th>M</th>\n",
       "      <td>7238</td>\n",
       "      <td>743</td>\n",
       "      <td>10.265267</td>\n",
       "    </tr>\n",
       "    <tr>\n",
       "      <th>XNA</th>\n",
       "      <td>1</td>\n",
       "      <td>0</td>\n",
       "      <td>0.000000</td>\n",
       "    </tr>\n",
       "  </tbody>\n",
       "</table>\n",
       "</div>"
      ],
      "text/plain": [
       "        count  sum  debt_ratio_%\n",
       "gender                          \n",
       "F       14092  989      7.018166\n",
       "M        7238  743     10.265267\n",
       "XNA         1    0      0.000000"
      ]
     },
     "execution_count": 65,
     "metadata": {},
     "output_type": "execute_result"
    }
   ],
   "source": [
    "#Let's group debt data by gender - data_gender\n",
    "data_gender = data.groupby('gender')['debt'].agg(['count', 'sum'])\n",
    "#We need to create new column with the ratio debt sum/debt count \n",
    "data_gender['debt_ratio_%'] =data_gender['sum'] / data_gender['count'] * 100\n",
    "data_gender"
   ]
  },
  {
   "cell_type": "markdown",
   "id": "c9178a5f",
   "metadata": {},
   "source": [
    "Анализ по половому признаку принес довольно прозрачный результат - женщины возвращают кредиты значительно более ответственно, чем мужчины"
   ]
  },
  {
   "cell_type": "code",
   "execution_count": 66,
   "id": "cb9dc3c7",
   "metadata": {},
   "outputs": [
    {
     "data": {
      "text/html": [
       "<div>\n",
       "<style scoped>\n",
       "    .dataframe tbody tr th:only-of-type {\n",
       "        vertical-align: middle;\n",
       "    }\n",
       "\n",
       "    .dataframe tbody tr th {\n",
       "        vertical-align: top;\n",
       "    }\n",
       "\n",
       "    .dataframe thead th {\n",
       "        text-align: right;\n",
       "    }\n",
       "</style>\n",
       "<table border=\"1\" class=\"dataframe\">\n",
       "  <thead>\n",
       "    <tr style=\"text-align: right;\">\n",
       "      <th></th>\n",
       "      <th>count</th>\n",
       "      <th>sum</th>\n",
       "      <th>debt_ratio_%</th>\n",
       "    </tr>\n",
       "    <tr>\n",
       "      <th>age_category</th>\n",
       "      <th></th>\n",
       "      <th></th>\n",
       "      <th></th>\n",
       "    </tr>\n",
       "  </thead>\n",
       "  <tbody>\n",
       "    <tr>\n",
       "      <th>51-60</th>\n",
       "      <td>4496</td>\n",
       "      <td>279</td>\n",
       "      <td>6.205516</td>\n",
       "    </tr>\n",
       "    <tr>\n",
       "      <th>41-50</th>\n",
       "      <td>5225</td>\n",
       "      <td>400</td>\n",
       "      <td>7.655502</td>\n",
       "    </tr>\n",
       "    <tr>\n",
       "      <th>below 20</th>\n",
       "      <td>165</td>\n",
       "      <td>13</td>\n",
       "      <td>7.878788</td>\n",
       "    </tr>\n",
       "    <tr>\n",
       "      <th>31-40</th>\n",
       "      <td>5693</td>\n",
       "      <td>541</td>\n",
       "      <td>9.502898</td>\n",
       "    </tr>\n",
       "    <tr>\n",
       "      <th>21-30</th>\n",
       "      <td>3634</td>\n",
       "      <td>398</td>\n",
       "      <td>10.952119</td>\n",
       "    </tr>\n",
       "  </tbody>\n",
       "</table>\n",
       "</div>"
      ],
      "text/plain": [
       "              count  sum  debt_ratio_%\n",
       "age_category                          \n",
       "51-60          4496  279      6.205516\n",
       "41-50          5225  400      7.655502\n",
       "below 20        165   13      7.878788\n",
       "31-40          5693  541      9.502898\n",
       "21-30          3634  398     10.952119"
      ]
     },
     "execution_count": 66,
     "metadata": {},
     "output_type": "execute_result"
    }
   ],
   "source": [
    "#Below there is a function to categorize all clients by age\n",
    "def categorize_age(years):\n",
    "    try:\n",
    "        if 0 <= years <= 20:\n",
    "            return 'below 20'\n",
    "        elif 21 <= years <= 30:\n",
    "            return '21-30'\n",
    "        elif 31 <= years <= 40:\n",
    "            return '31-40'\n",
    "        elif 41 <= years <= 50:\n",
    "            return '41-50'\n",
    "        elif 51 <= years <= 60:\n",
    "            return '51-60'\n",
    "        elif years >= 1000001:\n",
    "            return 'over 61'\n",
    "    except:\n",
    "        pass\n",
    "#Let's apply new function to data with new column \"age_category\"\n",
    "data['age_category'] = data['dob_years'].apply(categorize_age)\n",
    "#Now let's group debt data by age - data_age\n",
    "data_age = data.groupby('age_category')['debt'].agg(['count', 'sum'])\n",
    "#We need to create new column with the ratio debt sum/debt count \n",
    "data_age['debt_ratio_%'] =data_age['sum'] / data_age['count'] * 100\n",
    "#Now we sort our data by debt ratio\n",
    "data_age.sort_values(['debt_ratio_%'])"
   ]
  },
  {
   "cell_type": "markdown",
   "id": "dafdbd31",
   "metadata": {},
   "source": [
    "Молодым везде у нас дорога! Но платить по кредитам своевременно они не хотят. Чаще всего задерживают кредиты клиенты в возрасте 21-40 лет, а ответственные - заемщики 41-60 лет"
   ]
  },
  {
   "cell_type": "code",
   "execution_count": 67,
   "id": "25732285",
   "metadata": {},
   "outputs": [
    {
     "data": {
      "text/html": [
       "<div>\n",
       "<style scoped>\n",
       "    .dataframe tbody tr th:only-of-type {\n",
       "        vertical-align: middle;\n",
       "    }\n",
       "\n",
       "    .dataframe tbody tr th {\n",
       "        vertical-align: top;\n",
       "    }\n",
       "\n",
       "    .dataframe thead th {\n",
       "        text-align: right;\n",
       "    }\n",
       "</style>\n",
       "<table border=\"1\" class=\"dataframe\">\n",
       "  <thead>\n",
       "    <tr style=\"text-align: right;\">\n",
       "      <th></th>\n",
       "      <th>count</th>\n",
       "      <th>sum</th>\n",
       "      <th>debt_ratio_%</th>\n",
       "    </tr>\n",
       "    <tr>\n",
       "      <th>education</th>\n",
       "      <th></th>\n",
       "      <th></th>\n",
       "      <th></th>\n",
       "    </tr>\n",
       "  </thead>\n",
       "  <tbody>\n",
       "    <tr>\n",
       "      <th>начальное</th>\n",
       "      <td>282</td>\n",
       "      <td>31</td>\n",
       "      <td>10.992908</td>\n",
       "    </tr>\n",
       "    <tr>\n",
       "      <th>неоконченное высшее</th>\n",
       "      <td>741</td>\n",
       "      <td>68</td>\n",
       "      <td>9.176788</td>\n",
       "    </tr>\n",
       "    <tr>\n",
       "      <th>среднее</th>\n",
       "      <td>15075</td>\n",
       "      <td>1355</td>\n",
       "      <td>8.988391</td>\n",
       "    </tr>\n",
       "    <tr>\n",
       "      <th>высшее</th>\n",
       "      <td>5227</td>\n",
       "      <td>278</td>\n",
       "      <td>5.318538</td>\n",
       "    </tr>\n",
       "    <tr>\n",
       "      <th>ученая степень</th>\n",
       "      <td>6</td>\n",
       "      <td>0</td>\n",
       "      <td>0.000000</td>\n",
       "    </tr>\n",
       "  </tbody>\n",
       "</table>\n",
       "</div>"
      ],
      "text/plain": [
       "                     count   sum  debt_ratio_%\n",
       "education                                     \n",
       "начальное              282    31     10.992908\n",
       "неоконченное высшее    741    68      9.176788\n",
       "среднее              15075  1355      8.988391\n",
       "высшее                5227   278      5.318538\n",
       "ученая степень           6     0      0.000000"
      ]
     },
     "execution_count": 67,
     "metadata": {},
     "output_type": "execute_result"
    }
   ],
   "source": [
    "#Let's group debt data by education level - data_education\n",
    "data_education = data.groupby('education')['debt'].agg(['count', 'sum'])\n",
    "#We need to create new column with the ratio debt sum/debt count \n",
    "data_education['debt_ratio_%'] =data_education['sum'] / data_education['count'] * 100\n",
    "#Now we sort our data by debt ratio\n",
    "data_education.sort_values(['debt_ratio_%'],ascending=False)"
   ]
  },
  {
   "cell_type": "markdown",
   "id": "50ff9833",
   "metadata": {},
   "source": [
    "Ожидаемый вывод: клиенты с высшим образованием и ученой степенью - самые ответственные. А вот те кто не доучился в ВУЗе или закончил только школу довольно регулярно задерживают выплаты."
   ]
  },
  {
   "cell_type": "code",
   "execution_count": 68,
   "id": "d9f4afda",
   "metadata": {},
   "outputs": [
    {
     "data": {
      "text/html": [
       "<div>\n",
       "<style scoped>\n",
       "    .dataframe tbody tr th:only-of-type {\n",
       "        vertical-align: middle;\n",
       "    }\n",
       "\n",
       "    .dataframe tbody tr th {\n",
       "        vertical-align: top;\n",
       "    }\n",
       "\n",
       "    .dataframe thead th {\n",
       "        text-align: right;\n",
       "    }\n",
       "</style>\n",
       "<table border=\"1\" class=\"dataframe\">\n",
       "  <thead>\n",
       "    <tr style=\"text-align: right;\">\n",
       "      <th></th>\n",
       "      <th>count</th>\n",
       "      <th>sum</th>\n",
       "      <th>debt_ratio_%</th>\n",
       "    </tr>\n",
       "    <tr>\n",
       "      <th>income_type</th>\n",
       "      <th></th>\n",
       "      <th></th>\n",
       "      <th></th>\n",
       "    </tr>\n",
       "  </thead>\n",
       "  <tbody>\n",
       "    <tr>\n",
       "      <th>в декрете</th>\n",
       "      <td>1</td>\n",
       "      <td>1</td>\n",
       "      <td>100.000000</td>\n",
       "    </tr>\n",
       "    <tr>\n",
       "      <th>безработный</th>\n",
       "      <td>2</td>\n",
       "      <td>1</td>\n",
       "      <td>50.000000</td>\n",
       "    </tr>\n",
       "    <tr>\n",
       "      <th>сотрудник</th>\n",
       "      <td>11015</td>\n",
       "      <td>1054</td>\n",
       "      <td>9.568770</td>\n",
       "    </tr>\n",
       "    <tr>\n",
       "      <th>компаньон</th>\n",
       "      <td>5047</td>\n",
       "      <td>374</td>\n",
       "      <td>7.410343</td>\n",
       "    </tr>\n",
       "    <tr>\n",
       "      <th>госслужащий</th>\n",
       "      <td>1451</td>\n",
       "      <td>86</td>\n",
       "      <td>5.926947</td>\n",
       "    </tr>\n",
       "    <tr>\n",
       "      <th>пенсионер</th>\n",
       "      <td>3812</td>\n",
       "      <td>216</td>\n",
       "      <td>5.666317</td>\n",
       "    </tr>\n",
       "    <tr>\n",
       "      <th>предприниматель</th>\n",
       "      <td>2</td>\n",
       "      <td>0</td>\n",
       "      <td>0.000000</td>\n",
       "    </tr>\n",
       "    <tr>\n",
       "      <th>студент</th>\n",
       "      <td>1</td>\n",
       "      <td>0</td>\n",
       "      <td>0.000000</td>\n",
       "    </tr>\n",
       "  </tbody>\n",
       "</table>\n",
       "</div>"
      ],
      "text/plain": [
       "                 count   sum  debt_ratio_%\n",
       "income_type                               \n",
       "в декрете            1     1    100.000000\n",
       "безработный          2     1     50.000000\n",
       "сотрудник        11015  1054      9.568770\n",
       "компаньон         5047   374      7.410343\n",
       "госслужащий       1451    86      5.926947\n",
       "пенсионер         3812   216      5.666317\n",
       "предприниматель      2     0      0.000000\n",
       "студент              1     0      0.000000"
      ]
     },
     "execution_count": 68,
     "metadata": {},
     "output_type": "execute_result"
    }
   ],
   "source": [
    "#Let's group debt data by income type - data_income_type\n",
    "data_income_type = data.groupby('income_type')['debt'].agg(['count', 'sum'])\n",
    "#We need to create new column with the ratio debt sum/debt count \n",
    "data_income_type['debt_ratio_%'] =data_income_type['sum'] / data_income_type['count'] * 100\n",
    "#Now we sort our data by debt ratio\n",
    "data_income_type.sort_values(['debt_ratio_%'],ascending=False)"
   ]
  },
  {
   "cell_type": "markdown",
   "id": "603ea1ce",
   "metadata": {},
   "source": [
    "Крайними значениями можно пренебречь (мамы в декрете, безработные, а также предприниматели и студенты составляют 0,03% от всей совокупности). Из оставшися категорий самые ответственные - пенсионеры и госслужащие, а больше всего просрочек по кредитам у сотрудников различных компаний. "
   ]
  },
  {
   "cell_type": "markdown",
   "id": "b482c1ff",
   "metadata": {},
   "source": [
    "**Теперь наш общий вывод можно дополнить новой информацией:**\n",
    "    \n",
    "    1. Женщины осущствляют выплаты по кредитам более ответственно, чем мужчины;\n",
    "    2. Клиенты в возрасте 41-60 лет значительно более дисциплинированны, чем клиенты 21-40 лет;\n",
    "    3. Профессоры, кандидаты наук и просто люди с высшим образованием - более предпочтительные заемщики, ведь они возвращают кредиты в срок гораздо чаще чем клиенты с начальным образованием и незаконченным высшим;\n",
    "    4. Сотрудники компаний возвращают кредиты с задержкой гораздо чаще, чем пенсионеры и госслужащие."
   ]
  },
  {
   "cell_type": "markdown",
   "id": "ec205ba7",
   "metadata": {},
   "source": [
    "<div class=\"alert alert-success\">\n",
    "<b>Комментарий ревьюера v.1</b> \n",
    "    \n",
    "👍 \n",
    "Отдельное мое почтение за дополнительное исследование. Я бы очень хотел посмотреть твои следующие проекты :)\n",
    "</div>"
   ]
  },
  {
   "cell_type": "markdown",
   "id": "24a9f04f",
   "metadata": {},
   "source": [
    "<div style=\"border:solid blue 3px; padding: 20px\">\n",
    "<div class=\"alert alert-success\">\n",
    "<b>Обратная связь v.1</b> \n",
    "    \n",
    "👋 Анастасия, у тебя получилась очень сильная и хорошая работа. Здорово, что не забываешь про комментарии, твой проект очень интересно проверять.\n",
    "\n",
    "Я готов принять твой проект и если у тебя не осталось каких-либо вопросов, то пришли свой проект на повторное ревью и он будет принят 😊"
   ]
  },
  {
   "cell_type": "markdown",
   "id": "bd3b6c50",
   "metadata": {},
   "source": [
    "<div style=\"border:solid blue 3px; padding: 20px\">\n",
    "<div class=\"alert alert-success\">\n",
    "<b>Обратная связь v.2</b> \n",
    "    \n",
    "👋 \n",
    "Поздравляю с успешным завершением проекта 😊👍\n",
    "\n",
    "И желаю успехов в новых работах 😊"
   ]
  }
 ],
 "metadata": {
  "ExecuteTimeLog": [
   {
    "duration": 454,
    "start_time": "2022-11-03T10:26:43.837Z"
   },
   {
    "duration": 21,
    "start_time": "2022-11-03T10:26:48.457Z"
   },
   {
    "duration": 14,
    "start_time": "2022-11-03T10:26:58.051Z"
   },
   {
    "duration": 9,
    "start_time": "2022-11-03T10:27:08.159Z"
   },
   {
    "duration": 32,
    "start_time": "2022-11-03T10:27:27.393Z"
   },
   {
    "duration": 4,
    "start_time": "2022-11-03T10:28:16.796Z"
   },
   {
    "duration": 7,
    "start_time": "2022-11-03T10:28:29.952Z"
   },
   {
    "duration": 4,
    "start_time": "2022-11-03T10:28:38.647Z"
   },
   {
    "duration": 7,
    "start_time": "2022-11-03T10:28:42.703Z"
   },
   {
    "duration": 4,
    "start_time": "2022-11-03T10:28:49.125Z"
   },
   {
    "duration": 37,
    "start_time": "2022-11-03T10:29:05.510Z"
   },
   {
    "duration": 9,
    "start_time": "2022-11-03T10:29:07.151Z"
   },
   {
    "duration": 4,
    "start_time": "2022-11-03T10:29:14.215Z"
   },
   {
    "duration": 11,
    "start_time": "2022-11-03T10:29:44.207Z"
   },
   {
    "duration": 20,
    "start_time": "2022-11-03T10:29:45.269Z"
   },
   {
    "duration": 18,
    "start_time": "2022-11-03T10:29:47.492Z"
   },
   {
    "duration": 3,
    "start_time": "2022-11-03T10:31:35.192Z"
   },
   {
    "duration": 11,
    "start_time": "2022-11-03T10:31:57.465Z"
   },
   {
    "duration": 6,
    "start_time": "2022-11-03T10:32:01.263Z"
   },
   {
    "duration": 4,
    "start_time": "2022-11-03T10:32:12.193Z"
   },
   {
    "duration": 10,
    "start_time": "2022-11-03T10:32:13.662Z"
   },
   {
    "duration": 14,
    "start_time": "2022-11-03T10:35:09.664Z"
   },
   {
    "duration": 107,
    "start_time": "2022-11-03T10:45:34.461Z"
   },
   {
    "duration": 24,
    "start_time": "2022-11-03T10:45:52.201Z"
   },
   {
    "duration": 519,
    "start_time": "2022-11-03T12:09:14.494Z"
   },
   {
    "duration": 21,
    "start_time": "2022-11-03T12:09:15.718Z"
   },
   {
    "duration": 14,
    "start_time": "2022-11-03T12:09:16.666Z"
   },
   {
    "duration": 9,
    "start_time": "2022-11-03T12:09:18.378Z"
   },
   {
    "duration": 38,
    "start_time": "2022-11-03T12:09:19.136Z"
   },
   {
    "duration": 4,
    "start_time": "2022-11-03T12:09:20.009Z"
   },
   {
    "duration": 8,
    "start_time": "2022-11-03T12:09:20.357Z"
   },
   {
    "duration": 4,
    "start_time": "2022-11-03T12:09:20.897Z"
   },
   {
    "duration": 7,
    "start_time": "2022-11-03T12:09:21.547Z"
   },
   {
    "duration": 4,
    "start_time": "2022-11-03T12:09:21.904Z"
   },
   {
    "duration": 31,
    "start_time": "2022-11-03T12:09:22.426Z"
   },
   {
    "duration": 10,
    "start_time": "2022-11-03T12:09:22.998Z"
   },
   {
    "duration": 4,
    "start_time": "2022-11-03T12:09:23.544Z"
   },
   {
    "duration": 11,
    "start_time": "2022-11-03T12:09:24.305Z"
   },
   {
    "duration": 18,
    "start_time": "2022-11-03T12:09:25.127Z"
   },
   {
    "duration": 16,
    "start_time": "2022-11-03T12:09:25.717Z"
   },
   {
    "duration": 3,
    "start_time": "2022-11-03T12:09:27.670Z"
   },
   {
    "duration": 10,
    "start_time": "2022-11-03T12:09:28.309Z"
   },
   {
    "duration": 6,
    "start_time": "2022-11-03T12:09:29.313Z"
   },
   {
    "duration": 4,
    "start_time": "2022-11-03T12:09:30.597Z"
   },
   {
    "duration": 9,
    "start_time": "2022-11-03T12:09:31.123Z"
   },
   {
    "duration": 74,
    "start_time": "2022-11-03T12:15:50.326Z"
   },
   {
    "duration": 37,
    "start_time": "2022-11-03T12:16:08.010Z"
   },
   {
    "duration": 18,
    "start_time": "2022-11-03T12:16:44.997Z"
   },
   {
    "duration": 15,
    "start_time": "2022-11-03T12:18:28.028Z"
   },
   {
    "duration": 20,
    "start_time": "2022-11-03T12:19:04.046Z"
   },
   {
    "duration": 63,
    "start_time": "2022-11-03T13:37:20.546Z"
   },
   {
    "duration": 14,
    "start_time": "2022-11-03T13:37:20.611Z"
   },
   {
    "duration": 23,
    "start_time": "2022-11-03T13:37:20.626Z"
   },
   {
    "duration": 14,
    "start_time": "2022-11-03T13:37:20.650Z"
   },
   {
    "duration": 31,
    "start_time": "2022-11-03T13:37:20.666Z"
   },
   {
    "duration": 3,
    "start_time": "2022-11-03T13:37:20.698Z"
   },
   {
    "duration": 24,
    "start_time": "2022-11-03T13:37:20.702Z"
   },
   {
    "duration": 6,
    "start_time": "2022-11-03T13:37:20.728Z"
   },
   {
    "duration": 12,
    "start_time": "2022-11-03T13:37:20.735Z"
   },
   {
    "duration": 8,
    "start_time": "2022-11-03T13:37:20.748Z"
   },
   {
    "duration": 41,
    "start_time": "2022-11-03T13:37:20.757Z"
   },
   {
    "duration": 7,
    "start_time": "2022-11-03T13:37:20.800Z"
   },
   {
    "duration": 6,
    "start_time": "2022-11-03T13:37:20.809Z"
   },
   {
    "duration": 23,
    "start_time": "2022-11-03T13:37:20.817Z"
   },
   {
    "duration": 36,
    "start_time": "2022-11-03T13:37:20.841Z"
   },
   {
    "duration": 17,
    "start_time": "2022-11-03T13:37:20.879Z"
   },
   {
    "duration": 12,
    "start_time": "2022-11-03T13:37:20.897Z"
   },
   {
    "duration": 23,
    "start_time": "2022-11-03T13:37:20.910Z"
   },
   {
    "duration": 24,
    "start_time": "2022-11-03T13:37:20.935Z"
   },
   {
    "duration": 33,
    "start_time": "2022-11-03T13:37:20.960Z"
   },
   {
    "duration": 39,
    "start_time": "2022-11-03T13:37:20.994Z"
   },
   {
    "duration": 43,
    "start_time": "2022-11-03T13:37:21.035Z"
   },
   {
    "duration": 4,
    "start_time": "2022-11-03T13:37:21.079Z"
   },
   {
    "duration": 10,
    "start_time": "2022-11-03T13:37:21.084Z"
   },
   {
    "duration": 18,
    "start_time": "2022-11-03T13:37:21.096Z"
   },
   {
    "duration": 9,
    "start_time": "2022-11-03T13:39:37.686Z"
   },
   {
    "duration": 7,
    "start_time": "2022-11-03T13:45:51.993Z"
   },
   {
    "duration": 1200,
    "start_time": "2022-11-03T14:59:34.014Z"
   },
   {
    "duration": 1445,
    "start_time": "2022-11-03T15:01:41.001Z"
   },
   {
    "duration": 13,
    "start_time": "2022-11-03T15:02:19.011Z"
   },
   {
    "duration": 8,
    "start_time": "2022-11-03T15:02:24.179Z"
   },
   {
    "duration": 9,
    "start_time": "2022-11-03T15:09:28.189Z"
   },
   {
    "duration": 9,
    "start_time": "2022-11-03T15:09:41.711Z"
   },
   {
    "duration": 8,
    "start_time": "2022-11-03T15:10:31.720Z"
   },
   {
    "duration": 8,
    "start_time": "2022-11-03T15:10:36.665Z"
   },
   {
    "duration": 7,
    "start_time": "2022-11-03T15:20:42.201Z"
   },
   {
    "duration": 51,
    "start_time": "2022-11-04T11:43:51.121Z"
   },
   {
    "duration": 672,
    "start_time": "2022-11-04T11:44:00.381Z"
   },
   {
    "duration": 22,
    "start_time": "2022-11-04T11:44:01.057Z"
   },
   {
    "duration": 21,
    "start_time": "2022-11-04T11:44:01.080Z"
   },
   {
    "duration": 32,
    "start_time": "2022-11-04T11:44:01.104Z"
   },
   {
    "duration": 40,
    "start_time": "2022-11-04T11:44:01.137Z"
   },
   {
    "duration": 4,
    "start_time": "2022-11-04T11:44:01.178Z"
   },
   {
    "duration": 47,
    "start_time": "2022-11-04T11:44:01.183Z"
   },
   {
    "duration": 20,
    "start_time": "2022-11-04T11:44:01.231Z"
   },
   {
    "duration": 38,
    "start_time": "2022-11-04T11:44:01.252Z"
   },
   {
    "duration": 12,
    "start_time": "2022-11-04T11:44:01.293Z"
   },
   {
    "duration": 67,
    "start_time": "2022-11-04T11:44:01.306Z"
   },
   {
    "duration": 9,
    "start_time": "2022-11-04T11:44:01.375Z"
   },
   {
    "duration": 41,
    "start_time": "2022-11-04T11:44:01.385Z"
   },
   {
    "duration": 27,
    "start_time": "2022-11-04T11:44:01.427Z"
   },
   {
    "duration": 36,
    "start_time": "2022-11-04T11:44:01.456Z"
   },
   {
    "duration": 19,
    "start_time": "2022-11-04T11:44:01.494Z"
   },
   {
    "duration": 25,
    "start_time": "2022-11-04T11:44:01.514Z"
   },
   {
    "duration": 37,
    "start_time": "2022-11-04T11:44:01.540Z"
   },
   {
    "duration": 40,
    "start_time": "2022-11-04T11:44:01.579Z"
   },
   {
    "duration": 36,
    "start_time": "2022-11-04T11:44:01.620Z"
   },
   {
    "duration": 53,
    "start_time": "2022-11-04T11:44:01.658Z"
   },
   {
    "duration": 32,
    "start_time": "2022-11-04T11:44:01.723Z"
   },
   {
    "duration": 22,
    "start_time": "2022-11-04T11:44:01.757Z"
   },
   {
    "duration": 71,
    "start_time": "2022-11-04T11:44:01.781Z"
   },
   {
    "duration": 23,
    "start_time": "2022-11-04T11:44:01.854Z"
   },
   {
    "duration": 29,
    "start_time": "2022-11-04T11:44:01.878Z"
   },
   {
    "duration": 96,
    "start_time": "2022-11-04T11:47:07.252Z"
   },
   {
    "duration": 8,
    "start_time": "2022-11-04T11:47:48.084Z"
   },
   {
    "duration": 18,
    "start_time": "2022-11-04T11:48:16.505Z"
   },
   {
    "duration": 10,
    "start_time": "2022-11-04T11:48:28.240Z"
   },
   {
    "duration": 8,
    "start_time": "2022-11-04T11:49:26.235Z"
   },
   {
    "duration": 8,
    "start_time": "2022-11-04T11:51:13.133Z"
   },
   {
    "duration": 9,
    "start_time": "2022-11-04T11:51:27.497Z"
   },
   {
    "duration": 55,
    "start_time": "2022-11-04T11:54:30.260Z"
   },
   {
    "duration": 55,
    "start_time": "2022-11-04T11:54:41.772Z"
   },
   {
    "duration": 10,
    "start_time": "2022-11-04T11:54:53.597Z"
   },
   {
    "duration": 9,
    "start_time": "2022-11-04T12:13:04.977Z"
   },
   {
    "duration": 10,
    "start_time": "2022-11-04T12:23:07.355Z"
   },
   {
    "duration": 12,
    "start_time": "2022-11-04T13:49:48.904Z"
   },
   {
    "duration": 10,
    "start_time": "2022-11-04T13:49:55.025Z"
   },
   {
    "duration": 76,
    "start_time": "2022-11-04T13:50:04.974Z"
   },
   {
    "duration": 9,
    "start_time": "2022-11-04T13:51:08.076Z"
   },
   {
    "duration": 20,
    "start_time": "2022-11-04T13:51:11.801Z"
   },
   {
    "duration": 11,
    "start_time": "2022-11-04T13:51:20.264Z"
   },
   {
    "duration": 34,
    "start_time": "2022-11-04T13:51:28.968Z"
   },
   {
    "duration": 10,
    "start_time": "2022-11-04T13:51:40.121Z"
   },
   {
    "duration": 10,
    "start_time": "2022-11-04T13:52:10.289Z"
   },
   {
    "duration": 2,
    "start_time": "2022-11-04T13:52:40.453Z"
   },
   {
    "duration": 2,
    "start_time": "2022-11-04T13:52:45.367Z"
   },
   {
    "duration": 10,
    "start_time": "2022-11-04T13:55:22.027Z"
   },
   {
    "duration": 10,
    "start_time": "2022-11-04T14:04:47.247Z"
   },
   {
    "duration": 8,
    "start_time": "2022-11-04T14:05:45.497Z"
   },
   {
    "duration": 8,
    "start_time": "2022-11-04T14:09:44.668Z"
   },
   {
    "duration": 3,
    "start_time": "2022-11-04T14:14:39.149Z"
   },
   {
    "duration": 11,
    "start_time": "2022-11-04T14:17:31.157Z"
   },
   {
    "duration": 12,
    "start_time": "2022-11-04T14:18:02.919Z"
   },
   {
    "duration": 12,
    "start_time": "2022-11-04T14:19:40.942Z"
   },
   {
    "duration": 9,
    "start_time": "2022-11-04T14:21:49.087Z"
   },
   {
    "duration": 9,
    "start_time": "2022-11-04T14:22:20.459Z"
   },
   {
    "duration": 723,
    "start_time": "2022-11-05T05:31:16.133Z"
   },
   {
    "duration": 21,
    "start_time": "2022-11-05T05:31:16.858Z"
   },
   {
    "duration": 16,
    "start_time": "2022-11-05T05:31:16.880Z"
   },
   {
    "duration": 10,
    "start_time": "2022-11-05T05:31:16.898Z"
   },
   {
    "duration": 47,
    "start_time": "2022-11-05T05:31:16.910Z"
   },
   {
    "duration": 4,
    "start_time": "2022-11-05T05:31:16.958Z"
   },
   {
    "duration": 12,
    "start_time": "2022-11-05T05:31:16.963Z"
   },
   {
    "duration": 5,
    "start_time": "2022-11-05T05:31:16.977Z"
   },
   {
    "duration": 14,
    "start_time": "2022-11-05T05:31:16.983Z"
   },
   {
    "duration": 4,
    "start_time": "2022-11-05T05:31:16.999Z"
   },
   {
    "duration": 63,
    "start_time": "2022-11-05T05:31:17.005Z"
   },
   {
    "duration": 13,
    "start_time": "2022-11-05T05:31:17.070Z"
   },
   {
    "duration": 10,
    "start_time": "2022-11-05T05:31:17.085Z"
   },
   {
    "duration": 11,
    "start_time": "2022-11-05T05:31:17.098Z"
   },
   {
    "duration": 46,
    "start_time": "2022-11-05T05:31:17.111Z"
   },
   {
    "duration": 23,
    "start_time": "2022-11-05T05:31:17.159Z"
   },
   {
    "duration": 4,
    "start_time": "2022-11-05T05:31:17.184Z"
   },
   {
    "duration": 30,
    "start_time": "2022-11-05T05:31:17.190Z"
   },
   {
    "duration": 17,
    "start_time": "2022-11-05T05:31:17.222Z"
   },
   {
    "duration": 6,
    "start_time": "2022-11-05T05:31:17.242Z"
   },
   {
    "duration": 44,
    "start_time": "2022-11-05T05:31:17.251Z"
   },
   {
    "duration": 17,
    "start_time": "2022-11-05T05:31:17.298Z"
   },
   {
    "duration": 10,
    "start_time": "2022-11-05T05:31:17.317Z"
   },
   {
    "duration": 19,
    "start_time": "2022-11-05T05:31:17.329Z"
   },
   {
    "duration": 12,
    "start_time": "2022-11-05T05:31:17.350Z"
   },
   {
    "duration": 11,
    "start_time": "2022-11-05T05:31:17.363Z"
   },
   {
    "duration": 8,
    "start_time": "2022-11-05T05:31:17.375Z"
   },
   {
    "duration": 14,
    "start_time": "2022-11-05T05:31:17.385Z"
   },
   {
    "duration": 44,
    "start_time": "2022-11-05T05:31:17.400Z"
   },
   {
    "duration": 13,
    "start_time": "2022-11-05T06:35:00.646Z"
   },
   {
    "duration": 14,
    "start_time": "2022-11-05T06:37:21.797Z"
   },
   {
    "duration": 13,
    "start_time": "2022-11-05T06:37:52.321Z"
   },
   {
    "duration": 14,
    "start_time": "2022-11-05T06:38:25.106Z"
   },
   {
    "duration": 14,
    "start_time": "2022-11-05T06:38:43.270Z"
   },
   {
    "duration": 12,
    "start_time": "2022-11-05T06:38:55.704Z"
   },
   {
    "duration": 12,
    "start_time": "2022-11-05T06:39:06.031Z"
   },
   {
    "duration": 20,
    "start_time": "2022-11-05T06:48:37.001Z"
   },
   {
    "duration": 21,
    "start_time": "2022-11-05T06:49:13.776Z"
   },
   {
    "duration": 14,
    "start_time": "2022-11-05T06:52:06.847Z"
   },
   {
    "duration": 18,
    "start_time": "2022-11-05T06:55:35.791Z"
   },
   {
    "duration": 20,
    "start_time": "2022-11-05T06:55:48.795Z"
   },
   {
    "duration": 11,
    "start_time": "2022-11-05T07:10:06.764Z"
   },
   {
    "duration": 9,
    "start_time": "2022-11-05T07:10:22.228Z"
   },
   {
    "duration": 8,
    "start_time": "2022-11-05T07:12:47.669Z"
   },
   {
    "duration": 8,
    "start_time": "2022-11-05T07:12:52.349Z"
   },
   {
    "duration": 13,
    "start_time": "2022-11-05T07:13:08.397Z"
   },
   {
    "duration": 82,
    "start_time": "2022-11-05T07:37:42.199Z"
   },
   {
    "duration": 15,
    "start_time": "2022-11-05T07:37:42.282Z"
   },
   {
    "duration": 17,
    "start_time": "2022-11-05T07:37:42.299Z"
   },
   {
    "duration": 26,
    "start_time": "2022-11-05T07:37:42.318Z"
   },
   {
    "duration": 43,
    "start_time": "2022-11-05T07:37:42.347Z"
   },
   {
    "duration": 5,
    "start_time": "2022-11-05T07:37:42.391Z"
   },
   {
    "duration": 11,
    "start_time": "2022-11-05T07:37:42.397Z"
   },
   {
    "duration": 4,
    "start_time": "2022-11-05T07:37:42.409Z"
   },
   {
    "duration": 25,
    "start_time": "2022-11-05T07:37:42.415Z"
   },
   {
    "duration": 23,
    "start_time": "2022-11-05T07:37:42.442Z"
   },
   {
    "duration": 33,
    "start_time": "2022-11-05T07:37:42.466Z"
   },
   {
    "duration": 13,
    "start_time": "2022-11-05T07:37:42.501Z"
   },
   {
    "duration": 4,
    "start_time": "2022-11-05T07:37:42.518Z"
   },
   {
    "duration": 19,
    "start_time": "2022-11-05T07:37:42.543Z"
   },
   {
    "duration": 37,
    "start_time": "2022-11-05T07:37:42.565Z"
   },
   {
    "duration": 17,
    "start_time": "2022-11-05T07:37:42.604Z"
   },
   {
    "duration": 4,
    "start_time": "2022-11-05T07:37:42.623Z"
   },
   {
    "duration": 14,
    "start_time": "2022-11-05T07:37:42.628Z"
   },
   {
    "duration": 15,
    "start_time": "2022-11-05T07:37:42.644Z"
   },
   {
    "duration": 3,
    "start_time": "2022-11-05T07:37:42.661Z"
   },
   {
    "duration": 24,
    "start_time": "2022-11-05T07:37:42.665Z"
   },
   {
    "duration": 8,
    "start_time": "2022-11-05T07:37:42.690Z"
   },
   {
    "duration": 7,
    "start_time": "2022-11-05T07:37:42.700Z"
   },
   {
    "duration": 33,
    "start_time": "2022-11-05T07:37:42.708Z"
   },
   {
    "duration": 13,
    "start_time": "2022-11-05T07:37:42.744Z"
   },
   {
    "duration": 11,
    "start_time": "2022-11-05T07:37:42.759Z"
   },
   {
    "duration": 8,
    "start_time": "2022-11-05T07:37:42.771Z"
   },
   {
    "duration": 13,
    "start_time": "2022-11-05T07:37:42.781Z"
   },
   {
    "duration": 8,
    "start_time": "2022-11-05T07:37:42.796Z"
   },
   {
    "duration": 46,
    "start_time": "2022-11-05T07:37:42.805Z"
   },
   {
    "duration": 25,
    "start_time": "2022-11-05T07:37:42.854Z"
   },
   {
    "duration": 11,
    "start_time": "2022-11-05T07:37:42.880Z"
   },
   {
    "duration": 11,
    "start_time": "2022-11-05T07:37:42.893Z"
   },
   {
    "duration": 531,
    "start_time": "2022-11-05T07:42:05.424Z"
   },
   {
    "duration": 24,
    "start_time": "2022-11-05T07:42:05.959Z"
   },
   {
    "duration": 16,
    "start_time": "2022-11-05T07:42:05.985Z"
   },
   {
    "duration": 15,
    "start_time": "2022-11-05T07:42:06.004Z"
   },
   {
    "duration": 32,
    "start_time": "2022-11-05T07:42:06.021Z"
   },
   {
    "duration": 3,
    "start_time": "2022-11-05T07:42:06.055Z"
   },
   {
    "duration": 32,
    "start_time": "2022-11-05T07:42:06.060Z"
   },
   {
    "duration": 4,
    "start_time": "2022-11-05T07:42:06.094Z"
   },
   {
    "duration": 8,
    "start_time": "2022-11-05T07:42:06.100Z"
   },
   {
    "duration": 5,
    "start_time": "2022-11-05T07:42:06.109Z"
   },
   {
    "duration": 33,
    "start_time": "2022-11-05T07:42:06.115Z"
   },
   {
    "duration": 42,
    "start_time": "2022-11-05T07:42:06.150Z"
   },
   {
    "duration": 4,
    "start_time": "2022-11-05T07:42:06.193Z"
   },
   {
    "duration": 11,
    "start_time": "2022-11-05T07:42:06.199Z"
   },
   {
    "duration": 20,
    "start_time": "2022-11-05T07:42:06.211Z"
   },
   {
    "duration": 17,
    "start_time": "2022-11-05T07:42:06.232Z"
   },
   {
    "duration": 3,
    "start_time": "2022-11-05T07:42:06.251Z"
   },
   {
    "duration": 9,
    "start_time": "2022-11-05T07:42:06.291Z"
   },
   {
    "duration": 7,
    "start_time": "2022-11-05T07:42:06.302Z"
   },
   {
    "duration": 3,
    "start_time": "2022-11-05T07:42:06.311Z"
   },
   {
    "duration": 22,
    "start_time": "2022-11-05T07:42:06.316Z"
   },
   {
    "duration": 9,
    "start_time": "2022-11-05T07:42:06.339Z"
   },
   {
    "duration": 46,
    "start_time": "2022-11-05T07:42:06.350Z"
   },
   {
    "duration": 18,
    "start_time": "2022-11-05T07:42:06.397Z"
   },
   {
    "duration": 9,
    "start_time": "2022-11-05T07:42:06.417Z"
   },
   {
    "duration": 11,
    "start_time": "2022-11-05T07:42:06.428Z"
   },
   {
    "duration": 9,
    "start_time": "2022-11-05T07:42:06.440Z"
   },
   {
    "duration": 48,
    "start_time": "2022-11-05T07:42:06.451Z"
   },
   {
    "duration": 9,
    "start_time": "2022-11-05T07:42:06.501Z"
   },
   {
    "duration": 14,
    "start_time": "2022-11-05T07:42:06.511Z"
   },
   {
    "duration": 21,
    "start_time": "2022-11-05T07:42:06.527Z"
   },
   {
    "duration": 51,
    "start_time": "2022-11-05T07:42:06.551Z"
   },
   {
    "duration": 17,
    "start_time": "2022-11-05T07:42:06.604Z"
   },
   {
    "duration": 48,
    "start_time": "2022-11-05T11:48:45.436Z"
   },
   {
    "duration": 1076,
    "start_time": "2022-11-05T11:48:52.127Z"
   },
   {
    "duration": 23,
    "start_time": "2022-11-05T11:48:53.206Z"
   },
   {
    "duration": 16,
    "start_time": "2022-11-05T11:48:53.230Z"
   },
   {
    "duration": 10,
    "start_time": "2022-11-05T11:48:53.248Z"
   },
   {
    "duration": 39,
    "start_time": "2022-11-05T11:48:53.260Z"
   },
   {
    "duration": 3,
    "start_time": "2022-11-05T11:48:53.300Z"
   },
   {
    "duration": 13,
    "start_time": "2022-11-05T11:48:53.305Z"
   },
   {
    "duration": 5,
    "start_time": "2022-11-05T11:48:53.339Z"
   },
   {
    "duration": 10,
    "start_time": "2022-11-05T11:48:53.346Z"
   },
   {
    "duration": 5,
    "start_time": "2022-11-05T11:48:53.359Z"
   },
   {
    "duration": 35,
    "start_time": "2022-11-05T11:48:53.366Z"
   },
   {
    "duration": 10,
    "start_time": "2022-11-05T11:48:53.403Z"
   },
   {
    "duration": 5,
    "start_time": "2022-11-05T11:48:53.439Z"
   },
   {
    "duration": 15,
    "start_time": "2022-11-05T11:48:53.446Z"
   },
   {
    "duration": 23,
    "start_time": "2022-11-05T11:48:53.463Z"
   },
   {
    "duration": 16,
    "start_time": "2022-11-05T11:48:53.487Z"
   },
   {
    "duration": 4,
    "start_time": "2022-11-05T11:48:53.505Z"
   },
   {
    "duration": 11,
    "start_time": "2022-11-05T11:48:53.538Z"
   },
   {
    "duration": 9,
    "start_time": "2022-11-05T11:48:53.551Z"
   },
   {
    "duration": 6,
    "start_time": "2022-11-05T11:48:53.562Z"
   },
   {
    "duration": 24,
    "start_time": "2022-11-05T11:48:53.569Z"
   },
   {
    "duration": 10,
    "start_time": "2022-11-05T11:48:53.595Z"
   },
   {
    "duration": 33,
    "start_time": "2022-11-05T11:48:53.606Z"
   },
   {
    "duration": 11,
    "start_time": "2022-11-05T11:48:53.641Z"
   },
   {
    "duration": 10,
    "start_time": "2022-11-05T11:48:53.654Z"
   },
   {
    "duration": 12,
    "start_time": "2022-11-05T11:48:53.665Z"
   },
   {
    "duration": 9,
    "start_time": "2022-11-05T11:48:53.679Z"
   },
   {
    "duration": 11,
    "start_time": "2022-11-05T11:48:53.691Z"
   },
   {
    "duration": 10,
    "start_time": "2022-11-05T11:48:53.739Z"
   },
   {
    "duration": 19,
    "start_time": "2022-11-05T11:48:53.751Z"
   },
   {
    "duration": 24,
    "start_time": "2022-11-05T11:48:53.772Z"
   },
   {
    "duration": 13,
    "start_time": "2022-11-05T11:48:53.797Z"
   },
   {
    "duration": 38,
    "start_time": "2022-11-05T11:48:53.812Z"
   },
   {
    "duration": 9,
    "start_time": "2022-11-05T11:49:15.231Z"
   },
   {
    "duration": 73,
    "start_time": "2022-11-05T12:11:24.924Z"
   },
   {
    "duration": 16,
    "start_time": "2022-11-05T12:11:24.999Z"
   },
   {
    "duration": 30,
    "start_time": "2022-11-05T12:11:25.017Z"
   },
   {
    "duration": 11,
    "start_time": "2022-11-05T12:11:25.049Z"
   },
   {
    "duration": 35,
    "start_time": "2022-11-05T12:11:25.061Z"
   },
   {
    "duration": 3,
    "start_time": "2022-11-05T12:11:25.098Z"
   },
   {
    "duration": 11,
    "start_time": "2022-11-05T12:11:25.102Z"
   },
   {
    "duration": 26,
    "start_time": "2022-11-05T12:11:25.115Z"
   },
   {
    "duration": 13,
    "start_time": "2022-11-05T12:11:25.142Z"
   },
   {
    "duration": 7,
    "start_time": "2022-11-05T12:11:25.158Z"
   },
   {
    "duration": 35,
    "start_time": "2022-11-05T12:11:25.167Z"
   },
   {
    "duration": 9,
    "start_time": "2022-11-05T12:11:25.204Z"
   },
   {
    "duration": 18,
    "start_time": "2022-11-05T12:11:25.215Z"
   },
   {
    "duration": 16,
    "start_time": "2022-11-05T12:11:25.238Z"
   },
   {
    "duration": 22,
    "start_time": "2022-11-05T12:11:25.256Z"
   },
   {
    "duration": 16,
    "start_time": "2022-11-05T12:11:25.280Z"
   },
   {
    "duration": 3,
    "start_time": "2022-11-05T12:11:25.298Z"
   },
   {
    "duration": 14,
    "start_time": "2022-11-05T12:11:25.303Z"
   },
   {
    "duration": 21,
    "start_time": "2022-11-05T12:11:25.319Z"
   },
   {
    "duration": 4,
    "start_time": "2022-11-05T12:11:25.342Z"
   },
   {
    "duration": 22,
    "start_time": "2022-11-05T12:11:25.347Z"
   },
   {
    "duration": 9,
    "start_time": "2022-11-05T12:11:25.370Z"
   },
   {
    "duration": 9,
    "start_time": "2022-11-05T12:11:25.380Z"
   },
   {
    "duration": 12,
    "start_time": "2022-11-05T12:11:25.390Z"
   },
   {
    "duration": 41,
    "start_time": "2022-11-05T12:11:25.404Z"
   },
   {
    "duration": 24,
    "start_time": "2022-11-05T12:11:25.447Z"
   },
   {
    "duration": 10,
    "start_time": "2022-11-05T12:11:25.473Z"
   },
   {
    "duration": 12,
    "start_time": "2022-11-05T12:11:25.485Z"
   },
   {
    "duration": 22,
    "start_time": "2022-11-05T12:11:25.499Z"
   },
   {
    "duration": 46,
    "start_time": "2022-11-05T12:11:25.523Z"
   },
   {
    "duration": 40,
    "start_time": "2022-11-05T12:11:25.570Z"
   },
   {
    "duration": 18,
    "start_time": "2022-11-05T12:11:25.612Z"
   },
   {
    "duration": 18,
    "start_time": "2022-11-05T12:11:25.631Z"
   }
  ],
  "colab": {
   "name": "dpp_template_part2.ipynb",
   "provenance": []
  },
  "kernelspec": {
   "display_name": "Python 3 (ipykernel)",
   "language": "python",
   "name": "python3"
  },
  "language_info": {
   "codemirror_mode": {
    "name": "ipython",
    "version": 3
   },
   "file_extension": ".py",
   "mimetype": "text/x-python",
   "name": "python",
   "nbconvert_exporter": "python",
   "pygments_lexer": "ipython3",
   "version": "3.9.5"
  },
  "toc": {
   "base_numbering": 1,
   "nav_menu": {},
   "number_sections": true,
   "sideBar": true,
   "skip_h1_title": true,
   "title_cell": "Table of Contents",
   "title_sidebar": "Contents",
   "toc_cell": false,
   "toc_position": {},
   "toc_section_display": true,
   "toc_window_display": false
  }
 },
 "nbformat": 4,
 "nbformat_minor": 5
}
