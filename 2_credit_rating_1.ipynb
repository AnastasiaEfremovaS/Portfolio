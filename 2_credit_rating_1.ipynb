{
 "cells": [
  {
   "cell_type": "markdown",
   "id": "c81daeeb",
   "metadata": {
    "deletable": false,
    "editable": false,
    "id": "c81daeeb"
   },
   "source": [
    "# Исследование надежности заемщиков"
   ]
  },
  {
   "cell_type": "markdown",
   "id": "-G3EJWzf62s6",
   "metadata": {
    "deletable": false,
    "editable": false,
    "id": "-G3EJWzf62s6"
   },
   "source": [
    "Это первая часть проекта, она будет проверена автоматически. Вторую часть проверит ревьюер. "
   ]
  },
  {
   "cell_type": "markdown",
   "id": "744d7639",
   "metadata": {
    "deletable": false,
    "editable": false,
    "id": "744d7639"
   },
   "source": [
    "## Откройте таблицу и изучите общую информацию о данных"
   ]
  },
  {
   "cell_type": "markdown",
   "id": "e7a14c31",
   "metadata": {
    "deletable": false,
    "editable": false,
    "id": "e7a14c31",
    "tags": [
     "start_task"
    ]
   },
   "source": [
    "**Задание 1. Импортируйте библиотеку pandas. Считайте данные из csv-файла в датафрейм и сохраните в переменную `data`. Путь к файлу:**\n",
    "\n",
    "`/datasets/data.csv`"
   ]
  },
  {
   "cell_type": "code",
   "execution_count": 2,
   "id": "7bcf75c9",
   "metadata": {
    "id": "7bcf75c9"
   },
   "outputs": [],
   "source": [
    "# импортируйте библиотеку pandas\n",
    "import pandas as pd"
   ]
  },
  {
   "cell_type": "code",
   "execution_count": 3,
   "id": "4d240ee2",
   "metadata": {
    "id": "4d240ee2"
   },
   "outputs": [],
   "source": [
    "# прочитайте csv-файл\n",
    "data = pd.read_csv('/datasets/data.csv')"
   ]
  },
  {
   "cell_type": "markdown",
   "id": "b8038fe3",
   "metadata": {
    "deletable": false,
    "editable": false,
    "id": "b8038fe3",
    "tags": [
     "start_task"
    ]
   },
   "source": [
    "**Задание 2. Выведите первые 20 строчек датафрейма `data` на экран.**"
   ]
  },
  {
   "cell_type": "code",
   "execution_count": 4,
   "id": "2a7cab99",
   "metadata": {
    "id": "2a7cab99"
   },
   "outputs": [
    {
     "data": {
      "text/html": [
       "<div>\n",
       "<style scoped>\n",
       "    .dataframe tbody tr th:only-of-type {\n",
       "        vertical-align: middle;\n",
       "    }\n",
       "\n",
       "    .dataframe tbody tr th {\n",
       "        vertical-align: top;\n",
       "    }\n",
       "\n",
       "    .dataframe thead th {\n",
       "        text-align: right;\n",
       "    }\n",
       "</style>\n",
       "<table border=\"1\" class=\"dataframe\">\n",
       "  <thead>\n",
       "    <tr style=\"text-align: right;\">\n",
       "      <th></th>\n",
       "      <th>children</th>\n",
       "      <th>days_employed</th>\n",
       "      <th>dob_years</th>\n",
       "      <th>education</th>\n",
       "      <th>education_id</th>\n",
       "      <th>family_status</th>\n",
       "      <th>family_status_id</th>\n",
       "      <th>gender</th>\n",
       "      <th>income_type</th>\n",
       "      <th>debt</th>\n",
       "      <th>total_income</th>\n",
       "      <th>purpose</th>\n",
       "    </tr>\n",
       "  </thead>\n",
       "  <tbody>\n",
       "    <tr>\n",
       "      <th>0</th>\n",
       "      <td>1</td>\n",
       "      <td>-8437.673028</td>\n",
       "      <td>42</td>\n",
       "      <td>высшее</td>\n",
       "      <td>0</td>\n",
       "      <td>женат / замужем</td>\n",
       "      <td>0</td>\n",
       "      <td>F</td>\n",
       "      <td>сотрудник</td>\n",
       "      <td>0</td>\n",
       "      <td>253875.639453</td>\n",
       "      <td>покупка жилья</td>\n",
       "    </tr>\n",
       "    <tr>\n",
       "      <th>1</th>\n",
       "      <td>1</td>\n",
       "      <td>-4024.803754</td>\n",
       "      <td>36</td>\n",
       "      <td>среднее</td>\n",
       "      <td>1</td>\n",
       "      <td>женат / замужем</td>\n",
       "      <td>0</td>\n",
       "      <td>F</td>\n",
       "      <td>сотрудник</td>\n",
       "      <td>0</td>\n",
       "      <td>112080.014102</td>\n",
       "      <td>приобретение автомобиля</td>\n",
       "    </tr>\n",
       "    <tr>\n",
       "      <th>2</th>\n",
       "      <td>0</td>\n",
       "      <td>-5623.422610</td>\n",
       "      <td>33</td>\n",
       "      <td>Среднее</td>\n",
       "      <td>1</td>\n",
       "      <td>женат / замужем</td>\n",
       "      <td>0</td>\n",
       "      <td>M</td>\n",
       "      <td>сотрудник</td>\n",
       "      <td>0</td>\n",
       "      <td>145885.952297</td>\n",
       "      <td>покупка жилья</td>\n",
       "    </tr>\n",
       "    <tr>\n",
       "      <th>3</th>\n",
       "      <td>3</td>\n",
       "      <td>-4124.747207</td>\n",
       "      <td>32</td>\n",
       "      <td>среднее</td>\n",
       "      <td>1</td>\n",
       "      <td>женат / замужем</td>\n",
       "      <td>0</td>\n",
       "      <td>M</td>\n",
       "      <td>сотрудник</td>\n",
       "      <td>0</td>\n",
       "      <td>267628.550329</td>\n",
       "      <td>дополнительное образование</td>\n",
       "    </tr>\n",
       "    <tr>\n",
       "      <th>4</th>\n",
       "      <td>0</td>\n",
       "      <td>340266.072047</td>\n",
       "      <td>53</td>\n",
       "      <td>среднее</td>\n",
       "      <td>1</td>\n",
       "      <td>гражданский брак</td>\n",
       "      <td>1</td>\n",
       "      <td>F</td>\n",
       "      <td>пенсионер</td>\n",
       "      <td>0</td>\n",
       "      <td>158616.077870</td>\n",
       "      <td>сыграть свадьбу</td>\n",
       "    </tr>\n",
       "    <tr>\n",
       "      <th>5</th>\n",
       "      <td>0</td>\n",
       "      <td>-926.185831</td>\n",
       "      <td>27</td>\n",
       "      <td>высшее</td>\n",
       "      <td>0</td>\n",
       "      <td>гражданский брак</td>\n",
       "      <td>1</td>\n",
       "      <td>M</td>\n",
       "      <td>компаньон</td>\n",
       "      <td>0</td>\n",
       "      <td>255763.565419</td>\n",
       "      <td>покупка жилья</td>\n",
       "    </tr>\n",
       "    <tr>\n",
       "      <th>6</th>\n",
       "      <td>0</td>\n",
       "      <td>-2879.202052</td>\n",
       "      <td>43</td>\n",
       "      <td>высшее</td>\n",
       "      <td>0</td>\n",
       "      <td>женат / замужем</td>\n",
       "      <td>0</td>\n",
       "      <td>F</td>\n",
       "      <td>компаньон</td>\n",
       "      <td>0</td>\n",
       "      <td>240525.971920</td>\n",
       "      <td>операции с жильем</td>\n",
       "    </tr>\n",
       "    <tr>\n",
       "      <th>7</th>\n",
       "      <td>0</td>\n",
       "      <td>-152.779569</td>\n",
       "      <td>50</td>\n",
       "      <td>СРЕДНЕЕ</td>\n",
       "      <td>1</td>\n",
       "      <td>женат / замужем</td>\n",
       "      <td>0</td>\n",
       "      <td>M</td>\n",
       "      <td>сотрудник</td>\n",
       "      <td>0</td>\n",
       "      <td>135823.934197</td>\n",
       "      <td>образование</td>\n",
       "    </tr>\n",
       "    <tr>\n",
       "      <th>8</th>\n",
       "      <td>2</td>\n",
       "      <td>-6929.865299</td>\n",
       "      <td>35</td>\n",
       "      <td>ВЫСШЕЕ</td>\n",
       "      <td>0</td>\n",
       "      <td>гражданский брак</td>\n",
       "      <td>1</td>\n",
       "      <td>F</td>\n",
       "      <td>сотрудник</td>\n",
       "      <td>0</td>\n",
       "      <td>95856.832424</td>\n",
       "      <td>на проведение свадьбы</td>\n",
       "    </tr>\n",
       "    <tr>\n",
       "      <th>9</th>\n",
       "      <td>0</td>\n",
       "      <td>-2188.756445</td>\n",
       "      <td>41</td>\n",
       "      <td>среднее</td>\n",
       "      <td>1</td>\n",
       "      <td>женат / замужем</td>\n",
       "      <td>0</td>\n",
       "      <td>M</td>\n",
       "      <td>сотрудник</td>\n",
       "      <td>0</td>\n",
       "      <td>144425.938277</td>\n",
       "      <td>покупка жилья для семьи</td>\n",
       "    </tr>\n",
       "    <tr>\n",
       "      <th>10</th>\n",
       "      <td>2</td>\n",
       "      <td>-4171.483647</td>\n",
       "      <td>36</td>\n",
       "      <td>высшее</td>\n",
       "      <td>0</td>\n",
       "      <td>женат / замужем</td>\n",
       "      <td>0</td>\n",
       "      <td>M</td>\n",
       "      <td>компаньон</td>\n",
       "      <td>0</td>\n",
       "      <td>113943.491460</td>\n",
       "      <td>покупка недвижимости</td>\n",
       "    </tr>\n",
       "    <tr>\n",
       "      <th>11</th>\n",
       "      <td>0</td>\n",
       "      <td>-792.701887</td>\n",
       "      <td>40</td>\n",
       "      <td>среднее</td>\n",
       "      <td>1</td>\n",
       "      <td>женат / замужем</td>\n",
       "      <td>0</td>\n",
       "      <td>F</td>\n",
       "      <td>сотрудник</td>\n",
       "      <td>0</td>\n",
       "      <td>77069.234271</td>\n",
       "      <td>покупка коммерческой недвижимости</td>\n",
       "    </tr>\n",
       "    <tr>\n",
       "      <th>12</th>\n",
       "      <td>0</td>\n",
       "      <td>NaN</td>\n",
       "      <td>65</td>\n",
       "      <td>среднее</td>\n",
       "      <td>1</td>\n",
       "      <td>гражданский брак</td>\n",
       "      <td>1</td>\n",
       "      <td>M</td>\n",
       "      <td>пенсионер</td>\n",
       "      <td>0</td>\n",
       "      <td>NaN</td>\n",
       "      <td>сыграть свадьбу</td>\n",
       "    </tr>\n",
       "    <tr>\n",
       "      <th>13</th>\n",
       "      <td>0</td>\n",
       "      <td>-1846.641941</td>\n",
       "      <td>54</td>\n",
       "      <td>неоконченное высшее</td>\n",
       "      <td>2</td>\n",
       "      <td>женат / замужем</td>\n",
       "      <td>0</td>\n",
       "      <td>F</td>\n",
       "      <td>сотрудник</td>\n",
       "      <td>0</td>\n",
       "      <td>130458.228857</td>\n",
       "      <td>приобретение автомобиля</td>\n",
       "    </tr>\n",
       "    <tr>\n",
       "      <th>14</th>\n",
       "      <td>0</td>\n",
       "      <td>-1844.956182</td>\n",
       "      <td>56</td>\n",
       "      <td>высшее</td>\n",
       "      <td>0</td>\n",
       "      <td>гражданский брак</td>\n",
       "      <td>1</td>\n",
       "      <td>F</td>\n",
       "      <td>компаньон</td>\n",
       "      <td>1</td>\n",
       "      <td>165127.911772</td>\n",
       "      <td>покупка жилой недвижимости</td>\n",
       "    </tr>\n",
       "    <tr>\n",
       "      <th>15</th>\n",
       "      <td>1</td>\n",
       "      <td>-972.364419</td>\n",
       "      <td>26</td>\n",
       "      <td>среднее</td>\n",
       "      <td>1</td>\n",
       "      <td>женат / замужем</td>\n",
       "      <td>0</td>\n",
       "      <td>F</td>\n",
       "      <td>сотрудник</td>\n",
       "      <td>0</td>\n",
       "      <td>116820.904450</td>\n",
       "      <td>строительство собственной недвижимости</td>\n",
       "    </tr>\n",
       "    <tr>\n",
       "      <th>16</th>\n",
       "      <td>0</td>\n",
       "      <td>-1719.934226</td>\n",
       "      <td>35</td>\n",
       "      <td>среднее</td>\n",
       "      <td>1</td>\n",
       "      <td>женат / замужем</td>\n",
       "      <td>0</td>\n",
       "      <td>F</td>\n",
       "      <td>сотрудник</td>\n",
       "      <td>0</td>\n",
       "      <td>289202.704229</td>\n",
       "      <td>недвижимость</td>\n",
       "    </tr>\n",
       "    <tr>\n",
       "      <th>17</th>\n",
       "      <td>0</td>\n",
       "      <td>-2369.999720</td>\n",
       "      <td>33</td>\n",
       "      <td>высшее</td>\n",
       "      <td>0</td>\n",
       "      <td>гражданский брак</td>\n",
       "      <td>1</td>\n",
       "      <td>M</td>\n",
       "      <td>сотрудник</td>\n",
       "      <td>0</td>\n",
       "      <td>90410.586745</td>\n",
       "      <td>строительство недвижимости</td>\n",
       "    </tr>\n",
       "    <tr>\n",
       "      <th>18</th>\n",
       "      <td>0</td>\n",
       "      <td>400281.136913</td>\n",
       "      <td>53</td>\n",
       "      <td>среднее</td>\n",
       "      <td>1</td>\n",
       "      <td>вдовец / вдова</td>\n",
       "      <td>2</td>\n",
       "      <td>F</td>\n",
       "      <td>пенсионер</td>\n",
       "      <td>0</td>\n",
       "      <td>56823.777243</td>\n",
       "      <td>на покупку подержанного автомобиля</td>\n",
       "    </tr>\n",
       "    <tr>\n",
       "      <th>19</th>\n",
       "      <td>0</td>\n",
       "      <td>-10038.818549</td>\n",
       "      <td>48</td>\n",
       "      <td>СРЕДНЕЕ</td>\n",
       "      <td>1</td>\n",
       "      <td>в разводе</td>\n",
       "      <td>3</td>\n",
       "      <td>F</td>\n",
       "      <td>сотрудник</td>\n",
       "      <td>0</td>\n",
       "      <td>242831.107982</td>\n",
       "      <td>на покупку своего автомобиля</td>\n",
       "    </tr>\n",
       "  </tbody>\n",
       "</table>\n",
       "</div>"
      ],
      "text/plain": [
       "    children  days_employed  dob_years            education  education_id  \\\n",
       "0          1   -8437.673028         42               высшее             0   \n",
       "1          1   -4024.803754         36              среднее             1   \n",
       "2          0   -5623.422610         33              Среднее             1   \n",
       "3          3   -4124.747207         32              среднее             1   \n",
       "4          0  340266.072047         53              среднее             1   \n",
       "5          0    -926.185831         27               высшее             0   \n",
       "6          0   -2879.202052         43               высшее             0   \n",
       "7          0    -152.779569         50              СРЕДНЕЕ             1   \n",
       "8          2   -6929.865299         35               ВЫСШЕЕ             0   \n",
       "9          0   -2188.756445         41              среднее             1   \n",
       "10         2   -4171.483647         36               высшее             0   \n",
       "11         0    -792.701887         40              среднее             1   \n",
       "12         0            NaN         65              среднее             1   \n",
       "13         0   -1846.641941         54  неоконченное высшее             2   \n",
       "14         0   -1844.956182         56               высшее             0   \n",
       "15         1    -972.364419         26              среднее             1   \n",
       "16         0   -1719.934226         35              среднее             1   \n",
       "17         0   -2369.999720         33               высшее             0   \n",
       "18         0  400281.136913         53              среднее             1   \n",
       "19         0  -10038.818549         48              СРЕДНЕЕ             1   \n",
       "\n",
       "       family_status  family_status_id gender income_type  debt  \\\n",
       "0    женат / замужем                 0      F   сотрудник     0   \n",
       "1    женат / замужем                 0      F   сотрудник     0   \n",
       "2    женат / замужем                 0      M   сотрудник     0   \n",
       "3    женат / замужем                 0      M   сотрудник     0   \n",
       "4   гражданский брак                 1      F   пенсионер     0   \n",
       "5   гражданский брак                 1      M   компаньон     0   \n",
       "6    женат / замужем                 0      F   компаньон     0   \n",
       "7    женат / замужем                 0      M   сотрудник     0   \n",
       "8   гражданский брак                 1      F   сотрудник     0   \n",
       "9    женат / замужем                 0      M   сотрудник     0   \n",
       "10   женат / замужем                 0      M   компаньон     0   \n",
       "11   женат / замужем                 0      F   сотрудник     0   \n",
       "12  гражданский брак                 1      M   пенсионер     0   \n",
       "13   женат / замужем                 0      F   сотрудник     0   \n",
       "14  гражданский брак                 1      F   компаньон     1   \n",
       "15   женат / замужем                 0      F   сотрудник     0   \n",
       "16   женат / замужем                 0      F   сотрудник     0   \n",
       "17  гражданский брак                 1      M   сотрудник     0   \n",
       "18    вдовец / вдова                 2      F   пенсионер     0   \n",
       "19         в разводе                 3      F   сотрудник     0   \n",
       "\n",
       "     total_income                                 purpose  \n",
       "0   253875.639453                           покупка жилья  \n",
       "1   112080.014102                 приобретение автомобиля  \n",
       "2   145885.952297                           покупка жилья  \n",
       "3   267628.550329              дополнительное образование  \n",
       "4   158616.077870                         сыграть свадьбу  \n",
       "5   255763.565419                           покупка жилья  \n",
       "6   240525.971920                       операции с жильем  \n",
       "7   135823.934197                             образование  \n",
       "8    95856.832424                   на проведение свадьбы  \n",
       "9   144425.938277                 покупка жилья для семьи  \n",
       "10  113943.491460                    покупка недвижимости  \n",
       "11   77069.234271       покупка коммерческой недвижимости  \n",
       "12            NaN                         сыграть свадьбу  \n",
       "13  130458.228857                 приобретение автомобиля  \n",
       "14  165127.911772              покупка жилой недвижимости  \n",
       "15  116820.904450  строительство собственной недвижимости  \n",
       "16  289202.704229                            недвижимость  \n",
       "17   90410.586745              строительство недвижимости  \n",
       "18   56823.777243      на покупку подержанного автомобиля  \n",
       "19  242831.107982            на покупку своего автомобиля  "
      ]
     },
     "execution_count": 4,
     "metadata": {},
     "output_type": "execute_result"
    }
   ],
   "source": [
    "# ваш код здесь\n",
    "data.head(20)"
   ]
  },
  {
   "cell_type": "markdown",
   "id": "1c12e233",
   "metadata": {
    "deletable": false,
    "editable": false,
    "id": "1c12e233",
    "tags": [
     "start_task"
    ]
   },
   "source": [
    "**Задание 3. Выведите основную информацию о датафрейме с помощью метода `info()`.**"
   ]
  },
  {
   "cell_type": "code",
   "execution_count": 5,
   "id": "2b757bca",
   "metadata": {
    "id": "2b757bca"
   },
   "outputs": [
    {
     "name": "stdout",
     "output_type": "stream",
     "text": [
      "<class 'pandas.core.frame.DataFrame'>\n",
      "RangeIndex: 21525 entries, 0 to 21524\n",
      "Data columns (total 12 columns):\n",
      " #   Column            Non-Null Count  Dtype  \n",
      "---  ------            --------------  -----  \n",
      " 0   children          21525 non-null  int64  \n",
      " 1   days_employed     19351 non-null  float64\n",
      " 2   dob_years         21525 non-null  int64  \n",
      " 3   education         21525 non-null  object \n",
      " 4   education_id      21525 non-null  int64  \n",
      " 5   family_status     21525 non-null  object \n",
      " 6   family_status_id  21525 non-null  int64  \n",
      " 7   gender            21525 non-null  object \n",
      " 8   income_type       21525 non-null  object \n",
      " 9   debt              21525 non-null  int64  \n",
      " 10  total_income      19351 non-null  float64\n",
      " 11  purpose           21525 non-null  object \n",
      "dtypes: float64(2), int64(5), object(5)\n",
      "memory usage: 2.0+ MB\n"
     ]
    }
   ],
   "source": [
    "# ваш код здесь\n",
    "data.info()"
   ]
  },
  {
   "cell_type": "markdown",
   "id": "333ec665",
   "metadata": {
    "deletable": false,
    "editable": false,
    "id": "333ec665"
   },
   "source": [
    "## Предобработка данных"
   ]
  },
  {
   "cell_type": "markdown",
   "id": "02d92d53",
   "metadata": {
    "deletable": false,
    "editable": false,
    "id": "02d92d53"
   },
   "source": [
    "### Удаление пропусков"
   ]
  },
  {
   "cell_type": "markdown",
   "id": "cd84967c",
   "metadata": {
    "deletable": false,
    "editable": false,
    "id": "cd84967c",
    "tags": [
     "start_task"
    ]
   },
   "source": [
    "**Задание 4. Выведите количество пропущенных значений для каждого столбца. Используйте комбинацию двух методов.**"
   ]
  },
  {
   "cell_type": "code",
   "execution_count": 6,
   "id": "7f9b2309",
   "metadata": {
    "id": "7f9b2309"
   },
   "outputs": [
    {
     "data": {
      "text/plain": [
       "children               0\n",
       "days_employed       2174\n",
       "dob_years              0\n",
       "education              0\n",
       "education_id           0\n",
       "family_status          0\n",
       "family_status_id       0\n",
       "gender                 0\n",
       "income_type            0\n",
       "debt                   0\n",
       "total_income        2174\n",
       "purpose                0\n",
       "dtype: int64"
      ]
     },
     "execution_count": 6,
     "metadata": {},
     "output_type": "execute_result"
    }
   ],
   "source": [
    "# ваш код здесь\n",
    "data.isna().sum()"
   ]
  },
  {
   "cell_type": "markdown",
   "id": "db86e27b",
   "metadata": {
    "deletable": false,
    "editable": false,
    "id": "db86e27b",
    "tags": [
     "start_task"
    ]
   },
   "source": [
    "**Задание 5. В двух столбцах есть пропущенные значения. Один из них — `days_employed`. Пропуски в этом столбце вы обработаете на следующем этапе. Другой столбец с пропущенными значениями — `total_income` — хранит данные о доходах. На сумму дохода сильнее всего влияет тип занятости, поэтому заполнить пропуски в этом столбце нужно медианным значением по каждому типу из столбца `income_type`. Например, у человека с типом занятости `сотрудник` пропуск в столбце `total_income` должен быть заполнен медианным доходом среди всех записей с тем же типом.**"
   ]
  },
  {
   "cell_type": "code",
   "execution_count": 7,
   "id": "42006a93",
   "metadata": {
    "id": "42006a93"
   },
   "outputs": [
    {
     "name": "stdout",
     "output_type": "stream",
     "text": [
      "0\n"
     ]
    }
   ],
   "source": [
    "# перебираем каждый тип занятости в наборе уникальных значений столба income_type\n",
    "for d in data['income_type'].unique():\n",
    "    # на каждом шаге цикла с помощью атрибута loc выбираем строки,\n",
    "    # в которых в income_type текущий тип девайса (d) и есть пропуски в total_income \n",
    "    data.loc[(data['income_type'] == d) & (data['total_income'].isna()), 'total_income'] = \\\n",
    "    data.loc[(data['income_type'] == d), 'total_income'].median()\n",
    "    # и записываем в них среднее значение total_income среди строк с текущим типом занятости (d)\n",
    "\n",
    "# проверяем, что все пропуски заполнены\n",
    "print(data['total_income'].isna().sum())"
   ]
  },
  {
   "cell_type": "markdown",
   "id": "89da5ece",
   "metadata": {
    "deletable": false,
    "editable": false,
    "id": "89da5ece"
   },
   "source": [
    "### Обработка аномальных значений"
   ]
  },
  {
   "cell_type": "markdown",
   "id": "57964554",
   "metadata": {
    "deletable": false,
    "editable": false,
    "id": "57964554",
    "tags": [
     "start_task"
    ]
   },
   "source": [
    "**Задание 6. В данных могут встречаться артефакты (аномалии) — значения, которые не отражают действительность и появились по какой-то ошибке. Таким артефактом будет отрицательное количество дней трудового стажа в столбце `days_employed`. Для реальных данных это нормально. Обработайте значения в этом столбце: замените все отрицательные значения положительными с помощью метода `abs()`.**"
   ]
  },
  {
   "cell_type": "code",
   "execution_count": 8,
   "id": "f6f055bf",
   "metadata": {
    "id": "f6f055bf"
   },
   "outputs": [],
   "source": [
    "# ваш код здесь\n",
    "data['days_employed'] = data['days_employed'].abs()"
   ]
  },
  {
   "cell_type": "markdown",
   "id": "6107dd2f",
   "metadata": {
    "deletable": false,
    "editable": false,
    "id": "6107dd2f",
    "tags": [
     "start_task"
    ]
   },
   "source": [
    "**Задание 7. Для каждого типа занятости выведите медианное значение трудового стажа `days_employed` в днях.**"
   ]
  },
  {
   "cell_type": "code",
   "execution_count": 9,
   "id": "85a5faf6",
   "metadata": {
    "id": "85a5faf6"
   },
   "outputs": [
    {
     "data": {
      "text/plain": [
       "income_type\n",
       "безработный        366413.652744\n",
       "в декрете            3296.759962\n",
       "госслужащий          2689.368353\n",
       "компаньон            1547.382223\n",
       "пенсионер          365213.306266\n",
       "предприниматель       520.848083\n",
       "сотрудник            1574.202821\n",
       "студент               578.751554\n",
       "Name: days_employed, dtype: float64"
      ]
     },
     "execution_count": 9,
     "metadata": {},
     "output_type": "execute_result"
    }
   ],
   "source": [
    "# ваш код здесь\n",
    "income_type_days = data.groupby('income_type')['days_employed'].median()\n",
    "income_type_days"
   ]
  },
  {
   "cell_type": "markdown",
   "id": "38d1a030",
   "metadata": {
    "deletable": false,
    "editable": false,
    "id": "38d1a030"
   },
   "source": [
    "У двух типов (безработные и пенсионеры) получатся аномально большие значения. Исправить такие значения сложно, поэтому оставьте их как есть. Тем более этот столбец не понадобится вам для исследования."
   ]
  },
  {
   "cell_type": "markdown",
   "id": "d8a9f147",
   "metadata": {
    "deletable": false,
    "editable": false,
    "id": "d8a9f147",
    "tags": [
     "start_task"
    ]
   },
   "source": [
    "**Задание 8. Выведите перечень уникальных значений столбца `children`.**"
   ]
  },
  {
   "cell_type": "code",
   "execution_count": 10,
   "id": "ef5056eb",
   "metadata": {
    "id": "ef5056eb"
   },
   "outputs": [
    {
     "data": {
      "text/plain": [
       "array([ 1,  0,  3,  2, -1,  4, 20,  5])"
      ]
     },
     "execution_count": 10,
     "metadata": {},
     "output_type": "execute_result"
    }
   ],
   "source": [
    "# ваш код здесь\n",
    "data['children'].unique()"
   ]
  },
  {
   "cell_type": "markdown",
   "id": "40b9ebf2",
   "metadata": {
    "deletable": false,
    "editable": false,
    "id": "40b9ebf2",
    "tags": [
     "start_task"
    ]
   },
   "source": [
    "**Задание 9. В столбце `children` есть два аномальных значения. Удалите строки, в которых встречаются такие аномальные значения из датафрейма `data`.**"
   ]
  },
  {
   "cell_type": "code",
   "execution_count": 11,
   "id": "3ff9801d",
   "metadata": {
    "id": "3ff9801d"
   },
   "outputs": [],
   "source": [
    "# ваш код здесь\n",
    "data = data.loc[data['children'] != -1]\n",
    "data = data.loc[data['children'] != 20]"
   ]
  },
  {
   "cell_type": "markdown",
   "id": "bbc4d0ce",
   "metadata": {
    "deletable": false,
    "editable": false,
    "id": "bbc4d0ce",
    "tags": [
     "start_task"
    ]
   },
   "source": [
    "**Задание 10. Ещё раз выведите перечень уникальных значений столбца `children`, чтобы убедиться, что артефакты удалены.**"
   ]
  },
  {
   "cell_type": "code",
   "execution_count": 12,
   "id": "ad4fa8b7",
   "metadata": {
    "id": "ad4fa8b7"
   },
   "outputs": [
    {
     "data": {
      "text/plain": [
       "array([1, 0, 3, 2, 4, 5])"
      ]
     },
     "execution_count": 12,
     "metadata": {},
     "output_type": "execute_result"
    }
   ],
   "source": [
    "# ваш код здесь\n",
    "data['children'].unique()"
   ]
  },
  {
   "cell_type": "markdown",
   "id": "75440b63",
   "metadata": {
    "deletable": false,
    "editable": false,
    "id": "75440b63"
   },
   "source": [
    "### Удаление пропусков (продолжение)"
   ]
  },
  {
   "cell_type": "markdown",
   "id": "f4ea573f",
   "metadata": {
    "deletable": false,
    "editable": false,
    "id": "f4ea573f",
    "tags": [
     "start_task"
    ]
   },
   "source": [
    "**Задание 11. Заполните пропуски в столбце `days_employed` медианными значениями по каждому типу занятости `income_type`.**"
   ]
  },
  {
   "cell_type": "code",
   "execution_count": 13,
   "id": "af6b1a7e",
   "metadata": {
    "id": "af6b1a7e"
   },
   "outputs": [],
   "source": [
    "# перебираем каждый тип занятости в наборе уникальных значений столба income_type\n",
    "for d in data['income_type'].unique():\n",
    "    # на каждом шаге цикла с помощью атрибута loc выбираем строки,\n",
    "    # в которых в days_employed текущий тип девайса (d) и есть пропуски в days_employed \n",
    "    data.loc[(data['income_type'] == d) & (data['days_employed'].isna()), 'days_employed'] = \\\n",
    "    data.loc[(data['income_type'] == d), 'days_employed'].median()\n",
    "    # и записываем в них среднее значение days_employed среди строк с текущим типом занятости (d)"
   ]
  },
  {
   "cell_type": "markdown",
   "id": "2753f40d",
   "metadata": {
    "deletable": false,
    "editable": false,
    "id": "2753f40d",
    "tags": [
     "start_task"
    ]
   },
   "source": [
    "**Задание 12. Убедитесь, что все пропуски заполнены. Проверьте себя и ещё раз выведите количество пропущенных значений для каждого столбца с помощью двух методов.**"
   ]
  },
  {
   "cell_type": "code",
   "execution_count": 14,
   "id": "55f78bc2",
   "metadata": {
    "id": "55f78bc2"
   },
   "outputs": [
    {
     "name": "stdout",
     "output_type": "stream",
     "text": [
      "0\n"
     ]
    }
   ],
   "source": [
    "# ваш код здесь\n",
    "print(data['days_employed'].isna().sum())"
   ]
  },
  {
   "cell_type": "markdown",
   "id": "ddc81e43",
   "metadata": {
    "deletable": false,
    "editable": false,
    "id": "ddc81e43"
   },
   "source": [
    "### Изменение типов данных"
   ]
  },
  {
   "cell_type": "markdown",
   "id": "42d19d24",
   "metadata": {
    "deletable": false,
    "editable": false,
    "id": "42d19d24",
    "tags": [
     "start_task"
    ]
   },
   "source": [
    "**Задание 13. Замените вещественный тип данных в столбце `total_income` на целочисленный с помощью метода `astype()`.**"
   ]
  },
  {
   "cell_type": "code",
   "execution_count": 15,
   "id": "920b65ad",
   "metadata": {
    "id": "920b65ad"
   },
   "outputs": [],
   "source": [
    "# ваш код здесь\n",
    "data['total_income'] = data['total_income'].astype(int)"
   ]
  },
  {
   "cell_type": "markdown",
   "id": "80c420ba",
   "metadata": {
    "deletable": false,
    "editable": false,
    "id": "80c420ba"
   },
   "source": [
    "### Обработка дубликатов"
   ]
  },
  {
   "cell_type": "markdown",
   "id": "dc587695",
   "metadata": {
    "deletable": false,
    "editable": false,
    "id": "dc587695",
    "tags": [
     "start_task"
    ]
   },
   "source": [
    "**Задание 14. Выведите на экран количество строк-дубликатов в данных. Если такие строки присутствуют, удалите их.**"
   ]
  },
  {
   "cell_type": "code",
   "execution_count": 24,
   "id": "3ee445e4",
   "metadata": {
    "id": "3ee445e4"
   },
   "outputs": [],
   "source": [
    "# посчитайте дубликаты\n",
    "data['education']=data['education'].str.lower()"
   ]
  },
  {
   "cell_type": "code",
   "execution_count": 17,
   "id": "8575fe05",
   "metadata": {
    "id": "8575fe05"
   },
   "outputs": [],
   "source": [
    "# удалите дубликаты\n",
    "data = data.drop_duplicates()"
   ]
  },
  {
   "cell_type": "markdown",
   "id": "9771a76c",
   "metadata": {
    "deletable": false,
    "editable": false,
    "id": "9771a76c",
    "tags": [
     "start_task"
    ]
   },
   "source": [
    "**Задание 15. Обработайте неявные дубликаты в столбце `education`. В этом столбце есть одни и те же значения, но записанные по-разному: с использованием заглавных и строчных букв. Приведите их к нижнему регистру.**"
   ]
  },
  {
   "cell_type": "code",
   "execution_count": 25,
   "id": "a9f8e2bf",
   "metadata": {
    "id": "a9f8e2bf"
   },
   "outputs": [
    {
     "data": {
      "text/plain": [
       "0"
      ]
     },
     "execution_count": 25,
     "metadata": {},
     "output_type": "execute_result"
    }
   ],
   "source": [
    "# ваш код здесь\n",
    "data.duplicated().sum()"
   ]
  },
  {
   "cell_type": "markdown",
   "id": "9904cf55",
   "metadata": {
    "deletable": false,
    "editable": false,
    "id": "9904cf55"
   },
   "source": [
    "### Категоризация данных"
   ]
  },
  {
   "cell_type": "markdown",
   "id": "72fcc8a2",
   "metadata": {
    "deletable": false,
    "editable": false,
    "id": "72fcc8a2",
    "tags": [
     "start_task"
    ]
   },
   "source": [
    "**Задание 16. На основании диапазонов, указанных ниже, создайте в датафрейме `data` столбец `total_income_category` с категориями:**\n",
    "\n",
    "- 0–30000 — `'E'`;\n",
    "- 30001–50000 — `'D'`;\n",
    "- 50001–200000 — `'C'`;\n",
    "- 200001–1000000 — `'B'`;\n",
    "- 1000001 и выше — `'A'`.\n",
    "\n",
    "\n",
    "**Например, кредитополучателю с доходом 25000 нужно назначить категорию `'E'`, а клиенту, получающему 235000, — `'B'`. Используйте собственную функцию с именем `categorize_income()` и метод `apply()`.**"
   ]
  },
  {
   "cell_type": "code",
   "execution_count": 42,
   "id": "e1771346",
   "metadata": {
    "id": "e1771346"
   },
   "outputs": [],
   "source": [
    "# создайте функцию categorize_income()\n",
    "def categorize_income(total_income):\n",
    "    if total_income <= 30000:\n",
    "        return 'E'\n",
    "    if (total_income > 30000) & (total_income <=50000):\n",
    "        return 'D'\n",
    "    if (total_income > 50000) & (total_income <=200000):\n",
    "        return 'C'\n",
    "    if (total_income > 200000) & (total_income <=1000000):\n",
    "        return 'B'\n",
    "    if total_income > 1000000:\n",
    "        return 'A'"
   ]
  },
  {
   "cell_type": "code",
   "execution_count": 43,
   "id": "d5f3586d",
   "metadata": {
    "id": "d5f3586d"
   },
   "outputs": [],
   "source": [
    "# примените функцию методом apply()\n",
    "data['total_income_category'] = data['total_income'].apply(categorize_income)"
   ]
  },
  {
   "cell_type": "markdown",
   "id": "dde49b5c",
   "metadata": {
    "deletable": false,
    "editable": false,
    "id": "dde49b5c",
    "tags": [
     "start_task"
    ]
   },
   "source": [
    "**Задание 17. Выведите на экран перечень уникальных целей взятия кредита из столбца `purpose`.**"
   ]
  },
  {
   "cell_type": "code",
   "execution_count": 44,
   "id": "f67ce9b3",
   "metadata": {
    "id": "f67ce9b3"
   },
   "outputs": [
    {
     "data": {
      "text/plain": [
       "array(['покупка жилья', 'приобретение автомобиля',\n",
       "       'дополнительное образование', 'сыграть свадьбу',\n",
       "       'операции с жильем', 'образование', 'на проведение свадьбы',\n",
       "       'покупка жилья для семьи', 'покупка недвижимости',\n",
       "       'покупка коммерческой недвижимости', 'покупка жилой недвижимости',\n",
       "       'строительство собственной недвижимости', 'недвижимость',\n",
       "       'строительство недвижимости', 'на покупку подержанного автомобиля',\n",
       "       'на покупку своего автомобиля',\n",
       "       'операции с коммерческой недвижимостью',\n",
       "       'строительство жилой недвижимости', 'жилье',\n",
       "       'операции со своей недвижимостью', 'автомобили',\n",
       "       'заняться образованием', 'сделка с подержанным автомобилем',\n",
       "       'получение образования', 'автомобиль', 'свадьба',\n",
       "       'получение дополнительного образования', 'покупка своего жилья',\n",
       "       'операции с недвижимостью', 'получение высшего образования',\n",
       "       'свой автомобиль', 'сделка с автомобилем',\n",
       "       'профильное образование', 'высшее образование',\n",
       "       'покупка жилья для сдачи', 'на покупку автомобиля', 'ремонт жилью',\n",
       "       'заняться высшим образованием'], dtype=object)"
      ]
     },
     "execution_count": 44,
     "metadata": {},
     "output_type": "execute_result"
    }
   ],
   "source": [
    "# ваш код здесь\n",
    "data['purpose'].unique()"
   ]
  },
  {
   "cell_type": "markdown",
   "id": "85d0aef0",
   "metadata": {
    "deletable": false,
    "editable": false,
    "id": "85d0aef0",
    "tags": [
     "start_task"
    ]
   },
   "source": [
    "**Задание 18. Создайте функцию, которая на основании данных из столбца `purpose` сформирует новый столбец `purpose_category`, в который войдут следующие категории:**\n",
    "\n",
    "- `'операции с автомобилем'`,\n",
    "- `'операции с недвижимостью'`,\n",
    "- `'проведение свадьбы'`,\n",
    "- `'получение образования'`.\n",
    "\n",
    "**Например, если в столбце `purpose` находится подстрока `'на покупку автомобиля'`, то в столбце `purpose_category` должна появиться строка `'операции с автомобилем'`.**\n",
    "\n",
    "**Используйте собственную функцию с именем `categorize_purpose()` и метод `apply()`. Изучите данные в столбце `purpose` и определите, какие подстроки помогут вам правильно определить категорию.**"
   ]
  },
  {
   "cell_type": "code",
   "execution_count": 50,
   "id": "e149fab4",
   "metadata": {
    "id": "e149fab4"
   },
   "outputs": [],
   "source": [
    "# создайте функцию categorize_purpose()\n",
    "def categorize_purpose(purpose):\n",
    "    if ('жиль' in purpose) or ('недвижимост' in purpose):\n",
    "        return 'операции с недвижимостью'\n",
    "    if ('автомобил' in purpose):\n",
    "        return 'операции с автомобилем'\n",
    "    if ('образован' in purpose):\n",
    "        return 'получение образования'\n",
    "    if ('свад' in purpose):\n",
    "        return 'проведение свадьбы'"
   ]
  },
  {
   "cell_type": "code",
   "execution_count": 52,
   "id": "bf36e69b",
   "metadata": {
    "id": "bf36e69b"
   },
   "outputs": [],
   "source": [
    "# примените функцию методом apply()\n",
    "data['purpose_category'] = data['purpose'].apply(categorize_purpose)"
   ]
  },
  {
   "cell_type": "code",
   "execution_count": null,
   "id": "cd38b305",
   "metadata": {},
   "outputs": [],
   "source": []
  },
  {
   "cell_type": "code",
   "execution_count": null,
   "id": "cc76eed1",
   "metadata": {},
   "outputs": [],
   "source": []
  }
 ],
 "metadata": {
  "ExecuteTimeLog": [
   {
    "duration": 441,
    "start_time": "2022-11-03T05:57:43.286Z"
   },
   {
    "duration": 296,
    "start_time": "2022-11-03T05:58:10.896Z"
   },
   {
    "duration": 20,
    "start_time": "2022-11-03T05:58:31.217Z"
   },
   {
    "duration": 15,
    "start_time": "2022-11-03T05:59:17.883Z"
   },
   {
    "duration": 46,
    "start_time": "2022-11-03T06:06:25.481Z"
   },
   {
    "duration": 19,
    "start_time": "2022-11-03T06:07:40.906Z"
   },
   {
    "duration": 8,
    "start_time": "2022-11-03T06:07:59.664Z"
   },
   {
    "duration": 4,
    "start_time": "2022-11-03T06:11:42.898Z"
   },
   {
    "duration": 7,
    "start_time": "2022-11-03T06:16:46.715Z"
   },
   {
    "duration": 8,
    "start_time": "2022-11-03T06:18:25.194Z"
   },
   {
    "duration": 25,
    "start_time": "2022-11-03T06:18:46.470Z"
   },
   {
    "duration": 15,
    "start_time": "2022-11-03T06:19:12.915Z"
   },
   {
    "duration": 11,
    "start_time": "2022-11-03T06:51:12.349Z"
   },
   {
    "duration": 36,
    "start_time": "2022-11-03T06:58:18.231Z"
   },
   {
    "duration": 3,
    "start_time": "2022-11-03T07:05:51.311Z"
   },
   {
    "duration": 38,
    "start_time": "2022-11-03T07:06:39.440Z"
   },
   {
    "duration": 8,
    "start_time": "2022-11-03T07:08:00.659Z"
   },
   {
    "duration": 6,
    "start_time": "2022-11-03T07:09:00.752Z"
   },
   {
    "duration": 5,
    "start_time": "2022-11-03T07:20:14.085Z"
   },
   {
    "duration": 75,
    "start_time": "2022-11-03T07:20:58.774Z"
   },
   {
    "duration": 12,
    "start_time": "2022-11-03T07:21:25.090Z"
   },
   {
    "duration": 9,
    "start_time": "2022-11-03T07:21:48.016Z"
   },
   {
    "duration": 9,
    "start_time": "2022-11-03T07:22:25.513Z"
   },
   {
    "duration": 12,
    "start_time": "2022-11-03T07:22:58.123Z"
   },
   {
    "duration": 13,
    "start_time": "2022-11-03T07:23:21.145Z"
   },
   {
    "duration": 12,
    "start_time": "2022-11-03T07:23:29.521Z"
   },
   {
    "duration": 11,
    "start_time": "2022-11-03T08:27:49.960Z"
   },
   {
    "duration": 4,
    "start_time": "2022-11-03T08:28:20.346Z"
   },
   {
    "duration": 36,
    "start_time": "2022-11-03T08:30:01.267Z"
   },
   {
    "duration": 30,
    "start_time": "2022-11-03T08:30:37.045Z"
   },
   {
    "duration": 4,
    "start_time": "2022-11-03T08:30:56.942Z"
   },
   {
    "duration": 3,
    "start_time": "2022-11-03T08:32:31.885Z"
   },
   {
    "duration": 8,
    "start_time": "2022-11-03T08:33:38.482Z"
   },
   {
    "duration": 21,
    "start_time": "2022-11-03T08:35:01.757Z"
   },
   {
    "duration": 16,
    "start_time": "2022-11-03T08:35:11.100Z"
   },
   {
    "duration": 11,
    "start_time": "2022-11-03T08:36:04.876Z"
   },
   {
    "duration": 34,
    "start_time": "2022-11-03T08:36:09.237Z"
   },
   {
    "duration": 17,
    "start_time": "2022-11-03T08:36:58.975Z"
   },
   {
    "duration": 7,
    "start_time": "2022-11-03T08:38:53.471Z"
   },
   {
    "duration": 14,
    "start_time": "2022-11-03T08:39:57.850Z"
   },
   {
    "duration": 2,
    "start_time": "2022-11-03T08:45:26.584Z"
   },
   {
    "duration": 70,
    "start_time": "2022-11-03T08:45:26.588Z"
   },
   {
    "duration": 16,
    "start_time": "2022-11-03T08:45:26.660Z"
   },
   {
    "duration": 16,
    "start_time": "2022-11-03T08:45:26.678Z"
   },
   {
    "duration": 19,
    "start_time": "2022-11-03T08:45:26.696Z"
   },
   {
    "duration": 32,
    "start_time": "2022-11-03T08:45:26.717Z"
   },
   {
    "duration": 3,
    "start_time": "2022-11-03T08:45:26.751Z"
   },
   {
    "duration": 12,
    "start_time": "2022-11-03T08:45:26.756Z"
   },
   {
    "duration": 4,
    "start_time": "2022-11-03T08:45:26.769Z"
   },
   {
    "duration": 38,
    "start_time": "2022-11-03T08:45:26.775Z"
   },
   {
    "duration": 4,
    "start_time": "2022-11-03T08:45:26.816Z"
   },
   {
    "duration": 31,
    "start_time": "2022-11-03T08:45:26.822Z"
   },
   {
    "duration": 4,
    "start_time": "2022-11-03T08:45:26.855Z"
   },
   {
    "duration": 5,
    "start_time": "2022-11-03T08:45:26.860Z"
   },
   {
    "duration": 43,
    "start_time": "2022-11-03T08:45:26.867Z"
   },
   {
    "duration": 17,
    "start_time": "2022-11-03T08:45:26.912Z"
   },
   {
    "duration": 14,
    "start_time": "2022-11-03T08:45:26.931Z"
   },
   {
    "duration": 5,
    "start_time": "2022-11-03T08:45:26.947Z"
   },
   {
    "duration": 5,
    "start_time": "2022-11-03T08:45:26.954Z"
   },
   {
    "duration": 7,
    "start_time": "2022-11-03T08:45:26.960Z"
   },
   {
    "duration": 6,
    "start_time": "2022-11-03T08:45:26.968Z"
   },
   {
    "duration": 12,
    "start_time": "2022-11-03T08:45:26.976Z"
   },
   {
    "duration": 12,
    "start_time": "2022-11-03T08:46:49.865Z"
   },
   {
    "duration": 18,
    "start_time": "2022-11-03T08:46:53.983Z"
   },
   {
    "duration": 17,
    "start_time": "2022-11-03T08:47:23.689Z"
   },
   {
    "duration": 17,
    "start_time": "2022-11-03T08:47:44.700Z"
   },
   {
    "duration": 18,
    "start_time": "2022-11-03T08:48:58.905Z"
   },
   {
    "duration": 16,
    "start_time": "2022-11-03T08:49:14.678Z"
   },
   {
    "duration": 3,
    "start_time": "2022-11-03T08:49:32.378Z"
   },
   {
    "duration": 7,
    "start_time": "2022-11-03T08:49:34.726Z"
   },
   {
    "duration": 6,
    "start_time": "2022-11-03T08:49:49.342Z"
   },
   {
    "duration": 6,
    "start_time": "2022-11-03T08:49:52.638Z"
   },
   {
    "duration": 3,
    "start_time": "2022-11-03T08:49:54.878Z"
   },
   {
    "duration": 74,
    "start_time": "2022-11-03T08:49:54.883Z"
   },
   {
    "duration": 15,
    "start_time": "2022-11-03T08:49:54.959Z"
   },
   {
    "duration": 14,
    "start_time": "2022-11-03T08:49:54.976Z"
   },
   {
    "duration": 18,
    "start_time": "2022-11-03T08:49:54.991Z"
   },
   {
    "duration": 30,
    "start_time": "2022-11-03T08:49:55.011Z"
   },
   {
    "duration": 3,
    "start_time": "2022-11-03T08:49:55.043Z"
   },
   {
    "duration": 11,
    "start_time": "2022-11-03T08:49:55.047Z"
   },
   {
    "duration": 5,
    "start_time": "2022-11-03T08:49:55.061Z"
   },
   {
    "duration": 10,
    "start_time": "2022-11-03T08:49:55.067Z"
   },
   {
    "duration": 4,
    "start_time": "2022-11-03T08:49:55.078Z"
   },
   {
    "duration": 54,
    "start_time": "2022-11-03T08:49:55.083Z"
   },
   {
    "duration": 3,
    "start_time": "2022-11-03T08:49:55.139Z"
   },
   {
    "duration": 4,
    "start_time": "2022-11-03T08:49:55.144Z"
   },
   {
    "duration": 18,
    "start_time": "2022-11-03T08:49:55.149Z"
   },
   {
    "duration": 41,
    "start_time": "2022-11-03T08:49:55.168Z"
   },
   {
    "duration": 17,
    "start_time": "2022-11-03T08:49:55.210Z"
   },
   {
    "duration": 4,
    "start_time": "2022-11-03T08:49:55.228Z"
   },
   {
    "duration": 9,
    "start_time": "2022-11-03T08:49:55.233Z"
   },
   {
    "duration": 5,
    "start_time": "2022-11-03T08:49:55.243Z"
   },
   {
    "duration": 5,
    "start_time": "2022-11-03T08:49:55.249Z"
   },
   {
    "duration": 15,
    "start_time": "2022-11-03T08:49:55.256Z"
   },
   {
    "duration": 17,
    "start_time": "2022-11-03T08:50:03.667Z"
   },
   {
    "duration": 42,
    "start_time": "2022-11-03T08:51:09.699Z"
   },
   {
    "duration": 12,
    "start_time": "2022-11-03T08:52:38.098Z"
   },
   {
    "duration": 20,
    "start_time": "2022-11-03T08:52:39.106Z"
   },
   {
    "duration": 18,
    "start_time": "2022-11-03T08:52:40.743Z"
   },
   {
    "duration": 2,
    "start_time": "2022-11-03T08:55:33.097Z"
   },
   {
    "duration": 73,
    "start_time": "2022-11-03T08:55:33.101Z"
   },
   {
    "duration": 18,
    "start_time": "2022-11-03T08:55:33.175Z"
   },
   {
    "duration": 17,
    "start_time": "2022-11-03T08:55:33.195Z"
   },
   {
    "duration": 10,
    "start_time": "2022-11-03T08:55:33.215Z"
   },
   {
    "duration": 39,
    "start_time": "2022-11-03T08:55:33.226Z"
   },
   {
    "duration": 4,
    "start_time": "2022-11-03T08:55:33.267Z"
   },
   {
    "duration": 37,
    "start_time": "2022-11-03T08:55:33.272Z"
   },
   {
    "duration": 4,
    "start_time": "2022-11-03T08:55:33.311Z"
   },
   {
    "duration": 12,
    "start_time": "2022-11-03T08:55:33.316Z"
   },
   {
    "duration": 14,
    "start_time": "2022-11-03T08:55:33.330Z"
   },
   {
    "duration": 35,
    "start_time": "2022-11-03T08:55:33.346Z"
   },
   {
    "duration": 3,
    "start_time": "2022-11-03T08:55:33.383Z"
   },
   {
    "duration": 5,
    "start_time": "2022-11-03T08:55:33.388Z"
   },
   {
    "duration": 28,
    "start_time": "2022-11-03T08:55:33.394Z"
   },
   {
    "duration": 19,
    "start_time": "2022-11-03T08:55:33.424Z"
   },
   {
    "duration": 17,
    "start_time": "2022-11-03T08:55:33.444Z"
   },
   {
    "duration": 2,
    "start_time": "2022-11-03T08:55:33.462Z"
   },
   {
    "duration": 4,
    "start_time": "2022-11-03T08:55:33.466Z"
   },
   {
    "duration": 6,
    "start_time": "2022-11-03T08:55:33.471Z"
   },
   {
    "duration": 4,
    "start_time": "2022-11-03T08:55:33.478Z"
   },
   {
    "duration": 3,
    "start_time": "2022-11-03T08:55:33.509Z"
   },
   {
    "duration": 18,
    "start_time": "2022-11-03T09:03:53.832Z"
   },
   {
    "duration": 17,
    "start_time": "2022-11-03T09:03:54.829Z"
   },
   {
    "duration": 22,
    "start_time": "2022-11-03T09:03:56.501Z"
   },
   {
    "duration": 51,
    "start_time": "2022-11-03T09:10:44.988Z"
   },
   {
    "duration": 434,
    "start_time": "2022-11-03T09:10:59.615Z"
   },
   {
    "duration": 73,
    "start_time": "2022-11-03T09:11:00.051Z"
   },
   {
    "duration": 21,
    "start_time": "2022-11-03T09:11:00.126Z"
   },
   {
    "duration": 14,
    "start_time": "2022-11-03T09:11:00.148Z"
   },
   {
    "duration": 9,
    "start_time": "2022-11-03T09:11:00.165Z"
   },
   {
    "duration": 61,
    "start_time": "2022-11-03T09:11:00.175Z"
   },
   {
    "duration": 3,
    "start_time": "2022-11-03T09:11:00.238Z"
   },
   {
    "duration": 27,
    "start_time": "2022-11-03T09:11:00.242Z"
   },
   {
    "duration": 12,
    "start_time": "2022-11-03T09:11:00.271Z"
   },
   {
    "duration": 34,
    "start_time": "2022-11-03T09:11:00.284Z"
   },
   {
    "duration": 7,
    "start_time": "2022-11-03T09:11:00.319Z"
   },
   {
    "duration": 51,
    "start_time": "2022-11-03T09:11:00.327Z"
   },
   {
    "duration": 4,
    "start_time": "2022-11-03T09:11:00.379Z"
   },
   {
    "duration": 26,
    "start_time": "2022-11-03T09:11:00.385Z"
   },
   {
    "duration": 38,
    "start_time": "2022-11-03T09:11:00.412Z"
   },
   {
    "duration": 59,
    "start_time": "2022-11-03T09:11:00.451Z"
   },
   {
    "duration": 36,
    "start_time": "2022-11-03T09:11:00.511Z"
   },
   {
    "duration": 8,
    "start_time": "2022-11-03T09:11:00.549Z"
   },
   {
    "duration": 14,
    "start_time": "2022-11-03T09:11:00.559Z"
   },
   {
    "duration": 10,
    "start_time": "2022-11-03T09:11:00.575Z"
   },
   {
    "duration": 14,
    "start_time": "2022-11-03T09:11:00.587Z"
   },
   {
    "duration": 17,
    "start_time": "2022-11-03T09:11:00.603Z"
   },
   {
    "duration": 11,
    "start_time": "2022-11-03T09:11:11.987Z"
   },
   {
    "duration": 20,
    "start_time": "2022-11-03T09:11:34.351Z"
   },
   {
    "duration": 4,
    "start_time": "2022-11-03T09:24:59.630Z"
   },
   {
    "duration": 1098,
    "start_time": "2022-11-03T09:25:00.958Z"
   },
   {
    "duration": 853,
    "start_time": "2022-11-03T09:25:09.034Z"
   },
   {
    "duration": 4,
    "start_time": "2022-11-03T09:29:10.731Z"
   },
   {
    "duration": 13,
    "start_time": "2022-11-03T09:29:14.026Z"
   },
   {
    "duration": 902,
    "start_time": "2022-11-03T09:30:18.519Z"
   },
   {
    "duration": 3,
    "start_time": "2022-11-03T09:30:50.414Z"
   },
   {
    "duration": 555,
    "start_time": "2022-11-03T09:30:58.144Z"
   },
   {
    "duration": 931,
    "start_time": "2022-11-03T09:31:59.374Z"
   },
   {
    "duration": 793,
    "start_time": "2022-11-03T09:32:22.150Z"
   },
   {
    "duration": 1104,
    "start_time": "2022-11-03T09:34:02.930Z"
   },
   {
    "duration": 940,
    "start_time": "2022-11-03T09:34:15.422Z"
   },
   {
    "duration": 864,
    "start_time": "2022-11-03T09:35:09.625Z"
   },
   {
    "duration": 4,
    "start_time": "2022-11-03T09:37:12.861Z"
   },
   {
    "duration": 1003,
    "start_time": "2022-11-03T09:37:17.913Z"
   },
   {
    "duration": 5,
    "start_time": "2022-11-03T09:37:45.692Z"
   },
   {
    "duration": 4,
    "start_time": "2022-11-03T09:37:57.154Z"
   },
   {
    "duration": 9,
    "start_time": "2022-11-03T09:38:51.525Z"
   },
   {
    "duration": 6,
    "start_time": "2022-11-03T09:40:10.582Z"
   },
   {
    "duration": 4,
    "start_time": "2022-11-03T10:18:44.100Z"
   },
   {
    "duration": 3,
    "start_time": "2022-11-03T10:18:54.268Z"
   },
   {
    "duration": 10,
    "start_time": "2022-11-03T10:18:56.134Z"
   },
   {
    "duration": 28,
    "start_time": "2022-11-03T10:19:35.540Z"
   },
   {
    "duration": 3,
    "start_time": "2022-11-03T10:23:38.440Z"
   },
   {
    "duration": 27,
    "start_time": "2022-11-03T10:23:42.167Z"
   },
   {
    "duration": 9,
    "start_time": "2022-11-03T10:23:52.210Z"
   }
  ],
  "colab": {
   "provenance": []
  },
  "kernelspec": {
   "display_name": "Python 3 (ipykernel)",
   "language": "python",
   "name": "python3"
  },
  "language_info": {
   "codemirror_mode": {
    "name": "ipython",
    "version": 3
   },
   "file_extension": ".py",
   "mimetype": "text/x-python",
   "name": "python",
   "nbconvert_exporter": "python",
   "pygments_lexer": "ipython3",
   "version": "3.9.5"
  },
  "toc": {
   "base_numbering": 1,
   "nav_menu": {},
   "number_sections": true,
   "sideBar": true,
   "skip_h1_title": true,
   "title_cell": "Table of Contents",
   "title_sidebar": "Contents",
   "toc_cell": false,
   "toc_position": {},
   "toc_section_display": true,
   "toc_window_display": false
  }
 },
 "nbformat": 4,
 "nbformat_minor": 5
}
