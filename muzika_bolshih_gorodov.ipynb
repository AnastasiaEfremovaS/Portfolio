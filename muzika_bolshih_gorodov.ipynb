{
 "cells": [
  {
   "cell_type": "markdown",
   "metadata": {
    "deletable": false,
    "editable": false,
    "id": "E0vqbgi9ay0H"
   },
   "source": [
    "# Яндекс Музыка"
   ]
  },
  {
   "cell_type": "markdown",
   "metadata": {
    "deletable": false,
    "editable": false,
    "id": "VUC88oWjTJw2"
   },
   "source": [
    "Сравнение Москвы и Петербурга окружено мифами. Например:\n",
    " * Москва — мегаполис, подчинённый жёсткому ритму рабочей недели;\n",
    " * Петербург — культурная столица, со своими вкусами.\n",
    "\n",
    "На данных Яндекс Музыки вы сравните поведение пользователей двух столиц.\n",
    "\n",
    "**Цель исследования** — проверьте три гипотезы:\n",
    "1. Активность пользователей зависит от дня недели. Причём в Москве и Петербурге это проявляется по-разному.\n",
    "2. В понедельник утром в Москве преобладают одни жанры, а в Петербурге — другие. Так же и вечером пятницы преобладают разные жанры — в зависимости от города. \n",
    "3. Москва и Петербург предпочитают разные жанры музыки. В Москве чаще слушают поп-музыку, в Петербурге — русский рэп.\n",
    "\n",
    "**Ход исследования**\n",
    "\n",
    "Данные о поведении пользователей вы получите из файла `yandex_music_project.csv`. О качестве данных ничего не известно. Поэтому перед проверкой гипотез понадобится обзор данных. \n",
    "\n",
    "Вы проверите данные на ошибки и оцените их влияние на исследование. Затем, на этапе предобработки вы поищете возможность исправить самые критичные ошибки данных.\n",
    " \n",
    "Таким образом, исследование пройдёт в три этапа:\n",
    " 1. Обзор данных.\n",
    " 2. Предобработка данных.\n",
    " 3. Проверка гипотез.\n",
    "\n"
   ]
  },
  {
   "cell_type": "markdown",
   "metadata": {
    "deletable": false,
    "editable": false,
    "id": "Ml1hmfXC_Zcs"
   },
   "source": [
    "## Обзор данных\n",
    "\n",
    "Составьте первое представление о данных Яндекс Музыки.\n",
    "\n",
    "\n"
   ]
  },
  {
   "cell_type": "markdown",
   "metadata": {
    "deletable": false,
    "editable": false,
    "id": "57eAOGIz_Zcs",
    "tags": [
     "start_task"
    ]
   },
   "source": [
    "**Задание 1**\n",
    "\n",
    "Основной инструмент аналитика — `pandas`. Импортируйте эту библиотеку."
   ]
  },
  {
   "cell_type": "code",
   "execution_count": 1,
   "metadata": {
    "deletable": false,
    "id": "AXN7PHPN_Zcs"
   },
   "outputs": [],
   "source": [
    "# импорт библиотеки pandas\n",
    "import pandas as pd"
   ]
  },
  {
   "cell_type": "markdown",
   "metadata": {
    "deletable": false,
    "editable": false,
    "id": "SG23P8tt_Zcs",
    "tags": [
     "start_task"
    ]
   },
   "source": [
    "**Задание 2**\n",
    "\n",
    "Прочитайте файл `yandex_music_project.csv` из папки `/datasets` и сохраните его в переменной `df`:"
   ]
  },
  {
   "cell_type": "code",
   "execution_count": 2,
   "metadata": {
    "deletable": false,
    "id": "fFVu7vqh_Zct"
   },
   "outputs": [],
   "source": [
    "# чтение файла с данными и сохранение в df\n",
    "df = pd.read_csv('/datasets/yandex_music_project.csv')"
   ]
  },
  {
   "cell_type": "markdown",
   "metadata": {
    "deletable": false,
    "editable": false,
    "id": "rDoOMd3uTqnZ",
    "tags": [
     "start_task"
    ]
   },
   "source": [
    "**Задание 3**\n",
    "\n",
    "\n",
    "Выведите на экран первые десять строк таблицы:"
   ]
  },
  {
   "cell_type": "code",
   "execution_count": 3,
   "metadata": {
    "deletable": false,
    "id": "oWTVX3gW_Zct"
   },
   "outputs": [
    {
     "data": {
      "text/html": [
       "<div>\n",
       "<style scoped>\n",
       "    .dataframe tbody tr th:only-of-type {\n",
       "        vertical-align: middle;\n",
       "    }\n",
       "\n",
       "    .dataframe tbody tr th {\n",
       "        vertical-align: top;\n",
       "    }\n",
       "\n",
       "    .dataframe thead th {\n",
       "        text-align: right;\n",
       "    }\n",
       "</style>\n",
       "<table border=\"1\" class=\"dataframe\">\n",
       "  <thead>\n",
       "    <tr style=\"text-align: right;\">\n",
       "      <th></th>\n",
       "      <th>userID</th>\n",
       "      <th>Track</th>\n",
       "      <th>artist</th>\n",
       "      <th>genre</th>\n",
       "      <th>City</th>\n",
       "      <th>time</th>\n",
       "      <th>Day</th>\n",
       "    </tr>\n",
       "  </thead>\n",
       "  <tbody>\n",
       "    <tr>\n",
       "      <th>0</th>\n",
       "      <td>FFB692EC</td>\n",
       "      <td>Kamigata To Boots</td>\n",
       "      <td>The Mass Missile</td>\n",
       "      <td>rock</td>\n",
       "      <td>Saint-Petersburg</td>\n",
       "      <td>20:28:33</td>\n",
       "      <td>Wednesday</td>\n",
       "    </tr>\n",
       "    <tr>\n",
       "      <th>1</th>\n",
       "      <td>55204538</td>\n",
       "      <td>Delayed Because of Accident</td>\n",
       "      <td>Andreas Rönnberg</td>\n",
       "      <td>rock</td>\n",
       "      <td>Moscow</td>\n",
       "      <td>14:07:09</td>\n",
       "      <td>Friday</td>\n",
       "    </tr>\n",
       "    <tr>\n",
       "      <th>2</th>\n",
       "      <td>20EC38</td>\n",
       "      <td>Funiculì funiculà</td>\n",
       "      <td>Mario Lanza</td>\n",
       "      <td>pop</td>\n",
       "      <td>Saint-Petersburg</td>\n",
       "      <td>20:58:07</td>\n",
       "      <td>Wednesday</td>\n",
       "    </tr>\n",
       "    <tr>\n",
       "      <th>3</th>\n",
       "      <td>A3DD03C9</td>\n",
       "      <td>Dragons in the Sunset</td>\n",
       "      <td>Fire + Ice</td>\n",
       "      <td>folk</td>\n",
       "      <td>Saint-Petersburg</td>\n",
       "      <td>08:37:09</td>\n",
       "      <td>Monday</td>\n",
       "    </tr>\n",
       "    <tr>\n",
       "      <th>4</th>\n",
       "      <td>E2DC1FAE</td>\n",
       "      <td>Soul People</td>\n",
       "      <td>Space Echo</td>\n",
       "      <td>dance</td>\n",
       "      <td>Moscow</td>\n",
       "      <td>08:34:34</td>\n",
       "      <td>Monday</td>\n",
       "    </tr>\n",
       "    <tr>\n",
       "      <th>5</th>\n",
       "      <td>842029A1</td>\n",
       "      <td>Преданная</td>\n",
       "      <td>IMPERVTOR</td>\n",
       "      <td>rusrap</td>\n",
       "      <td>Saint-Petersburg</td>\n",
       "      <td>13:09:41</td>\n",
       "      <td>Friday</td>\n",
       "    </tr>\n",
       "    <tr>\n",
       "      <th>6</th>\n",
       "      <td>4CB90AA5</td>\n",
       "      <td>True</td>\n",
       "      <td>Roman Messer</td>\n",
       "      <td>dance</td>\n",
       "      <td>Moscow</td>\n",
       "      <td>13:00:07</td>\n",
       "      <td>Wednesday</td>\n",
       "    </tr>\n",
       "    <tr>\n",
       "      <th>7</th>\n",
       "      <td>F03E1C1F</td>\n",
       "      <td>Feeling This Way</td>\n",
       "      <td>Polina Griffith</td>\n",
       "      <td>dance</td>\n",
       "      <td>Moscow</td>\n",
       "      <td>20:47:49</td>\n",
       "      <td>Wednesday</td>\n",
       "    </tr>\n",
       "    <tr>\n",
       "      <th>8</th>\n",
       "      <td>8FA1D3BE</td>\n",
       "      <td>И вновь продолжается бой</td>\n",
       "      <td>NaN</td>\n",
       "      <td>ruspop</td>\n",
       "      <td>Moscow</td>\n",
       "      <td>09:17:40</td>\n",
       "      <td>Friday</td>\n",
       "    </tr>\n",
       "    <tr>\n",
       "      <th>9</th>\n",
       "      <td>E772D5C0</td>\n",
       "      <td>Pessimist</td>\n",
       "      <td>NaN</td>\n",
       "      <td>dance</td>\n",
       "      <td>Saint-Petersburg</td>\n",
       "      <td>21:20:49</td>\n",
       "      <td>Wednesday</td>\n",
       "    </tr>\n",
       "  </tbody>\n",
       "</table>\n",
       "</div>"
      ],
      "text/plain": [
       "     userID                        Track            artist   genre  \\\n",
       "0  FFB692EC            Kamigata To Boots  The Mass Missile    rock   \n",
       "1  55204538  Delayed Because of Accident  Andreas Rönnberg    rock   \n",
       "2    20EC38            Funiculì funiculà       Mario Lanza     pop   \n",
       "3  A3DD03C9        Dragons in the Sunset        Fire + Ice    folk   \n",
       "4  E2DC1FAE                  Soul People        Space Echo   dance   \n",
       "5  842029A1                    Преданная         IMPERVTOR  rusrap   \n",
       "6  4CB90AA5                         True      Roman Messer   dance   \n",
       "7  F03E1C1F             Feeling This Way   Polina Griffith   dance   \n",
       "8  8FA1D3BE     И вновь продолжается бой               NaN  ruspop   \n",
       "9  E772D5C0                    Pessimist               NaN   dance   \n",
       "\n",
       "             City        time        Day  \n",
       "0  Saint-Petersburg  20:28:33  Wednesday  \n",
       "1            Moscow  14:07:09     Friday  \n",
       "2  Saint-Petersburg  20:58:07  Wednesday  \n",
       "3  Saint-Petersburg  08:37:09     Monday  \n",
       "4            Moscow  08:34:34     Monday  \n",
       "5  Saint-Petersburg  13:09:41     Friday  \n",
       "6            Moscow  13:00:07  Wednesday  \n",
       "7            Moscow  20:47:49  Wednesday  \n",
       "8            Moscow  09:17:40     Friday  \n",
       "9  Saint-Petersburg  21:20:49  Wednesday  "
      ]
     },
     "execution_count": 3,
     "metadata": {},
     "output_type": "execute_result"
    }
   ],
   "source": [
    "# получение первых 10 строк таблицы df\n",
    "df.head(10)"
   ]
  },
  {
   "cell_type": "markdown",
   "metadata": {
    "deletable": false,
    "editable": false,
    "id": "EO73Kwic_Zct",
    "tags": [
     "start_task"
    ]
   },
   "source": [
    "**Задание 4**\n",
    "\n",
    "\n",
    "Одной командой получить общую информацию о таблице c помощью метода `info()`:"
   ]
  },
  {
   "cell_type": "code",
   "execution_count": 4,
   "metadata": {
    "deletable": false,
    "id": "DSf2kIb-_Zct"
   },
   "outputs": [
    {
     "name": "stdout",
     "output_type": "stream",
     "text": [
      "<class 'pandas.core.frame.DataFrame'>\n",
      "RangeIndex: 65079 entries, 0 to 65078\n",
      "Data columns (total 7 columns):\n",
      " #   Column    Non-Null Count  Dtype \n",
      "---  ------    --------------  ----- \n",
      " 0     userID  65079 non-null  object\n",
      " 1   Track     63848 non-null  object\n",
      " 2   artist    57876 non-null  object\n",
      " 3   genre     63881 non-null  object\n",
      " 4     City    65079 non-null  object\n",
      " 5   time      65079 non-null  object\n",
      " 6   Day       65079 non-null  object\n",
      "dtypes: object(7)\n",
      "memory usage: 3.5+ MB\n"
     ]
    }
   ],
   "source": [
    "# получение общей информации о данных в таблице df\n",
    "df.info()"
   ]
  },
  {
   "cell_type": "markdown",
   "metadata": {
    "deletable": false,
    "editable": false,
    "id": "TaQ2Iwbr_Zct"
   },
   "source": [
    "Итак, в таблице семь столбцов. Тип данных во всех столбцах — `object`.\n",
    "\n",
    "Согласно документации к данным:\n",
    "* `userID` — идентификатор пользователя;\n",
    "* `Track` — название трека;  \n",
    "* `artist` — имя исполнителя;\n",
    "* `genre` — название жанра;\n",
    "* `City` — город пользователя;\n",
    "* `time` — время начала прослушивания;\n",
    "* `Day` — день недели.\n",
    "\n",
    "Количество значений в столбцах различается. Значит, в данных есть пропущенные значения."
   ]
  },
  {
   "cell_type": "markdown",
   "metadata": {
    "deletable": false,
    "editable": false,
    "id": "rAfziTBDmf2h",
    "tags": [
     "start_task"
    ]
   },
   "source": [
    "**Задание 5**\n",
    "\n",
    "**Вопрос со свободной формой ответа**\n",
    "\n",
    "В названиях колонок видны нарушения стиля:\n",
    "* Строчные буквы сочетаются с прописными.\n",
    "* Встречаются пробелы.\n",
    "\n",
    "Какое третье нарушение?"
   ]
  },
  {
   "cell_type": "code",
   "execution_count": 5,
   "metadata": {
    "id": "jD8EXEIvmf2h"
   },
   "outputs": [],
   "source": [
    "# Напишите ваш ответ здесь комментарием. Не удаляйте символ #. Не меняйте тип этой ячейки на Markdown.\n",
    "# Стиль написания заголовка 'userID' отличается от змеиного: правильно было бы 'user_id' "
   ]
  },
  {
   "cell_type": "markdown",
   "metadata": {
    "deletable": false,
    "editable": false,
    "id": "MCB6-dXG_Zct"
   },
   "source": [
    "**Выводы**\n",
    "\n",
    "В каждой строке таблицы — данные о прослушанном треке. Часть колонок описывает саму композицию: название, исполнителя и жанр. Остальные данные рассказывают о пользователе: из какого он города, когда он слушал музыку. \n",
    "\n",
    "Предварительно можно утверждать, что данных достаточно для проверки гипотез. Но встречаются пропуски в данных, а в названиях колонок — расхождения с хорошим стилем.\n",
    "\n",
    "Чтобы двигаться дальше, нужно устранить проблемы в данных."
   ]
  },
  {
   "cell_type": "markdown",
   "metadata": {
    "deletable": false,
    "editable": false,
    "id": "SjYF6Ub9_Zct"
   },
   "source": [
    "## Предобработка данных\n",
    "Исправьте стиль в заголовках столбцов, исключите пропуски. Затем проверьте данные на дубликаты."
   ]
  },
  {
   "cell_type": "markdown",
   "metadata": {
    "deletable": false,
    "editable": false,
    "id": "dIaKXr29_Zct",
    "tags": [
     "start_task"
    ]
   },
   "source": [
    "### Стиль заголовков\n",
    "\n",
    "**Задание 6**\n",
    "\n",
    "Выведите на экран названия столбцов:"
   ]
  },
  {
   "cell_type": "code",
   "execution_count": 6,
   "metadata": {
    "deletable": false,
    "id": "oKOTdF_Q_Zct"
   },
   "outputs": [
    {
     "data": {
      "text/plain": [
       "Index(['  userID', 'Track', 'artist', 'genre', '  City  ', 'time', 'Day'], dtype='object')"
      ]
     },
     "execution_count": 6,
     "metadata": {},
     "output_type": "execute_result"
    }
   ],
   "source": [
    "# перечень названий столбцов таблицы df\n",
    "df.columns"
   ]
  },
  {
   "cell_type": "markdown",
   "metadata": {
    "deletable": false,
    "editable": false,
    "id": "zj5534cv_Zct",
    "tags": [
     "start_task"
    ]
   },
   "source": [
    "**Задание 7**\n",
    "\n",
    "\n",
    "Приведите названия в соответствие с хорошим стилем:\n",
    "* несколько слов в названии запишите в «змеином_регистре»,\n",
    "* все символы сделайте строчными,\n",
    "* устраните пробелы.\n",
    "\n",
    "Для этого переименуйте колонки так:\n",
    "* `'  userID'` → `'user_id'`;\n",
    "* `'Track'` → `'track'`;\n",
    "* `'  City  '` → `'city'`;\n",
    "* `'Day'` → `'day'`."
   ]
  },
  {
   "cell_type": "code",
   "execution_count": 7,
   "metadata": {
    "deletable": false,
    "id": "ISlFqs5y_Zct"
   },
   "outputs": [],
   "source": [
    "# переименование столбцов\n",
    "df = df.rename(columns={'  userID':'user_id', 'Track': 'track', '  City  ': 'city', 'Day':'day'})"
   ]
  },
  {
   "cell_type": "markdown",
   "metadata": {
    "deletable": false,
    "editable": false,
    "id": "1dqbh00J_Zct",
    "tags": [
     "start_task"
    ]
   },
   "source": [
    "**Задание 8**\n",
    "\n",
    "\n",
    "Проверьте результат. Для этого ещё раз выведите на экран названия столбцов:"
   ]
  },
  {
   "cell_type": "code",
   "execution_count": 8,
   "metadata": {
    "deletable": false,
    "id": "d4NOAmTW_Zct"
   },
   "outputs": [
    {
     "data": {
      "text/plain": [
       "Index(['user_id', 'track', 'artist', 'genre', 'city', 'time', 'day'], dtype='object')"
      ]
     },
     "execution_count": 8,
     "metadata": {},
     "output_type": "execute_result"
    }
   ],
   "source": [
    "# проверка результатов - перечень названий столбцов\n",
    "df.columns"
   ]
  },
  {
   "cell_type": "markdown",
   "metadata": {
    "deletable": false,
    "editable": false,
    "id": "5ISfbcfY_Zct",
    "tags": [
     "start_task"
    ]
   },
   "source": [
    "### Пропуски значений\n",
    "\n",
    "**Задание 9**\n",
    "\n",
    "Сначала посчитайте, сколько в таблице пропущенных значений. Для этого достаточно двух методов `pandas`:"
   ]
  },
  {
   "cell_type": "code",
   "execution_count": 9,
   "metadata": {
    "deletable": false,
    "id": "RskX29qr_Zct"
   },
   "outputs": [
    {
     "data": {
      "text/plain": [
       "user_id       0\n",
       "track      1231\n",
       "artist     7203\n",
       "genre      1198\n",
       "city          0\n",
       "time          0\n",
       "day           0\n",
       "dtype: int64"
      ]
     },
     "execution_count": 9,
     "metadata": {},
     "output_type": "execute_result"
    }
   ],
   "source": [
    "# подсчёт пропусков\n",
    "(df.isna().sum())"
   ]
  },
  {
   "cell_type": "markdown",
   "metadata": {
    "deletable": false,
    "editable": false,
    "id": "qubhgnlO_Zct"
   },
   "source": [
    "Не все пропущенные значения влияют на исследование. Так в `track` и `artist` пропуски не важны для вашей работы. Достаточно заменить их явными обозначениями.\n",
    "\n",
    "Но пропуски в `genre` могут помешать сравнению музыкальных вкусов в Москве и Санкт-Петербурге. На практике было бы правильно установить причину пропусков и восстановить данные. Такой возможности нет в учебном проекте. Придётся:\n",
    "* заполнить и эти пропуски явными обозначениями;\n",
    "* оценить, насколько они повредят расчётам. "
   ]
  },
  {
   "cell_type": "markdown",
   "metadata": {
    "deletable": false,
    "editable": false,
    "id": "fSv2laPA_Zct",
    "tags": [
     "start_task"
    ]
   },
   "source": [
    "**Задание 10**\n",
    "\n",
    "Замените пропущенные значения в столбцах `track`, `artist` и `genre` на строку `'unknown'`. Для этого создайте список `columns_to_replace`, переберите его элементы циклом `for` и для каждого столбца выполните замену пропущенных значений:"
   ]
  },
  {
   "cell_type": "code",
   "execution_count": 10,
   "metadata": {
    "deletable": false,
    "id": "KplB5qWs_Zct"
   },
   "outputs": [],
   "source": [
    "# перебор названий столбцов в цикле и замена пропущенных значений на 'unknown'\n",
    "columns_to_replace = ['track','artist','genre']\n",
    "for column in df:\n",
    "    df[column]=df[column].fillna('unknown')"
   ]
  },
  {
   "cell_type": "markdown",
   "metadata": {
    "deletable": false,
    "editable": false,
    "id": "Ilsm-MZo_Zct",
    "tags": [
     "start_task"
    ]
   },
   "source": [
    "**Задание 11**\n",
    "\n",
    "Убедитесь, что в таблице не осталось пропусков. Для этого ещё раз посчитайте пропущенные значения."
   ]
  },
  {
   "cell_type": "code",
   "execution_count": 11,
   "metadata": {
    "deletable": false,
    "id": "Tq4nYRX4_Zct"
   },
   "outputs": [
    {
     "data": {
      "text/plain": [
       "user_id    0\n",
       "track      0\n",
       "artist     0\n",
       "genre      0\n",
       "city       0\n",
       "time       0\n",
       "day        0\n",
       "dtype: int64"
      ]
     },
     "execution_count": 11,
     "metadata": {},
     "output_type": "execute_result"
    }
   ],
   "source": [
    "# подсчёт пропусков\n",
    "df.isna().sum()"
   ]
  },
  {
   "cell_type": "markdown",
   "metadata": {
    "deletable": false,
    "editable": false,
    "id": "BWKRtBJ3_Zct",
    "tags": [
     "start_task"
    ]
   },
   "source": [
    "### Дубликаты\n",
    "\n",
    "**Задание 12**\n",
    "\n",
    "Посчитайте явные дубликаты в таблице одной командой:"
   ]
  },
  {
   "cell_type": "code",
   "execution_count": 12,
   "metadata": {
    "deletable": false,
    "id": "36eES_S0_Zct"
   },
   "outputs": [
    {
     "data": {
      "text/plain": [
       "3826"
      ]
     },
     "execution_count": 12,
     "metadata": {},
     "output_type": "execute_result"
    }
   ],
   "source": [
    "# подсчёт явных дубликатов\n",
    "df.duplicated().sum()"
   ]
  },
  {
   "cell_type": "markdown",
   "metadata": {
    "deletable": false,
    "editable": false,
    "id": "Ot25h6XR_Zct",
    "tags": [
     "start_task"
    ]
   },
   "source": [
    "**Задание 13**\n",
    "\n",
    "Вызовите специальный метод `pandas`, чтобы удалить явные дубликаты:"
   ]
  },
  {
   "cell_type": "code",
   "execution_count": 13,
   "metadata": {
    "deletable": false,
    "id": "exFHq6tt_Zct"
   },
   "outputs": [],
   "source": [
    "# удаление явных дубликатов\n",
    "df = df.drop_duplicates()"
   ]
  },
  {
   "cell_type": "markdown",
   "metadata": {
    "deletable": false,
    "editable": false,
    "id": "Im2YwBEG_Zct",
    "tags": [
     "start_task"
    ]
   },
   "source": [
    "**Задание 14**\n",
    "\n",
    "Ещё раз посчитайте явные дубликаты в таблице — убедитесь, что полностью от них избавились:"
   ]
  },
  {
   "cell_type": "code",
   "execution_count": 14,
   "metadata": {
    "deletable": false,
    "id": "-8PuNWQ0_Zct"
   },
   "outputs": [
    {
     "data": {
      "text/plain": [
       "0"
      ]
     },
     "execution_count": 14,
     "metadata": {},
     "output_type": "execute_result"
    }
   ],
   "source": [
    "# проверка на отсутствие дубликатов после удаления\n",
    "df.duplicated().sum()"
   ]
  },
  {
   "cell_type": "markdown",
   "metadata": {
    "deletable": false,
    "editable": false,
    "id": "QlFBsxAr_Zct"
   },
   "source": [
    "Теперь избавьтесь от неявных дубликатов в колонке `genre`. Например, название одного и того же жанра может быть записано немного по-разному. Такие ошибки тоже повлияют на результат исследования."
   ]
  },
  {
   "cell_type": "markdown",
   "metadata": {
    "deletable": false,
    "editable": false,
    "id": "eSjWwsOh_Zct",
    "tags": [
     "start_task"
    ]
   },
   "source": [
    "**Задание 15**\n",
    "\n",
    "Выведите на экран список уникальных названий жанров, отсортированный в алфавитном порядке. Для этого:\n",
    "1. извлеките нужный столбец датафрейма; \n",
    "2. примените к нему метод сортировки;\n",
    "3. для отсортированного столбца вызовите метод, который вернёт уникальные значения из столбца."
   ]
  },
  {
   "cell_type": "code",
   "execution_count": 15,
   "metadata": {
    "deletable": false,
    "id": "JIUcqzZN_Zct"
   },
   "outputs": [
    {
     "data": {
      "text/plain": [
       "array(['acid', 'acoustic', 'action', 'adult', 'africa', 'afrikaans',\n",
       "       'alternative', 'alternativepunk', 'ambient', 'americana',\n",
       "       'animated', 'anime', 'arabesk', 'arabic', 'arena',\n",
       "       'argentinetango', 'art', 'audiobook', 'author', 'avantgarde',\n",
       "       'axé', 'baile', 'balkan', 'beats', 'bigroom', 'black', 'bluegrass',\n",
       "       'blues', 'bollywood', 'bossa', 'brazilian', 'breakbeat', 'breaks',\n",
       "       'broadway', 'cantautori', 'cantopop', 'canzone', 'caribbean',\n",
       "       'caucasian', 'celtic', 'chamber', 'chanson', 'children', 'chill',\n",
       "       'chinese', 'choral', 'christian', 'christmas', 'classical',\n",
       "       'classicmetal', 'club', 'colombian', 'comedy', 'conjazz',\n",
       "       'contemporary', 'country', 'cuban', 'dance', 'dancehall',\n",
       "       'dancepop', 'dark', 'death', 'deep', 'deutschrock', 'deutschspr',\n",
       "       'dirty', 'disco', 'dnb', 'documentary', 'downbeat', 'downtempo',\n",
       "       'drum', 'dub', 'dubstep', 'eastern', 'easy', 'electronic',\n",
       "       'electropop', 'emo', 'entehno', 'epicmetal', 'estrada', 'ethnic',\n",
       "       'eurofolk', 'european', 'experimental', 'extrememetal', 'fado',\n",
       "       'fairytail', 'film', 'fitness', 'flamenco', 'folk', 'folklore',\n",
       "       'folkmetal', 'folkrock', 'folktronica', 'forró', 'frankreich',\n",
       "       'französisch', 'french', 'funk', 'future', 'gangsta', 'garage',\n",
       "       'german', 'ghazal', 'gitarre', 'glitch', 'gospel', 'gothic',\n",
       "       'grime', 'grunge', 'gypsy', 'handsup', \"hard'n'heavy\", 'hardcore',\n",
       "       'hardstyle', 'hardtechno', 'hip', 'hip-hop', 'hiphop',\n",
       "       'historisch', 'holiday', 'hop', 'horror', 'house', 'hymn', 'idm',\n",
       "       'independent', 'indian', 'indie', 'indipop', 'industrial',\n",
       "       'inspirational', 'instrumental', 'international', 'irish', 'jam',\n",
       "       'japanese', 'jazz', 'jewish', 'jpop', 'jungle', 'k-pop',\n",
       "       'karadeniz', 'karaoke', 'kayokyoku', 'korean', 'laiko', 'latin',\n",
       "       'latino', 'leftfield', 'local', 'lounge', 'loungeelectronic',\n",
       "       'lovers', 'malaysian', 'mandopop', 'marschmusik', 'meditative',\n",
       "       'mediterranean', 'melodic', 'metal', 'metalcore', 'mexican',\n",
       "       'middle', 'minimal', 'miscellaneous', 'modern', 'mood', 'mpb',\n",
       "       'muslim', 'native', 'neoklassik', 'neue', 'new', 'newage',\n",
       "       'newwave', 'nu', 'nujazz', 'numetal', 'oceania', 'old', 'opera',\n",
       "       'orchestral', 'other', 'piano', 'podcasts', 'pop', 'popdance',\n",
       "       'popelectronic', 'popeurodance', 'poprussian', 'post',\n",
       "       'posthardcore', 'postrock', 'power', 'progmetal', 'progressive',\n",
       "       'psychedelic', 'punjabi', 'punk', 'quebecois', 'ragga', 'ram',\n",
       "       'rancheras', 'rap', 'rave', 'reggae', 'reggaeton', 'regional',\n",
       "       'relax', 'religious', 'retro', 'rhythm', 'rnb', 'rnr', 'rock',\n",
       "       'rockabilly', 'rockalternative', 'rockindie', 'rockother',\n",
       "       'romance', 'roots', 'ruspop', 'rusrap', 'rusrock', 'russian',\n",
       "       'salsa', 'samba', 'scenic', 'schlager', 'self', 'sertanejo',\n",
       "       'shanson', 'shoegazing', 'showtunes', 'singer', 'ska', 'skarock',\n",
       "       'slow', 'smooth', 'soft', 'soul', 'soulful', 'sound', 'soundtrack',\n",
       "       'southern', 'specialty', 'speech', 'spiritual', 'sport',\n",
       "       'stonerrock', 'surf', 'swing', 'synthpop', 'synthrock',\n",
       "       'sängerportrait', 'tango', 'tanzorchester', 'taraftar', 'tatar',\n",
       "       'tech', 'techno', 'teen', 'thrash', 'top', 'traditional',\n",
       "       'tradjazz', 'trance', 'tribal', 'trip', 'triphop', 'tropical',\n",
       "       'türk', 'türkçe', 'ukrrock', 'unknown', 'urban', 'uzbek',\n",
       "       'variété', 'vi', 'videogame', 'vocal', 'western', 'world',\n",
       "       'worldbeat', 'ïîï', 'электроника'], dtype=object)"
      ]
     },
     "execution_count": 15,
     "metadata": {},
     "output_type": "execute_result"
    }
   ],
   "source": [
    "# Просмотр уникальных названий жанров\n",
    "df.sort_values(by='genre')['genre'].unique()"
   ]
  },
  {
   "cell_type": "markdown",
   "metadata": {
    "deletable": false,
    "editable": false,
    "id": "qej-Qmuo_Zct",
    "tags": [
     "start_task"
    ]
   },
   "source": [
    "**Задание 16**\n",
    "\n",
    "Просмотрите список и найдите неявные дубликаты названия `hiphop`. Это могут быть названия с ошибками или альтернативные названия того же жанра.\n",
    "\n",
    "Вы увидите следующие неявные дубликаты:\n",
    "* *hip*,\n",
    "* *hop*,\n",
    "* *hip-hop*.\n",
    "\n",
    "Чтобы очистить от них таблицу используйте метод `replace()` с двумя аргументами: списком строк-дубликатов (включащий *hip*, *hop* и *hip-hop*) и строкой с правильным значением. Вам нужно исправить колонку `genre` в таблице `df`: заменить каждое значение из списка дубликатов на верное. Вместо `hip`, `hop` и `hip-hop` в таблице должно быть значение `hiphop`:"
   ]
  },
  {
   "cell_type": "code",
   "execution_count": 16,
   "metadata": {
    "deletable": false,
    "id": "ErNDkmns_Zct"
   },
   "outputs": [],
   "source": [
    "# Устранение неявных дубликатов\n",
    "duplicates = ['hip', 'hop', 'hip-hop'] # список неявных дубликатов\n",
    "name = 'hiphop' # правильное имя\n",
    "df['genre'] = df['genre'].replace(duplicates, name)"
   ]
  },
  {
   "cell_type": "markdown",
   "metadata": {
    "deletable": false,
    "editable": false,
    "id": "zQKF16_RG15m",
    "tags": [
     "start_task"
    ]
   },
   "source": [
    "**Задание 17**\n",
    "\n",
    "Проверьте, что заменили неправильные названия:\n",
    "\n",
    "*   hip,\n",
    "*   hop,\n",
    "*   hip-hop.\n",
    "\n",
    "Выведите отсортированный список уникальных значений столбца `genre`:"
   ]
  },
  {
   "cell_type": "code",
   "execution_count": 17,
   "metadata": {
    "deletable": false,
    "id": "wvixALnFG15m"
   },
   "outputs": [
    {
     "data": {
      "text/plain": [
       "array(['acid', 'acoustic', 'action', 'adult', 'africa', 'afrikaans',\n",
       "       'alternative', 'alternativepunk', 'ambient', 'americana',\n",
       "       'animated', 'anime', 'arabesk', 'arabic', 'arena',\n",
       "       'argentinetango', 'art', 'audiobook', 'author', 'avantgarde',\n",
       "       'axé', 'baile', 'balkan', 'beats', 'bigroom', 'black', 'bluegrass',\n",
       "       'blues', 'bollywood', 'bossa', 'brazilian', 'breakbeat', 'breaks',\n",
       "       'broadway', 'cantautori', 'cantopop', 'canzone', 'caribbean',\n",
       "       'caucasian', 'celtic', 'chamber', 'chanson', 'children', 'chill',\n",
       "       'chinese', 'choral', 'christian', 'christmas', 'classical',\n",
       "       'classicmetal', 'club', 'colombian', 'comedy', 'conjazz',\n",
       "       'contemporary', 'country', 'cuban', 'dance', 'dancehall',\n",
       "       'dancepop', 'dark', 'death', 'deep', 'deutschrock', 'deutschspr',\n",
       "       'dirty', 'disco', 'dnb', 'documentary', 'downbeat', 'downtempo',\n",
       "       'drum', 'dub', 'dubstep', 'eastern', 'easy', 'electronic',\n",
       "       'electropop', 'emo', 'entehno', 'epicmetal', 'estrada', 'ethnic',\n",
       "       'eurofolk', 'european', 'experimental', 'extrememetal', 'fado',\n",
       "       'fairytail', 'film', 'fitness', 'flamenco', 'folk', 'folklore',\n",
       "       'folkmetal', 'folkrock', 'folktronica', 'forró', 'frankreich',\n",
       "       'französisch', 'french', 'funk', 'future', 'gangsta', 'garage',\n",
       "       'german', 'ghazal', 'gitarre', 'glitch', 'gospel', 'gothic',\n",
       "       'grime', 'grunge', 'gypsy', 'handsup', \"hard'n'heavy\", 'hardcore',\n",
       "       'hardstyle', 'hardtechno', 'hiphop', 'historisch', 'holiday',\n",
       "       'horror', 'house', 'hymn', 'idm', 'independent', 'indian', 'indie',\n",
       "       'indipop', 'industrial', 'inspirational', 'instrumental',\n",
       "       'international', 'irish', 'jam', 'japanese', 'jazz', 'jewish',\n",
       "       'jpop', 'jungle', 'k-pop', 'karadeniz', 'karaoke', 'kayokyoku',\n",
       "       'korean', 'laiko', 'latin', 'latino', 'leftfield', 'local',\n",
       "       'lounge', 'loungeelectronic', 'lovers', 'malaysian', 'mandopop',\n",
       "       'marschmusik', 'meditative', 'mediterranean', 'melodic', 'metal',\n",
       "       'metalcore', 'mexican', 'middle', 'minimal', 'miscellaneous',\n",
       "       'modern', 'mood', 'mpb', 'muslim', 'native', 'neoklassik', 'neue',\n",
       "       'new', 'newage', 'newwave', 'nu', 'nujazz', 'numetal', 'oceania',\n",
       "       'old', 'opera', 'orchestral', 'other', 'piano', 'podcasts', 'pop',\n",
       "       'popdance', 'popelectronic', 'popeurodance', 'poprussian', 'post',\n",
       "       'posthardcore', 'postrock', 'power', 'progmetal', 'progressive',\n",
       "       'psychedelic', 'punjabi', 'punk', 'quebecois', 'ragga', 'ram',\n",
       "       'rancheras', 'rap', 'rave', 'reggae', 'reggaeton', 'regional',\n",
       "       'relax', 'religious', 'retro', 'rhythm', 'rnb', 'rnr', 'rock',\n",
       "       'rockabilly', 'rockalternative', 'rockindie', 'rockother',\n",
       "       'romance', 'roots', 'ruspop', 'rusrap', 'rusrock', 'russian',\n",
       "       'salsa', 'samba', 'scenic', 'schlager', 'self', 'sertanejo',\n",
       "       'shanson', 'shoegazing', 'showtunes', 'singer', 'ska', 'skarock',\n",
       "       'slow', 'smooth', 'soft', 'soul', 'soulful', 'sound', 'soundtrack',\n",
       "       'southern', 'specialty', 'speech', 'spiritual', 'sport',\n",
       "       'stonerrock', 'surf', 'swing', 'synthpop', 'synthrock',\n",
       "       'sängerportrait', 'tango', 'tanzorchester', 'taraftar', 'tatar',\n",
       "       'tech', 'techno', 'teen', 'thrash', 'top', 'traditional',\n",
       "       'tradjazz', 'trance', 'tribal', 'trip', 'triphop', 'tropical',\n",
       "       'türk', 'türkçe', 'ukrrock', 'unknown', 'urban', 'uzbek',\n",
       "       'variété', 'vi', 'videogame', 'vocal', 'western', 'world',\n",
       "       'worldbeat', 'ïîï', 'электроника'], dtype=object)"
      ]
     },
     "execution_count": 17,
     "metadata": {},
     "output_type": "execute_result"
    }
   ],
   "source": [
    "# Проверка на неявные дубликаты\n",
    "df.sort_values(by='genre')['genre'].unique()"
   ]
  },
  {
   "cell_type": "markdown",
   "metadata": {
    "deletable": false,
    "editable": false,
    "id": "jz6a9-7HQUDd"
   },
   "source": [
    "**Выводы**\n",
    "\n",
    "Предобработка обнаружила три проблемы в данных:\n",
    "\n",
    "- нарушения в стиле заголовков,\n",
    "- пропущенные значения,\n",
    "- дубликаты — явные и неявные.\n",
    "\n",
    "Вы исправили заголовки, чтобы упростить работу с таблицей. Без дубликатов исследование станет более точным.\n",
    "\n",
    "Пропущенные значения вы заменили на `'unknown'`. Ещё предстоит увидеть, не повредят ли исследованию пропуски в колонке `genre`.\n",
    "\n",
    "Теперь можно перейти к проверке гипотез. "
   ]
  },
  {
   "cell_type": "markdown",
   "metadata": {
    "deletable": false,
    "editable": false,
    "id": "WttZHXH0SqKk"
   },
   "source": [
    "## Проверка гипотез"
   ]
  },
  {
   "cell_type": "markdown",
   "metadata": {
    "deletable": false,
    "editable": false,
    "id": "Im936VVi_Zcu"
   },
   "source": [
    "### Сравнение поведения пользователей двух столиц"
   ]
  },
  {
   "cell_type": "markdown",
   "metadata": {
    "deletable": false,
    "editable": false,
    "id": "nwt_MuaL_Zcu"
   },
   "source": [
    "Первая гипотеза утверждает, что пользователи по-разному слушают музыку в Москве и Санкт-Петербурге. Проверьте это предположение по данным о трёх днях недели — понедельнике, среде и пятнице. Для этого:\n",
    "\n",
    "* Разделите пользователей Москвы и Санкт-Петербурга.\n",
    "* Сравните, сколько треков послушала каждая группа пользователей в понедельник, среду и пятницу.\n"
   ]
  },
  {
   "cell_type": "markdown",
   "metadata": {
    "deletable": false,
    "editable": false,
    "id": "8Dw_YMmT_Zcu",
    "tags": [
     "start_task"
    ]
   },
   "source": [
    "**Задание 18**\n",
    "\n",
    "Для тренировки сначала выполните каждый из расчётов по отдельности. \n",
    "\n",
    "Оцените активность пользователей в каждом городе. Сгруппируйте данные по городу и посчитайте прослушивания в каждой группе.\n",
    "\n"
   ]
  },
  {
   "cell_type": "code",
   "execution_count": 18,
   "metadata": {
    "deletable": false,
    "id": "0_Qs96oh_Zcu"
   },
   "outputs": [
    {
     "data": {
      "text/plain": [
       "city\n",
       "Moscow              42741\n",
       "Saint-Petersburg    18512\n",
       "Name: day, dtype: int64"
      ]
     },
     "execution_count": 18,
     "metadata": {},
     "output_type": "execute_result"
    }
   ],
   "source": [
    "# Подсчёт прослушиваний в каждом городе\n",
    "city_number = df.groupby('city')['day'].count()\n",
    "city_number"
   ]
  },
  {
   "cell_type": "markdown",
   "metadata": {
    "deletable": false,
    "editable": false,
    "id": "dzli3w8o_Zcu",
    "tags": [
     "start_task"
    ]
   },
   "source": [
    "В Москве прослушиваний больше, чем в Петербурге. Из этого не следует, что московские пользователи чаще слушают музыку. Просто самих пользователей в Москве больше.\n",
    "\n",
    "**Задание 19**\n",
    "\n",
    "Теперь сгруппируйте данные по дню недели и посчитайте прослушивания в понедельник, среду и пятницу. Учтите, что в данных есть информация о прослушиваниях только за эти дни.\n"
   ]
  },
  {
   "cell_type": "code",
   "execution_count": 19,
   "metadata": {
    "deletable": false,
    "id": "uZMKjiJz_Zcu"
   },
   "outputs": [
    {
     "data": {
      "text/plain": [
       "day\n",
       "Friday       21840\n",
       "Monday       21354\n",
       "Wednesday    18059\n",
       "Name: genre, dtype: int64"
      ]
     },
     "execution_count": 19,
     "metadata": {},
     "output_type": "execute_result"
    }
   ],
   "source": [
    "# Подсчёт прослушиваний в каждый из трёх дней\n",
    "city_number_daily = df.groupby('day')['genre'].count()\n",
    "city_number_daily"
   ]
  },
  {
   "cell_type": "markdown",
   "metadata": {
    "deletable": false,
    "editable": false,
    "id": "cC2tNrlL_Zcu"
   },
   "source": [
    "В среднем пользователи из двух городов менее активны по средам. Но картина может измениться, если рассмотреть каждый город в отдельности."
   ]
  },
  {
   "cell_type": "markdown",
   "metadata": {
    "deletable": false,
    "editable": false,
    "id": "POzs8bGa_Zcu",
    "tags": [
     "start_task"
    ]
   },
   "source": [
    "**Задание 20**\n",
    "\n",
    "\n",
    "Вы видели, как работает группировка по городу и по дням недели. Теперь напишите функцию, которая объединит два эти расчёта.\n",
    "\n",
    "Создайте функцию `number_tracks()`, которая посчитает прослушивания для заданного дня и города. Ей понадобятся два параметра:\n",
    "* день недели,\n",
    "* название города.\n",
    "\n",
    "В функции сохраните в переменную строки исходной таблицы, у которых значение:\n",
    "  * в колонке `day` равно параметру `day`,\n",
    "  * в колонке `city` равно параметру `city`.\n",
    "\n",
    "Для этого примените последовательную фильтрацию с логической индексацией (или сложные логические выражения в одну строку, если вы уже знакомы с ними).\n",
    "\n",
    "Затем посчитайте значения в столбце `user_id` получившейся таблицы. Результат сохраните в новую переменную. Верните эту переменную из функции."
   ]
  },
  {
   "cell_type": "code",
   "execution_count": 20,
   "metadata": {
    "deletable": false,
    "id": "Nz3GdQB1_Zcu"
   },
   "outputs": [],
   "source": [
    "# <создание функции number_tracks()>\n",
    "# Объявляется функция с двумя параметрами: day, city.\n",
    "def number_tracks(day, city):\n",
    "    track_list = df[df['day'] == day]\n",
    "    track_list = track_list[track_list['city'] == city]\n",
    "    track_list_count = track_list['user_id'].count()\n",
    "    return track_list_count\n",
    "# В переменной track_list сохраняются те строки таблицы df, для которых \n",
    "# значение в столбце 'day' равно параметру day и одновременно значение\n",
    "# в столбце 'city' равно параметру city (используйте последовательную фильтрацию\n",
    "# с помощью логической индексации или сложные логические выражения в одну строку, если вы уже знакомы с ними).\n",
    "# В переменной track_list_count сохраняется число значений столбца 'user_id',\n",
    "# рассчитанное методом count() для таблицы track_list.\n",
    "# Функция возвращает число - значение track_list_count.\n",
    "# Функция для подсчёта прослушиваний для конкретного города и дня.\n",
    "# С помощью последовательной фильтрации с логической индексацией она \n",
    "# сначала получит из исходной таблицы строки с нужным днём,\n",
    "# затем из результата отфильтрует строки с нужным городом,\n",
    "# методом count() посчитает количество значений в колонке user_id. \n",
    "# Это количество функция вернёт в качестве результата"
   ]
  },
  {
   "cell_type": "markdown",
   "metadata": {
    "deletable": false,
    "editable": false,
    "id": "ytf7xFrFJQ2r",
    "tags": [
     "start_task"
    ]
   },
   "source": [
    "**Задание 21**\n",
    "\n",
    "Вызовите `number_tracks()` шесть раз, меняя значение параметров — так, чтобы получить данные для каждого города в каждый из трёх дней."
   ]
  },
  {
   "cell_type": "code",
   "execution_count": 21,
   "metadata": {
    "deletable": false,
    "id": "rJcRATNQ_Zcu"
   },
   "outputs": [
    {
     "data": {
      "text/plain": [
       "15740"
      ]
     },
     "execution_count": 21,
     "metadata": {},
     "output_type": "execute_result"
    }
   ],
   "source": [
    "# количество прослушиваний в Москве по понедельникам\n",
    "number_tracks('Monday', 'Moscow')"
   ]
  },
  {
   "cell_type": "code",
   "execution_count": 22,
   "metadata": {
    "deletable": false,
    "id": "hq_ncZ5T_Zcu"
   },
   "outputs": [
    {
     "data": {
      "text/plain": [
       "5614"
      ]
     },
     "execution_count": 22,
     "metadata": {},
     "output_type": "execute_result"
    }
   ],
   "source": [
    "# количество прослушиваний в Санкт-Петербурге по понедельникам\n",
    "number_tracks('Monday', 'Saint-Petersburg')"
   ]
  },
  {
   "cell_type": "code",
   "execution_count": 23,
   "metadata": {
    "deletable": false,
    "id": "_NTy2VPU_Zcu"
   },
   "outputs": [
    {
     "data": {
      "text/plain": [
       "11056"
      ]
     },
     "execution_count": 23,
     "metadata": {},
     "output_type": "execute_result"
    }
   ],
   "source": [
    "# количество прослушиваний в Москве по средам\n",
    "number_tracks('Wednesday', 'Moscow')"
   ]
  },
  {
   "cell_type": "code",
   "execution_count": 24,
   "metadata": {
    "deletable": false,
    "id": "j2y3TAwo_Zcu"
   },
   "outputs": [
    {
     "data": {
      "text/plain": [
       "7003"
      ]
     },
     "execution_count": 24,
     "metadata": {},
     "output_type": "execute_result"
    }
   ],
   "source": [
    "# количество прослушиваний в Санкт-Петербурге по средам\n",
    "number_tracks('Wednesday', 'Saint-Petersburg')"
   ]
  },
  {
   "cell_type": "code",
   "execution_count": 25,
   "metadata": {
    "deletable": false,
    "id": "vYDw5u_K_Zcu"
   },
   "outputs": [
    {
     "data": {
      "text/plain": [
       "15945"
      ]
     },
     "execution_count": 25,
     "metadata": {},
     "output_type": "execute_result"
    }
   ],
   "source": [
    "# количество прослушиваний в Москве по пятницам\n",
    "number_tracks('Friday', 'Moscow')"
   ]
  },
  {
   "cell_type": "code",
   "execution_count": 26,
   "metadata": {
    "deletable": false,
    "id": "8_yzFtW3_Zcu"
   },
   "outputs": [
    {
     "data": {
      "text/plain": [
       "5895"
      ]
     },
     "execution_count": 26,
     "metadata": {},
     "output_type": "execute_result"
    }
   ],
   "source": [
    "# количество прослушиваний в Санкт-Петербурге по пятницам\n",
    "number_tracks('Friday', 'Saint-Petersburg')"
   ]
  },
  {
   "cell_type": "markdown",
   "metadata": {
    "deletable": false,
    "editable": false,
    "id": "7QXffbO-_Zcu",
    "tags": [
     "start_task"
    ]
   },
   "source": [
    "**Задание 22**\n",
    "\n",
    "Создайте c помощью конструктора `pd.DataFrame` таблицу, где\n",
    "* названия колонок — `['city', 'monday', 'wednesday', 'friday']`;\n",
    "* данные — результаты, которые вы получили с помощью `number_tracks`."
   ]
  },
  {
   "cell_type": "code",
   "execution_count": 27,
   "metadata": {
    "deletable": false,
    "id": "APAcLpOr_Zcu"
   },
   "outputs": [],
   "source": [
    "# Таблица с результатами\n",
    "columns = ['city', 'monday', 'wednesday', 'friday']\n",
    "\n",
    "info = pd.DataFrame(data=[['Moscow', 15740, 11056, 15945],['Saint-Petersburg', 5614, 7003, 5895]], columns=columns)"
   ]
  },
  {
   "cell_type": "markdown",
   "metadata": {
    "deletable": false,
    "editable": false,
    "id": "-EgPIHYu_Zcu"
   },
   "source": [
    "**Выводы**\n",
    "\n",
    "Данные показывают разницу поведения пользователей:\n",
    "\n",
    "- В Москве пик прослушиваний приходится на понедельник и пятницу, а в среду заметен спад.\n",
    "- В Петербурге, наоборот, больше слушают музыку по средам. Активность в понедельник и пятницу здесь почти в равной мере уступает среде.\n",
    "\n",
    "Значит, данные говорят в пользу первой гипотезы."
   ]
  },
  {
   "cell_type": "markdown",
   "metadata": {
    "deletable": false,
    "editable": false,
    "id": "atZAxtq4_Zcu"
   },
   "source": [
    "### Музыка в начале и в конце недели"
   ]
  },
  {
   "cell_type": "markdown",
   "metadata": {
    "deletable": false,
    "editable": false,
    "id": "eXrQqXFH_Zcu"
   },
   "source": [
    "Согласно второй гипотезе, утром в понедельник в Москве преобладают одни жанры, а в Петербурге — другие. Так же и вечером пятницы преобладают разные жанры — в зависимости от города."
   ]
  },
  {
   "cell_type": "markdown",
   "metadata": {
    "deletable": false,
    "editable": false,
    "id": "S8UcW6Hw_Zcu",
    "tags": [
     "start_task"
    ]
   },
   "source": [
    "**Задание 23**\n",
    "\n",
    "Сохраните таблицы с данными в две переменные:\n",
    "* по Москве — в `moscow_general`;\n",
    "* по Санкт-Петербургу — в `spb_general`."
   ]
  },
  {
   "cell_type": "code",
   "execution_count": 28,
   "metadata": {
    "deletable": false,
    "id": "qeaFfM_P_Zcu"
   },
   "outputs": [],
   "source": [
    "# получение таблицы moscow_general из тех строк таблицы df, \n",
    "# для которых значение в столбце 'city' равно 'Moscow'\n",
    "moscow_general = df[df['city'] == 'Moscow']"
   ]
  },
  {
   "cell_type": "code",
   "execution_count": 29,
   "metadata": {
    "deletable": false,
    "id": "ORaVRKto_Zcu"
   },
   "outputs": [],
   "source": [
    "# получение таблицы spb_general из тех строк таблицы df,\n",
    "# для которых значение в столбце 'city' равно 'Saint-Petersburg'\n",
    "spb_general = df[df['city'] == 'Saint-Petersburg']"
   ]
  },
  {
   "cell_type": "markdown",
   "metadata": {
    "deletable": false,
    "editable": false,
    "id": "MEJV-CX2_Zcu",
    "tags": [
     "start_task"
    ]
   },
   "source": [
    "**Задание 24**\n",
    "\n",
    "Создайте функцию `genre_weekday()` с четырьмя параметрами:\n",
    "* таблица (датафрейм) с данными,\n",
    "* день недели,\n",
    "* начальная временная метка в формате 'hh:mm', \n",
    "* последняя временная метка в формате 'hh:mm'.\n",
    "\n",
    "Функция должна вернуть информацию о топ-10 жанров тех треков, которые прослушивали в указанный день, в промежутке между двумя отметками времени."
   ]
  },
  {
   "cell_type": "code",
   "execution_count": 39,
   "metadata": {
    "deletable": false,
    "id": "laJT9BYl_Zcu"
   },
   "outputs": [],
   "source": [
    "# Объявление функции genre_weekday() с параметрами table, day, time1, time2,\n",
    "# которая возвращает информацию о самых популярных жанрах в указанный день в\n",
    "# заданное время:\n",
    "# 1) в переменную genre_df сохраняются те строки переданного датафрейма table, для\n",
    "#    которых одновременно:\n",
    "#    - значение в столбце day равно значению аргумента day\n",
    "#    - значение в столбце time больше значения аргумента time1\n",
    "#    - значение в столбце time меньше значения аргумента time2\n",
    "#    Используйте последовательную фильтрацию с помощью логической индексации.\n",
    "# 2) сгруппировать датафрейм genre_df по столбцу genre, взять один из его\n",
    "#    столбцов и посчитать методом count() количество записей для каждого из\n",
    "#    присутствующих жанров, получившийся Series записать в переменную\n",
    "#    genre_df_count\n",
    "# 3) отсортировать genre_df_count по убыванию встречаемости и сохранить\n",
    "#    в переменную genre_df_sorted\n",
    "# 4) вернуть Series из 10 первых значений genre_df_sorted, это будут топ-10\n",
    "#    популярных жанров (в указанный день, в заданное время)\n",
    "\n",
    "def genre_weekday(df, day, time1, time2):\n",
    "    # последовательная фильтрация\n",
    "    # оставляем в genre_df только те строки df, у которых день равен day\n",
    "    genre_df = df[df['day'] == day] # ваш код здесь\n",
    "    # оставляем в genre_df только те строки genre_df, у которых время меньше time2\n",
    "    genre_df = genre_df[genre_df['time'] < time2] # ваш код здесь\n",
    "    # оставляем в genre_df только те строки genre_df, у которых время больше time1\n",
    "    genre_df = genre_df[genre_df['time'] > time1] # ваш код здесь\n",
    "    # сгруппируем отфильтрованный датафрейм по столбцу с названиями жанров, возьмём столбец genre и посчитаем кол-во строк для каждого жанра методом count()\n",
    "    genre_df_grouped = genre_df.groupby('genre')['genre'].count() # ваш код здесь\n",
    "    # отсортируем результат по убыванию (чтобы в начале Series оказались самые популярные жанры)\n",
    "    genre_df_sorted = genre_df_grouped.sort_values(ascending=False) # ваш код здесь\n",
    "    # вернём Series с 10 самыми популярными жанрами в указанный отрезок времени заданного дня\n",
    "    return genre_df_sorted.head(10)"
   ]
  },
  {
   "cell_type": "markdown",
   "metadata": {
    "deletable": false,
    "editable": false,
    "id": "la2s2_PF_Zcu",
    "tags": [
     "start_task"
    ]
   },
   "source": [
    "**Задание 25**\n",
    "\n",
    "\n",
    "Cравните результаты функции `genre_weekday()` для Москвы и Санкт-Петербурга в понедельник утром (с 7:00 до 11:00) и в пятницу вечером (с 17:00 до 23:00):"
   ]
  },
  {
   "cell_type": "code",
   "execution_count": 40,
   "metadata": {
    "deletable": false,
    "id": "yz7itPUQ_Zcu"
   },
   "outputs": [
    {
     "data": {
      "text/plain": [
       "genre\n",
       "pop            781\n",
       "dance          549\n",
       "electronic     480\n",
       "rock           474\n",
       "hiphop         286\n",
       "ruspop         186\n",
       "world          181\n",
       "rusrap         175\n",
       "alternative    164\n",
       "unknown        161\n",
       "Name: genre, dtype: int64"
      ]
     },
     "execution_count": 40,
     "metadata": {},
     "output_type": "execute_result"
    }
   ],
   "source": [
    "# вызов функции для утра понедельника в Москве (вместо df — таблица moscow_general)\n",
    "# объекты, хранящие время, являются строками и сравниваются как строки\n",
    "# пример вызова: genre_weekday(moscow_general, 'Monday', '07:00', '11:00')\n",
    "genre_weekday(moscow_general, 'Monday', '07:00', '11:00')"
   ]
  },
  {
   "cell_type": "code",
   "execution_count": 41,
   "metadata": {
    "deletable": false,
    "id": "kwUcHPdy_Zcu",
    "scrolled": true
   },
   "outputs": [
    {
     "data": {
      "text/plain": [
       "genre\n",
       "pop            218\n",
       "dance          182\n",
       "rock           162\n",
       "electronic     147\n",
       "hiphop          80\n",
       "ruspop          64\n",
       "alternative     58\n",
       "rusrap          55\n",
       "jazz            44\n",
       "classical       40\n",
       "Name: genre, dtype: int64"
      ]
     },
     "execution_count": 41,
     "metadata": {},
     "output_type": "execute_result"
    }
   ],
   "source": [
    "# вызов функции для утра понедельника в Петербурге (вместо df — таблица spb_general)\n",
    "genre_weekday(spb_general, 'Monday', '07:00', '11:00')"
   ]
  },
  {
   "cell_type": "code",
   "execution_count": 42,
   "metadata": {
    "deletable": false,
    "id": "EzXVRE1o_Zcu"
   },
   "outputs": [
    {
     "data": {
      "text/plain": [
       "genre\n",
       "pop            713\n",
       "rock           517\n",
       "dance          495\n",
       "electronic     482\n",
       "hiphop         273\n",
       "world          208\n",
       "ruspop         170\n",
       "alternative    163\n",
       "classical      163\n",
       "rusrap         142\n",
       "Name: genre, dtype: int64"
      ]
     },
     "execution_count": 42,
     "metadata": {},
     "output_type": "execute_result"
    }
   ],
   "source": [
    "# вызов функции для вечера пятницы в Москве\n",
    "genre_weekday(moscow_general,'Friday','17:00','23:00')"
   ]
  },
  {
   "cell_type": "code",
   "execution_count": 43,
   "metadata": {
    "deletable": false,
    "id": "JZaEKu5v_Zcu"
   },
   "outputs": [
    {
     "data": {
      "text/plain": [
       "genre\n",
       "pop            256\n",
       "electronic     216\n",
       "rock           216\n",
       "dance          210\n",
       "hiphop          97\n",
       "alternative     63\n",
       "jazz            61\n",
       "classical       60\n",
       "rusrap          59\n",
       "world           54\n",
       "Name: genre, dtype: int64"
      ]
     },
     "execution_count": 43,
     "metadata": {},
     "output_type": "execute_result"
    }
   ],
   "source": [
    "# вызов функции для вечера пятницы в Петербурге\n",
    "genre_weekday(spb_general, 'Friday', '17:00', '23:00')"
   ]
  },
  {
   "cell_type": "markdown",
   "metadata": {
    "deletable": false,
    "editable": false,
    "id": "wrCe4MNX_Zcu"
   },
   "source": [
    "**Выводы**\n",
    "\n",
    "Если сравнить топ-10 жанров в понедельник утром, можно сделать такие выводы:\n",
    "\n",
    "1. В Москве и Петербурге слушают похожую музыку. Единственное отличие — в московский рейтинг вошёл жанр “world”, а в петербургский — джаз и классика.\n",
    "\n",
    "2. В Москве пропущенных значений оказалось так много, что значение `'unknown'` заняло десятое место среди самых популярных жанров. Значит, пропущенные значения занимают существенную долю в данных и угрожают достоверности исследования.\n",
    "\n",
    "Вечер пятницы не меняет эту картину. Некоторые жанры поднимаются немного выше, другие спускаются, но в целом топ-10 остаётся тем же самым.\n",
    "\n",
    "Таким образом, вторая гипотеза подтвердилась лишь частично:\n",
    "* Пользователи слушают похожую музыку в начале недели и в конце.\n",
    "* Разница между Москвой и Петербургом не слишком выражена. В Москве чаще слушают русскую популярную музыку, в Петербурге — джаз.\n",
    "\n",
    "Однако пропуски в данных ставят под сомнение этот результат. В Москве их так много, что рейтинг топ-10 мог бы выглядеть иначе, если бы не утерянные  данные о жанрах."
   ]
  },
  {
   "cell_type": "markdown",
   "metadata": {
    "deletable": false,
    "editable": false,
    "id": "JolODAqr_Zcu"
   },
   "source": [
    "### Жанровые предпочтения в Москве и Петербурге\n",
    "\n",
    "Гипотеза: Петербург — столица рэпа, музыку этого жанра там слушают чаще, чем в Москве.  А Москва — город контрастов, в котором, тем не менее, преобладает поп-музыка."
   ]
  },
  {
   "cell_type": "markdown",
   "metadata": {
    "deletable": false,
    "editable": false,
    "id": "DlegSvaT_Zcu",
    "tags": [
     "start_task"
    ]
   },
   "source": [
    "**Задание 26**\n",
    "\n",
    "Сгруппируйте таблицу `moscow_general` по жанру и посчитайте прослушивания треков каждого жанра методом `count()`. Затем отсортируйте результат в порядке убывания и сохраните его в таблице `moscow_genres`."
   ]
  },
  {
   "cell_type": "code",
   "execution_count": 35,
   "metadata": {
    "deletable": false,
    "id": "r19lIPke_Zcu"
   },
   "outputs": [],
   "source": [
    "# одной строкой: группировка таблицы moscow_general по столбцу 'genre', \n",
    "# подсчёт числа значений 'genre' в этой группировке методом count(), \n",
    "# сортировка получившегося Series в порядке убывания и сохранение в moscow_genres\n",
    "moscow_genres = moscow_general.groupby('genre')['genre'].count().sort_values(ascending=False)"
   ]
  },
  {
   "cell_type": "markdown",
   "metadata": {
    "deletable": false,
    "editable": false,
    "id": "6kMuomxTiIr8",
    "tags": [
     "start_task"
    ]
   },
   "source": [
    "**Задание 27**\n",
    "\n",
    "Выведите на экран первые десять строк `moscow_genres`:"
   ]
  },
  {
   "cell_type": "code",
   "execution_count": 36,
   "metadata": {
    "deletable": false,
    "id": "WhCSooF8_Zcv"
   },
   "outputs": [
    {
     "data": {
      "text/plain": [
       "genre\n",
       "pop            5892\n",
       "dance          4435\n",
       "rock           3965\n",
       "electronic     3786\n",
       "hiphop         2096\n",
       "classical      1616\n",
       "world          1432\n",
       "alternative    1379\n",
       "ruspop         1372\n",
       "rusrap         1161\n",
       "Name: genre, dtype: int64"
      ]
     },
     "execution_count": 36,
     "metadata": {},
     "output_type": "execute_result"
    }
   ],
   "source": [
    "# просмотр первых 10 строк moscow_genres\n",
    "moscow_genres.head(10)"
   ]
  },
  {
   "cell_type": "markdown",
   "metadata": {
    "deletable": false,
    "editable": false,
    "id": "cnPG2vnN_Zcv",
    "tags": [
     "start_task"
    ]
   },
   "source": [
    "**Задание 28**\n",
    "\n",
    "\n",
    "Теперь повторите то же и для Петербурга.\n",
    "\n",
    "Сгруппируйте таблицу `spb_general` по жанру. Посчитайте прослушивания треков каждого жанра. Результат отсортируйте в порядке убывания и сохраните в таблице `spb_genres`:\n"
   ]
  },
  {
   "cell_type": "code",
   "execution_count": 37,
   "metadata": {
    "deletable": false,
    "id": "gluLIpE7_Zcv"
   },
   "outputs": [],
   "source": [
    "# одной строкой: группировка таблицы spb_general по столбцу 'genre', \n",
    "# подсчёт числа значений 'genre' в этой группировке методом count(), \n",
    "# сортировка получившегося Series в порядке убывания и сохранение в spb_genres\n",
    "spb_genres = spb_general.groupby('genre')['genre'].count().sort_values(ascending=False)"
   ]
  },
  {
   "cell_type": "markdown",
   "metadata": {
    "deletable": false,
    "editable": false,
    "id": "5Doha_ODgyQ8",
    "tags": [
     "start_task"
    ]
   },
   "source": [
    "**Задание 29**\n",
    "\n",
    "Выведите на экран первые десять строк `spb_genres`:"
   ]
  },
  {
   "cell_type": "code",
   "execution_count": 38,
   "metadata": {
    "deletable": false,
    "id": "uaGJHjVU_Zcv"
   },
   "outputs": [
    {
     "data": {
      "text/plain": [
       "genre\n",
       "pop            2431\n",
       "dance          1932\n",
       "rock           1879\n",
       "electronic     1736\n",
       "hiphop          960\n",
       "alternative     649\n",
       "classical       646\n",
       "rusrap          564\n",
       "ruspop          538\n",
       "world           515\n",
       "Name: genre, dtype: int64"
      ]
     },
     "execution_count": 38,
     "metadata": {},
     "output_type": "execute_result"
    }
   ],
   "source": [
    "# просмотр первых 10 строк spb_genres\n",
    "spb_genres.head(10)"
   ]
  },
  {
   "cell_type": "markdown",
   "metadata": {
    "deletable": false,
    "editable": false,
    "id": "RY51YJYu_Zcv"
   },
   "source": [
    "**Выводы**"
   ]
  },
  {
   "cell_type": "markdown",
   "metadata": {
    "deletable": false,
    "editable": false,
    "id": "nVhnJEm__Zcv"
   },
   "source": [
    "Гипотеза частично подтвердилась:\n",
    "* Поп-музыка — самый популярный жанр в Москве, как и предполагала гипотеза. Более того, в топ-10 жанров встречается близкий жанр — русская популярная музыка.\n",
    "* Вопреки ожиданиям, рэп одинаково популярен в Москве и Петербурге. \n"
   ]
  },
  {
   "cell_type": "markdown",
   "metadata": {
    "deletable": false,
    "editable": false,
    "id": "ykKQ0N65_Zcv"
   },
   "source": [
    "## Итоги исследования"
   ]
  },
  {
   "cell_type": "markdown",
   "metadata": {
    "deletable": false,
    "editable": false,
    "id": "tjUwbHb3_Zcv"
   },
   "source": [
    "Вы проверили три гипотезы и установили:\n",
    "\n",
    "1. День недели по-разному влияет на активность пользователей в Москве и Петербурге. \n",
    "\n",
    "Первая гипотеза полностью подтвердилась.\n",
    "\n",
    "2. Музыкальные предпочтения не сильно меняются в течение недели — будь то Москва или Петербург. Небольшие различия заметны в начале недели, по понедельникам:\n",
    "* в Москве слушают музыку жанра “world”,\n",
    "* в Петербурге — джаз и классику.\n",
    "\n",
    "Таким образом, вторая гипотеза подтвердилась лишь отчасти. Этот результат мог оказаться иным, если бы не пропуски в данных.\n",
    "\n",
    "3. Во вкусах пользователей Москвы и Петербурга больше общего чем различий. Вопреки ожиданиям, предпочтения жанров в Петербурге напоминают московские.\n",
    "\n",
    "Третья гипотеза не подтвердилась. Если различия в предпочтениях и существуют, на основной массе пользователей они незаметны.\n",
    "\n",
    "**На практике исследования содержат проверки статистических гипотез.**\n",
    "Из данных одного сервиса не всегда можно сделать вывод о всех жителях города.\n",
    "Проверки статистических гипотез покажут, насколько они достоверны, исходя из имеющихся данных. \n",
    "С методами проверок гипотез вы ещё познакомитесь в следующих темах."
   ]
  }
 ],
 "metadata": {
  "ExecuteTimeLog": [
   {
    "duration": 104,
    "start_time": "2022-10-24T05:23:48.889Z"
   },
   {
    "duration": 50,
    "start_time": "2022-10-24T05:23:59.378Z"
   },
   {
    "duration": 6,
    "start_time": "2022-10-24T05:24:35.656Z"
   },
   {
    "duration": 5,
    "start_time": "2022-10-24T05:24:54.151Z"
   },
   {
    "duration": 5,
    "start_time": "2022-10-24T05:25:14.315Z"
   },
   {
    "duration": 6,
    "start_time": "2022-10-24T05:26:40.140Z"
   },
   {
    "duration": 389,
    "start_time": "2022-10-24T05:26:55.439Z"
   },
   {
    "duration": 472,
    "start_time": "2022-10-24T05:27:20.165Z"
   },
   {
    "duration": 16,
    "start_time": "2022-10-24T05:27:39.290Z"
   },
   {
    "duration": 29,
    "start_time": "2022-10-24T05:28:11.216Z"
   },
   {
    "duration": 32,
    "start_time": "2022-10-24T05:33:21.426Z"
   },
   {
    "duration": 2,
    "start_time": "2022-10-24T05:35:04.270Z"
   },
   {
    "duration": 3,
    "start_time": "2022-10-24T05:35:10.651Z"
   },
   {
    "duration": 7,
    "start_time": "2022-10-24T05:35:35.360Z"
   },
   {
    "duration": 4,
    "start_time": "2022-10-24T05:36:02.024Z"
   },
   {
    "duration": 12,
    "start_time": "2022-10-24T05:37:52.737Z"
   },
   {
    "duration": 4,
    "start_time": "2022-10-24T05:38:07.197Z"
   },
   {
    "duration": 50,
    "start_time": "2022-10-24T05:39:42.997Z"
   },
   {
    "duration": 1308,
    "start_time": "2022-10-24T05:46:22.666Z"
   },
   {
    "duration": 70,
    "start_time": "2022-10-24T05:46:48.666Z"
   },
   {
    "duration": 8,
    "start_time": "2022-10-24T05:47:43.889Z"
   },
   {
    "duration": 9,
    "start_time": "2022-10-24T05:48:04.554Z"
   },
   {
    "duration": 7,
    "start_time": "2022-10-24T05:48:13.135Z"
   },
   {
    "duration": 48,
    "start_time": "2022-10-24T05:51:51.971Z"
   },
   {
    "duration": 23,
    "start_time": "2022-10-24T05:52:07.412Z"
   },
   {
    "duration": 63,
    "start_time": "2022-10-24T05:52:51.511Z"
   },
   {
    "duration": 66,
    "start_time": "2022-10-24T05:53:47.939Z"
   },
   {
    "duration": 60,
    "start_time": "2022-10-24T05:54:00.141Z"
   },
   {
    "duration": 7,
    "start_time": "2022-10-24T05:54:53.902Z"
   },
   {
    "duration": 11,
    "start_time": "2022-10-24T05:59:07.469Z"
   },
   {
    "duration": 2,
    "start_time": "2022-10-24T06:13:52.985Z"
   },
   {
    "duration": 198,
    "start_time": "2022-10-24T06:13:52.990Z"
   },
   {
    "duration": 10,
    "start_time": "2022-10-24T06:13:53.189Z"
   },
   {
    "duration": 41,
    "start_time": "2022-10-24T06:13:53.201Z"
   },
   {
    "duration": 2,
    "start_time": "2022-10-24T06:13:53.244Z"
   },
   {
    "duration": 9,
    "start_time": "2022-10-24T06:13:53.247Z"
   },
   {
    "duration": 20,
    "start_time": "2022-10-24T06:13:53.257Z"
   },
   {
    "duration": 3,
    "start_time": "2022-10-24T06:13:53.279Z"
   },
   {
    "duration": 57,
    "start_time": "2022-10-24T06:13:53.285Z"
   },
   {
    "duration": 32,
    "start_time": "2022-10-24T06:13:53.344Z"
   },
   {
    "duration": 46,
    "start_time": "2022-10-24T06:13:53.378Z"
   },
   {
    "duration": 71,
    "start_time": "2022-10-24T06:13:53.426Z"
   },
   {
    "duration": 78,
    "start_time": "2022-10-24T06:13:53.499Z"
   },
   {
    "duration": 65,
    "start_time": "2022-10-24T06:13:53.579Z"
   },
   {
    "duration": 7,
    "start_time": "2022-10-24T06:13:53.646Z"
   },
   {
    "duration": 10,
    "start_time": "2022-10-24T06:13:53.655Z"
   },
   {
    "duration": 3,
    "start_time": "2022-10-24T06:13:53.667Z"
   },
   {
    "duration": 4,
    "start_time": "2022-10-24T06:13:53.671Z"
   },
   {
    "duration": 6,
    "start_time": "2022-10-24T06:13:53.677Z"
   },
   {
    "duration": 7,
    "start_time": "2022-10-24T06:13:53.684Z"
   },
   {
    "duration": 6,
    "start_time": "2022-10-24T06:13:53.693Z"
   },
   {
    "duration": 25,
    "start_time": "2022-10-24T06:13:53.701Z"
   },
   {
    "duration": 4,
    "start_time": "2022-10-24T06:13:53.727Z"
   },
   {
    "duration": 3,
    "start_time": "2022-10-24T06:13:53.734Z"
   },
   {
    "duration": 6,
    "start_time": "2022-10-24T06:13:53.738Z"
   },
   {
    "duration": 4,
    "start_time": "2022-10-24T06:13:53.745Z"
   },
   {
    "duration": 3,
    "start_time": "2022-10-24T06:13:53.751Z"
   },
   {
    "duration": 5,
    "start_time": "2022-10-24T06:13:53.756Z"
   },
   {
    "duration": 4,
    "start_time": "2022-10-24T06:13:53.762Z"
   },
   {
    "duration": 75,
    "start_time": "2022-10-24T06:13:53.768Z"
   },
   {
    "duration": 0,
    "start_time": "2022-10-24T06:13:53.845Z"
   },
   {
    "duration": 0,
    "start_time": "2022-10-24T06:13:53.846Z"
   },
   {
    "duration": 0,
    "start_time": "2022-10-24T06:13:53.848Z"
   },
   {
    "duration": 0,
    "start_time": "2022-10-24T06:13:53.849Z"
   },
   {
    "duration": 0,
    "start_time": "2022-10-24T06:13:53.851Z"
   },
   {
    "duration": 0,
    "start_time": "2022-10-24T06:13:53.852Z"
   },
   {
    "duration": 0,
    "start_time": "2022-10-24T06:13:53.853Z"
   },
   {
    "duration": 0,
    "start_time": "2022-10-24T06:13:53.855Z"
   },
   {
    "duration": 6,
    "start_time": "2022-10-24T06:18:06.544Z"
   },
   {
    "duration": 7,
    "start_time": "2022-10-24T06:18:20.804Z"
   },
   {
    "duration": 7,
    "start_time": "2022-10-24T06:18:29.432Z"
   },
   {
    "duration": 39,
    "start_time": "2022-10-24T06:27:01.777Z"
   },
   {
    "duration": 8,
    "start_time": "2022-10-24T06:27:23.601Z"
   },
   {
    "duration": 12,
    "start_time": "2022-10-24T06:27:33.799Z"
   },
   {
    "duration": 12,
    "start_time": "2022-10-24T06:28:08.888Z"
   },
   {
    "duration": 10,
    "start_time": "2022-10-24T06:28:28.096Z"
   },
   {
    "duration": 14,
    "start_time": "2022-10-24T06:28:52.140Z"
   },
   {
    "duration": 5,
    "start_time": "2022-10-24T06:29:10.263Z"
   },
   {
    "duration": 57,
    "start_time": "2022-10-24T06:29:15.833Z"
   },
   {
    "duration": 4,
    "start_time": "2022-10-24T06:29:57.077Z"
   },
   {
    "duration": 4,
    "start_time": "2022-10-24T06:30:07.302Z"
   },
   {
    "duration": 45,
    "start_time": "2022-10-24T06:30:23.096Z"
   },
   {
    "duration": 42,
    "start_time": "2022-10-24T06:30:40.182Z"
   },
   {
    "duration": 26,
    "start_time": "2022-10-24T06:30:55.580Z"
   },
   {
    "duration": 73,
    "start_time": "2022-10-24T06:31:02.733Z"
   },
   {
    "duration": 2,
    "start_time": "2022-10-24T06:31:39.334Z"
   },
   {
    "duration": 62,
    "start_time": "2022-10-24T06:31:43.278Z"
   },
   {
    "duration": 73,
    "start_time": "2022-10-24T06:33:04.346Z"
   },
   {
    "duration": 61,
    "start_time": "2022-10-24T06:33:14.053Z"
   },
   {
    "duration": 39,
    "start_time": "2022-10-24T06:34:27.944Z"
   },
   {
    "duration": 18,
    "start_time": "2022-10-24T06:35:01.696Z"
   },
   {
    "duration": 33,
    "start_time": "2022-10-24T06:35:36.079Z"
   },
   {
    "duration": 10,
    "start_time": "2022-10-24T06:36:01.933Z"
   },
   {
    "duration": 12,
    "start_time": "2022-10-24T06:36:06.810Z"
   },
   {
    "duration": 11,
    "start_time": "2022-10-24T06:36:26.040Z"
   },
   {
    "duration": 3,
    "start_time": "2022-10-24T07:19:14.079Z"
   },
   {
    "duration": 10,
    "start_time": "2022-10-24T07:19:56.127Z"
   },
   {
    "duration": 9,
    "start_time": "2022-10-24T07:20:11.746Z"
   },
   {
    "duration": 3,
    "start_time": "2022-10-24T07:35:04.538Z"
   },
   {
    "duration": 6,
    "start_time": "2022-10-24T07:36:20.974Z"
   },
   {
    "duration": 5,
    "start_time": "2022-10-24T07:39:09.402Z"
   },
   {
    "duration": 7,
    "start_time": "2022-10-24T07:39:12.312Z"
   },
   {
    "duration": 4,
    "start_time": "2022-10-24T07:39:43.123Z"
   },
   {
    "duration": 6,
    "start_time": "2022-10-24T07:39:46.487Z"
   },
   {
    "duration": 3,
    "start_time": "2022-10-24T07:41:03.484Z"
   },
   {
    "duration": 7,
    "start_time": "2022-10-24T07:41:06.077Z"
   },
   {
    "duration": 9,
    "start_time": "2022-10-24T07:41:15.074Z"
   },
   {
    "duration": 10,
    "start_time": "2022-10-24T07:41:51.680Z"
   },
   {
    "duration": 7,
    "start_time": "2022-10-24T07:42:12.474Z"
   },
   {
    "duration": 4,
    "start_time": "2022-10-24T07:51:04.957Z"
   },
   {
    "duration": 5,
    "start_time": "2022-10-24T07:51:11.727Z"
   },
   {
    "duration": 8,
    "start_time": "2022-10-24T07:51:14.960Z"
   },
   {
    "duration": 17,
    "start_time": "2022-10-24T07:51:30.743Z"
   },
   {
    "duration": 14,
    "start_time": "2022-10-24T07:51:48.725Z"
   },
   {
    "duration": 3,
    "start_time": "2022-10-24T07:51:55.560Z"
   },
   {
    "duration": 8,
    "start_time": "2022-10-24T07:51:58.782Z"
   },
   {
    "duration": 7,
    "start_time": "2022-10-24T07:52:02.887Z"
   },
   {
    "duration": 8,
    "start_time": "2022-10-24T07:52:15.658Z"
   },
   {
    "duration": 7,
    "start_time": "2022-10-24T07:52:42.580Z"
   },
   {
    "duration": 8,
    "start_time": "2022-10-24T07:53:07.313Z"
   },
   {
    "duration": 5,
    "start_time": "2022-10-24T07:53:50.032Z"
   },
   {
    "duration": 9,
    "start_time": "2022-10-24T07:53:57.408Z"
   },
   {
    "duration": 4,
    "start_time": "2022-10-24T07:56:53.379Z"
   },
   {
    "duration": 10,
    "start_time": "2022-10-24T07:56:56.243Z"
   },
   {
    "duration": 4,
    "start_time": "2022-10-24T07:57:38.470Z"
   },
   {
    "duration": 10,
    "start_time": "2022-10-24T07:57:41.624Z"
   },
   {
    "duration": 3,
    "start_time": "2022-10-24T07:57:54.091Z"
   },
   {
    "duration": 8,
    "start_time": "2022-10-24T07:57:56.837Z"
   },
   {
    "duration": 73,
    "start_time": "2022-10-24T07:59:43.567Z"
   },
   {
    "duration": 76,
    "start_time": "2022-10-24T08:00:12.607Z"
   },
   {
    "duration": 72,
    "start_time": "2022-10-24T08:00:36.113Z"
   },
   {
    "duration": 106,
    "start_time": "2022-10-24T09:07:45.446Z"
   },
   {
    "duration": 4,
    "start_time": "2022-10-24T09:08:05.158Z"
   },
   {
    "duration": 7,
    "start_time": "2022-10-24T09:08:07.691Z"
   },
   {
    "duration": 4,
    "start_time": "2022-10-24T09:11:47.299Z"
   },
   {
    "duration": 22,
    "start_time": "2022-10-24T09:11:49.995Z"
   },
   {
    "duration": 4,
    "start_time": "2022-10-24T09:13:39.084Z"
   },
   {
    "duration": 19,
    "start_time": "2022-10-24T09:13:41.963Z"
   },
   {
    "duration": 3,
    "start_time": "2022-10-24T09:22:30.978Z"
   },
   {
    "duration": 8,
    "start_time": "2022-10-24T09:22:34.443Z"
   },
   {
    "duration": 9,
    "start_time": "2022-10-24T09:22:41.784Z"
   },
   {
    "duration": 4,
    "start_time": "2022-10-24T09:24:34.060Z"
   },
   {
    "duration": 11,
    "start_time": "2022-10-24T09:24:36.084Z"
   },
   {
    "duration": 78,
    "start_time": "2022-10-24T09:25:55.668Z"
   },
   {
    "duration": 4,
    "start_time": "2022-10-24T09:26:00.743Z"
   },
   {
    "duration": 8,
    "start_time": "2022-10-24T09:26:04.070Z"
   },
   {
    "duration": 5,
    "start_time": "2022-10-24T09:34:11.021Z"
   },
   {
    "duration": 1207,
    "start_time": "2022-10-24T09:34:13.235Z"
   },
   {
    "duration": 9,
    "start_time": "2022-10-24T09:34:36.192Z"
   },
   {
    "duration": 4,
    "start_time": "2022-10-24T09:34:53.607Z"
   },
   {
    "duration": 0,
    "start_time": "2022-10-24T09:35:06.745Z"
   },
   {
    "duration": 2089,
    "start_time": "2022-10-24T09:35:12.831Z"
   },
   {
    "duration": 1429,
    "start_time": "2022-10-24T09:35:30.459Z"
   },
   {
    "duration": 5,
    "start_time": "2022-10-24T09:36:29.213Z"
   },
   {
    "duration": 17,
    "start_time": "2022-10-24T09:36:30.988Z"
   },
   {
    "duration": 15,
    "start_time": "2022-10-24T09:36:35.700Z"
   },
   {
    "duration": 19,
    "start_time": "2022-10-24T09:37:30.118Z"
   },
   {
    "duration": 17,
    "start_time": "2022-10-24T09:37:50.565Z"
   },
   {
    "duration": 14,
    "start_time": "2022-10-24T09:38:07.708Z"
   },
   {
    "duration": 17,
    "start_time": "2022-10-24T09:38:38.157Z"
   },
   {
    "duration": 16,
    "start_time": "2022-10-24T09:38:39.883Z"
   },
   {
    "duration": 8,
    "start_time": "2022-10-24T09:56:03.211Z"
   },
   {
    "duration": 9,
    "start_time": "2022-10-24T09:56:29.590Z"
   },
   {
    "duration": 8,
    "start_time": "2022-10-24T09:56:35.058Z"
   },
   {
    "duration": 3,
    "start_time": "2022-10-24T09:56:44.635Z"
   },
   {
    "duration": 12,
    "start_time": "2022-10-24T11:17:58.698Z"
   },
   {
    "duration": 9,
    "start_time": "2022-10-24T11:18:19.707Z"
   },
   {
    "duration": 74,
    "start_time": "2022-10-24T11:34:18.198Z"
   },
   {
    "duration": 126,
    "start_time": "2022-10-24T11:36:10.936Z"
   },
   {
    "duration": 5,
    "start_time": "2022-10-24T11:36:16.962Z"
   },
   {
    "duration": 30,
    "start_time": "2022-10-24T11:37:33.380Z"
   },
   {
    "duration": 6,
    "start_time": "2022-10-24T11:37:59.056Z"
   },
   {
    "duration": 6,
    "start_time": "2022-10-24T11:39:04.315Z"
   },
   {
    "duration": 21,
    "start_time": "2022-10-24T11:39:08.024Z"
   },
   {
    "duration": 18,
    "start_time": "2022-10-24T11:40:03.956Z"
   },
   {
    "duration": 12,
    "start_time": "2022-10-24T11:40:37.543Z"
   },
   {
    "duration": 22,
    "start_time": "2022-10-24T11:40:54.003Z"
   },
   {
    "duration": 13,
    "start_time": "2022-10-24T11:40:59.489Z"
   },
   {
    "duration": 84,
    "start_time": "2022-10-24T11:44:09.561Z"
   },
   {
    "duration": 7,
    "start_time": "2022-10-24T11:44:26.001Z"
   },
   {
    "duration": 10,
    "start_time": "2022-10-24T11:44:38.641Z"
   },
   {
    "duration": 49,
    "start_time": "2022-10-24T16:02:59.739Z"
   },
   {
    "duration": 6,
    "start_time": "2022-10-24T16:04:30.204Z"
   },
   {
    "duration": 8,
    "start_time": "2022-10-24T16:13:10.759Z"
   },
   {
    "duration": 6,
    "start_time": "2022-10-24T16:14:10.013Z"
   },
   {
    "duration": 7,
    "start_time": "2022-10-24T16:15:38.211Z"
   },
   {
    "duration": 4,
    "start_time": "2022-10-24T16:20:07.828Z"
   },
   {
    "duration": 11,
    "start_time": "2022-10-24T16:20:11.913Z"
   },
   {
    "duration": 7,
    "start_time": "2022-10-24T16:21:52.773Z"
   },
   {
    "duration": 6,
    "start_time": "2022-10-24T16:24:37.033Z"
   },
   {
    "duration": 381,
    "start_time": "2022-10-25T07:07:02.466Z"
   },
   {
    "duration": 233,
    "start_time": "2022-10-25T07:07:04.546Z"
   },
   {
    "duration": 16,
    "start_time": "2022-10-25T07:07:06.171Z"
   },
   {
    "duration": 29,
    "start_time": "2022-10-25T07:07:09.564Z"
   },
   {
    "duration": 2,
    "start_time": "2022-10-25T07:07:14.112Z"
   },
   {
    "duration": 835,
    "start_time": "2022-10-25T07:09:05.896Z"
   },
   {
    "duration": 3,
    "start_time": "2022-10-25T07:09:16.672Z"
   },
   {
    "duration": 180,
    "start_time": "2022-10-25T07:09:16.676Z"
   },
   {
    "duration": 13,
    "start_time": "2022-10-25T07:09:16.858Z"
   },
   {
    "duration": 38,
    "start_time": "2022-10-25T07:09:16.872Z"
   },
   {
    "duration": 23,
    "start_time": "2022-10-25T07:09:16.912Z"
   },
   {
    "duration": 27,
    "start_time": "2022-10-25T07:09:16.937Z"
   },
   {
    "duration": 25,
    "start_time": "2022-10-25T07:09:16.965Z"
   },
   {
    "duration": 29,
    "start_time": "2022-10-25T07:09:16.991Z"
   },
   {
    "duration": 67,
    "start_time": "2022-10-25T07:09:17.022Z"
   },
   {
    "duration": 301,
    "start_time": "2022-10-25T07:09:17.090Z"
   },
   {
    "duration": 28,
    "start_time": "2022-10-25T07:09:17.393Z"
   },
   {
    "duration": 74,
    "start_time": "2022-10-25T07:09:17.422Z"
   },
   {
    "duration": 81,
    "start_time": "2022-10-25T07:09:17.497Z"
   },
   {
    "duration": 72,
    "start_time": "2022-10-25T07:09:17.579Z"
   },
   {
    "duration": 6,
    "start_time": "2022-10-25T07:09:17.653Z"
   },
   {
    "duration": 30,
    "start_time": "2022-10-25T07:09:17.661Z"
   },
   {
    "duration": 22,
    "start_time": "2022-10-25T07:09:17.693Z"
   },
   {
    "duration": 19,
    "start_time": "2022-10-25T07:09:17.716Z"
   },
   {
    "duration": 12,
    "start_time": "2022-10-25T07:09:17.736Z"
   },
   {
    "duration": 16,
    "start_time": "2022-10-25T07:09:17.749Z"
   },
   {
    "duration": 53,
    "start_time": "2022-10-25T07:09:17.767Z"
   },
   {
    "duration": 31,
    "start_time": "2022-10-25T07:09:17.822Z"
   },
   {
    "duration": 32,
    "start_time": "2022-10-25T07:09:17.854Z"
   },
   {
    "duration": 24,
    "start_time": "2022-10-25T07:09:17.887Z"
   },
   {
    "duration": 16,
    "start_time": "2022-10-25T07:09:17.912Z"
   },
   {
    "duration": 22,
    "start_time": "2022-10-25T07:09:17.929Z"
   },
   {
    "duration": 19,
    "start_time": "2022-10-25T07:09:17.953Z"
   },
   {
    "duration": 37,
    "start_time": "2022-10-25T07:09:17.973Z"
   },
   {
    "duration": 10,
    "start_time": "2022-10-25T07:09:18.013Z"
   },
   {
    "duration": 9,
    "start_time": "2022-10-25T07:09:18.024Z"
   },
   {
    "duration": 36,
    "start_time": "2022-10-25T07:09:18.034Z"
   },
   {
    "duration": 31,
    "start_time": "2022-10-25T07:09:18.071Z"
   },
   {
    "duration": 36,
    "start_time": "2022-10-25T07:09:18.103Z"
   },
   {
    "duration": 20,
    "start_time": "2022-10-25T07:09:18.142Z"
   },
   {
    "duration": 59,
    "start_time": "2022-10-25T07:09:18.164Z"
   },
   {
    "duration": 0,
    "start_time": "2022-10-25T07:09:18.226Z"
   },
   {
    "duration": 0,
    "start_time": "2022-10-25T07:09:18.227Z"
   },
   {
    "duration": 0,
    "start_time": "2022-10-25T07:09:18.229Z"
   },
   {
    "duration": 12,
    "start_time": "2022-10-25T07:10:08.653Z"
   },
   {
    "duration": 11,
    "start_time": "2022-10-25T07:10:24.863Z"
   },
   {
    "duration": 8,
    "start_time": "2022-10-25T07:10:57.420Z"
   },
   {
    "duration": 8,
    "start_time": "2022-10-25T07:11:03.769Z"
   },
   {
    "duration": 3,
    "start_time": "2022-10-25T07:11:07.661Z"
   },
   {
    "duration": 198,
    "start_time": "2022-10-25T07:11:07.665Z"
   },
   {
    "duration": 11,
    "start_time": "2022-10-25T07:11:07.865Z"
   },
   {
    "duration": 53,
    "start_time": "2022-10-25T07:11:07.878Z"
   },
   {
    "duration": 24,
    "start_time": "2022-10-25T07:11:07.933Z"
   },
   {
    "duration": 30,
    "start_time": "2022-10-25T07:11:07.959Z"
   },
   {
    "duration": 44,
    "start_time": "2022-10-25T07:11:07.990Z"
   },
   {
    "duration": 62,
    "start_time": "2022-10-25T07:11:08.036Z"
   },
   {
    "duration": 91,
    "start_time": "2022-10-25T07:11:08.101Z"
   },
   {
    "duration": 52,
    "start_time": "2022-10-25T07:11:08.194Z"
   },
   {
    "duration": 23,
    "start_time": "2022-10-25T07:11:08.248Z"
   },
   {
    "duration": 90,
    "start_time": "2022-10-25T07:11:08.273Z"
   },
   {
    "duration": 79,
    "start_time": "2022-10-25T07:11:08.364Z"
   },
   {
    "duration": 78,
    "start_time": "2022-10-25T07:11:08.444Z"
   },
   {
    "duration": 8,
    "start_time": "2022-10-25T07:11:08.539Z"
   },
   {
    "duration": 68,
    "start_time": "2022-10-25T07:11:08.548Z"
   },
   {
    "duration": 53,
    "start_time": "2022-10-25T07:11:08.618Z"
   },
   {
    "duration": 15,
    "start_time": "2022-10-25T07:11:08.673Z"
   },
   {
    "duration": 15,
    "start_time": "2022-10-25T07:11:08.689Z"
   },
   {
    "duration": 4,
    "start_time": "2022-10-25T07:11:08.706Z"
   },
   {
    "duration": 22,
    "start_time": "2022-10-25T07:11:08.712Z"
   },
   {
    "duration": 18,
    "start_time": "2022-10-25T07:11:08.736Z"
   },
   {
    "duration": 16,
    "start_time": "2022-10-25T07:11:08.756Z"
   },
   {
    "duration": 14,
    "start_time": "2022-10-25T07:11:08.777Z"
   },
   {
    "duration": 49,
    "start_time": "2022-10-25T07:11:08.793Z"
   },
   {
    "duration": 22,
    "start_time": "2022-10-25T07:11:08.844Z"
   },
   {
    "duration": 4,
    "start_time": "2022-10-25T07:11:08.868Z"
   },
   {
    "duration": 17,
    "start_time": "2022-10-25T07:11:08.873Z"
   },
   {
    "duration": 10,
    "start_time": "2022-10-25T07:11:08.891Z"
   },
   {
    "duration": 5,
    "start_time": "2022-10-25T07:11:08.903Z"
   },
   {
    "duration": 40,
    "start_time": "2022-10-25T07:11:08.909Z"
   },
   {
    "duration": 10,
    "start_time": "2022-10-25T07:11:08.951Z"
   },
   {
    "duration": 18,
    "start_time": "2022-10-25T07:11:08.962Z"
   },
   {
    "duration": 11,
    "start_time": "2022-10-25T07:11:08.982Z"
   },
   {
    "duration": 49,
    "start_time": "2022-10-25T07:11:08.994Z"
   },
   {
    "duration": 0,
    "start_time": "2022-10-25T07:11:09.045Z"
   },
   {
    "duration": 0,
    "start_time": "2022-10-25T07:11:09.046Z"
   },
   {
    "duration": 0,
    "start_time": "2022-10-25T07:11:09.047Z"
   },
   {
    "duration": 8,
    "start_time": "2022-10-25T07:11:54.359Z"
   },
   {
    "duration": 8,
    "start_time": "2022-10-25T07:11:59.314Z"
   },
   {
    "duration": 8,
    "start_time": "2022-10-25T07:12:06.970Z"
   },
   {
    "duration": 11,
    "start_time": "2022-10-25T07:12:10.787Z"
   },
   {
    "duration": 3,
    "start_time": "2022-10-25T07:12:13.717Z"
   },
   {
    "duration": 177,
    "start_time": "2022-10-25T07:12:13.721Z"
   },
   {
    "duration": 11,
    "start_time": "2022-10-25T07:12:13.900Z"
   },
   {
    "duration": 38,
    "start_time": "2022-10-25T07:12:13.913Z"
   },
   {
    "duration": 2,
    "start_time": "2022-10-25T07:12:13.953Z"
   },
   {
    "duration": 13,
    "start_time": "2022-10-25T07:12:13.956Z"
   },
   {
    "duration": 17,
    "start_time": "2022-10-25T07:12:13.970Z"
   },
   {
    "duration": 10,
    "start_time": "2022-10-25T07:12:13.989Z"
   },
   {
    "duration": 52,
    "start_time": "2022-10-25T07:12:14.001Z"
   },
   {
    "duration": 32,
    "start_time": "2022-10-25T07:12:14.054Z"
   },
   {
    "duration": 25,
    "start_time": "2022-10-25T07:12:14.088Z"
   },
   {
    "duration": 80,
    "start_time": "2022-10-25T07:12:14.114Z"
   },
   {
    "duration": 79,
    "start_time": "2022-10-25T07:12:14.196Z"
   },
   {
    "duration": 74,
    "start_time": "2022-10-25T07:12:14.276Z"
   },
   {
    "duration": 8,
    "start_time": "2022-10-25T07:12:14.351Z"
   },
   {
    "duration": 15,
    "start_time": "2022-10-25T07:12:14.360Z"
   },
   {
    "duration": 10,
    "start_time": "2022-10-25T07:12:14.376Z"
   },
   {
    "duration": 12,
    "start_time": "2022-10-25T07:12:14.387Z"
   },
   {
    "duration": 42,
    "start_time": "2022-10-25T07:12:14.400Z"
   },
   {
    "duration": 4,
    "start_time": "2022-10-25T07:12:14.443Z"
   },
   {
    "duration": 25,
    "start_time": "2022-10-25T07:12:14.448Z"
   },
   {
    "duration": 15,
    "start_time": "2022-10-25T07:12:14.475Z"
   },
   {
    "duration": 15,
    "start_time": "2022-10-25T07:12:14.492Z"
   },
   {
    "duration": 38,
    "start_time": "2022-10-25T07:12:14.509Z"
   },
   {
    "duration": 20,
    "start_time": "2022-10-25T07:12:14.549Z"
   },
   {
    "duration": 14,
    "start_time": "2022-10-25T07:12:14.571Z"
   },
   {
    "duration": 3,
    "start_time": "2022-10-25T07:12:14.587Z"
   },
   {
    "duration": 18,
    "start_time": "2022-10-25T07:12:14.592Z"
   },
   {
    "duration": 32,
    "start_time": "2022-10-25T07:12:14.613Z"
   },
   {
    "duration": 5,
    "start_time": "2022-10-25T07:12:14.647Z"
   },
   {
    "duration": 22,
    "start_time": "2022-10-25T07:12:14.654Z"
   },
   {
    "duration": 11,
    "start_time": "2022-10-25T07:12:14.678Z"
   },
   {
    "duration": 19,
    "start_time": "2022-10-25T07:12:14.690Z"
   },
   {
    "duration": 36,
    "start_time": "2022-10-25T07:12:14.711Z"
   },
   {
    "duration": 7,
    "start_time": "2022-10-25T07:12:14.749Z"
   },
   {
    "duration": 0,
    "start_time": "2022-10-25T07:12:14.757Z"
   },
   {
    "duration": 0,
    "start_time": "2022-10-25T07:12:14.759Z"
   },
   {
    "duration": 0,
    "start_time": "2022-10-25T07:12:14.760Z"
   },
   {
    "duration": 8,
    "start_time": "2022-10-25T07:16:22.471Z"
   },
   {
    "duration": 11,
    "start_time": "2022-10-25T07:17:50.529Z"
   },
   {
    "duration": 9,
    "start_time": "2022-10-25T07:18:38.855Z"
   },
   {
    "duration": 21,
    "start_time": "2022-10-25T07:31:54.164Z"
   },
   {
    "duration": 12,
    "start_time": "2022-10-25T07:32:42.152Z"
   },
   {
    "duration": 8,
    "start_time": "2022-10-25T07:33:04.464Z"
   },
   {
    "duration": 9,
    "start_time": "2022-10-25T07:35:29.174Z"
   },
   {
    "duration": 4,
    "start_time": "2022-10-25T07:35:32.215Z"
   },
   {
    "duration": 10,
    "start_time": "2022-10-25T07:36:48.669Z"
   },
   {
    "duration": 5,
    "start_time": "2022-10-25T07:37:16.066Z"
   },
   {
    "duration": 5,
    "start_time": "2022-10-25T07:37:19.056Z"
   },
   {
    "duration": 2,
    "start_time": "2022-10-25T07:39:02.196Z"
   },
   {
    "duration": 202,
    "start_time": "2022-10-25T07:39:02.202Z"
   },
   {
    "duration": 10,
    "start_time": "2022-10-25T07:39:02.406Z"
   },
   {
    "duration": 52,
    "start_time": "2022-10-25T07:39:02.417Z"
   },
   {
    "duration": 2,
    "start_time": "2022-10-25T07:39:02.471Z"
   },
   {
    "duration": 6,
    "start_time": "2022-10-25T07:39:02.475Z"
   },
   {
    "duration": 10,
    "start_time": "2022-10-25T07:39:02.483Z"
   },
   {
    "duration": 5,
    "start_time": "2022-10-25T07:39:02.494Z"
   },
   {
    "duration": 73,
    "start_time": "2022-10-25T07:39:02.501Z"
   },
   {
    "duration": 33,
    "start_time": "2022-10-25T07:39:02.576Z"
   },
   {
    "duration": 39,
    "start_time": "2022-10-25T07:39:02.610Z"
   },
   {
    "duration": 62,
    "start_time": "2022-10-25T07:39:02.650Z"
   },
   {
    "duration": 84,
    "start_time": "2022-10-25T07:39:02.714Z"
   },
   {
    "duration": 77,
    "start_time": "2022-10-25T07:39:02.799Z"
   },
   {
    "duration": 6,
    "start_time": "2022-10-25T07:39:02.879Z"
   },
   {
    "duration": 15,
    "start_time": "2022-10-25T07:39:02.887Z"
   },
   {
    "duration": 11,
    "start_time": "2022-10-25T07:39:02.904Z"
   },
   {
    "duration": 34,
    "start_time": "2022-10-25T07:39:02.916Z"
   },
   {
    "duration": 15,
    "start_time": "2022-10-25T07:39:02.952Z"
   },
   {
    "duration": 13,
    "start_time": "2022-10-25T07:39:02.969Z"
   },
   {
    "duration": 30,
    "start_time": "2022-10-25T07:39:02.984Z"
   },
   {
    "duration": 15,
    "start_time": "2022-10-25T07:39:03.016Z"
   },
   {
    "duration": 23,
    "start_time": "2022-10-25T07:39:03.033Z"
   },
   {
    "duration": 17,
    "start_time": "2022-10-25T07:39:03.058Z"
   },
   {
    "duration": 16,
    "start_time": "2022-10-25T07:39:03.076Z"
   },
   {
    "duration": 13,
    "start_time": "2022-10-25T07:39:03.094Z"
   },
   {
    "duration": 14,
    "start_time": "2022-10-25T07:39:03.109Z"
   },
   {
    "duration": 41,
    "start_time": "2022-10-25T07:39:03.125Z"
   },
   {
    "duration": 10,
    "start_time": "2022-10-25T07:39:03.168Z"
   },
   {
    "duration": 4,
    "start_time": "2022-10-25T07:39:03.180Z"
   },
   {
    "duration": 29,
    "start_time": "2022-10-25T07:39:03.186Z"
   },
   {
    "duration": 11,
    "start_time": "2022-10-25T07:39:03.217Z"
   },
   {
    "duration": 33,
    "start_time": "2022-10-25T07:39:03.230Z"
   },
   {
    "duration": 16,
    "start_time": "2022-10-25T07:39:03.264Z"
   },
   {
    "duration": 20,
    "start_time": "2022-10-25T07:39:03.282Z"
   },
   {
    "duration": 10,
    "start_time": "2022-10-25T07:39:03.303Z"
   },
   {
    "duration": 12,
    "start_time": "2022-10-25T07:39:03.314Z"
   },
   {
    "duration": 7,
    "start_time": "2022-10-25T07:39:03.328Z"
   },
   {
    "duration": 26,
    "start_time": "2022-10-25T07:45:01.477Z"
   },
   {
    "duration": 57,
    "start_time": "2022-10-25T07:46:16.359Z"
   },
   {
    "duration": 74,
    "start_time": "2022-10-25T07:46:24.506Z"
   },
   {
    "duration": 66,
    "start_time": "2022-10-25T07:46:30.512Z"
   },
   {
    "duration": 79,
    "start_time": "2022-10-25T07:46:33.640Z"
   },
   {
    "duration": 63,
    "start_time": "2022-10-25T07:46:37.939Z"
   },
   {
    "duration": 2,
    "start_time": "2022-10-25T07:46:42.672Z"
   },
   {
    "duration": 173,
    "start_time": "2022-10-25T07:46:42.676Z"
   },
   {
    "duration": 10,
    "start_time": "2022-10-25T07:46:42.851Z"
   },
   {
    "duration": 33,
    "start_time": "2022-10-25T07:46:42.863Z"
   },
   {
    "duration": 3,
    "start_time": "2022-10-25T07:46:42.898Z"
   },
   {
    "duration": 7,
    "start_time": "2022-10-25T07:46:42.902Z"
   },
   {
    "duration": 8,
    "start_time": "2022-10-25T07:46:42.911Z"
   },
   {
    "duration": 19,
    "start_time": "2022-10-25T07:46:42.921Z"
   },
   {
    "duration": 28,
    "start_time": "2022-10-25T07:46:42.942Z"
   },
   {
    "duration": 33,
    "start_time": "2022-10-25T07:46:42.971Z"
   },
   {
    "duration": 37,
    "start_time": "2022-10-25T07:46:43.006Z"
   },
   {
    "duration": 69,
    "start_time": "2022-10-25T07:46:43.044Z"
   },
   {
    "duration": 84,
    "start_time": "2022-10-25T07:46:43.115Z"
   },
   {
    "duration": 70,
    "start_time": "2022-10-25T07:46:43.200Z"
   },
   {
    "duration": 7,
    "start_time": "2022-10-25T07:46:43.272Z"
   },
   {
    "duration": 14,
    "start_time": "2022-10-25T07:46:43.280Z"
   },
   {
    "duration": 9,
    "start_time": "2022-10-25T07:46:43.296Z"
   },
   {
    "duration": 32,
    "start_time": "2022-10-25T07:46:43.307Z"
   },
   {
    "duration": 11,
    "start_time": "2022-10-25T07:46:43.341Z"
   },
   {
    "duration": 3,
    "start_time": "2022-10-25T07:46:43.354Z"
   },
   {
    "duration": 23,
    "start_time": "2022-10-25T07:46:43.359Z"
   },
   {
    "duration": 17,
    "start_time": "2022-10-25T07:46:43.383Z"
   },
   {
    "duration": 45,
    "start_time": "2022-10-25T07:46:43.402Z"
   },
   {
    "duration": 17,
    "start_time": "2022-10-25T07:46:43.451Z"
   },
   {
    "duration": 16,
    "start_time": "2022-10-25T07:46:43.470Z"
   },
   {
    "duration": 15,
    "start_time": "2022-10-25T07:46:43.489Z"
   },
   {
    "duration": 34,
    "start_time": "2022-10-25T07:46:43.506Z"
   },
   {
    "duration": 17,
    "start_time": "2022-10-25T07:46:43.541Z"
   },
   {
    "duration": 10,
    "start_time": "2022-10-25T07:46:43.560Z"
   },
   {
    "duration": 4,
    "start_time": "2022-10-25T07:46:43.572Z"
   },
   {
    "duration": 21,
    "start_time": "2022-10-25T07:46:43.578Z"
   },
   {
    "duration": 38,
    "start_time": "2022-10-25T07:46:43.601Z"
   },
   {
    "duration": 19,
    "start_time": "2022-10-25T07:46:43.641Z"
   },
   {
    "duration": 13,
    "start_time": "2022-10-25T07:46:43.662Z"
   },
   {
    "duration": 8,
    "start_time": "2022-10-25T07:46:43.676Z"
   },
   {
    "duration": 5,
    "start_time": "2022-10-25T07:46:43.685Z"
   },
   {
    "duration": 8,
    "start_time": "2022-10-25T07:46:43.691Z"
   },
   {
    "duration": 4,
    "start_time": "2022-10-25T07:46:43.701Z"
   },
   {
    "duration": 78,
    "start_time": "2022-10-25T07:47:01.622Z"
   },
   {
    "duration": 74,
    "start_time": "2022-10-25T07:47:18.331Z"
   },
   {
    "duration": 68,
    "start_time": "2022-10-25T07:47:23.625Z"
   },
   {
    "duration": 58,
    "start_time": "2022-10-25T07:47:35.170Z"
   },
   {
    "duration": 65,
    "start_time": "2022-10-25T07:47:37.986Z"
   },
   {
    "duration": 67,
    "start_time": "2022-10-25T07:47:44.317Z"
   },
   {
    "duration": 59,
    "start_time": "2022-10-25T07:48:32.492Z"
   },
   {
    "duration": 70,
    "start_time": "2022-10-25T07:48:39.980Z"
   },
   {
    "duration": 56,
    "start_time": "2022-10-25T07:48:51.123Z"
   },
   {
    "duration": 62,
    "start_time": "2022-10-25T07:50:27.114Z"
   },
   {
    "duration": 80,
    "start_time": "2022-10-25T07:50:35.681Z"
   },
   {
    "duration": 61,
    "start_time": "2022-10-25T07:54:02.045Z"
   },
   {
    "duration": 3,
    "start_time": "2022-10-25T07:54:15.586Z"
   },
   {
    "duration": 179,
    "start_time": "2022-10-25T07:54:15.591Z"
   },
   {
    "duration": 11,
    "start_time": "2022-10-25T07:54:15.772Z"
   },
   {
    "duration": 39,
    "start_time": "2022-10-25T07:54:15.785Z"
   },
   {
    "duration": 14,
    "start_time": "2022-10-25T07:54:15.825Z"
   },
   {
    "duration": 27,
    "start_time": "2022-10-25T07:54:15.841Z"
   },
   {
    "duration": 21,
    "start_time": "2022-10-25T07:54:15.869Z"
   },
   {
    "duration": 22,
    "start_time": "2022-10-25T07:54:15.892Z"
   },
   {
    "duration": 37,
    "start_time": "2022-10-25T07:54:15.917Z"
   },
   {
    "duration": 50,
    "start_time": "2022-10-25T07:54:15.956Z"
   },
   {
    "duration": 26,
    "start_time": "2022-10-25T07:54:16.007Z"
   },
   {
    "duration": 64,
    "start_time": "2022-10-25T07:54:16.035Z"
   },
   {
    "duration": 78,
    "start_time": "2022-10-25T07:54:16.101Z"
   },
   {
    "duration": 68,
    "start_time": "2022-10-25T07:54:16.180Z"
   },
   {
    "duration": 8,
    "start_time": "2022-10-25T07:54:16.249Z"
   },
   {
    "duration": 12,
    "start_time": "2022-10-25T07:54:16.258Z"
   },
   {
    "duration": 17,
    "start_time": "2022-10-25T07:54:16.272Z"
   },
   {
    "duration": 20,
    "start_time": "2022-10-25T07:54:16.291Z"
   },
   {
    "duration": 26,
    "start_time": "2022-10-25T07:54:16.313Z"
   },
   {
    "duration": 3,
    "start_time": "2022-10-25T07:54:16.341Z"
   },
   {
    "duration": 32,
    "start_time": "2022-10-25T07:54:16.346Z"
   },
   {
    "duration": 14,
    "start_time": "2022-10-25T07:54:16.379Z"
   },
   {
    "duration": 16,
    "start_time": "2022-10-25T07:54:16.395Z"
   },
   {
    "duration": 27,
    "start_time": "2022-10-25T07:54:16.414Z"
   },
   {
    "duration": 21,
    "start_time": "2022-10-25T07:54:16.442Z"
   },
   {
    "duration": 15,
    "start_time": "2022-10-25T07:54:16.465Z"
   },
   {
    "duration": 4,
    "start_time": "2022-10-25T07:54:16.482Z"
   },
   {
    "duration": 28,
    "start_time": "2022-10-25T07:54:16.487Z"
   },
   {
    "duration": 22,
    "start_time": "2022-10-25T07:54:16.516Z"
   },
   {
    "duration": 4,
    "start_time": "2022-10-25T07:54:16.540Z"
   },
   {
    "duration": 37,
    "start_time": "2022-10-25T07:54:16.546Z"
   },
   {
    "duration": 11,
    "start_time": "2022-10-25T07:54:16.585Z"
   },
   {
    "duration": 22,
    "start_time": "2022-10-25T07:54:16.598Z"
   },
   {
    "duration": 35,
    "start_time": "2022-10-25T07:54:16.622Z"
   },
   {
    "duration": 15,
    "start_time": "2022-10-25T07:54:16.658Z"
   },
   {
    "duration": 5,
    "start_time": "2022-10-25T07:54:16.675Z"
   },
   {
    "duration": 16,
    "start_time": "2022-10-25T07:54:16.682Z"
   },
   {
    "duration": 4,
    "start_time": "2022-10-25T07:54:16.700Z"
   },
   {
    "duration": 62,
    "start_time": "2022-10-25T07:54:47.756Z"
   },
   {
    "duration": 57,
    "start_time": "2022-10-25T08:27:57.511Z"
   },
   {
    "duration": 58,
    "start_time": "2022-10-25T08:34:22.967Z"
   },
   {
    "duration": 60,
    "start_time": "2022-10-25T08:36:03.433Z"
   },
   {
    "duration": 57,
    "start_time": "2022-10-25T08:36:06.198Z"
   },
   {
    "duration": 10,
    "start_time": "2022-10-25T08:38:11.772Z"
   },
   {
    "duration": 10,
    "start_time": "2022-10-25T08:39:42.139Z"
   },
   {
    "duration": 7,
    "start_time": "2022-10-25T08:39:56.491Z"
   },
   {
    "duration": 45,
    "start_time": "2022-10-25T08:43:24.576Z"
   },
   {
    "duration": 48,
    "start_time": "2022-10-25T08:48:06.651Z"
   },
   {
    "duration": 8,
    "start_time": "2022-10-25T08:48:09.347Z"
   },
   {
    "duration": 7,
    "start_time": "2022-10-25T08:48:14.064Z"
   },
   {
    "duration": 7,
    "start_time": "2022-10-25T08:49:04.536Z"
   },
   {
    "duration": 7,
    "start_time": "2022-10-25T08:49:17.044Z"
   },
   {
    "duration": 7,
    "start_time": "2022-10-25T08:50:16.858Z"
   },
   {
    "duration": 7,
    "start_time": "2022-10-25T08:50:33.502Z"
   },
   {
    "duration": 7,
    "start_time": "2022-10-25T08:52:23.724Z"
   },
   {
    "duration": 17,
    "start_time": "2022-10-25T08:56:23.709Z"
   },
   {
    "duration": 19,
    "start_time": "2022-10-25T08:57:20.486Z"
   },
   {
    "duration": 11,
    "start_time": "2022-10-25T08:57:20.976Z"
   },
   {
    "duration": 19,
    "start_time": "2022-10-25T08:57:21.562Z"
   },
   {
    "duration": 12,
    "start_time": "2022-10-25T08:57:22.063Z"
   },
   {
    "duration": 16,
    "start_time": "2022-10-25T09:07:45.187Z"
   },
   {
    "duration": 11,
    "start_time": "2022-10-25T09:07:54.971Z"
   },
   {
    "duration": 17,
    "start_time": "2022-10-25T09:07:57.822Z"
   },
   {
    "duration": 13,
    "start_time": "2022-10-25T09:08:00.289Z"
   },
   {
    "duration": 17,
    "start_time": "2022-10-25T09:08:34.367Z"
   },
   {
    "duration": 45,
    "start_time": "2022-10-25T09:13:17.370Z"
   },
   {
    "duration": 44,
    "start_time": "2022-10-25T09:13:32.451Z"
   },
   {
    "duration": 53,
    "start_time": "2022-10-25T09:13:44.230Z"
   },
   {
    "duration": 45,
    "start_time": "2022-10-25T09:13:46.722Z"
   },
   {
    "duration": 42,
    "start_time": "2022-10-25T09:13:48.853Z"
   },
   {
    "duration": 3,
    "start_time": "2022-10-25T09:15:06.563Z"
   },
   {
    "duration": 173,
    "start_time": "2022-10-25T09:15:06.568Z"
   },
   {
    "duration": 11,
    "start_time": "2022-10-25T09:15:06.743Z"
   },
   {
    "duration": 42,
    "start_time": "2022-10-25T09:15:06.756Z"
   },
   {
    "duration": 2,
    "start_time": "2022-10-25T09:15:06.800Z"
   },
   {
    "duration": 7,
    "start_time": "2022-10-25T09:15:06.803Z"
   },
   {
    "duration": 12,
    "start_time": "2022-10-25T09:15:06.812Z"
   },
   {
    "duration": 4,
    "start_time": "2022-10-25T09:15:06.838Z"
   },
   {
    "duration": 27,
    "start_time": "2022-10-25T09:15:06.844Z"
   },
   {
    "duration": 32,
    "start_time": "2022-10-25T09:15:06.874Z"
   },
   {
    "duration": 41,
    "start_time": "2022-10-25T09:15:06.907Z"
   },
   {
    "duration": 62,
    "start_time": "2022-10-25T09:15:06.950Z"
   },
   {
    "duration": 87,
    "start_time": "2022-10-25T09:15:07.014Z"
   },
   {
    "duration": 70,
    "start_time": "2022-10-25T09:15:07.103Z"
   },
   {
    "duration": 51,
    "start_time": "2022-10-25T09:15:07.175Z"
   },
   {
    "duration": 11,
    "start_time": "2022-10-25T09:15:07.238Z"
   },
   {
    "duration": 64,
    "start_time": "2022-10-25T09:15:07.251Z"
   },
   {
    "duration": 22,
    "start_time": "2022-10-25T09:15:07.317Z"
   },
   {
    "duration": 18,
    "start_time": "2022-10-25T09:15:07.341Z"
   },
   {
    "duration": 5,
    "start_time": "2022-10-25T09:15:07.361Z"
   },
   {
    "duration": 40,
    "start_time": "2022-10-25T09:15:07.368Z"
   },
   {
    "duration": 31,
    "start_time": "2022-10-25T09:15:07.410Z"
   },
   {
    "duration": 23,
    "start_time": "2022-10-25T09:15:07.443Z"
   },
   {
    "duration": 23,
    "start_time": "2022-10-25T09:15:07.468Z"
   },
   {
    "duration": 27,
    "start_time": "2022-10-25T09:15:07.493Z"
   },
   {
    "duration": 30,
    "start_time": "2022-10-25T09:15:07.522Z"
   },
   {
    "duration": 5,
    "start_time": "2022-10-25T09:15:07.555Z"
   },
   {
    "duration": 25,
    "start_time": "2022-10-25T09:15:07.564Z"
   },
   {
    "duration": 11,
    "start_time": "2022-10-25T09:15:07.592Z"
   },
   {
    "duration": 34,
    "start_time": "2022-10-25T09:15:07.605Z"
   },
   {
    "duration": 57,
    "start_time": "2022-10-25T09:15:07.641Z"
   },
   {
    "duration": 0,
    "start_time": "2022-10-25T09:15:07.699Z"
   },
   {
    "duration": 0,
    "start_time": "2022-10-25T09:15:07.700Z"
   },
   {
    "duration": 0,
    "start_time": "2022-10-25T09:15:07.701Z"
   },
   {
    "duration": 0,
    "start_time": "2022-10-25T09:15:07.702Z"
   },
   {
    "duration": 0,
    "start_time": "2022-10-25T09:15:07.703Z"
   },
   {
    "duration": 0,
    "start_time": "2022-10-25T09:15:07.704Z"
   },
   {
    "duration": 0,
    "start_time": "2022-10-25T09:15:07.705Z"
   },
   {
    "duration": 17,
    "start_time": "2022-10-25T09:15:29.735Z"
   },
   {
    "duration": 16,
    "start_time": "2022-10-25T09:16:06.140Z"
   },
   {
    "duration": 54,
    "start_time": "2022-10-25T09:16:12.144Z"
   },
   {
    "duration": 87,
    "start_time": "2022-10-25T09:16:30.852Z"
   },
   {
    "duration": 20,
    "start_time": "2022-10-25T09:16:43.387Z"
   },
   {
    "duration": 13,
    "start_time": "2022-10-25T09:16:50.423Z"
   },
   {
    "duration": 5,
    "start_time": "2022-10-25T09:28:58.316Z"
   },
   {
    "duration": 21,
    "start_time": "2022-10-25T09:29:01.408Z"
   },
   {
    "duration": 12,
    "start_time": "2022-10-25T09:29:04.395Z"
   },
   {
    "duration": 19,
    "start_time": "2022-10-25T09:29:04.891Z"
   },
   {
    "duration": 12,
    "start_time": "2022-10-25T09:29:05.415Z"
   },
   {
    "duration": 5,
    "start_time": "2022-10-25T09:29:13.312Z"
   },
   {
    "duration": 2,
    "start_time": "2022-10-25T09:51:41.127Z"
   },
   {
    "duration": 173,
    "start_time": "2022-10-25T09:51:41.131Z"
   },
   {
    "duration": 11,
    "start_time": "2022-10-25T09:51:41.306Z"
   },
   {
    "duration": 39,
    "start_time": "2022-10-25T09:51:41.319Z"
   },
   {
    "duration": 2,
    "start_time": "2022-10-25T09:51:41.361Z"
   },
   {
    "duration": 8,
    "start_time": "2022-10-25T09:51:41.365Z"
   },
   {
    "duration": 17,
    "start_time": "2022-10-25T09:51:41.374Z"
   },
   {
    "duration": 8,
    "start_time": "2022-10-25T09:51:41.393Z"
   },
   {
    "duration": 40,
    "start_time": "2022-10-25T09:51:41.402Z"
   },
   {
    "duration": 39,
    "start_time": "2022-10-25T09:51:41.444Z"
   },
   {
    "duration": 24,
    "start_time": "2022-10-25T09:51:41.485Z"
   },
   {
    "duration": 85,
    "start_time": "2022-10-25T09:51:41.511Z"
   },
   {
    "duration": 76,
    "start_time": "2022-10-25T09:51:41.599Z"
   },
   {
    "duration": 68,
    "start_time": "2022-10-25T09:51:41.677Z"
   },
   {
    "duration": 52,
    "start_time": "2022-10-25T09:51:41.747Z"
   },
   {
    "duration": 11,
    "start_time": "2022-10-25T09:51:41.801Z"
   },
   {
    "duration": 70,
    "start_time": "2022-10-25T09:51:41.814Z"
   },
   {
    "duration": 13,
    "start_time": "2022-10-25T09:51:41.886Z"
   },
   {
    "duration": 12,
    "start_time": "2022-10-25T09:51:41.900Z"
   },
   {
    "duration": 3,
    "start_time": "2022-10-25T09:51:41.914Z"
   },
   {
    "duration": 21,
    "start_time": "2022-10-25T09:51:41.938Z"
   },
   {
    "duration": 14,
    "start_time": "2022-10-25T09:51:41.961Z"
   },
   {
    "duration": 67,
    "start_time": "2022-10-25T09:51:41.976Z"
   },
   {
    "duration": 14,
    "start_time": "2022-10-25T09:51:42.044Z"
   },
   {
    "duration": 16,
    "start_time": "2022-10-25T09:51:42.059Z"
   },
   {
    "duration": 14,
    "start_time": "2022-10-25T09:51:42.077Z"
   },
   {
    "duration": 4,
    "start_time": "2022-10-25T09:51:42.092Z"
   },
   {
    "duration": 42,
    "start_time": "2022-10-25T09:51:42.098Z"
   },
   {
    "duration": 10,
    "start_time": "2022-10-25T09:51:42.143Z"
   },
   {
    "duration": 4,
    "start_time": "2022-10-25T09:51:42.155Z"
   },
   {
    "duration": 21,
    "start_time": "2022-10-25T09:51:42.161Z"
   },
   {
    "duration": 11,
    "start_time": "2022-10-25T09:51:42.183Z"
   },
   {
    "duration": 43,
    "start_time": "2022-10-25T09:51:42.196Z"
   },
   {
    "duration": 22,
    "start_time": "2022-10-25T09:51:42.241Z"
   },
   {
    "duration": 15,
    "start_time": "2022-10-25T09:51:42.265Z"
   },
   {
    "duration": 6,
    "start_time": "2022-10-25T09:51:42.282Z"
   },
   {
    "duration": 8,
    "start_time": "2022-10-25T09:51:42.289Z"
   },
   {
    "duration": 7,
    "start_time": "2022-10-25T09:51:42.299Z"
   },
   {
    "duration": 404,
    "start_time": "2022-10-25T14:55:41.875Z"
   },
   {
    "duration": 456,
    "start_time": "2022-10-25T14:55:42.281Z"
   },
   {
    "duration": 17,
    "start_time": "2022-10-25T14:55:42.739Z"
   },
   {
    "duration": 26,
    "start_time": "2022-10-25T14:55:42.758Z"
   },
   {
    "duration": 2,
    "start_time": "2022-10-25T14:55:42.787Z"
   },
   {
    "duration": 14,
    "start_time": "2022-10-25T14:55:42.791Z"
   },
   {
    "duration": 12,
    "start_time": "2022-10-25T14:55:42.807Z"
   },
   {
    "duration": 6,
    "start_time": "2022-10-25T14:55:42.820Z"
   },
   {
    "duration": 22,
    "start_time": "2022-10-25T14:55:42.827Z"
   },
   {
    "duration": 32,
    "start_time": "2022-10-25T14:55:42.851Z"
   },
   {
    "duration": 41,
    "start_time": "2022-10-25T14:55:42.884Z"
   },
   {
    "duration": 57,
    "start_time": "2022-10-25T14:55:42.927Z"
   },
   {
    "duration": 76,
    "start_time": "2022-10-25T14:55:42.986Z"
   },
   {
    "duration": 69,
    "start_time": "2022-10-25T14:55:43.065Z"
   },
   {
    "duration": 43,
    "start_time": "2022-10-25T14:55:43.135Z"
   },
   {
    "duration": 9,
    "start_time": "2022-10-25T14:55:43.179Z"
   },
   {
    "duration": 54,
    "start_time": "2022-10-25T14:55:43.189Z"
   },
   {
    "duration": 9,
    "start_time": "2022-10-25T14:55:43.245Z"
   },
   {
    "duration": 13,
    "start_time": "2022-10-25T14:55:43.256Z"
   },
   {
    "duration": 3,
    "start_time": "2022-10-25T14:55:43.270Z"
   },
   {
    "duration": 31,
    "start_time": "2022-10-25T14:55:43.275Z"
   },
   {
    "duration": 13,
    "start_time": "2022-10-25T14:55:43.307Z"
   },
   {
    "duration": 13,
    "start_time": "2022-10-25T14:55:43.322Z"
   },
   {
    "duration": 14,
    "start_time": "2022-10-25T14:55:43.336Z"
   },
   {
    "duration": 14,
    "start_time": "2022-10-25T14:55:43.352Z"
   },
   {
    "duration": 45,
    "start_time": "2022-10-25T14:55:43.367Z"
   },
   {
    "duration": 3,
    "start_time": "2022-10-25T14:55:43.414Z"
   },
   {
    "duration": 11,
    "start_time": "2022-10-25T14:55:43.419Z"
   },
   {
    "duration": 7,
    "start_time": "2022-10-25T14:55:43.432Z"
   },
   {
    "duration": 4,
    "start_time": "2022-10-25T14:55:43.441Z"
   },
   {
    "duration": 19,
    "start_time": "2022-10-25T14:55:43.446Z"
   },
   {
    "duration": 10,
    "start_time": "2022-10-25T14:55:43.466Z"
   },
   {
    "duration": 42,
    "start_time": "2022-10-25T14:55:43.477Z"
   },
   {
    "duration": 10,
    "start_time": "2022-10-25T14:55:43.520Z"
   },
   {
    "duration": 7,
    "start_time": "2022-10-25T14:55:43.532Z"
   },
   {
    "duration": 4,
    "start_time": "2022-10-25T14:55:43.541Z"
   },
   {
    "duration": 7,
    "start_time": "2022-10-25T14:55:43.547Z"
   },
   {
    "duration": 5,
    "start_time": "2022-10-25T14:55:43.556Z"
   },
   {
    "duration": 4,
    "start_time": "2022-10-25T15:17:35.281Z"
   },
   {
    "duration": 15,
    "start_time": "2022-10-25T15:17:37.550Z"
   },
   {
    "duration": 10,
    "start_time": "2022-10-25T15:17:38.340Z"
   },
   {
    "duration": 16,
    "start_time": "2022-10-25T15:17:38.911Z"
   },
   {
    "duration": 12,
    "start_time": "2022-10-25T15:17:39.585Z"
   }
  ],
  "colab": {
   "collapsed_sections": [
    "E0vqbgi9ay0H",
    "VUC88oWjTJw2"
   ],
   "name": "automatization_template_upd4.ipynb",
   "provenance": []
  },
  "kernelspec": {
   "display_name": "Python 3 (ipykernel)",
   "language": "python",
   "name": "python3"
  },
  "language_info": {
   "codemirror_mode": {
    "name": "ipython",
    "version": 3
   },
   "file_extension": ".py",
   "mimetype": "text/x-python",
   "name": "python",
   "nbconvert_exporter": "python",
   "pygments_lexer": "ipython3",
   "version": "3.9.5"
  },
  "toc": {
   "base_numbering": 1,
   "nav_menu": {
    "height": "215px",
    "width": "403px"
   },
   "number_sections": true,
   "sideBar": true,
   "skip_h1_title": true,
   "title_cell": "Table of Contents",
   "title_sidebar": "Contents",
   "toc_cell": false,
   "toc_position": {
    "height": "calc(100% - 180px)",
    "left": "10px",
    "top": "150px",
    "width": "285.825px"
   },
   "toc_section_display": true,
   "toc_window_display": false
  }
 },
 "nbformat": 4,
 "nbformat_minor": 1
}
