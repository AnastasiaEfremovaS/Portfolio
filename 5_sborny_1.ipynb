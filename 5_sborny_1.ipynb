{
 "cells": [
  {
   "cell_type": "markdown",
   "metadata": {},
   "source": [
    "<div style=\"border:solid green 2px; padding: 20px\">\n",
    "<b>Анастасия, привет!</b>\n",
    "\n",
    "Меня зовут Евгений Дащенко, и я буду проверять твой проект. Предлагаю общаться на «ты» 😊 Но если это не удобно - дай знать, и мы перейдем на \"вы\". \n",
    "\n",
    "Моя основная цель — не указать на совершенные тобою ошибки, а поделиться своим опытом и помочь тебе стать аналитиком данных. Ты уже проделал большую работу над проектом, но давай сделаем его еще лучше. Ниже ты найдешь мои комментарии - пожалуйста, не перемещай, не изменяй и не удаляй их. Я буду использовать цветовую разметку:\n",
    "\n",
    "<div class=\"alert alert-danger\">\n",
    "<b>Критическая ошибка: ❌</b> Так выделены самые важные замечания. Без их отработки проект не будет принят. </div>\n",
    "\n",
    "<div class=\"alert alert-warning\">\n",
    "<b>Хорошо, но можно и лучше: ❗️</b> Так выделены небольшие замечания. Одна-два таких замечания в проекте допустимы, но если их будет больше - тебе будет необходимо внести исправления. Это как тестовое задание при приеме на работу: очень много мелких ошибок могут стать причиной отказа кандидату. \n",
    "\n",
    "</div>\n",
    "\n",
    "<div class=\"alert alert-success\">\n",
    "<b>Все отлично: ✅</b> Так я выделяю все остальные комментарии.</div>\n",
    "\n",
    "Давай работать над проектом в диалоге: если ты что-то меняешь в проекте или отвечаешь на мои комменатри — пиши об этом. Мне будет легче отследить изменения, если ты выделишь свои комментарии:\n",
    "<div class=\"alert alert-info\"> <b>Комментарий студента: ℹ️</b> Например, вот так.</div>\n",
    "\n",
    "Всё это поможет выполнить повторную проверку твоего проекта оперативнее. "
   ]
  },
  {
   "cell_type": "markdown",
   "metadata": {},
   "source": [
    "# Сборный проект - 1"
   ]
  },
  {
   "cell_type": "markdown",
   "metadata": {},
   "source": [
    "Нам предоставлены данные из открытых источников на конец 2016 года для анализа компьютерных игр: наименования игр и платформ, информация о продажах в различных регионах, оценках пользователей и экспертов, возрастной рейтинг ESRB. \n",
    "Перечень столбцов с описанием содержимого приведен ниже:\n",
    "\n",
    "* Name — название игры\n",
    "* Platform — платформа\n",
    "* Year_of_Release — год выпуска\n",
    "* Genre — жанр игры\n",
    "* NA_sales — продажи в Северной Америке (млн проданных копий)\n",
    "* EU_sales — продажи в Европе (млн проданных копий)\n",
    "* JP_sales — продажи в Японии (млн проданных копий)\n",
    "* Other_sales — продажи в других странах (млн проданных копий)\n",
    "* Critic_Score — оценка критиков (до 100)\n",
    "* User_Score — оценка пользователей (до 10)\n",
    "* Rating — рейтинг по возрасту от организации ESRB\n",
    "\n",
    "Необходимо выявить определяющие успешность игры закономерности, что позволит сделать ставку на потенциально популярный продукт и спланировать рекламные кампании на следующий год для интернет-магазина \"Стримчик\", торгующего играми по всему миру. \n",
    "\n",
    "План работы следующий:\n",
    "1. Изучить предоставленный файл чтобы понять, подходит ли он для данной работы\n",
    "2. Проверить предоставленные данные на дубликаты и пропуски\n",
    "3. Подготовить информацию к работе: привести данные к подходящим типам, тексты к \"змеиному\" регистру\n",
    "4. Провести исследовательский анализ данных\n",
    "5. Составить портрет пользователей игр по регионам\n",
    "6. Проверить гипотезы о равенстве средних пользовательских рейтингов\n",
    "7. Написать частные выводы по каждому разделу, а также общий вывод по проекту"
   ]
  },
  {
   "cell_type": "markdown",
   "metadata": {},
   "source": [
    "<div class=\"alert alert-success\">\n",
    "<b>Комментарий ревьюера: ✅</b>\n",
    "\n",
    "Здорово, когда есть вступление в сам проект, каждый сможет быстрее разобраться в концепции / деталях работы. Можно также привести краткий план проведения самой работы и описание используемых столбцов. \n",
    "\n",
    "</div>"
   ]
  },
  {
   "cell_type": "markdown",
   "metadata": {},
   "source": [
    "<div class=\"alert alert-info\"> <b>Комментарий студента: ℹ️</b> \n",
    "\n",
    "Спасибо за совет, дополнила вступление\n",
    "\n",
    "</div>"
   ]
  },
  {
   "cell_type": "markdown",
   "metadata": {},
   "source": [
    "## Изучение общей информации"
   ]
  },
  {
   "cell_type": "markdown",
   "metadata": {},
   "source": [
    "###  Открываем файл с данными"
   ]
  },
  {
   "cell_type": "markdown",
   "metadata": {},
   "source": [
    "Откроем файл, предварительно импортируя необходимые библиотеки"
   ]
  },
  {
   "cell_type": "code",
   "execution_count": 197,
   "metadata": {},
   "outputs": [],
   "source": [
    "#Import Pandas and Matplotlib libraries\n",
    "import pandas as pd\n",
    "import matplotlib.pyplot as plt\n",
    "import numpy as np\n",
    "import seaborn as sns\n",
    "from scipy import stats as st"
   ]
  },
  {
   "cell_type": "code",
   "execution_count": 198,
   "metadata": {},
   "outputs": [],
   "source": [
    "#Open csv file\n",
    "games=pd.read_csv('/datasets/games.csv')"
   ]
  },
  {
   "cell_type": "markdown",
   "metadata": {},
   "source": [
    "### Оценка содержимого файла"
   ]
  },
  {
   "cell_type": "code",
   "execution_count": 199,
   "metadata": {},
   "outputs": [
    {
     "data": {
      "text/html": [
       "<div>\n",
       "<style scoped>\n",
       "    .dataframe tbody tr th:only-of-type {\n",
       "        vertical-align: middle;\n",
       "    }\n",
       "\n",
       "    .dataframe tbody tr th {\n",
       "        vertical-align: top;\n",
       "    }\n",
       "\n",
       "    .dataframe thead th {\n",
       "        text-align: right;\n",
       "    }\n",
       "</style>\n",
       "<table border=\"1\" class=\"dataframe\">\n",
       "  <thead>\n",
       "    <tr style=\"text-align: right;\">\n",
       "      <th></th>\n",
       "      <th>Name</th>\n",
       "      <th>Platform</th>\n",
       "      <th>Year_of_Release</th>\n",
       "      <th>Genre</th>\n",
       "      <th>NA_sales</th>\n",
       "      <th>EU_sales</th>\n",
       "      <th>JP_sales</th>\n",
       "      <th>Other_sales</th>\n",
       "      <th>Critic_Score</th>\n",
       "      <th>User_Score</th>\n",
       "      <th>Rating</th>\n",
       "    </tr>\n",
       "  </thead>\n",
       "  <tbody>\n",
       "    <tr>\n",
       "      <th>0</th>\n",
       "      <td>Wii Sports</td>\n",
       "      <td>Wii</td>\n",
       "      <td>2006.0</td>\n",
       "      <td>Sports</td>\n",
       "      <td>41.36</td>\n",
       "      <td>28.96</td>\n",
       "      <td>3.77</td>\n",
       "      <td>8.45</td>\n",
       "      <td>76.0</td>\n",
       "      <td>8</td>\n",
       "      <td>E</td>\n",
       "    </tr>\n",
       "    <tr>\n",
       "      <th>1</th>\n",
       "      <td>Super Mario Bros.</td>\n",
       "      <td>NES</td>\n",
       "      <td>1985.0</td>\n",
       "      <td>Platform</td>\n",
       "      <td>29.08</td>\n",
       "      <td>3.58</td>\n",
       "      <td>6.81</td>\n",
       "      <td>0.77</td>\n",
       "      <td>NaN</td>\n",
       "      <td>NaN</td>\n",
       "      <td>NaN</td>\n",
       "    </tr>\n",
       "    <tr>\n",
       "      <th>2</th>\n",
       "      <td>Mario Kart Wii</td>\n",
       "      <td>Wii</td>\n",
       "      <td>2008.0</td>\n",
       "      <td>Racing</td>\n",
       "      <td>15.68</td>\n",
       "      <td>12.76</td>\n",
       "      <td>3.79</td>\n",
       "      <td>3.29</td>\n",
       "      <td>82.0</td>\n",
       "      <td>8.3</td>\n",
       "      <td>E</td>\n",
       "    </tr>\n",
       "    <tr>\n",
       "      <th>3</th>\n",
       "      <td>Wii Sports Resort</td>\n",
       "      <td>Wii</td>\n",
       "      <td>2009.0</td>\n",
       "      <td>Sports</td>\n",
       "      <td>15.61</td>\n",
       "      <td>10.93</td>\n",
       "      <td>3.28</td>\n",
       "      <td>2.95</td>\n",
       "      <td>80.0</td>\n",
       "      <td>8</td>\n",
       "      <td>E</td>\n",
       "    </tr>\n",
       "    <tr>\n",
       "      <th>4</th>\n",
       "      <td>Pokemon Red/Pokemon Blue</td>\n",
       "      <td>GB</td>\n",
       "      <td>1996.0</td>\n",
       "      <td>Role-Playing</td>\n",
       "      <td>11.27</td>\n",
       "      <td>8.89</td>\n",
       "      <td>10.22</td>\n",
       "      <td>1.00</td>\n",
       "      <td>NaN</td>\n",
       "      <td>NaN</td>\n",
       "      <td>NaN</td>\n",
       "    </tr>\n",
       "  </tbody>\n",
       "</table>\n",
       "</div>"
      ],
      "text/plain": [
       "                       Name Platform  Year_of_Release         Genre  NA_sales  \\\n",
       "0                Wii Sports      Wii           2006.0        Sports     41.36   \n",
       "1         Super Mario Bros.      NES           1985.0      Platform     29.08   \n",
       "2            Mario Kart Wii      Wii           2008.0        Racing     15.68   \n",
       "3         Wii Sports Resort      Wii           2009.0        Sports     15.61   \n",
       "4  Pokemon Red/Pokemon Blue       GB           1996.0  Role-Playing     11.27   \n",
       "\n",
       "   EU_sales  JP_sales  Other_sales  Critic_Score User_Score Rating  \n",
       "0     28.96      3.77         8.45          76.0          8      E  \n",
       "1      3.58      6.81         0.77           NaN        NaN    NaN  \n",
       "2     12.76      3.79         3.29          82.0        8.3      E  \n",
       "3     10.93      3.28         2.95          80.0          8      E  \n",
       "4      8.89     10.22         1.00           NaN        NaN    NaN  "
      ]
     },
     "execution_count": 199,
     "metadata": {},
     "output_type": "execute_result"
    }
   ],
   "source": [
    "games.head(5)"
   ]
  },
  {
   "cell_type": "markdown",
   "metadata": {},
   "source": [
    "В таблице немного столбцов, есть как текстовые данные (наименование игр, жанр), так и числовые (год выпуска, данные о продажах, оценки критиков и игроков в баллах). Также есть категории - платформы на которых выпущены игры и возрастной рейтинг. \n",
    "\n",
    "Посмотрим больше деталей с помощью функции info()"
   ]
  },
  {
   "cell_type": "code",
   "execution_count": 200,
   "metadata": {},
   "outputs": [
    {
     "name": "stdout",
     "output_type": "stream",
     "text": [
      "<class 'pandas.core.frame.DataFrame'>\n",
      "RangeIndex: 16715 entries, 0 to 16714\n",
      "Data columns (total 11 columns):\n",
      " #   Column           Non-Null Count  Dtype  \n",
      "---  ------           --------------  -----  \n",
      " 0   Name             16713 non-null  object \n",
      " 1   Platform         16715 non-null  object \n",
      " 2   Year_of_Release  16446 non-null  float64\n",
      " 3   Genre            16713 non-null  object \n",
      " 4   NA_sales         16715 non-null  float64\n",
      " 5   EU_sales         16715 non-null  float64\n",
      " 6   JP_sales         16715 non-null  float64\n",
      " 7   Other_sales      16715 non-null  float64\n",
      " 8   Critic_Score     8137 non-null   float64\n",
      " 9   User_Score       10014 non-null  object \n",
      " 10  Rating           9949 non-null   object \n",
      "dtypes: float64(6), object(5)\n",
      "memory usage: 1.4+ MB\n"
     ]
    }
   ],
   "source": [
    "games.info()"
   ]
  },
  {
   "cell_type": "markdown",
   "metadata": {},
   "source": [
    "Файл содержит 16715 строк с различными типами данных. \n",
    "\n",
    "Пропуски есть в наименованиях, годах выпуска, жанрах, оценках критиков и игроков, а также в возрастном рейтинге.\n",
    "\n",
    "Обработкой данных и пропусками займемся в следующем разделе, а тут напоследок посмотрим гистограммы по числовым данным."
   ]
  },
  {
   "cell_type": "code",
   "execution_count": 201,
   "metadata": {},
   "outputs": [
    {
     "data": {
      "image/png": "[encoded data removed]",
      "text/plain": [
       "<Figure size 1080x1440 with 6 Axes>"
      ]
     },
     "metadata": {
      "needs_background": "light"
     },
     "output_type": "display_data"
    }
   ],
   "source": [
    "#Show all histograms for numeric data\n",
    "games.hist(figsize=(15, 20));"
   ]
  },
  {
   "cell_type": "markdown",
   "metadata": {},
   "source": [
    "Можно сделать первый вывод что в основном игры выпущены в районе 2010 года (пик гистограммы по году выпуска приходится на 2010); данные по продажам по регионам не показательны, а вот по оценке критиков можно сказать что чаще всего играм присваивают рейтинг в 70-80 баллов. "
   ]
  },
  {
   "cell_type": "markdown",
   "metadata": {},
   "source": [
    "<div class=\"alert alert-success\">\n",
    "<b>Комментарий ревьюера: ✅</b>\n",
    "\n",
    "Классный способ посмотреть на распределение для всех столбцов сразу 👍\n",
    "</div>"
   ]
  },
  {
   "cell_type": "markdown",
   "metadata": {},
   "source": [
    "**Общий вывод по первому разделу**: \n",
    "- в датафрейме содержится 16715 строк с различными типами данных и 11 столбцов; \n",
    "- содержание столбцов понятно по наименованиям и по документации, предоставленной дополнительно;\n",
    "- пропуски есть в наименованиях, годах выпуска, жанрах, оценках критиков и игроков, а также в возрастном рейтинге. Насколько это критично - оценим позднее; \n",
    "- в основном игры выпущены в районе 2010 года (пик гистограммы по году выпуска приходится на 2010);\n",
    "- данные по продажам по регионам не показательны, \n",
    "- критики чаще всего присваивают играм рейтинг в 70-80 баллов"
   ]
  },
  {
   "cell_type": "markdown",
   "metadata": {},
   "source": [
    "## Подготовка данных"
   ]
  },
  {
   "cell_type": "markdown",
   "metadata": {},
   "source": [
    "### Замена наименований столбцов"
   ]
  },
  {
   "cell_type": "markdown",
   "metadata": {},
   "source": [
    "Просмотрим отдельно имена столбцов чтобы выбрать те, которые необходимо поправить."
   ]
  },
  {
   "cell_type": "code",
   "execution_count": 202,
   "metadata": {},
   "outputs": [
    {
     "data": {
      "text/plain": [
       "Index(['Name', 'Platform', 'Year_of_Release', 'Genre', 'NA_sales', 'EU_sales',\n",
       "       'JP_sales', 'Other_sales', 'Critic_Score', 'User_Score', 'Rating'],\n",
       "      dtype='object')"
      ]
     },
     "execution_count": 202,
     "metadata": {},
     "output_type": "execute_result"
    }
   ],
   "source": [
    "#All columns are listed\n",
    "games.columns"
   ]
  },
  {
   "cell_type": "markdown",
   "metadata": {},
   "source": [
    "Все столбцы требуют перевода в \"змеиный\" регистр."
   ]
  },
  {
   "cell_type": "code",
   "execution_count": 203,
   "metadata": {},
   "outputs": [
    {
     "data": {
      "text/plain": [
       "Index(['name', 'platform', 'year_of_release', 'genre', 'na_sales', 'eu_sales',\n",
       "       'jp_sales', 'other_sales', 'critic_score', 'user_score', 'rating'],\n",
       "      dtype='object')"
      ]
     },
     "execution_count": 203,
     "metadata": {},
     "output_type": "execute_result"
    }
   ],
   "source": [
    "#Rename column into 'snake' format\n",
    "games=games.rename(columns={'Name':'name','Platform':'platform','Year_of_Release':'year_of_release',\\\n",
    "                            'Genre':'genre','NA_sales':'na_sales','EU_sales':'eu_sales','JP_sales':'jp_sales',\\\n",
    "                            'Other_sales':'other_sales','Critic_Score':'critic_score','User_Score':'user_score',\\\n",
    "                            'Rating':'rating'})\n",
    "#All columns are listed\n",
    "games.columns"
   ]
  },
  {
   "cell_type": "markdown",
   "metadata": {},
   "source": [
    "<div class=\"alert alert-warning\">\n",
    "<b>Комментарий ревьюера: ❗️</b>\n",
    "\n",
    "<s>Если код не помещается в одну строку, рекомендую переносить его на следующую подстроку если мы внутри одного метода пишем код или с помощью обратного слеша, если применяем несколько методов. Так код читается быстрее и понятнее.\n",
    "    \n",
    "</div>"
   ]
  },
  {
   "cell_type": "markdown",
   "metadata": {},
   "source": [
    "<div class=\"alert alert-info\"> <b>Комментарий студента: !</b> \n",
    "\n",
    "Поправила, спасибо за замечание\n",
    "\n",
    "</div>"
   ]
  },
  {
   "cell_type": "markdown",
   "metadata": {},
   "source": [
    "Все столбцы теперь написаны строчными буквами, такими наименованиями удобнее будет пользоваться.\n",
    "\n",
    "Приведем также все данные в датафрейме к нижнему регистру."
   ]
  },
  {
   "cell_type": "code",
   "execution_count": 204,
   "metadata": {},
   "outputs": [
    {
     "data": {
      "text/plain": [
       "Index(['name', 'platform', 'year_of_release', 'genre', 'na_sales', 'eu_sales',\n",
       "       'jp_sales', 'other_sales', 'critic_score', 'user_score', 'rating'],\n",
       "      dtype='object')"
      ]
     },
     "execution_count": 204,
     "metadata": {},
     "output_type": "execute_result"
    }
   ],
   "source": [
    "#Change all data to lower register using str.lower()\n",
    "games.columns = games.columns.str.lower()\n",
    "#Check changes\n",
    "games.columns"
   ]
  },
  {
   "cell_type": "markdown",
   "metadata": {},
   "source": [
    "<div class=\"alert alert-success\">\n",
    "<b>Комментарий ревьюера: ✅</b>\n",
    "\n",
    "Отличный способ заменить регистр в наших данных 👍\n",
    "</div>"
   ]
  },
  {
   "cell_type": "markdown",
   "metadata": {},
   "source": [
    "Данные преобразованы в нижний регистр."
   ]
  },
  {
   "cell_type": "markdown",
   "metadata": {},
   "source": [
    "### Преобразование типов данных "
   ]
  },
  {
   "cell_type": "markdown",
   "metadata": {},
   "source": [
    "Для удобства еще раз выведем основную информацию о датафрейме."
   ]
  },
  {
   "cell_type": "code",
   "execution_count": 205,
   "metadata": {},
   "outputs": [
    {
     "name": "stdout",
     "output_type": "stream",
     "text": [
      "<class 'pandas.core.frame.DataFrame'>\n",
      "RangeIndex: 16715 entries, 0 to 16714\n",
      "Data columns (total 11 columns):\n",
      " #   Column           Non-Null Count  Dtype  \n",
      "---  ------           --------------  -----  \n",
      " 0   name             16713 non-null  object \n",
      " 1   platform         16715 non-null  object \n",
      " 2   year_of_release  16446 non-null  float64\n",
      " 3   genre            16713 non-null  object \n",
      " 4   na_sales         16715 non-null  float64\n",
      " 5   eu_sales         16715 non-null  float64\n",
      " 6   jp_sales         16715 non-null  float64\n",
      " 7   other_sales      16715 non-null  float64\n",
      " 8   critic_score     8137 non-null   float64\n",
      " 9   user_score       10014 non-null  object \n",
      " 10  rating           9949 non-null   object \n",
      "dtypes: float64(6), object(5)\n",
      "memory usage: 1.4+ MB\n"
     ]
    }
   ],
   "source": [
    "games.info()"
   ]
  },
  {
   "cell_type": "markdown",
   "metadata": {},
   "source": [
    "-Наименование игры и платформы, а также жанр игры, представляют собой текст, поэтому тип данных 'object' тут подходит;\n",
    "\n",
    "-*Год выпуска представлен некруглым числом 'float64', его нужно перевести в тип 'Int';*\n",
    "\n",
    "-*Продажи по регионам с типом 'float64' подходят для анализа, но для облегчения проекта переведем эти данные во 'float32';*\n",
    "\n",
    "-Оценка критиков с типом 'float64' также не режет глаз, \n",
    "\n",
    "-*а вот оценка игроков с типом 'object' требует обработки в 'float32',*\n",
    "\n",
    "-Возрастной рейтинг с типом 'object' оставляем."
   ]
  },
  {
   "cell_type": "code",
   "execution_count": 206,
   "metadata": {},
   "outputs": [],
   "source": [
    "#Change format of year column\n",
    "games['year_of_release']=games['year_of_release'].astype('Int64')"
   ]
  },
  {
   "cell_type": "code",
   "execution_count": 207,
   "metadata": {},
   "outputs": [],
   "source": [
    "#Change format of columns with sales and critic score\n",
    "columns = ['na_sales', 'eu_sales', 'jp_sales', 'other_sales', 'critic_score']\n",
    "\n",
    "for i in columns:\n",
    "    games[i] = games[i].astype('float32')"
   ]
  },
  {
   "cell_type": "markdown",
   "metadata": {},
   "source": [
    "При попытке заменить тип данных оценки пользователей, обнаруживается ошибка: в данных присутствуют не только числа. Оценим содержимое данного столбца."
   ]
  },
  {
   "cell_type": "markdown",
   "metadata": {},
   "source": [
    "<div class=\"alert alert-success\">\n",
    "<b>Комментарий ревьюера: ✅</b>\n",
    "\n",
    "В том числе метод `fillna` и `astype` можно применять к нескольким столбцам одновременно.\n",
    "    \n",
    "Если столбцов более 2–ух, то рекомендую применять цикл `for`.\n",
    "    \n",
    "Пример: \n",
    "    \n",
    "`df.astype({ \"col1\": \"float64\", \"col2\": \"int64\"})`\n",
    "    \n",
    "</div>"
   ]
  },
  {
   "cell_type": "markdown",
   "metadata": {},
   "source": [
    "```python\n",
    "\n",
    "columns = [col1, col2, col3]\n",
    "\n",
    "for i in columns:\n",
    "    df[i] = df[i].fillna(0)\n",
    "\n",
    "```"
   ]
  },
  {
   "cell_type": "markdown",
   "metadata": {},
   "source": [
    "<div class=\"alert alert-info\"> <b>Комментарий студента: ℹ️</b> \n",
    "\n",
    "Применила цикл for, буду так делать теперь :)\n",
    "\n",
    "</div>"
   ]
  },
  {
   "cell_type": "code",
   "execution_count": 208,
   "metadata": {},
   "outputs": [
    {
     "data": {
      "text/plain": [
       "array(['0', '0.2', '0.3', '0.5', '0.6', '0.7', '0.9', '1', '1.1', '1.2',\n",
       "       '1.3', '1.4', '1.5', '1.6', '1.7', '1.8', '1.9', '2', '2.1', '2.2',\n",
       "       '2.3', '2.4', '2.5', '2.6', '2.7', '2.8', '2.9', '3', '3.1', '3.2',\n",
       "       '3.3', '3.4', '3.5', '3.6', '3.7', '3.8', '3.9', '4', '4.1', '4.2',\n",
       "       '4.3', '4.4', '4.5', '4.6', '4.7', '4.8', '4.9', '5', '5.1', '5.2',\n",
       "       '5.3', '5.4', '5.5', '5.6', '5.7', '5.8', '5.9', '6', '6.1', '6.2',\n",
       "       '6.3', '6.4', '6.5', '6.6', '6.7', '6.8', '6.9', '7', '7.1', '7.2',\n",
       "       '7.3', '7.4', '7.5', '7.6', '7.7', '7.8', '7.9', '8', '8.1', '8.2',\n",
       "       '8.3', '8.4', '8.5', '8.6', '8.7', '8.8', '8.9', '9', '9.1', '9.2',\n",
       "       '9.3', '9.4', '9.5', '9.6', '9.7', 'tbd', nan], dtype=object)"
      ]
     },
     "execution_count": 208,
     "metadata": {},
     "output_type": "execute_result"
    }
   ],
   "source": [
    "games['user_score'].sort_values().unique()"
   ]
  },
  {
   "cell_type": "markdown",
   "metadata": {},
   "source": [
    "Помимо числовых и пропущенных данных, встречается еще аббревиатура 'tbd', что в среде геймеров означает 'to be determined', или \"будет определено позднее\". То есть это не классический пропуск, а скорее всего система еще не успела посчитать рейтинг по этой игре по каким-то приничам. Посмотрим, много ли таких значений."
   ]
  },
  {
   "cell_type": "code",
   "execution_count": 209,
   "metadata": {},
   "outputs": [
    {
     "data": {
      "text/plain": [
       "tbd    2424\n",
       "7.8     324\n",
       "8       290\n",
       "8.2     282\n",
       "8.3     254\n",
       "       ... \n",
       "0.7       2\n",
       "0.3       2\n",
       "1.1       2\n",
       "9.7       1\n",
       "0         1\n",
       "Name: user_score, Length: 96, dtype: int64"
      ]
     },
     "execution_count": 209,
     "metadata": {},
     "output_type": "execute_result"
    }
   ],
   "source": [
    "games['user_score'].value_counts()"
   ]
  },
  {
   "cell_type": "markdown",
   "metadata": {},
   "source": [
    "Примерно 15% - это довольно много, удалять такие данные нельзя. Пока оставим этот столбец без изменений."
   ]
  },
  {
   "cell_type": "markdown",
   "metadata": {},
   "source": [
    "### Обработка пропусков"
   ]
  },
  {
   "cell_type": "markdown",
   "metadata": {},
   "source": [
    "Ранее мы перечислили пропуски в данных: они есть в наименованиях, годах выпуска, жанрах, оценках критиков и игроков, а также в возрастном рейтинге. \n",
    "\n",
    "В наименованиях и жанрах всего по 2 пропуска, скорее всего они по одним и тем же играм и это системный пропуск. Т.к. это совсем незначительный процент от общих данных, можно избавиться от этих значений."
   ]
  },
  {
   "cell_type": "code",
   "execution_count": 210,
   "metadata": {},
   "outputs": [],
   "source": [
    "#Eliminate NAN in columns 'name' and 'genre'\n",
    "games=games.dropna(subset=['name'])\n",
    "games=games.dropna(subset=['genre'])"
   ]
  },
  {
   "cell_type": "markdown",
   "metadata": {},
   "source": [
    "В колонке с годом выпуска игры есть 169 пропусков, что соответствует примерно 2% данных. Причина таких пропусков может быть в том, что поле \"год выпуска\" не было обязательным к заполнению у каких-либо производителей и в силу этого не было заполнено. \n",
    "\n",
    "Не будем пока ничего делать с этими данными.\n",
    "\n",
    "Пропуски в данных в оценках критиков составляют 8578 и это более половины данных. Такая же примерно картина по отзывам пользователей - 6701 пропуск и 2424 значения 'tbd', которые по факту тоже являются пропусками - ведь они не дают информации по оценке пользователя. Наличие пропусков отражает нежелание критиков и игроков проставлять свои оценки.\n",
    "\n",
    "В рейтинге ESRB также много пропусков, но их можно дополнительно объяснить тем, что данная организация появилась лишь в 1994 году, так что игры созданные ранее однозначно не будут иметь рейтинга ESRB. Помимо этого, данный рейтинг присваивается только играм выпущенным в США и Канаде, так что у игр произведенных в других регионах данный рейтинг будет отсутствовать.\n",
    "\n",
    "Заполнить средними данными или медианой оценку или рейтинг мы не можем, это исказит информацию.\n",
    "\n",
    "Заменим в оценке пользователей 'tbd' на 'NAN' и приведем колонку 'user_score' к формату 'float32'."
   ]
  },
  {
   "cell_type": "code",
   "execution_count": 211,
   "metadata": {},
   "outputs": [],
   "source": [
    "#Replace 'tbd' to 'NAN' for user scores and change format to 'float'\n",
    "games['user_score']=games['user_score'].replace('tbd', np.NaN, regex=True).astype('float32')"
   ]
  },
  {
   "cell_type": "markdown",
   "metadata": {},
   "source": [
    "<div class=\"alert alert-success\">\n",
    "<b>Комментарий ревьюера: ✅</b>\n",
    "\n",
    "Мы также можем использовать сцепку методов, чтобы сократить количество кода внутри проекта.\n",
    "    \n",
    "Оставил пример ниже.\n",
    "    \n",
    "</div>"
   ]
  },
  {
   "cell_type": "code",
   "execution_count": 212,
   "metadata": {},
   "outputs": [
    {
     "data": {
      "text/plain": [
       "0        8.0\n",
       "1        NaN\n",
       "2        8.3\n",
       "3        8.0\n",
       "4        NaN\n",
       "        ... \n",
       "16710    NaN\n",
       "16711    NaN\n",
       "16712    NaN\n",
       "16713    NaN\n",
       "16714    NaN\n",
       "Name: user_score, Length: 16713, dtype: float32"
      ]
     },
     "execution_count": 212,
     "metadata": {},
     "output_type": "execute_result"
    }
   ],
   "source": [
    "games['user_score'].replace('tbd', np.NaN, regex=True).astype('float32')"
   ]
  },
  {
   "cell_type": "markdown",
   "metadata": {},
   "source": [
    "Убедимся что все данные приведены к нужным типам."
   ]
  },
  {
   "cell_type": "code",
   "execution_count": 213,
   "metadata": {},
   "outputs": [
    {
     "data": {
      "text/plain": [
       "name                object\n",
       "platform            object\n",
       "year_of_release      Int64\n",
       "genre               object\n",
       "na_sales           float32\n",
       "eu_sales           float32\n",
       "jp_sales           float32\n",
       "other_sales        float32\n",
       "critic_score       float32\n",
       "user_score         float32\n",
       "rating              object\n",
       "dtype: object"
      ]
     },
     "execution_count": 213,
     "metadata": {},
     "output_type": "execute_result"
    }
   ],
   "source": [
    "#Ensure all columns' types are correct\n",
    "games.dtypes"
   ]
  },
  {
   "cell_type": "markdown",
   "metadata": {},
   "source": [
    "Дополнительно проверим наличие явных и неявных дубликатов, чтобы повысить качество анализируемых данных."
   ]
  },
  {
   "cell_type": "code",
   "execution_count": 214,
   "metadata": {},
   "outputs": [
    {
     "data": {
      "text/plain": [
       "0"
      ]
     },
     "execution_count": 214,
     "metadata": {},
     "output_type": "execute_result"
    }
   ],
   "source": [
    "#Explore clear duplicates\n",
    "games.duplicated().sum()"
   ]
  },
  {
   "cell_type": "code",
   "execution_count": 215,
   "metadata": {},
   "outputs": [
    {
     "data": {
      "text/plain": [
       "<IntegerArray>\n",
       "[1980, 1981, 1982, 1983, 1984, 1985, 1986, 1987, 1988, 1989, 1990, 1991, 1992,\n",
       " 1993, 1994, 1995, 1996, 1997, 1998, 1999, 2000, 2001, 2002, 2003, 2004, 2005,\n",
       " 2006, 2007, 2008, 2009, 2010, 2011, 2012, 2013, 2014, 2015, 2016, <NA>]\n",
       "Length: 38, dtype: Int64"
      ]
     },
     "metadata": {},
     "output_type": "display_data"
    },
    {
     "data": {
      "text/plain": [
       "array(['Action', 'Adventure', 'Fighting', 'Misc', 'Platform', 'Puzzle',\n",
       "       'Racing', 'Role-Playing', 'Shooter', 'Simulation', 'Sports',\n",
       "       'Strategy'], dtype=object)"
      ]
     },
     "metadata": {},
     "output_type": "display_data"
    },
    {
     "data": {
      "text/plain": [
       "array([13., 17., 19., 20., 21., 22., 23., 24., 25., 26., 27., 28., 29.,\n",
       "       30., 31., 32., 33., 34., 35., 36., 37., 38., 39., 40., 41., 42.,\n",
       "       43., 44., 45., 46., 47., 48., 49., 50., 51., 52., 53., 54., 55.,\n",
       "       56., 57., 58., 59., 60., 61., 62., 63., 64., 65., 66., 67., 68.,\n",
       "       69., 70., 71., 72., 73., 74., 75., 76., 77., 78., 79., 80., 81.,\n",
       "       82., 83., 84., 85., 86., 87., 88., 89., 90., 91., 92., 93., 94.,\n",
       "       95., 96., 97., 98., nan], dtype=float32)"
      ]
     },
     "metadata": {},
     "output_type": "display_data"
    },
    {
     "data": {
      "text/plain": [
       "array(['AO', 'E', 'E10+', 'EC', 'K-A', 'M', 'RP', 'T', nan], dtype=object)"
      ]
     },
     "metadata": {},
     "output_type": "display_data"
    }
   ],
   "source": [
    "#Explore hidden duplicates\n",
    "columns = ['year_of_release', 'genre', 'critic_score', 'rating']\n",
    "\n",
    "for d in columns:\n",
    "    display(games[d].sort_values().unique())"
   ]
  },
  {
   "cell_type": "markdown",
   "metadata": {},
   "source": [
    "<div class=\"alert alert-success\">\n",
    "<b>Комментарий ревьюера: ✅</b>\n",
    "\n",
    "В целом можно было применить цикл `for`, чтобы автоматизировать расчеты.    \n",
    "</div>"
   ]
  },
  {
   "cell_type": "markdown",
   "metadata": {},
   "source": [
    "<div class=\"alert alert-info\"> <b>Комментарий студента: ℹ️</b> \n",
    "\n",
    "Применила цикл for, спасибо!\n",
    "\n",
    "</div>"
   ]
  },
  {
   "cell_type": "markdown",
   "metadata": {},
   "source": [
    "Явные дубликаты отсутствуют, данные по годам выпуска и оценкам критиков выглядят адекватно.\n",
    "\n",
    "А вот рейтинг ESRB имеет скрытые дубликаты: в текущем описании есть все рейтинги из нашей колонки, кроме 'K-A'. Изучив информацию по этому рейтингу, выясняем что этот рейтинг использовался до 1998 года после чего был переименован в 'E'. Поэтому данный рейтинг в таблице можно заменить на 'E'."
   ]
  },
  {
   "cell_type": "code",
   "execution_count": 216,
   "metadata": {},
   "outputs": [
    {
     "data": {
      "text/plain": [
       "array(['AO', 'E', 'E10+', 'EC', 'M', 'RP', 'T', nan], dtype=object)"
      ]
     },
     "metadata": {},
     "output_type": "display_data"
    }
   ],
   "source": [
    "#Replace 'K-A' to 'E' for rating\n",
    "games['rating']=games['rating'].replace('K-A', 'E')\n",
    "#Check that rating is changed\n",
    "display(games['rating'].sort_values().unique())"
   ]
  },
  {
   "cell_type": "markdown",
   "metadata": {},
   "source": [
    "Заменим пропуски в рейтингах значением \"Unknown\"."
   ]
  },
  {
   "cell_type": "code",
   "execution_count": 217,
   "metadata": {},
   "outputs": [
    {
     "data": {
      "text/plain": [
       "0"
      ]
     },
     "execution_count": 217,
     "metadata": {},
     "output_type": "execute_result"
    }
   ],
   "source": [
    "#Change NAN in rating to Unknown\n",
    "games['rating'] = games['rating'].fillna('Unknown')\n",
    "games['rating'].isnull().sum()"
   ]
  },
  {
   "cell_type": "markdown",
   "metadata": {},
   "source": [
    "Данные приведены к нужным типам, проверены на пропуски и дубликаты."
   ]
  },
  {
   "cell_type": "markdown",
   "metadata": {},
   "source": [
    "### Анализ продаж по регионам"
   ]
  },
  {
   "cell_type": "markdown",
   "metadata": {},
   "source": [
    "Добавим столбец с суммарной продажей по всем регионам для каждой игры."
   ]
  },
  {
   "cell_type": "code",
   "execution_count": 218,
   "metadata": {},
   "outputs": [
    {
     "data": {
      "text/html": [
       "<div>\n",
       "<style scoped>\n",
       "    .dataframe tbody tr th:only-of-type {\n",
       "        vertical-align: middle;\n",
       "    }\n",
       "\n",
       "    .dataframe tbody tr th {\n",
       "        vertical-align: top;\n",
       "    }\n",
       "\n",
       "    .dataframe thead th {\n",
       "        text-align: right;\n",
       "    }\n",
       "</style>\n",
       "<table border=\"1\" class=\"dataframe\">\n",
       "  <thead>\n",
       "    <tr style=\"text-align: right;\">\n",
       "      <th></th>\n",
       "      <th>name</th>\n",
       "      <th>platform</th>\n",
       "      <th>year_of_release</th>\n",
       "      <th>genre</th>\n",
       "      <th>na_sales</th>\n",
       "      <th>eu_sales</th>\n",
       "      <th>jp_sales</th>\n",
       "      <th>other_sales</th>\n",
       "      <th>critic_score</th>\n",
       "      <th>user_score</th>\n",
       "      <th>rating</th>\n",
       "      <th>total_sales</th>\n",
       "    </tr>\n",
       "  </thead>\n",
       "  <tbody>\n",
       "    <tr>\n",
       "      <th>0</th>\n",
       "      <td>Wii Sports</td>\n",
       "      <td>Wii</td>\n",
       "      <td>2006</td>\n",
       "      <td>Sports</td>\n",
       "      <td>41.360001</td>\n",
       "      <td>28.959999</td>\n",
       "      <td>3.77</td>\n",
       "      <td>8.45</td>\n",
       "      <td>76.0</td>\n",
       "      <td>8.0</td>\n",
       "      <td>E</td>\n",
       "      <td>82.539993</td>\n",
       "    </tr>\n",
       "    <tr>\n",
       "      <th>1</th>\n",
       "      <td>Super Mario Bros.</td>\n",
       "      <td>NES</td>\n",
       "      <td>1985</td>\n",
       "      <td>Platform</td>\n",
       "      <td>29.080000</td>\n",
       "      <td>3.580000</td>\n",
       "      <td>6.81</td>\n",
       "      <td>0.77</td>\n",
       "      <td>NaN</td>\n",
       "      <td>NaN</td>\n",
       "      <td>Unknown</td>\n",
       "      <td>40.240002</td>\n",
       "    </tr>\n",
       "    <tr>\n",
       "      <th>2</th>\n",
       "      <td>Mario Kart Wii</td>\n",
       "      <td>Wii</td>\n",
       "      <td>2008</td>\n",
       "      <td>Racing</td>\n",
       "      <td>15.680000</td>\n",
       "      <td>12.760000</td>\n",
       "      <td>3.79</td>\n",
       "      <td>3.29</td>\n",
       "      <td>82.0</td>\n",
       "      <td>8.3</td>\n",
       "      <td>E</td>\n",
       "      <td>35.520000</td>\n",
       "    </tr>\n",
       "    <tr>\n",
       "      <th>3</th>\n",
       "      <td>Wii Sports Resort</td>\n",
       "      <td>Wii</td>\n",
       "      <td>2009</td>\n",
       "      <td>Sports</td>\n",
       "      <td>15.610000</td>\n",
       "      <td>10.930000</td>\n",
       "      <td>3.28</td>\n",
       "      <td>2.95</td>\n",
       "      <td>80.0</td>\n",
       "      <td>8.0</td>\n",
       "      <td>E</td>\n",
       "      <td>32.770000</td>\n",
       "    </tr>\n",
       "    <tr>\n",
       "      <th>4</th>\n",
       "      <td>Pokemon Red/Pokemon Blue</td>\n",
       "      <td>GB</td>\n",
       "      <td>1996</td>\n",
       "      <td>Role-Playing</td>\n",
       "      <td>11.270000</td>\n",
       "      <td>8.890000</td>\n",
       "      <td>10.22</td>\n",
       "      <td>1.00</td>\n",
       "      <td>NaN</td>\n",
       "      <td>NaN</td>\n",
       "      <td>Unknown</td>\n",
       "      <td>31.380001</td>\n",
       "    </tr>\n",
       "  </tbody>\n",
       "</table>\n",
       "</div>"
      ],
      "text/plain": [
       "                       name platform  year_of_release         genre  \\\n",
       "0                Wii Sports      Wii             2006        Sports   \n",
       "1         Super Mario Bros.      NES             1985      Platform   \n",
       "2            Mario Kart Wii      Wii             2008        Racing   \n",
       "3         Wii Sports Resort      Wii             2009        Sports   \n",
       "4  Pokemon Red/Pokemon Blue       GB             1996  Role-Playing   \n",
       "\n",
       "    na_sales   eu_sales  jp_sales  other_sales  critic_score  user_score  \\\n",
       "0  41.360001  28.959999      3.77         8.45          76.0         8.0   \n",
       "1  29.080000   3.580000      6.81         0.77           NaN         NaN   \n",
       "2  15.680000  12.760000      3.79         3.29          82.0         8.3   \n",
       "3  15.610000  10.930000      3.28         2.95          80.0         8.0   \n",
       "4  11.270000   8.890000     10.22         1.00           NaN         NaN   \n",
       "\n",
       "    rating  total_sales  \n",
       "0        E    82.539993  \n",
       "1  Unknown    40.240002  \n",
       "2        E    35.520000  \n",
       "3        E    32.770000  \n",
       "4  Unknown    31.380001  "
      ]
     },
     "execution_count": 218,
     "metadata": {},
     "output_type": "execute_result"
    }
   ],
   "source": [
    "#Add new column with total sales for each game\n",
    "games['total_sales'] = games[['na_sales', 'eu_sales', 'jp_sales', 'other_sales']].sum(axis=1)\n",
    "games.head(5)"
   ]
  },
  {
   "cell_type": "markdown",
   "metadata": {},
   "source": [
    "Добавлен столбец с суммой продаж для дальнейшего анализа."
   ]
  },
  {
   "cell_type": "markdown",
   "metadata": {},
   "source": [
    "<div class=\"alert alert-success\">\n",
    "<b>Комментарий ревьюера: ✅</b>\n",
    "\n",
    "Кстати мы можем применить метод `sum(axis=1)` к суммируемым столбцам.\n",
    "    \n",
    "`df[['col1', 'col2', 'col3']].sum(axis=1)`\n",
    "</div>"
   ]
  },
  {
   "cell_type": "markdown",
   "metadata": {},
   "source": [
    "<div class=\"alert alert-info\"> <b>Комментарий студента: ℹ️</b> \n",
    "\n",
    "Применила, чтобы попрактиковаться :)\n",
    "\n",
    "</div>"
   ]
  },
  {
   "cell_type": "markdown",
   "metadata": {},
   "source": [
    "**Общий вывод по второму разделу:** \n",
    "- текстовые данные в наименованиях столбцов и внутри таблицы были написаны с верхним и нижнем регистров. Для удобства дальнейшей работы, все тексты приведены к нижнему регистру;\n",
    "- обработаны типы данных: год выпуска приведен к целому числу, оценка пользователей приведена к дробному числу;\n",
    "- обработаны пропуски: удалены минимальные пропуски в наименованиях игр и жанрах; \n",
    "\n",
    "*есть крупные пропуски в данных по оценкам критиков и пользователей, но их нельзя удалить либо заменить - это исказит данные для анализа;\n",
    "также присутствуют пропуски в рейтинге по возрасту - этих данных может не быть ввиду того что данный рейтинг появился в 1994 году, а первые игры в нашем анализе были созданы в 1980 году; кроме того, данный рейтинг отсутствует у игр произведенных не в США или Канаде;*\n",
    "- обработаны дубликаты: явных дубликатов нет, а и неявных - заменен рейтинг 'K-A' на 'E', т.к. это одинаковый рейтинг \"игра подходит для любого возраста\", но до 1998 года он обозначался как 'K-A' (kids to adults), а позднее - как 'E' (everyone)."
   ]
  },
  {
   "cell_type": "markdown",
   "metadata": {},
   "source": [
    "## Исследовательский анализ данных"
   ]
  },
  {
   "cell_type": "markdown",
   "metadata": {},
   "source": [
    "### Анализ игр по годам выпуска"
   ]
  },
  {
   "cell_type": "markdown",
   "metadata": {},
   "source": [
    "В первом разделе мы уже видели что пик выпуска игр пришелся примерно на 2010 год, сейчас проанализируем игры по годам выпуска более детально."
   ]
  },
  {
   "cell_type": "code",
   "execution_count": 219,
   "metadata": {},
   "outputs": [
    {
     "data": {
      "image/png": "[encoded data removed]",
      "text/plain": [
       "<Figure size 1080x360 with 1 Axes>"
      ]
     },
     "metadata": {
      "needs_background": "light"
     },
     "output_type": "display_data"
    }
   ],
   "source": [
    "#Group dataframe by year and count number of games\n",
    "games_by_year = games.groupby('year_of_release')['name'].agg(['count']).reset_index()\n",
    "#Show bar plot with all years and number of games released\n",
    "fig=plt.subplots(figsize=(15,5))\n",
    "sns.barplot(data=games_by_year, x='year_of_release', y='count')\n",
    "plt.xticks(rotation=45)\n",
    "plt.title('Количество игр по годам выпуска')\n",
    "plt.xlabel('Год выпуска игры')\n",
    "plt.ylabel('Количество игр')\n",
    "plt.show()"
   ]
  },
  {
   "cell_type": "markdown",
   "metadata": {},
   "source": [
    "Наибольшее количество игр было выпущено в 2008 и 2009 годах, что говорит о пике популярности данного направления именно в эти годы. Это можно объяснить возросшую доступность компьютеров и ноутбуков у платежеспособного населения: раньше компьютеры были скорее преимуществом и использовались в основном корпорациями. После 2000 и стационарные компьютеры, и ноутбуки стали частью жизни большинства людей, потому и количество компьютерных игр возросло - чтобы насытить повышенный спрос геймеров.\n",
    "\n",
    "Снижение выпуска игр после 2011 года можно объяснить массовой \"смартфоновизацией\" людей и переходом на социальные и мобильные игры (такие например как Angry birds). Играть на смартфоне гораздо удобнее и проще - это можно делать в перерывах на работе/учебе, в любой точке мира где есть интернет. "
   ]
  },
  {
   "cell_type": "markdown",
   "metadata": {},
   "source": [
    "<div class=\"alert alert-success\">\n",
    "<b>Комментарий ревьюера: ✅</b>\n",
    "\n",
    "Здорово, когда график и его оси подписаны 😊👍\n",
    "    \n",
    "Так быстрее понять о чем идёт речь на самом графике.\n",
    "    \n",
    "</div>"
   ]
  },
  {
   "cell_type": "markdown",
   "metadata": {},
   "source": [
    "### Анализ игр по платформам"
   ]
  },
  {
   "cell_type": "markdown",
   "metadata": {},
   "source": [
    "Для начала посмотрим, какие в принципе платформы присутствуют в нашем датафрейме."
   ]
  },
  {
   "cell_type": "code",
   "execution_count": 220,
   "metadata": {},
   "outputs": [
    {
     "data": {
      "text/plain": [
       "array(['2600', '3DO', '3DS', 'DC', 'DS', 'GB', 'GBA', 'GC', 'GEN', 'GG',\n",
       "       'N64', 'NES', 'NG', 'PC', 'PCFX', 'PS', 'PS2', 'PS3', 'PS4', 'PSP',\n",
       "       'PSV', 'SAT', 'SCD', 'SNES', 'TG16', 'WS', 'Wii', 'WiiU', 'X360',\n",
       "       'XB', 'XOne'], dtype=object)"
      ]
     },
     "execution_count": 220,
     "metadata": {},
     "output_type": "execute_result"
    }
   ],
   "source": [
    "#Explore platforms\n",
    "games['platform'].sort_values().unique()"
   ]
  },
  {
   "cell_type": "markdown",
   "metadata": {},
   "source": [
    "Некоторые названия похожи, но меняется цифра - например, PS2, PS3, PS4 - очевидно что это разные версии одной платформы.\n",
    "Также есть близнецы Wii и WiiU, похоже что это модификации одной платформы.\n",
    "\n",
    "Найдем лидеров индустрии и оценим динамику продаж по годам."
   ]
  },
  {
   "cell_type": "code",
   "execution_count": 221,
   "metadata": {},
   "outputs": [
    {
     "data": {
      "image/png": "[encoded data removed]",
      "text/plain": [
       "<Figure size 1080x360 with 1 Axes>"
      ]
     },
     "metadata": {
      "needs_background": "light"
     },
     "output_type": "display_data"
    }
   ],
   "source": [
    "#Group sales by platforms\n",
    "sales_platforms = games.pivot_table(index=['platform'],values='total_sales',aggfunc='sum')\\\n",
    ".sort_values(by='total_sales',ascending=False).reset_index()\n",
    "#Use bar plot to visualize top platforms\n",
    "fig=plt.subplots(figsize=(15,5))\n",
    "sns.barplot(data=sales_platforms, x='platform', y='total_sales')\n",
    "plt.xticks(rotation=45)\n",
    "plt.title('Анализ продаж по платформам')\n",
    "plt.xlabel('Платформа')\n",
    "plt.ylabel('Продажи (млн копий)')\n",
    "plt.show()"
   ]
  },
  {
   "cell_type": "markdown",
   "metadata": {},
   "source": [
    "Откровенно лидируют первые 6 платформ, по ним проведем анализ жизненного цикла платформы."
   ]
  },
  {
   "cell_type": "markdown",
   "metadata": {},
   "source": [
    "<div class=\"alert alert-success\">\n",
    "<b>Комментарий ревьюера: ✅</b>\n",
    "\n",
    "Здорово, что уже используешь библиотеку `seaborn` 👍, с ней графики становятся более приятными 😊\n",
    "</div>"
   ]
  },
  {
   "cell_type": "code",
   "execution_count": 222,
   "metadata": {},
   "outputs": [
    {
     "data": {
      "text/html": [
       "<div>\n",
       "<style scoped>\n",
       "    .dataframe tbody tr th:only-of-type {\n",
       "        vertical-align: middle;\n",
       "    }\n",
       "\n",
       "    .dataframe tbody tr th {\n",
       "        vertical-align: top;\n",
       "    }\n",
       "\n",
       "    .dataframe thead th {\n",
       "        text-align: right;\n",
       "    }\n",
       "</style>\n",
       "<table border=\"1\" class=\"dataframe\">\n",
       "  <thead>\n",
       "    <tr style=\"text-align: right;\">\n",
       "      <th></th>\n",
       "      <th>platform</th>\n",
       "      <th>total_sales</th>\n",
       "    </tr>\n",
       "  </thead>\n",
       "  <tbody>\n",
       "    <tr>\n",
       "      <th>0</th>\n",
       "      <td>PS2</td>\n",
       "      <td>1255.770020</td>\n",
       "    </tr>\n",
       "    <tr>\n",
       "      <th>1</th>\n",
       "      <td>X360</td>\n",
       "      <td>971.419983</td>\n",
       "    </tr>\n",
       "    <tr>\n",
       "      <th>2</th>\n",
       "      <td>PS3</td>\n",
       "      <td>939.649963</td>\n",
       "    </tr>\n",
       "    <tr>\n",
       "      <th>3</th>\n",
       "      <td>Wii</td>\n",
       "      <td>907.510010</td>\n",
       "    </tr>\n",
       "    <tr>\n",
       "      <th>4</th>\n",
       "      <td>DS</td>\n",
       "      <td>806.119995</td>\n",
       "    </tr>\n",
       "    <tr>\n",
       "      <th>5</th>\n",
       "      <td>PS</td>\n",
       "      <td>730.859985</td>\n",
       "    </tr>\n",
       "  </tbody>\n",
       "</table>\n",
       "</div>"
      ],
      "text/plain": [
       "  platform  total_sales\n",
       "0      PS2  1255.770020\n",
       "1     X360   971.419983\n",
       "2      PS3   939.649963\n",
       "3      Wii   907.510010\n",
       "4       DS   806.119995\n",
       "5       PS   730.859985"
      ]
     },
     "execution_count": 222,
     "metadata": {},
     "output_type": "execute_result"
    }
   ],
   "source": [
    "#Create new datafarame with top-6 platforms\n",
    "top_platforms = sales_platforms[:6]\n",
    "top_platforms"
   ]
  },
  {
   "cell_type": "code",
   "execution_count": 223,
   "metadata": {},
   "outputs": [
    {
     "data": {
      "text/plain": [
       "['PS2', 'X360', 'PS3', 'Wii', 'DS', 'PS']"
      ]
     },
     "execution_count": 223,
     "metadata": {},
     "output_type": "execute_result"
    }
   ],
   "source": [
    "#Create list of 6 top platforms\n",
    "top_6_list = top_platforms['platform'].tolist()\n",
    "top_6_list"
   ]
  },
  {
   "cell_type": "code",
   "execution_count": 224,
   "metadata": {},
   "outputs": [
    {
     "data": {
      "image/png": "[encoded data removed]",
      "text/plain": [
       "<Figure size 1080x360 with 1 Axes>"
      ]
     },
     "metadata": {
      "needs_background": "light"
     },
     "output_type": "display_data"
    },
    {
     "data": {
      "image/png": "[encoded data removed]",
      "text/plain": [
       "<Figure size 1080x360 with 1 Axes>"
      ]
     },
     "metadata": {
      "needs_background": "light"
     },
     "output_type": "display_data"
    }
   ],
   "source": [
    "#Show line plots with top platforms' sales by years\n",
    "fig = plt.subplots(1)\n",
    "for name in top_6_list[:3]:\n",
    "    games.query('platform == @name and year_of_release != 0').pivot_table(index = 'year_of_release',\n",
    "                        values = 'total_sales', aggfunc = 'sum').sort_values('year_of_release',\n",
    "                                                    ascending = False)['total_sales'].plot(figsize = (15, 5), label=name)\n",
    "    plt.xlabel('Год выпуска')\n",
    "    plt.title('Динамика PS2, X360, PS3 по годам')\n",
    "    plt.ylabel('Продажи (млн копий)')\n",
    "    plt.legend()\n",
    "fig = plt.subplots(1)\n",
    "for name in top_6_list[3:]:\n",
    "    games.query('platform == @name and year_of_release != 0').pivot_table(index = 'year_of_release',\n",
    "                        values = 'total_sales', aggfunc = 'sum').sort_values('year_of_release',\n",
    "                                                    ascending = False)['total_sales'].plot(figsize = (15, 5), label=name)\n",
    "    plt.xlabel('Год выпуска')\n",
    "    plt.title('Динамика Wii, DS, PS по годам')\n",
    "    plt.ylabel('Продажи (млн копий)')\n",
    "    plt.legend()"
   ]
  },
  {
   "cell_type": "markdown",
   "metadata": {},
   "source": [
    "<div class=\"alert alert-warning\">\n",
    "<b>Комментарий ревьюера: ❗️</b>\n",
    "\n",
    "<s>Не забывай пожалуйста подписывать каждый график.\n",
    "    \n",
    "Это важный момент всего проекта, так быстрее понять о чем идёт речь на графике.\n",
    "    \n",
    "</div>"
   ]
  },
  {
   "cell_type": "markdown",
   "metadata": {},
   "source": [
    "<div class=\"alert alert-info\"> <b>Комментарий студента: ℹ️</b> \n",
    "\n",
    "Добавила\n",
    "\n",
    "</div>"
   ]
  },
  {
   "cell_type": "markdown",
   "metadata": {},
   "source": [
    "<div class=\"alert alert-warning\">\n",
    "<b>Комментарий ревьюера: ❗️</b>\n",
    "\n",
    "<s>Обрати внимание, что график не совсем читабелен, потому что включает в себя много линий. Обычно используют 2-3 линии максимум на одном графике, чтобы повысить комфортность изучения графика.\n",
    "    \n",
    "Рекомендовал бы посмотреть каждую платформу на отдельном графике или использовать метод `subplots` построив графики в 2 столбца например.\n",
    "    \n",
    "https://matplotlib.org/stable/gallery/subplots_axes_and_figures/subplots_demo.html\n",
    "    \n",
    "</div>"
   ]
  },
  {
   "cell_type": "markdown",
   "metadata": {},
   "source": [
    "<div class=\"alert alert-info\"> <b>Комментарий студента: ℹ️</b> \n",
    "\n",
    "Попробовала!! Вроде так более читабельно ))\n",
    "\n",
    "</div>"
   ]
  },
  {
   "cell_type": "markdown",
   "metadata": {},
   "source": [
    "<div class=\"alert alert-success\">\n",
    "<b>Комментарий ревьюера (2): ✅</b>\n",
    "\n",
    "🔥    \n",
    "    \n",
    "</div>"
   ]
  },
  {
   "cell_type": "markdown",
   "metadata": {},
   "source": [
    "Жизненный цикл топовых платформ составляет около 10 лет, это особенно наглядно видно по PS2 (c 2000 по 2012 год примерно), X360 (c 2005 по 2016 год) и PS3 (c 2006 по 2016 год).\n",
    "\n",
    "Самый популярный период длится 2-5 лет, после пика начинается спад. \n",
    "\n",
    "Для нашего анализа нужно найти платформы, которые находятся на пике или идут вверх, то есть пик еще впереди. Очевидно что среди выбранных 6 лидеров пиковый период уже пройден, так что нужно анализировать другие платформы и игры и искать те, что находятся на подъеме."
   ]
  },
  {
   "cell_type": "markdown",
   "metadata": {},
   "source": [
    "<div class=\"alert alert-success\">\n",
    "<b>Комментарий ревьюера: ✅</b>\n",
    "\n",
    "Согласен.\n",
    "    \n",
    "В том числе мы могли посчитать срок жизни платформы – вычесть из максимальной даты минимальную по каждой платформе и затем усреднить получившиеся значения.\n",
    "    \n",
    "</div>"
   ]
  },
  {
   "cell_type": "markdown",
   "metadata": {},
   "source": [
    "<div class=\"alert alert-info\"> <b>Комментарий студента: ℹ️</b> \n",
    "\n",
    "Мне кажется, платформа DS сильно исказит среднюю - у нее 20 лет медленного роста в начале, у других платформ нет такого... Но спасибо за идею, учту на будущее!\n",
    "\n",
    "</div>"
   ]
  },
  {
   "cell_type": "markdown",
   "metadata": {},
   "source": [
    "<div class=\"alert alert-success\">\n",
    "<b>Комментарий ревьюера (2): ✅</b>\n",
    "\n",
    "Мы же можем в том числе взять медиану 😊    \n",
    "</div>"
   ]
  },
  {
   "cell_type": "markdown",
   "metadata": {},
   "source": [
    "### Выбор актуального периода и анализ данных в нем"
   ]
  },
  {
   "cell_type": "markdown",
   "metadata": {},
   "source": [
    "Для целей данного анализа актуальным является период наиболее близкий к отчетному, то есть в данном случае 2016 год. Чтобы отследить динамику и найти именно нужные нам платформы (находящиеся на пике или стремящиеся к нему), возьмем период 2013-2016 гг, то есть 4 полных года до отчетного периода.\n",
    "\n",
    "Для начала отберем все платформы, которые возникли после 2012 года и точно попадут в анализируемый период."
   ]
  },
  {
   "cell_type": "code",
   "execution_count": 225,
   "metadata": {},
   "outputs": [
    {
     "data": {
      "text/html": [
       "<div>\n",
       "<style scoped>\n",
       "    .dataframe tbody tr th:only-of-type {\n",
       "        vertical-align: middle;\n",
       "    }\n",
       "\n",
       "    .dataframe tbody tr th {\n",
       "        vertical-align: top;\n",
       "    }\n",
       "\n",
       "    .dataframe thead th {\n",
       "        text-align: right;\n",
       "    }\n",
       "</style>\n",
       "<table border=\"1\" class=\"dataframe\">\n",
       "  <thead>\n",
       "    <tr style=\"text-align: right;\">\n",
       "      <th></th>\n",
       "      <th>platform</th>\n",
       "      <th>total_sales</th>\n",
       "    </tr>\n",
       "  </thead>\n",
       "  <tbody>\n",
       "    <tr>\n",
       "      <th>4</th>\n",
       "      <td>PS4</td>\n",
       "      <td>314.140015</td>\n",
       "    </tr>\n",
       "    <tr>\n",
       "      <th>3</th>\n",
       "      <td>PS3</td>\n",
       "      <td>181.429993</td>\n",
       "    </tr>\n",
       "    <tr>\n",
       "      <th>10</th>\n",
       "      <td>XOne</td>\n",
       "      <td>159.320007</td>\n",
       "    </tr>\n",
       "    <tr>\n",
       "      <th>0</th>\n",
       "      <td>3DS</td>\n",
       "      <td>143.250000</td>\n",
       "    </tr>\n",
       "    <tr>\n",
       "      <th>9</th>\n",
       "      <td>X360</td>\n",
       "      <td>136.800003</td>\n",
       "    </tr>\n",
       "    <tr>\n",
       "      <th>8</th>\n",
       "      <td>WiiU</td>\n",
       "      <td>64.629997</td>\n",
       "    </tr>\n",
       "    <tr>\n",
       "      <th>2</th>\n",
       "      <td>PC</td>\n",
       "      <td>39.430000</td>\n",
       "    </tr>\n",
       "    <tr>\n",
       "      <th>6</th>\n",
       "      <td>PSV</td>\n",
       "      <td>32.989998</td>\n",
       "    </tr>\n",
       "    <tr>\n",
       "      <th>7</th>\n",
       "      <td>Wii</td>\n",
       "      <td>13.660000</td>\n",
       "    </tr>\n",
       "    <tr>\n",
       "      <th>5</th>\n",
       "      <td>PSP</td>\n",
       "      <td>3.500000</td>\n",
       "    </tr>\n",
       "    <tr>\n",
       "      <th>1</th>\n",
       "      <td>DS</td>\n",
       "      <td>1.540000</td>\n",
       "    </tr>\n",
       "  </tbody>\n",
       "</table>\n",
       "</div>"
      ],
      "text/plain": [
       "   platform  total_sales\n",
       "4       PS4   314.140015\n",
       "3       PS3   181.429993\n",
       "10     XOne   159.320007\n",
       "0       3DS   143.250000\n",
       "9      X360   136.800003\n",
       "8      WiiU    64.629997\n",
       "2        PC    39.430000\n",
       "6       PSV    32.989998\n",
       "7       Wii    13.660000\n",
       "5       PSP     3.500000\n",
       "1        DS     1.540000"
      ]
     },
     "execution_count": 225,
     "metadata": {},
     "output_type": "execute_result"
    }
   ],
   "source": [
    "#Show platforms after 2012 with grouped sales\n",
    "platforms_actual = games.query('year_of_release > 2012')\n",
    "platforms_actual_show = platforms_actual.groupby('platform')['total_sales'].agg('sum').reset_index()\n",
    "platforms_actual_show.sort_values(by='total_sales',ascending=False)"
   ]
  },
  {
   "cell_type": "code",
   "execution_count": 226,
   "metadata": {},
   "outputs": [
    {
     "data": {
      "text/plain": [
       "['3DS', 'DS', 'PC', 'PS3', 'PS4', 'PSP', 'PSV', 'Wii', 'WiiU', 'X360', 'XOne']"
      ]
     },
     "execution_count": 226,
     "metadata": {},
     "output_type": "execute_result"
    }
   ],
   "source": [
    "#Create list of actual platforms\n",
    "actual_list = platforms_actual_show['platform'].tolist()\n",
    "actual_list"
   ]
  },
  {
   "cell_type": "code",
   "execution_count": 227,
   "metadata": {},
   "outputs": [
    {
     "data": {
      "image/png": "[encoded data removed]",
      "text/plain": [
       "<Figure size 1080x360 with 1 Axes>"
      ]
     },
     "metadata": {
      "needs_background": "light"
     },
     "output_type": "display_data"
    }
   ],
   "source": [
    "#Show line plots with actual platforms after 2012 sales by years\n",
    "for name in actual_list:\n",
    "    games.query('platform == @name and year_of_release != 0 and year_of_release > 2012').pivot_table(index = 'year_of_release',\n",
    "                        values = 'total_sales', aggfunc = 'sum').sort_values('year_of_release',\n",
    "                                                    ascending = False)['total_sales'].plot(figsize = (15, 5), label=name)\n",
    "   \n",
    "    plt.xlabel('Год выпуска')\n",
    "    plt.title('Динамика актуальных платформ по годам')\n",
    "    plt.ylabel('Продажи (млн копий)')\n",
    "    plt.legend()"
   ]
  },
  {
   "cell_type": "markdown",
   "metadata": {},
   "source": [
    "Все актуальные платформы показывают падение, особенно те что ранее были лидерами рынка - PS3 и X360. Это говорит о том, что рынок в целом стагнирует и данная отрасль становится все менее популярной.\n",
    "\n",
    "Но есть пара платформ, которые пока на подъеме, и в них можно вкладываться, чтобы максимально продлить период притока денег - это PS4, 3DS и XOne. По ним проведем дальнейшее исследование."
   ]
  },
  {
   "cell_type": "markdown",
   "metadata": {},
   "source": [
    "<div class=\"alert alert-success\">\n",
    "<b>Комментарий ревьюера:</b>\n",
    "\n",
    "Обрати внимание, что наши графики повторяются.\n",
    "    \n",
    "Это говорит о том, что мы можем создать функцию для оптимизации нашего кода. \n",
    "    \n",
    "</div>"
   ]
  },
  {
   "cell_type": "markdown",
   "metadata": {},
   "source": [
    "<div class=\"alert alert-info\"> <b>Комментарий студента: ℹ️</b> \n",
    "\n",
    "Спасибо, в следующий раз напишу функцию! Графика всего два, а про функции наш куратор говорит - лучше ими не злоупотреблять, т.к. они тяжелые и долго грузятся, делают проект инертнее\n",
    "    \n",
    "</div>"
   ]
  },
  {
   "cell_type": "code",
   "execution_count": 228,
   "metadata": {},
   "outputs": [
    {
     "data": {
      "text/plain": [
       "(0.0, 2.0)"
      ]
     },
     "execution_count": 228,
     "metadata": {},
     "output_type": "execute_result"
    },
    {
     "data": {
      "image/png": "[encoded data removed]",
      "text/plain": [
       "<Figure size 360x360 with 1 Axes>"
      ]
     },
     "metadata": {
      "needs_background": "light"
     },
     "output_type": "display_data"
    }
   ],
   "source": [
    "#Create df of most interesting platforms\n",
    "most_interesting_platforms = games.query('platform == \"PS4\" or platform == \"3DS\" or platform == \"XOne\"')\n",
    "#Show boxplot for most interesting platforms\n",
    "sns.catplot(x='platform',\n",
    "           y='total_sales',\n",
    "           kind='box',\n",
    "           data=most_interesting_platforms,\n",
    "           showfliers=False,\n",
    "           palette='flare',\n",
    "           )\n",
    "plt.ylim(0,2)"
   ]
  },
  {
   "cell_type": "markdown",
   "metadata": {},
   "source": [
    "По графику \"ящик с усами\" можно сделать вывод, что PS4 и XOne более стабильны по своим показателям - основная масса продаж находится в пределах 750 тыс копий, но довольно много продается и сверх межквартильного размаха: верхний \"ус\", представляющий собой 4й квартиль, доходит до 1 млн 750 тыс копий.\n",
    "\n",
    "У 3DS потенциал меньше - не только медиана находится ниже, но и верхний \"ус\" - есть выбросы, но они не показательны; а вот основной объем продаж явно ниже чем у PS4 и XOne."
   ]
  },
  {
   "cell_type": "markdown",
   "metadata": {},
   "source": [
    "<div class=\"alert alert-success\">\n",
    "<b>Комментарий ревьюера: ✅</b>\n",
    "\n",
    "Отличный способ визуализировать разброс данных по каждой платформе 👍\n",
    "    \n",
    "Кстати мы можем использовать параметр `showfliers=False`, чтобы убрать выбросы с графика.\n",
    "    \n",
    "</div>"
   ]
  },
  {
   "cell_type": "markdown",
   "metadata": {},
   "source": [
    "<div class=\"alert alert-info\"> <b>Комментарий студента: ℹ️</b> \n",
    "\n",
    "Применила, красиво :)\n",
    "    \n",
    "</div>"
   ]
  },
  {
   "cell_type": "markdown",
   "metadata": {},
   "source": [
    "### Влияние отзывов на продажи"
   ]
  },
  {
   "cell_type": "markdown",
   "metadata": {},
   "source": [
    "На примере платформы XOne рассмотрим как влияют отзывы пользователей и критиков на продажи.\n",
    "\n",
    "Для этого построим диаграмму рассеяния и оценим, есть ли корреляция между данными."
   ]
  },
  {
   "cell_type": "code",
   "execution_count": 229,
   "metadata": {},
   "outputs": [
    {
     "data": {
      "image/png": "[encoded data removed]",
      "text/plain": [
       "<Figure size 720x360 with 1 Axes>"
      ]
     },
     "metadata": {
      "needs_background": "light"
     },
     "output_type": "display_data"
    }
   ],
   "source": [
    "#Create new df for XOne analysis\n",
    "xone_analysis = platforms_actual.query('platform == \"XOne\"')\n",
    "#Scatter plot to see correlation between user score and sales of XOne\n",
    "xone_analysis.plot(x='user_score', y='total_sales', kind='scatter', \\\n",
    "                   title='Анализ зависимости продаж XOne от оценки пользователей',figsize=(10, 5), color='green')\n",
    "plt.show()"
   ]
  },
  {
   "cell_type": "markdown",
   "metadata": {},
   "source": [
    "Наблюдается небольшая зависимость продаж от оценки пользователей: те игры, которые оцениваются более чем на 4, продаются лучше. Игры у которых оценки 2,3 - практически не продаются "
   ]
  },
  {
   "cell_type": "code",
   "execution_count": 248,
   "metadata": {},
   "outputs": [
    {
     "data": {
      "image/png": "[encoded data removed]",
      "text/plain": [
       "<Figure size 720x360 with 1 Axes>"
      ]
     },
     "metadata": {
      "needs_background": "light"
     },
     "output_type": "display_data"
    }
   ],
   "source": [
    "#Scatter plot to see correlation between critic score and sales of XOne\n",
    "xone_analysis.plot(x='critic_score', y='total_sales', kind='scatter', \\\n",
    "                   title='Анализ зависимости продаж XOne от оценки критиков',figsize=(10, 5), color='blue')\n",
    "plt.show()"
   ]
  },
  {
   "cell_type": "markdown",
   "metadata": {},
   "source": [
    "Зависимость довольно очевдная - критикам продажи доверяют больше, чем игрокам :)\n",
    "Самые кассовые игры - те что оценены критиками в 70 баллов и более.\n",
    "Есть даже топовая игра - оценка по ней почти 100 баллов и продажи самые высокие. Посмотрим, что это за игра, интересно же"
   ]
  },
  {
   "cell_type": "markdown",
   "metadata": {},
   "source": [
    "<div class=\"alert alert-success\">\n",
    "<b>Комментарий ревьюера: ✅</b>\n",
    "    \n",
    "Хорошие и логичные комментарии. Очень важно строить график корреляции между переменными, ведь может произойти такая ситуация, что расчет у нас очень сильный а на графике абсолютно другая картина.\n",
    "    \n",
    "---\n",
    "\n",
    "В том числе можно было построить матрицу корреляции между нужными нам переменными.\n",
    "    \n",
    "И визуализировать её с помощью метода `heatmap` из библиотеки `seaborn`.\n",
    "    \n",
    "</div>"
   ]
  },
  {
   "cell_type": "markdown",
   "metadata": {},
   "source": [
    "<div class=\"alert alert-info\"> <b>Комментарий студента: ℹ️</b> \n",
    "\n",
    "Поэкспериментирую с хитмэпом на локале, спасибо!\n",
    "    \n",
    "</div>"
   ]
  },
  {
   "cell_type": "code",
   "execution_count": 231,
   "metadata": {},
   "outputs": [
    {
     "data": {
      "text/html": [
       "<div>\n",
       "<style scoped>\n",
       "    .dataframe tbody tr th:only-of-type {\n",
       "        vertical-align: middle;\n",
       "    }\n",
       "\n",
       "    .dataframe tbody tr th {\n",
       "        vertical-align: top;\n",
       "    }\n",
       "\n",
       "    .dataframe thead th {\n",
       "        text-align: right;\n",
       "    }\n",
       "</style>\n",
       "<table border=\"1\" class=\"dataframe\">\n",
       "  <thead>\n",
       "    <tr style=\"text-align: right;\">\n",
       "      <th></th>\n",
       "      <th>name</th>\n",
       "      <th>platform</th>\n",
       "      <th>year_of_release</th>\n",
       "      <th>genre</th>\n",
       "      <th>na_sales</th>\n",
       "      <th>eu_sales</th>\n",
       "      <th>jp_sales</th>\n",
       "      <th>other_sales</th>\n",
       "      <th>critic_score</th>\n",
       "      <th>user_score</th>\n",
       "      <th>rating</th>\n",
       "      <th>total_sales</th>\n",
       "    </tr>\n",
       "  </thead>\n",
       "  <tbody>\n",
       "    <tr>\n",
       "      <th>165</th>\n",
       "      <td>Grand Theft Auto V</td>\n",
       "      <td>XOne</td>\n",
       "      <td>2014</td>\n",
       "      <td>Action</td>\n",
       "      <td>2.81</td>\n",
       "      <td>2.19</td>\n",
       "      <td>0.0</td>\n",
       "      <td>0.47</td>\n",
       "      <td>97.0</td>\n",
       "      <td>7.9</td>\n",
       "      <td>M</td>\n",
       "      <td>5.47</td>\n",
       "    </tr>\n",
       "  </tbody>\n",
       "</table>\n",
       "</div>"
      ],
      "text/plain": [
       "                   name platform  year_of_release   genre  na_sales  eu_sales  \\\n",
       "165  Grand Theft Auto V     XOne             2014  Action      2.81      2.19   \n",
       "\n",
       "     jp_sales  other_sales  critic_score  user_score rating  total_sales  \n",
       "165       0.0         0.47          97.0         7.9      M         5.47  "
      ]
     },
     "execution_count": 231,
     "metadata": {},
     "output_type": "execute_result"
    }
   ],
   "source": [
    "#See game with max sales in XOne platform\n",
    "xone_analysis.query('critic_score > 95')"
   ]
  },
  {
   "cell_type": "markdown",
   "metadata": {},
   "source": [
    "Это GTA V и в ее популярности не приходится сомневаться - даже если ты вообще не играешь в компьютерные игры (как например я), все равно про GTA наслышан.  "
   ]
  },
  {
   "cell_type": "markdown",
   "metadata": {},
   "source": [
    "Для того чтобы соотнести выводы с продажами игр на других платформах, посмотрим средние оценки критиков и пользователей для наиболее актуальных платформ, по которым ранее анализировали динамику."
   ]
  },
  {
   "cell_type": "code",
   "execution_count": 232,
   "metadata": {},
   "outputs": [
    {
     "data": {
      "text/html": [
       "<div>\n",
       "<style scoped>\n",
       "    .dataframe tbody tr th:only-of-type {\n",
       "        vertical-align: middle;\n",
       "    }\n",
       "\n",
       "    .dataframe tbody tr th {\n",
       "        vertical-align: top;\n",
       "    }\n",
       "\n",
       "    .dataframe thead th {\n",
       "        text-align: right;\n",
       "    }\n",
       "</style>\n",
       "<table border=\"1\" class=\"dataframe\">\n",
       "  <thead>\n",
       "    <tr style=\"text-align: right;\">\n",
       "      <th></th>\n",
       "      <th>platform</th>\n",
       "      <th>critic_score</th>\n",
       "      <th>total_sales</th>\n",
       "      <th>user_score</th>\n",
       "    </tr>\n",
       "  </thead>\n",
       "  <tbody>\n",
       "    <tr>\n",
       "      <th>0</th>\n",
       "      <td>PC</td>\n",
       "      <td>75.550339</td>\n",
       "      <td>39.430000</td>\n",
       "      <td>6.269678</td>\n",
       "    </tr>\n",
       "    <tr>\n",
       "      <th>1</th>\n",
       "      <td>PSP</td>\n",
       "      <td>74.000000</td>\n",
       "      <td>3.500000</td>\n",
       "      <td>5.850000</td>\n",
       "    </tr>\n",
       "    <tr>\n",
       "      <th>2</th>\n",
       "      <td>XOne</td>\n",
       "      <td>73.325447</td>\n",
       "      <td>159.320007</td>\n",
       "      <td>6.521429</td>\n",
       "    </tr>\n",
       "    <tr>\n",
       "      <th>3</th>\n",
       "      <td>PS4</td>\n",
       "      <td>72.091270</td>\n",
       "      <td>314.140015</td>\n",
       "      <td>6.748249</td>\n",
       "    </tr>\n",
       "    <tr>\n",
       "      <th>4</th>\n",
       "      <td>WiiU</td>\n",
       "      <td>71.642860</td>\n",
       "      <td>64.629997</td>\n",
       "      <td>7.017500</td>\n",
       "    </tr>\n",
       "    <tr>\n",
       "      <th>5</th>\n",
       "      <td>PSV</td>\n",
       "      <td>71.636360</td>\n",
       "      <td>32.989998</td>\n",
       "      <td>7.527273</td>\n",
       "    </tr>\n",
       "    <tr>\n",
       "      <th>6</th>\n",
       "      <td>PS3</td>\n",
       "      <td>70.198349</td>\n",
       "      <td>181.429993</td>\n",
       "      <td>6.348387</td>\n",
       "    </tr>\n",
       "    <tr>\n",
       "      <th>7</th>\n",
       "      <td>X360</td>\n",
       "      <td>69.234566</td>\n",
       "      <td>136.800003</td>\n",
       "      <td>5.993007</td>\n",
       "    </tr>\n",
       "    <tr>\n",
       "      <th>8</th>\n",
       "      <td>3DS</td>\n",
       "      <td>68.338028</td>\n",
       "      <td>143.250000</td>\n",
       "      <td>6.976250</td>\n",
       "    </tr>\n",
       "    <tr>\n",
       "      <th>9</th>\n",
       "      <td>DS</td>\n",
       "      <td>0.000000</td>\n",
       "      <td>1.540000</td>\n",
       "      <td>4.800000</td>\n",
       "    </tr>\n",
       "    <tr>\n",
       "      <th>10</th>\n",
       "      <td>Wii</td>\n",
       "      <td>0.000000</td>\n",
       "      <td>13.660000</td>\n",
       "      <td>5.257143</td>\n",
       "    </tr>\n",
       "  </tbody>\n",
       "</table>\n",
       "</div>"
      ],
      "text/plain": [
       "   platform  critic_score  total_sales  user_score\n",
       "0        PC     75.550339    39.430000    6.269678\n",
       "1       PSP     74.000000     3.500000    5.850000\n",
       "2      XOne     73.325447   159.320007    6.521429\n",
       "3       PS4     72.091270   314.140015    6.748249\n",
       "4      WiiU     71.642860    64.629997    7.017500\n",
       "5       PSV     71.636360    32.989998    7.527273\n",
       "6       PS3     70.198349   181.429993    6.348387\n",
       "7      X360     69.234566   136.800003    5.993007\n",
       "8       3DS     68.338028   143.250000    6.976250\n",
       "9        DS      0.000000     1.540000    4.800000\n",
       "10      Wii      0.000000    13.660000    5.257143"
      ]
     },
     "execution_count": 232,
     "metadata": {},
     "output_type": "execute_result"
    }
   ],
   "source": [
    "#Create new df with grouped platforms and scores\n",
    "score_analysis = platforms_actual.pivot_table(index='platform', values=['total_sales','critic_score','user_score'],\\\n",
    "                                              aggfunc={\"total_sales\": np.sum, \"critic_score\": 'mean', \"user_score\": 'mean'},\\\n",
    "                                              fill_value=0).sort_values(by='critic_score',ascending=False).reset_index()\n",
    "score_analysis"
   ]
  },
  {
   "cell_type": "markdown",
   "metadata": {},
   "source": [
    "Таблица отсортирована по отзывам критиков - платформы с самыми высокими отзывами на первых позициях. При этом очевидно, что продажи не зависят напрямую от данных отзывов - лидер продаж PS4 всего лишь четвертый в спсике, а второй за ним PS3 - седьмой.\n",
    "\n",
    "То же самое можно сказать и про отзывы игроков: наиболее высокие отзывы (больше 7) у платформ PSV и WiiU, которые далеко не в топе продаж."
   ]
  },
  {
   "cell_type": "markdown",
   "metadata": {},
   "source": [
    "### Анализ игр по жанрам"
   ]
  },
  {
   "cell_type": "markdown",
   "metadata": {},
   "source": [
    "Проанализируем игры по жанрам. Для этого посмотрим на самые популярные и самые кассовые жанры среди актуальных платформ."
   ]
  },
  {
   "cell_type": "code",
   "execution_count": 233,
   "metadata": {},
   "outputs": [
    {
     "data": {
      "text/html": [
       "<div>\n",
       "<style scoped>\n",
       "    .dataframe tbody tr th:only-of-type {\n",
       "        vertical-align: middle;\n",
       "    }\n",
       "\n",
       "    .dataframe tbody tr th {\n",
       "        vertical-align: top;\n",
       "    }\n",
       "\n",
       "    .dataframe thead th {\n",
       "        text-align: right;\n",
       "    }\n",
       "</style>\n",
       "<table border=\"1\" class=\"dataframe\">\n",
       "  <thead>\n",
       "    <tr style=\"text-align: right;\">\n",
       "      <th></th>\n",
       "      <th>genre</th>\n",
       "      <th>count</th>\n",
       "      <th>sum</th>\n",
       "    </tr>\n",
       "  </thead>\n",
       "  <tbody>\n",
       "    <tr>\n",
       "      <th>0</th>\n",
       "      <td>Action</td>\n",
       "      <td>766</td>\n",
       "      <td>321.869995</td>\n",
       "    </tr>\n",
       "    <tr>\n",
       "      <th>8</th>\n",
       "      <td>Shooter</td>\n",
       "      <td>187</td>\n",
       "      <td>232.979996</td>\n",
       "    </tr>\n",
       "    <tr>\n",
       "      <th>10</th>\n",
       "      <td>Sports</td>\n",
       "      <td>214</td>\n",
       "      <td>150.649994</td>\n",
       "    </tr>\n",
       "    <tr>\n",
       "      <th>7</th>\n",
       "      <td>Role-Playing</td>\n",
       "      <td>292</td>\n",
       "      <td>145.889999</td>\n",
       "    </tr>\n",
       "    <tr>\n",
       "      <th>3</th>\n",
       "      <td>Misc</td>\n",
       "      <td>155</td>\n",
       "      <td>62.820000</td>\n",
       "    </tr>\n",
       "    <tr>\n",
       "      <th>4</th>\n",
       "      <td>Platform</td>\n",
       "      <td>74</td>\n",
       "      <td>42.630001</td>\n",
       "    </tr>\n",
       "    <tr>\n",
       "      <th>6</th>\n",
       "      <td>Racing</td>\n",
       "      <td>85</td>\n",
       "      <td>39.889999</td>\n",
       "    </tr>\n",
       "    <tr>\n",
       "      <th>2</th>\n",
       "      <td>Fighting</td>\n",
       "      <td>80</td>\n",
       "      <td>35.310001</td>\n",
       "    </tr>\n",
       "    <tr>\n",
       "      <th>1</th>\n",
       "      <td>Adventure</td>\n",
       "      <td>245</td>\n",
       "      <td>23.639999</td>\n",
       "    </tr>\n",
       "    <tr>\n",
       "      <th>9</th>\n",
       "      <td>Simulation</td>\n",
       "      <td>62</td>\n",
       "      <td>21.760000</td>\n",
       "    </tr>\n",
       "    <tr>\n",
       "      <th>11</th>\n",
       "      <td>Strategy</td>\n",
       "      <td>56</td>\n",
       "      <td>10.080000</td>\n",
       "    </tr>\n",
       "    <tr>\n",
       "      <th>5</th>\n",
       "      <td>Puzzle</td>\n",
       "      <td>17</td>\n",
       "      <td>3.170000</td>\n",
       "    </tr>\n",
       "  </tbody>\n",
       "</table>\n",
       "</div>"
      ],
      "text/plain": [
       "           genre  count         sum\n",
       "0         Action    766  321.869995\n",
       "8        Shooter    187  232.979996\n",
       "10        Sports    214  150.649994\n",
       "7   Role-Playing    292  145.889999\n",
       "3           Misc    155   62.820000\n",
       "4       Platform     74   42.630001\n",
       "6         Racing     85   39.889999\n",
       "2       Fighting     80   35.310001\n",
       "1      Adventure    245   23.639999\n",
       "9     Simulation     62   21.760000\n",
       "11      Strategy     56   10.080000\n",
       "5         Puzzle     17    3.170000"
      ]
     },
     "execution_count": 233,
     "metadata": {},
     "output_type": "execute_result"
    }
   ],
   "source": [
    "#Show most popular games\n",
    "genre_pop = platforms_actual.groupby('genre')['total_sales'].agg(['count', 'sum']).reset_index()\n",
    "genre_pop.sort_values(by='sum',ascending=False)"
   ]
  },
  {
   "cell_type": "markdown",
   "metadata": {},
   "source": [
    "Самый популярный жанр - экшн, на втором месте стрелялки.\n",
    "\n",
    "А вот самые непопулярные - паззлы, которые гораздо приятнее собирать руками на полу."
   ]
  },
  {
   "cell_type": "code",
   "execution_count": 234,
   "metadata": {},
   "outputs": [
    {
     "data": {
      "text/html": [
       "<div>\n",
       "<style scoped>\n",
       "    .dataframe tbody tr th:only-of-type {\n",
       "        vertical-align: middle;\n",
       "    }\n",
       "\n",
       "    .dataframe tbody tr th {\n",
       "        vertical-align: top;\n",
       "    }\n",
       "\n",
       "    .dataframe thead th {\n",
       "        text-align: right;\n",
       "    }\n",
       "</style>\n",
       "<table border=\"1\" class=\"dataframe\">\n",
       "  <thead>\n",
       "    <tr style=\"text-align: right;\">\n",
       "      <th></th>\n",
       "      <th>genre</th>\n",
       "      <th>quantity</th>\n",
       "      <th>total_sales</th>\n",
       "      <th>average_sales</th>\n",
       "    </tr>\n",
       "  </thead>\n",
       "  <tbody>\n",
       "    <tr>\n",
       "      <th>8</th>\n",
       "      <td>Shooter</td>\n",
       "      <td>187</td>\n",
       "      <td>232.979996</td>\n",
       "      <td>1.245882</td>\n",
       "    </tr>\n",
       "    <tr>\n",
       "      <th>10</th>\n",
       "      <td>Sports</td>\n",
       "      <td>214</td>\n",
       "      <td>150.649994</td>\n",
       "      <td>0.703972</td>\n",
       "    </tr>\n",
       "    <tr>\n",
       "      <th>4</th>\n",
       "      <td>Platform</td>\n",
       "      <td>74</td>\n",
       "      <td>42.630001</td>\n",
       "      <td>0.576081</td>\n",
       "    </tr>\n",
       "    <tr>\n",
       "      <th>7</th>\n",
       "      <td>Role-Playing</td>\n",
       "      <td>292</td>\n",
       "      <td>145.889999</td>\n",
       "      <td>0.499623</td>\n",
       "    </tr>\n",
       "    <tr>\n",
       "      <th>6</th>\n",
       "      <td>Racing</td>\n",
       "      <td>85</td>\n",
       "      <td>39.889999</td>\n",
       "      <td>0.469294</td>\n",
       "    </tr>\n",
       "    <tr>\n",
       "      <th>2</th>\n",
       "      <td>Fighting</td>\n",
       "      <td>80</td>\n",
       "      <td>35.310001</td>\n",
       "      <td>0.441375</td>\n",
       "    </tr>\n",
       "    <tr>\n",
       "      <th>0</th>\n",
       "      <td>Action</td>\n",
       "      <td>766</td>\n",
       "      <td>321.869995</td>\n",
       "      <td>0.420196</td>\n",
       "    </tr>\n",
       "    <tr>\n",
       "      <th>3</th>\n",
       "      <td>Misc</td>\n",
       "      <td>155</td>\n",
       "      <td>62.820000</td>\n",
       "      <td>0.405290</td>\n",
       "    </tr>\n",
       "    <tr>\n",
       "      <th>9</th>\n",
       "      <td>Simulation</td>\n",
       "      <td>62</td>\n",
       "      <td>21.760000</td>\n",
       "      <td>0.350968</td>\n",
       "    </tr>\n",
       "    <tr>\n",
       "      <th>5</th>\n",
       "      <td>Puzzle</td>\n",
       "      <td>17</td>\n",
       "      <td>3.170000</td>\n",
       "      <td>0.186471</td>\n",
       "    </tr>\n",
       "    <tr>\n",
       "      <th>11</th>\n",
       "      <td>Strategy</td>\n",
       "      <td>56</td>\n",
       "      <td>10.080000</td>\n",
       "      <td>0.180000</td>\n",
       "    </tr>\n",
       "    <tr>\n",
       "      <th>1</th>\n",
       "      <td>Adventure</td>\n",
       "      <td>245</td>\n",
       "      <td>23.639999</td>\n",
       "      <td>0.096490</td>\n",
       "    </tr>\n",
       "  </tbody>\n",
       "</table>\n",
       "</div>"
      ],
      "text/plain": [
       "           genre  quantity  total_sales  average_sales\n",
       "8        Shooter       187   232.979996       1.245882\n",
       "10        Sports       214   150.649994       0.703972\n",
       "4       Platform        74    42.630001       0.576081\n",
       "7   Role-Playing       292   145.889999       0.499623\n",
       "6         Racing        85    39.889999       0.469294\n",
       "2       Fighting        80    35.310001       0.441375\n",
       "0         Action       766   321.869995       0.420196\n",
       "3           Misc       155    62.820000       0.405290\n",
       "9     Simulation        62    21.760000       0.350968\n",
       "5         Puzzle        17     3.170000       0.186471\n",
       "11      Strategy        56    10.080000       0.180000\n",
       "1      Adventure       245    23.639999       0.096490"
      ]
     },
     "execution_count": 234,
     "metadata": {},
     "output_type": "execute_result"
    }
   ],
   "source": [
    "#Create dataframe grouped by genres \n",
    "genre_analysis = platforms_actual.pivot_table(index='genre', values=['total_sales','name'],\\\n",
    "                                              aggfunc={\"total_sales\": np.sum, \"name\": 'count'},\\\n",
    "                                              fill_value=0).rename(columns={'name':'quantity'}).reset_index()\n",
    "#Add column with average sales per game\n",
    "genre_analysis['average_sales'] = genre_analysis['total_sales'] / genre_analysis['quantity']\n",
    "genre_analysis.sort_values(by='average_sales',ascending=False)"
   ]
  },
  {
   "cell_type": "markdown",
   "metadata": {},
   "source": [
    "<div class=\"alert alert-success\">\n",
    "<b>Комментарий ревьюера: ✅</b>\n",
    "    \n",
    "Кстати, чтобы самим в ручную не рассчитывать нам средний показатель, можно было в аргументе `aggfunc` также передать `'mean'`.\n",
    "    \n",
    "---\n",
    "    \n",
    "Здорово, что оцениваешь также средние продажи, т.к. они более устойчивы к выбросам, чем просто количество или сумма.\n",
    "    \n",
    "</div>"
   ]
  },
  {
   "cell_type": "markdown",
   "metadata": {},
   "source": [
    "<div class=\"alert alert-info\"> <b>Комментарий студента: ℹ️</b> \n",
    "\n",
    "Спасибо, учту на будущее\n",
    "    \n",
    "</div>"
   ]
  },
  {
   "cell_type": "markdown",
   "metadata": {},
   "source": [
    "Самые высокие продажи за 1 игру у стрелялок - причем с хорошим отрывом. Можно сделать вывод, что этот жанр бьет точно в цель: зарабатывает много денег своим создателям.\n",
    "\n",
    "Неплохие показатели у спортивных игр (тут тоже вспоминается FIFA - то есть они на слуху даже у непосвященных).\n",
    "\n",
    "Обратная ситуация у игр-приключений. При большом количестве созданных игр, продано их весьма посредственное количество, поэтому рейтинг продаж за 1 игру самый низкий. Скорее всего, такие игры интересны небольшому числу усидчивых интеллектуалов, т.к. проходить их нужно долго и не каждый на это способен.\n",
    "\n",
    "Жанр экшн - лидер по объему продаж, но в пересчете на 1 игру он в серединке. Думаю, у производителей тут своя стратегия и они стараются разнообразить игры для своей аудитории, за что фанаты награждают их постоянным спросом."
   ]
  },
  {
   "cell_type": "markdown",
   "metadata": {},
   "source": [
    "**Общий вывод по третьему разделу:** \n",
    "\n",
    "- Наибольшее количество игр выпускалось в 2002-2011 годах, пики производства пришлись на 2008 и 2009 гг. После 2011 года выпуск компьютерных игр постоянно снижается, что можно объяснить переходом на мобильные и социальные игры.\n",
    "- Среди платформ есть очевидные лидеры продаж - PS2, X360, PS3, Wii, DS, PS, по ним проведен анализ жизненного цикла и сделан вывод, что в среднем платформа \"живет\" 10 лет, пик продаж длится 2-5 лет.\n",
    "- Исходя из этой информации, подходящий период для анализа взят - последние 4 года (2013-2016). За этот период проанализирована динамика продаж 11 актуальных платформ, почти у всех уже идет спад, но выделены три платформы которые еще \"на плаву\" - это PS4, 3DS и XOne. Для них проведен статистический анализ с помощью \"ящиков с усами\", выявивший что PS4 и XOne более стабильны по своим показателям, а у 3DS потенциал меньше - не только медиана продаж находится ниже, но и четвертый квартиль: основной объем продаж явно ниже чем у PS4 и XOne.\n",
    "- На примере платформы XOne проведен анализ влияния отзывов критиков и пользователей на продажи. Вывод: отзывы пользователей практически не влияют на продажи, тогда как отзывы критиков - влияют довольно сильно.\n",
    "- Для остальных актульных платформ также проведен анализ влияния отзывов. Прямого влияния нет.\n",
    "- Проведен анализ игр по жанрам: самые популярные игры в стиле экшн, самые непопулярные - паззлы. Но вот по \"кассовости\" лучше всех стрелялки - у них наибольшие продажи на одну игру. А наименее удачные в этом плане - игры-приключения."
   ]
  },
  {
   "cell_type": "markdown",
   "metadata": {},
   "source": [
    "## Портрет пользователя по региону"
   ]
  },
  {
   "cell_type": "markdown",
   "metadata": {},
   "source": [
    "Для определения портрета пользователя каждого из трех регионов, выделим самые популярные платформы и жанры для Северной Америки, Европы и Японии. Представим их в виде круговых диаграмм, а также оценим влияние рейтинга ESRB на продажи в каждом регионе. "
   ]
  },
  {
   "cell_type": "markdown",
   "metadata": {},
   "source": [
    "### Анализ популярных платформ по регионам"
   ]
  },
  {
   "cell_type": "code",
   "execution_count": 235,
   "metadata": {},
   "outputs": [
    {
     "data": {
      "image/png": "[encoded data removed]",
      "text/plain": [
       "<Figure size 1080x432 with 3 Axes>"
      ]
     },
     "metadata": {},
     "output_type": "display_data"
    }
   ],
   "source": [
    "#Pie plots to show the share of most popular platforms by region\n",
    "fig, (ax1, ax2, ax3) = plt.subplots(1,3,figsize = (15,5))\n",
    "platforms_actual.groupby('platform')['na_sales'].agg(['sum']).reset_index().sort_values(by='sum',ascending=False)\\\n",
    "                .head(5).set_index('platform').plot(ax=ax1, kind='pie', y='sum', autopct='%1.0f%%', figsize=(15, 6), \\\n",
    "                      legend=False, title = 'Топ-5 платформ в Северной Америке')\n",
    "platforms_actual.groupby('platform')['eu_sales'].agg(['sum']).reset_index().sort_values(by='sum',ascending=False)\\\n",
    "                .head(5).set_index('platform').plot(ax=ax2, kind='pie', y='sum', autopct='%1.0f%%', figsize=(15, 6), \\\n",
    "                      legend=False, title = 'Топ-5 платформ в Европе')\n",
    "platforms_actual.groupby('platform')['jp_sales'].agg(['sum']).reset_index().sort_values(by='sum',ascending=False)\\\n",
    "                .head(5).set_index('platform').plot(ax=ax3, kind='pie', y='sum', autopct='%1.0f%%', figsize=(15, 6), \\\n",
    "                      legend=False, title = 'Топ-5 платформ в Японии')\n",
    "plt.show()"
   ]
  },
  {
   "cell_type": "markdown",
   "metadata": {},
   "source": [
    "Итак, по наиболее популярным платформам:\n",
    "\n",
    "- в Северной Америке лидер - PS4, на втором месте XOne, далее X360, PS3 и 3DS;\n",
    "- в Европе лидером является тоже PS4, далее PS3, XOne, X360 и 3DS;\n",
    "- в Японии лидирует платформа 3DS, второе место за PS3, далее идут PSV, PS4 и WiiU.\n",
    "\n",
    "Можно заключить, что в Евпропе и Северной Америке схожи предпочтения - все платформы в топ-5 одинаковые, но популярны немного в разном порядке; а в Японии вкусы отличаются - повторяется лишь PS3 и PS4, остальные платформы, включая лидера - другие."
   ]
  },
  {
   "cell_type": "markdown",
   "metadata": {},
   "source": [
    "### Анализ популярных жанров по регионам"
   ]
  },
  {
   "cell_type": "code",
   "execution_count": 236,
   "metadata": {},
   "outputs": [
    {
     "data": {
      "image/png": "[encoded data removed]",
      "text/plain": [
       "<Figure size 1080x432 with 3 Axes>"
      ]
     },
     "metadata": {},
     "output_type": "display_data"
    }
   ],
   "source": [
    "#Pie plots to show the share of most popular genres by region\n",
    "fig, (ax1, ax2, ax3) = plt.subplots(1,3,figsize = (15,5))\n",
    "platforms_actual.groupby('genre')['na_sales'].agg(['sum']).reset_index().sort_values(by='sum',ascending=False).\\\n",
    "                            head(5).set_index('genre').plot(ax=ax1, kind='pie', y='sum', \\\n",
    "                            legend=False, autopct='%1.0f%%', figsize=(15, 6), title = 'Топ-5 жанров в Северной Америке')\n",
    "platforms_actual.groupby('genre')['eu_sales'].agg(['sum']).reset_index().sort_values(by='sum',ascending=False).\\\n",
    "                            head(5).set_index('genre').plot(ax=ax2, kind='pie', y='sum', autopct='%1.0f%%', figsize=(15, 6),\\\n",
    "                            legend=False, title = 'Топ-5 жанров в Европе')\n",
    "platforms_actual.groupby('genre')['jp_sales'].agg(['sum']).reset_index().sort_values(by='sum',ascending=False).\\\n",
    "                            head(5).set_index('genre').plot(ax=ax3, kind='pie', y='sum', autopct='%1.0f%%', figsize=(15, 6), \\\n",
    "                            legend=False, title = 'Топ-5 жанров в Японии')\n",
    "plt.show()"
   ]
  },
  {
   "cell_type": "markdown",
   "metadata": {},
   "source": [
    "В части жанров, наблюдаем следующее:\n",
    "\n",
    "- в Северной Америке лидируют игры в жарне экшн, в спину им дышат стрелялки. Также в топ-5 попали спортивные и ролевые игры, замыкают пятерку лидеров игры в стиле аркада;\n",
    "- в Европе первая четверка такая же, но на пятом месте гонки;\n",
    "- в Японии лидер совсем другой - это ролевые игры, причем доля их огромна - 44% среди лидеров! Второе место за экшн-играми, также занимающим большую нишу - 35% среди лидеров. На третьем, четвертом и пятом месте - аркада, борьба и стрелялки, соответственно.\n",
    "\n",
    "Европа с Северной Америкой снова похожи, что в целом объяснимо - это люди западного типа, со схожим менталитетом. В то время как в Японии у людей другие приоритеты - зачастую их не выгонишь с работы, и многие японцы из-за этого одиноки либо трудно сходятся с людьми. Не удивительно что они предпочиают реальным отношениям ролевые игры в виртуале."
   ]
  },
  {
   "cell_type": "markdown",
   "metadata": {},
   "source": [
    "### Влияние рейтинга ESRB на продажи в регионах"
   ]
  },
  {
   "cell_type": "markdown",
   "metadata": {},
   "source": [
    "Для оценки влияния возрастного рейтинга на продажи, построим диаграммы с показателями рейтинга и данными по объемам продаж по каждому региону. Но для начала вспомним что означает каждый рейтинг:\n",
    "\n",
    "*«EC» («Early childhood») — Игра для детей младшего возраста*\n",
    "\n",
    "*«E» («Everyone») — Игра подходит для всех возрастов*\n",
    "\n",
    "*«E10+» («Everyone 10 and older») — Игра для лиц старше 10 лет*\n",
    "\n",
    "*«T» («Teen») — «Подросткам» - Игра подходит для лиц от 13 лет*\n",
    "\n",
    "*«M» («Mature») — Игра для лиц старше 17 лет*\n",
    "\n",
    "*«AO» («Adults Only 18+») — Только для взрослых старше 18 лет*"
   ]
  },
  {
   "cell_type": "code",
   "execution_count": 237,
   "metadata": {},
   "outputs": [
    {
     "data": {
      "image/png": "[encoded data removed]",
      "text/plain": [
       "<Figure size 1080x432 with 3 Axes>"
      ]
     },
     "metadata": {},
     "output_type": "display_data"
    }
   ],
   "source": [
    "#Pie plots to show the share of most popular genres by region\n",
    "fig, (ax1, ax2, ax3) = plt.subplots(1,3,figsize = (15,5))\n",
    "platforms_actual.groupby('rating')['na_sales'].agg(['sum']).reset_index().sort_values(by='sum',ascending=False).\\\n",
    "                      set_index('rating').plot(ax=ax1, kind='pie', y='sum', autopct='%1.0f%%', figsize=(15, 6), \\\n",
    "                      legend=False, title = 'Рейтинг игр в Северной Америке')\n",
    "platforms_actual.groupby('rating')['eu_sales'].agg(['sum']).reset_index().sort_values(by='sum',ascending=False).\\\n",
    "                      set_index('rating').plot(ax=ax2, kind='pie', y='sum', autopct='%1.0f%%', figsize=(15, 6), \\\n",
    "                      legend=False, title = 'Рейтинг игр в Европе')\n",
    "platforms_actual.groupby('rating')['jp_sales'].agg(['sum']).reset_index().sort_values(by='sum',ascending=False).\\\n",
    "                      set_index('rating').plot(ax=ax3, kind='pie', y='sum', autopct='%1.0f%%', figsize=(15, 6), \\\n",
    "                      legend=False, title = 'Рейтинг игр в Японии')\n",
    "plt.show()"
   ]
  },
  {
   "cell_type": "markdown",
   "metadata": {},
   "source": [
    "В Северной Америке и Европе рейтинги схожи: наибольшую часть всех игр представляют игры для лиц старше 17 лет (рейтинг М); на втором месте в обоих регионах рейтинг Е - то есть игры, подходящие для всех возрастов; далее Е10+ и Т - игры для подростков. Большая доля неизвестных рейтингов - это можно объяснить тем, что рейтинг ESRB для игры выпускаемых в США и Канаде, но ведь играют не только в игры выпущенные в этих странах.\n",
    "\n",
    "В Японии опять все по-другому: 60% рейтинга не определено, то также объясняется фактом локальности рейтинга ESRB. Но даже среди отмеченных рейтингов лидируют игры для подростков, на втором месте игры для всех возрастов, на третьем - игры для лиц старше 17 лет и на четвертом - игры для лиц старше 10 лет."
   ]
  },
  {
   "cell_type": "markdown",
   "metadata": {},
   "source": [
    "**Общий вывод по четвертому разделу:** \n",
    "\n",
    "Анализ пользователей по трем доступным регионам показал, что\n",
    "\n",
    "- Вкусы в отношении платформ для Северной Америки и Европы схожи, обоим регионам нравятся PS4, XOne, X360, PS3 и 3DS; а вот в Японии пользователи предпочитают 3DS, PS3, PSV, PS4 и WiiU.\n",
    "- В части жанров, опять же вкусы совпадают почти полностью у игроков Северной Америки и Европы, которые любят больше всего игры в стиле экшн, чуть меньше - стрелялки, спортивные и ролевые игры. Отличаются лишь замыкающие топ-5: у Америки это аркада, у Европы - гонки. В Японии же лидер совсем другой - это ролевые игры, второе место за экшн-играми, на третьем, четвертом и пятом месте - аркада, борьба и стрелялки, соответственно.\n",
    "- Влияние рейтинга на продажи трудно определить, т.к. очень большая доля рейтинга не указана. Но исходя из тех данных что имеются, в Северной Америке и Европе лучше всего продаются игры для лиц старше 17 лет (рейтинг М); на втором месте в обоих регионах рейтинг Е - то есть игры, подходящие для всех возрастов; далее Е10+ и Т - игры для подростков. А вот в Японии лидируют игры для подростков, на втором месте игры для всех возрастов, на третьем - игры для лиц старше 17 лет и на четвертом - игры для лиц старше 10 лет."
   ]
  },
  {
   "cell_type": "markdown",
   "metadata": {},
   "source": [
    "<div class=\"alert alert-success\">\n",
    "<b>Комментарий ревьюера: ✅</b>\n",
    "\n",
    "Достаточно детально проанализировали наши данные и изучили портреты пользователей.\n",
    "    \n",
    "\n",
    "    \n",
    "Давай теперь проверим наши гипотезы.\n",
    "    \n",
    "</div>"
   ]
  },
  {
   "cell_type": "markdown",
   "metadata": {},
   "source": [
    "## Проверка гипотезы"
   ]
  },
  {
   "cell_type": "markdown",
   "metadata": {},
   "source": [
    "Нам предстоит проверить две гипотезы:\n",
    "1. Средние пользовательские рейтинги платформ Xbox One и PC одинаковые;\n",
    "2. Средние пользовательские рейтинги жанров Action и Sports разные.\n",
    "\n",
    "**Сформулируем нулевую и альтернативную гипотезы для первой задачи:**\n",
    "\n",
    "*H0: Средние пользовательские рейтинги платформ Xbox One и PC одинаковые.*\n",
    "\n",
    "*H1: Средние пользовательские рейтинги платформ Xbox One и PC различаются.*"
   ]
  },
  {
   "cell_type": "markdown",
   "metadata": {},
   "source": [
    "<div class=\"alert alert-success\">\n",
    "<b>Комментарий ревьюера: ✅</b>\n",
    "\n",
    "Гипотезы сформулированы верно.\n",
    "    \n",
    "    \n",
    "**Best practies:**\n",
    "    \n",
    "\n",
    "    \n",
    "В том числе стоит визуализировать распределение каждой выборки, чтобы определить нормальное ли у них распределение или нет.\n",
    "    \n",
    "Так мы покажем логичность и последовательность наших действий.\n",
    "    \n",
    "</div>"
   ]
  },
  {
   "cell_type": "markdown",
   "metadata": {},
   "source": [
    "<div class=\"alert alert-info\"> <b>Комментарий студента: ℹ️</b> \n",
    "\n",
    "Добавила гистограммы и пояснения\n",
    "    \n",
    "</div>"
   ]
  },
  {
   "cell_type": "code",
   "execution_count": 238,
   "metadata": {},
   "outputs": [
    {
     "name": "stdout",
     "output_type": "stream",
     "text": [
      "Дисперсия выборки xbox_one 1.8965188\n",
      "Дисперсия выборки pc 3.0163064\n"
     ]
    }
   ],
   "source": [
    "#Extract data about two platforms from dataframe\n",
    "xbox_one = platforms_actual.query('platform == \"XOne\" and user_score != 0')\n",
    "pc = platforms_actual.query('platform == \"PC\" and user_score != 0')\n",
    "#Show variances for both massives\n",
    "print(\"Дисперсия выборки xbox_one\",np.var(xbox_one['user_score']))\n",
    "print(\"Дисперсия выборки pc\",np.var(pc['user_score']))"
   ]
  },
  {
   "cell_type": "markdown",
   "metadata": {},
   "source": [
    "На основании данных о дисперсии, можно сказать что разброс значений по платформе PC больше, чем по Xbox One.\n",
    "Но преждевременно делать выводы о том, насколько разные средние величины у этих двух совокупностей."
   ]
  },
  {
   "cell_type": "markdown",
   "metadata": {},
   "source": [
    "Посмотрим на распределение значений пользовательских рейтингов для анализируемых платформ."
   ]
  },
  {
   "cell_type": "code",
   "execution_count": 249,
   "metadata": {},
   "outputs": [
    {
     "data": {
      "image/png": "[encoded data removed]",
      "text/plain": [
       "<Figure size 720x360 with 1 Axes>"
      ]
     },
     "metadata": {
      "needs_background": "light"
     },
     "output_type": "display_data"
    },
    {
     "data": {
      "image/png": "[encoded data removed]",
      "text/plain": [
       "<Figure size 720x360 with 1 Axes>"
      ]
     },
     "metadata": {
      "needs_background": "light"
     },
     "output_type": "display_data"
    }
   ],
   "source": [
    "#Histprgamms for user scores to ssee distribution\n",
    "xbox_one.plot(y='user_score', kind='hist', title='Распределение оценок пользователей по платформе XBox',\\\n",
    "              figsize=(10, 5), color='blue')\n",
    "pc.plot(y='user_score', kind='hist', title='Распределение оценок пользователей по платформе PC',\\\n",
    "              figsize=(10, 5), color='green')\n",
    "plt.show()"
   ]
  },
  {
   "cell_type": "markdown",
   "metadata": {},
   "source": [
    "Распределение со смещением влево, но Центральная Предельная Теорема (ЦПТ) позволяет проводить сравнение гипотез при таком распределении, т.к. тест производится при помощи выборок со случайными значениями, которые по факту нормально распределены относительно среднего всей генеральной совокупности."
   ]
  },
  {
   "cell_type": "markdown",
   "metadata": {},
   "source": [
    "Проведем проверку гипотезы."
   ]
  },
  {
   "cell_type": "code",
   "execution_count": 240,
   "metadata": {},
   "outputs": [
    {
     "name": "stdout",
     "output_type": "stream",
     "text": [
      "p-значение: 0.1475962317516997\n",
      "Не получилось отвергнуть нулевую гипотезу\n"
     ]
    }
   ],
   "source": [
    "#Set appha\n",
    "alpha = .05\n",
    "#Perform hypothesis testing using st.ttest_ind method; as variances are different, add equal_var=False\n",
    "results = st.ttest_ind(xbox_one['user_score'],pc['user_score'],equal_var=False, nan_policy='omit')\n",
    "print('p-значение:', results.pvalue)\n",
    "\n",
    "if (results.pvalue < alpha):\n",
    "    print(\"Отвергаем нулевую гипотезу\")\n",
    "else:\n",
    "    print(\"Не получилось отвергнуть нулевую гипотезу\")"
   ]
  },
  {
   "cell_type": "markdown",
   "metadata": {},
   "source": [
    "Результат проверки гипотезы можно трактовать так: средние пользовательские оценки для Xbox One и PC весьма схожи, поэтому отвергнуть нулевую гипотезу мы не можем. Посмотрим дополнительно на средние оценки."
   ]
  },
  {
   "cell_type": "code",
   "execution_count": 241,
   "metadata": {},
   "outputs": [
    {
     "data": {
      "text/plain": [
       "6.5214286"
      ]
     },
     "execution_count": 241,
     "metadata": {},
     "output_type": "execute_result"
    }
   ],
   "source": [
    "#Calculate mean value for XBox one user score\n",
    "xbox_one['user_score'].mean()"
   ]
  },
  {
   "cell_type": "code",
   "execution_count": 242,
   "metadata": {},
   "outputs": [
    {
     "data": {
      "text/plain": [
       "6.2696776"
      ]
     },
     "execution_count": 242,
     "metadata": {},
     "output_type": "execute_result"
    }
   ],
   "source": [
    "#Calculate mean value for PC user score\n",
    "pc['user_score'].mean()"
   ]
  },
  {
   "cell_type": "markdown",
   "metadata": {},
   "source": [
    "6.5 против 6.3, это и правда довольно близкие значения."
   ]
  },
  {
   "cell_type": "markdown",
   "metadata": {},
   "source": [
    "**Сформулируем нулевую и альтернативную гипотезы для второй задачи:**\n",
    "\n",
    "H0: Средние пользовательские рейтинги жанров Action и Sports одинаковые.\n",
    "\n",
    "H1: Средние пользовательские рейтинги жанров Action и Sports разные."
   ]
  },
  {
   "cell_type": "markdown",
   "metadata": {},
   "source": [
    "<div class=\"alert alert-success\">\n",
    "<b>Комментарий ревьюера: ✅</b>\n",
    "\n",
    "Гипотезы сформулированы верно.\n",
    "    \n",
    "     \n",
    "</div>"
   ]
  },
  {
   "cell_type": "code",
   "execution_count": 250,
   "metadata": {},
   "outputs": [
    {
     "name": "stdout",
     "output_type": "stream",
     "text": [
      "Дисперсия выборки жанра экшн 1.7648125\n",
      "Дисперсия выборки жанра спорт 3.160734\n"
     ]
    }
   ],
   "source": [
    "#Extract data about two genres from dataframe\n",
    "action = platforms_actual.query('genre == \"Action\" and user_score != 0')\n",
    "sports = platforms_actual.query('genre == \"Sports\" and user_score != 0')\n",
    "#Show variances for both massives\n",
    "print(\"Дисперсия выборки жанра экшн\",np.var(action['user_score']))\n",
    "print(\"Дисперсия выборки жанра спорт\",np.var(sports['user_score']))"
   ]
  },
  {
   "cell_type": "markdown",
   "metadata": {},
   "source": [
    "Дисперсии снова сильно отличаются - разброс данных по оценке пользователей у жанра спорт выше, чем у жанра экшн."
   ]
  },
  {
   "cell_type": "markdown",
   "metadata": {},
   "source": [
    "Оценим распределение пользовательских оценок по интересующим нас жанрам."
   ]
  },
  {
   "cell_type": "code",
   "execution_count": 244,
   "metadata": {},
   "outputs": [
    {
     "data": {
      "image/png": "[encoded data removed]",
      "text/plain": [
       "<Figure size 720x360 with 1 Axes>"
      ]
     },
     "metadata": {
      "needs_background": "light"
     },
     "output_type": "display_data"
    },
    {
     "data": {
      "image/png": "[encoded data removed]",
      "text/plain": [
       "<Figure size 720x360 with 1 Axes>"
      ]
     },
     "metadata": {
      "needs_background": "light"
     },
     "output_type": "display_data"
    }
   ],
   "source": [
    "#Histprgamms for user scores to ssee distribution\n",
    "action.plot(y='user_score', kind='hist', title='Распределение оценок пользователей по жанру экшн',\\\n",
    "              figsize=(10, 5), color='blue')\n",
    "sports.plot(y='user_score', kind='hist', title='Распределение оценок пользователей по жанру спорт',\\\n",
    "              figsize=(10, 5), color='green')\n",
    "plt.show()"
   ]
  },
  {
   "cell_type": "markdown",
   "metadata": {},
   "source": [
    "И снова оценки распределены со смещением влево. Это говорит о том, что много низких оценок. Но для проверки гипотез это не преграда, ЦПТ позволяет проводить тестирование гипотез с любым распределением генеральной совокупности."
   ]
  },
  {
   "cell_type": "markdown",
   "metadata": {},
   "source": [
    "Проведем проверку гипотезы."
   ]
  },
  {
   "cell_type": "code",
   "execution_count": 245,
   "metadata": {},
   "outputs": [
    {
     "name": "stdout",
     "output_type": "stream",
     "text": [
      "p-значение: 1.446052200045016e-20\n",
      "Отвергаем нулевую гипотезу\n"
     ]
    }
   ],
   "source": [
    "#Set appha\n",
    "alpha = .05\n",
    "#Perform hypothesis testing using st.ttest_ind method; as variances are different, add equal_var=False\n",
    "results = st.ttest_ind(action['user_score'],sports['user_score'],equal_var=False, nan_policy='omit')\n",
    "print('p-значение:', results.pvalue)\n",
    "\n",
    "if (results.pvalue < alpha):\n",
    "    print(\"Отвергаем нулевую гипотезу\")\n",
    "else:\n",
    "    print(\"Не получилось отвергнуть нулевую гипотезу\")"
   ]
  },
  {
   "cell_type": "markdown",
   "metadata": {},
   "source": [
    "Теперь результат обратный - отвергаем нулевую гипотезу о том, что пользовательские оценки двух выбранных жанров равны. Но тем самым подтверждаем утверждение \"Средние пользовательские рейтинги жанров Action и Sports разные\". "
   ]
  },
  {
   "cell_type": "code",
   "execution_count": 246,
   "metadata": {},
   "outputs": [
    {
     "data": {
      "text/plain": [
       "6.8375316"
      ]
     },
     "execution_count": 246,
     "metadata": {},
     "output_type": "execute_result"
    }
   ],
   "source": [
    "#Calculate mean value for action games user score\n",
    "action['user_score'].mean()"
   ]
  },
  {
   "cell_type": "code",
   "execution_count": 247,
   "metadata": {},
   "outputs": [
    {
     "data": {
      "text/plain": [
       "5.2381253"
      ]
     },
     "execution_count": 247,
     "metadata": {},
     "output_type": "execute_result"
    }
   ],
   "source": [
    "#Calculate mean value for sport games user score\n",
    "sports['user_score'].mean()"
   ]
  },
  {
   "cell_type": "markdown",
   "metadata": {},
   "source": [
    "Различие средних оценок довольно сильное - поэтому вполне очевидно что гипотеза отвергнута."
   ]
  },
  {
   "cell_type": "markdown",
   "metadata": {},
   "source": [
    "<div class=\"alert alert-success\">\n",
    "<b>Комментарий ревьюера: ✅</b>\n",
    "\n",
    "Обрати внимание, что наши действия также повторяются с точки зрения расчетов статистических тестов, это говорит о том, что мы можем также создать здесь функцию 😊\n",
    "    \n",
    "</div>"
   ]
  },
  {
   "cell_type": "markdown",
   "metadata": {},
   "source": [
    "**Общий вывод по пятому разделу:** \n",
    "\n",
    "Были проверены две гипотезы:\n",
    "\n",
    "*Средние пользовательские рейтинги платформ Xbox One и PC одинаковые;*\n",
    "\n",
    "*Средние пользовательские рейтинги жанров Action и Sports разные.*\n",
    "\n",
    "Результат по первой гипотезе: нельзя отвергнуть гипотезу о том, что средние пользовательские рейтинги платформ Xbox One и PC одинаковые. Средние по этим двум платформам равны 6.5 и 6.3, то есть отличаются незначительно, и с вероятностью 15% такое различие можно получить случайно. \n",
    "\n",
    "Результат по второй гипотезе: отвергаем гипотезу о том что средние пользовательские рейтинги жанров Action и Sports одинаковые. Средние по этим двум жанрам равны 6.8 и 5.2, соответственно, и вероятность получить такое отличие случайно крайне мала."
   ]
  },
  {
   "cell_type": "markdown",
   "metadata": {},
   "source": [
    "## Общий вывод"
   ]
  },
  {
   "cell_type": "markdown",
   "metadata": {},
   "source": [
    "<div style=\"border:solid blue 3px; padding: 20px\">\n",
    "    \n",
    "Получены на вход данные о компьютерных играх из открытых источников на конец 2016 года, проведена предобработка данных для повышения качества анализа:\n",
    "    \n",
    "    - текстовые данные проверены на явные и скрытые дубликаты, заменен рейтинг 'K-A' на 'E', т.к. это одинаковый рейтинг \"игра подходит для любого возраста\";\n",
    "    \n",
    "    - обработаны пропуски: удалены минимальные пропуски в наименованиях игр и жанрах; есть крупные пропуски в данных по оценкам критиков и пользователей, удалять или заменять которые нельзя; также присутствуют пропуски в рейтинге по возрасту - этих данных может не быть ввиду того что данный рейтинг появился в 1994 году, а первые игры в нашем анализе были созданы в 1980 году; кроме того, данный рейтинг отсутствует у игр произведенных не в США или Канаде;\n",
    "    \n",
    "По результату анализа данных о компьютерных играх, выявлены следующие закономерности, определяющие успешность платформы:\n",
    "    \n",
    "    - в среднем платформа на которой выпускаются игры имеет жизненный цикл около 10 лет, пика достигает через 2-3 года после выпуска, максимальные продажи длятся 2-5 лет, после чего начинается спад;\n",
    "    \n",
    "    - в целом рынок компьютерных игр стагнирует, почти все платформы сейчас находятся в состоянии спада;\n",
    "    \n",
    "Для интернет-магазина \"Стримчик\" выбраны потенциально популярные продукты, по которым предлагаем спланировать рекламные кампании на следующий год: \n",
    "    \n",
    "    - с учетом стагнирующего рынка компьютерных игр в целом, выбраны платформы появившиеся в актуальный период (за 4 года до отчетного) и находящиеся в начале спада. По ним имеет смысл делать рекламные кампании: это PS4, 3DS и XOne. Фаворитами являются PS4 и XOne, т.к. объемы продаж у них выше и статистические показатели более стабильны;\n",
    "    \n",
    "    - при разработке рекламных кампаний, следует учесть влияние оценок критиков: лучше продвигать игры с оценками 70 и выше, т.к. они имеют опыт более успешных продаж. Пользователи доверяют отзывам критиков;\n",
    "    \n",
    "    - также нужно учесть особенности продаж по регионам: для Северной Америки и Европы имеет смысл вкладываться в игры в стиле экшн и стрелялки, а для Японии - в ролевые игры и экшн; \n",
    "    \n",
    "    - наибольшее количество проданных копий на игру в жанре стрелялки, это также стоит иметь ввиду при продвижении игр;\n",
    "    \n",
    "    - рейтинг игр по возрасту стоит принять во внимание в разрезе регионов: рынку Америки и Европы больше интересны игры рейтинга М и Е, а в Японии ставку нужно сделать на подростков.\n",
    "    \n",
    "</div>"
   ]
  },
  {
   "cell_type": "markdown",
   "metadata": {},
   "source": [
    "<div class=\"alert alert-success\">\n",
    "<b>Комментарий ревьюера: ✅</b>\n",
    "\n",
    "Выводы понятны и логичны, а самое главное подкреплены выявленными фактами.\n",
    "       \n",
    "В целом сам проект выполнен на хорошем уровне! На протяжении всей работы чувствуется глубина проработки задачи и это безусловный плюс для нас. Было использовано большое количество методов, которые будут помогать тебе в дальнейших проектах.\n",
    "    \n",
    "    \n",
    "    \n",
    "**[общий комментарий]** Ячейки **markdown** в том числе мы можем использовать как дополнительный способ стилизации нашего проекта. Оставил ниже ссылку, с примерами стилизации.\n",
    "\n",
    "https://sqlbak.com/blog/jupyter-notebook-markdown-cheatsheet     \n",
    "</div>"
   ]
  },
  {
   "cell_type": "markdown",
   "metadata": {},
   "source": [
    "<div class=\"alert alert-success\">\n",
    "<b>Комментарий ревьюера: ✅</b>\n",
    "    \n",
    "\n",
    "Возвращаю проект обратно, чтобы убедиться что все мои комментарии понятны.\n",
    "    \n",
    "Если вдруг у тебя возникнут какие-то вопросы, то я с радостью отвечу на них 😊\n",
    "    \n",
    "</div>"
   ]
  },
  {
   "cell_type": "markdown",
   "metadata": {},
   "source": [
    "<div class=\"alert alert-info\"> <b>Комментарий студента: ℹ️</b> \n",
    "\n",
    "Евгений, добрый день,\n",
    "\n",
    "Спасибо большое за конструктивные комментарии, я почти все отработала - чтобы попрактиковать и не забыть хорошие инструменты и подходы.\n",
    "Надеюсь, теперь проект выполнен не на хорошем уровне - а на отличном :)\n",
    "    \n",
    "Вопросов у меня нет, еще раз спасибо за такое классное ревью!\n",
    "    \n",
    "</div>"
   ]
  },
  {
   "cell_type": "markdown",
   "metadata": {},
   "source": [
    "<div class=\"alert alert-success\">\n",
    "<b>Комментарий ревьюера (2): ✅</b>\n",
    "    \n",
    "Спасибо за твой фидбек, он ценен для меня 😊 Рад, что сразу применяешь новые знания, действительно так быстрее усвоятся новые знания.\n",
    "\n",
    "Тогда предлагаю двигаться дальше.\n",
    "    \n",
    "Поздравляю с успешным завершением проекта 😊👍\n",
    "    \n",
    "И желаю успехов в новых работах 😊\n",
    "    \n",
    "    \n",
    "</div>"
   ]
  },
  {
   "cell_type": "code",
   "execution_count": null,
   "metadata": {},
   "outputs": [],
   "source": []
  }
 ],
 "metadata": {
  "ExecuteTimeLog": [
   {
    "duration": 720,
    "start_time": "2022-12-12T09:24:27.235Z"
   },
   {
    "duration": 107,
    "start_time": "2022-12-12T09:24:57.947Z"
   },
   {
    "duration": 50,
    "start_time": "2022-12-12T09:25:48.633Z"
   },
   {
    "duration": 17,
    "start_time": "2022-12-12T09:27:03.164Z"
   },
   {
    "duration": 14,
    "start_time": "2022-12-12T09:32:13.198Z"
   },
   {
    "duration": 658,
    "start_time": "2022-12-12T09:35:26.790Z"
   },
   {
    "duration": 3,
    "start_time": "2022-12-12T12:55:09.861Z"
   },
   {
    "duration": 48,
    "start_time": "2022-12-12T12:55:12.212Z"
   },
   {
    "duration": 15,
    "start_time": "2022-12-12T12:55:19.586Z"
   },
   {
    "duration": 16,
    "start_time": "2022-12-12T12:55:28.495Z"
   },
   {
    "duration": 794,
    "start_time": "2022-12-12T12:55:34.486Z"
   },
   {
    "duration": 4,
    "start_time": "2022-12-12T12:57:40.951Z"
   },
   {
    "duration": 6,
    "start_time": "2022-12-12T13:02:28.267Z"
   },
   {
    "duration": 14,
    "start_time": "2022-12-12T13:05:58.266Z"
   },
   {
    "duration": 94,
    "start_time": "2022-12-12T13:17:20.237Z"
   },
   {
    "duration": 25,
    "start_time": "2022-12-12T13:17:34.691Z"
   },
   {
    "duration": 5,
    "start_time": "2022-12-12T13:18:08.346Z"
   },
   {
    "duration": 6,
    "start_time": "2022-12-12T13:18:53.149Z"
   },
   {
    "duration": 16,
    "start_time": "2022-12-12T13:23:28.373Z"
   },
   {
    "duration": 14,
    "start_time": "2022-12-12T13:23:50.226Z"
   },
   {
    "duration": 7,
    "start_time": "2022-12-12T14:38:45.970Z"
   },
   {
    "duration": 11,
    "start_time": "2022-12-12T14:38:57.025Z"
   },
   {
    "duration": 3,
    "start_time": "2022-12-12T14:39:06.981Z"
   },
   {
    "duration": 50,
    "start_time": "2022-12-12T14:39:08.877Z"
   },
   {
    "duration": 14,
    "start_time": "2022-12-12T14:39:11.053Z"
   },
   {
    "duration": 13,
    "start_time": "2022-12-12T14:39:13.159Z"
   },
   {
    "duration": 705,
    "start_time": "2022-12-12T14:39:17.346Z"
   },
   {
    "duration": 4,
    "start_time": "2022-12-12T14:39:21.618Z"
   },
   {
    "duration": 6,
    "start_time": "2022-12-12T14:39:23.580Z"
   },
   {
    "duration": 13,
    "start_time": "2022-12-12T14:39:25.877Z"
   },
   {
    "duration": 7,
    "start_time": "2022-12-12T14:39:31.647Z"
   },
   {
    "duration": 8,
    "start_time": "2022-12-12T14:39:33.780Z"
   },
   {
    "duration": 12,
    "start_time": "2022-12-12T14:39:37.198Z"
   },
   {
    "duration": 7,
    "start_time": "2022-12-12T14:40:30.670Z"
   },
   {
    "duration": 6,
    "start_time": "2022-12-12T14:43:22.521Z"
   },
   {
    "duration": 5,
    "start_time": "2022-12-12T14:44:40.149Z"
   },
   {
    "duration": 17,
    "start_time": "2022-12-12T14:53:28.942Z"
   },
   {
    "duration": 17,
    "start_time": "2022-12-12T14:53:51.262Z"
   },
   {
    "duration": 10,
    "start_time": "2022-12-12T14:54:04.047Z"
   },
   {
    "duration": 11,
    "start_time": "2022-12-12T14:54:46.682Z"
   },
   {
    "duration": 12,
    "start_time": "2022-12-12T14:54:51.277Z"
   },
   {
    "duration": 5,
    "start_time": "2022-12-12T15:21:11.988Z"
   },
   {
    "duration": 5,
    "start_time": "2022-12-12T15:21:28.076Z"
   },
   {
    "duration": 7,
    "start_time": "2022-12-12T15:21:38.219Z"
   },
   {
    "duration": 8,
    "start_time": "2022-12-12T15:22:04.954Z"
   },
   {
    "duration": 7,
    "start_time": "2022-12-12T15:22:34.418Z"
   },
   {
    "duration": 3,
    "start_time": "2022-12-12T15:23:08.206Z"
   },
   {
    "duration": 14,
    "start_time": "2022-12-12T15:23:15.173Z"
   },
   {
    "duration": 5,
    "start_time": "2022-12-12T15:23:18.846Z"
   },
   {
    "duration": 3,
    "start_time": "2022-12-12T15:23:36.413Z"
   },
   {
    "duration": 51,
    "start_time": "2022-12-12T15:23:36.418Z"
   },
   {
    "duration": 13,
    "start_time": "2022-12-12T15:23:36.470Z"
   },
   {
    "duration": 16,
    "start_time": "2022-12-12T15:23:36.484Z"
   },
   {
    "duration": 712,
    "start_time": "2022-12-12T15:23:36.501Z"
   },
   {
    "duration": 4,
    "start_time": "2022-12-12T15:23:37.214Z"
   },
   {
    "duration": 8,
    "start_time": "2022-12-12T15:23:37.219Z"
   },
   {
    "duration": 16,
    "start_time": "2022-12-12T15:23:37.229Z"
   },
   {
    "duration": 6,
    "start_time": "2022-12-12T15:23:37.247Z"
   },
   {
    "duration": 8,
    "start_time": "2022-12-12T15:23:37.254Z"
   },
   {
    "duration": 10,
    "start_time": "2022-12-12T15:23:37.264Z"
   },
   {
    "duration": 11,
    "start_time": "2022-12-12T15:23:37.298Z"
   },
   {
    "duration": 12,
    "start_time": "2022-12-12T15:23:37.310Z"
   },
   {
    "duration": 14,
    "start_time": "2022-12-12T15:23:37.324Z"
   },
   {
    "duration": 8,
    "start_time": "2022-12-12T15:23:37.340Z"
   },
   {
    "duration": 4,
    "start_time": "2022-12-12T15:24:39.576Z"
   },
   {
    "duration": 4,
    "start_time": "2022-12-12T15:25:08.928Z"
   },
   {
    "duration": 4,
    "start_time": "2022-12-12T15:28:09.809Z"
   },
   {
    "duration": 17,
    "start_time": "2022-12-12T15:33:59.099Z"
   },
   {
    "duration": 877,
    "start_time": "2022-12-13T05:32:21.916Z"
   },
   {
    "duration": 98,
    "start_time": "2022-12-13T05:32:23.631Z"
   },
   {
    "duration": 19,
    "start_time": "2022-12-13T05:32:26.621Z"
   },
   {
    "duration": 17,
    "start_time": "2022-12-13T05:32:29.272Z"
   },
   {
    "duration": 840,
    "start_time": "2022-12-13T05:32:31.761Z"
   },
   {
    "duration": 4,
    "start_time": "2022-12-13T05:36:25.306Z"
   },
   {
    "duration": 6,
    "start_time": "2022-12-13T05:36:27.459Z"
   },
   {
    "duration": 15,
    "start_time": "2022-12-13T05:36:29.431Z"
   },
   {
    "duration": 9,
    "start_time": "2022-12-13T05:36:34.363Z"
   },
   {
    "duration": 6,
    "start_time": "2022-12-13T05:36:36.038Z"
   },
   {
    "duration": 7,
    "start_time": "2022-12-13T05:36:38.169Z"
   },
   {
    "duration": 20,
    "start_time": "2022-12-13T05:50:00.488Z"
   },
   {
    "duration": 5,
    "start_time": "2022-12-13T05:50:02.196Z"
   },
   {
    "duration": 20,
    "start_time": "2022-12-13T05:50:08.520Z"
   },
   {
    "duration": 18,
    "start_time": "2022-12-13T05:52:58.596Z"
   },
   {
    "duration": 15,
    "start_time": "2022-12-13T05:53:05.553Z"
   },
   {
    "duration": 80,
    "start_time": "2022-12-13T05:54:14.925Z"
   },
   {
    "duration": 8,
    "start_time": "2022-12-13T05:55:02.171Z"
   },
   {
    "duration": 4,
    "start_time": "2022-12-13T05:55:22.466Z"
   },
   {
    "duration": 3,
    "start_time": "2022-12-13T05:55:25.138Z"
   },
   {
    "duration": 12,
    "start_time": "2022-12-13T05:55:49.648Z"
   },
   {
    "duration": 6,
    "start_time": "2022-12-13T05:55:55.855Z"
   },
   {
    "duration": 9,
    "start_time": "2022-12-13T05:56:24.486Z"
   },
   {
    "duration": 7,
    "start_time": "2022-12-13T05:56:33.532Z"
   },
   {
    "duration": 9,
    "start_time": "2022-12-13T05:57:32.260Z"
   },
   {
    "duration": 7,
    "start_time": "2022-12-13T05:57:57.525Z"
   },
   {
    "duration": 3,
    "start_time": "2022-12-13T05:58:26.731Z"
   },
   {
    "duration": 62,
    "start_time": "2022-12-13T05:58:26.736Z"
   },
   {
    "duration": 14,
    "start_time": "2022-12-13T05:58:26.800Z"
   },
   {
    "duration": 27,
    "start_time": "2022-12-13T05:58:26.815Z"
   },
   {
    "duration": 840,
    "start_time": "2022-12-13T05:58:26.845Z"
   },
   {
    "duration": 4,
    "start_time": "2022-12-13T05:58:27.686Z"
   },
   {
    "duration": 22,
    "start_time": "2022-12-13T05:58:27.692Z"
   },
   {
    "duration": 27,
    "start_time": "2022-12-13T05:58:27.716Z"
   },
   {
    "duration": 15,
    "start_time": "2022-12-13T05:58:27.745Z"
   },
   {
    "duration": 14,
    "start_time": "2022-12-13T05:58:27.762Z"
   },
   {
    "duration": 20,
    "start_time": "2022-12-13T05:58:27.777Z"
   },
   {
    "duration": 0,
    "start_time": "2022-12-13T05:58:27.799Z"
   },
   {
    "duration": 0,
    "start_time": "2022-12-13T05:58:27.800Z"
   },
   {
    "duration": 0,
    "start_time": "2022-12-13T05:58:27.801Z"
   },
   {
    "duration": 0,
    "start_time": "2022-12-13T05:58:27.803Z"
   },
   {
    "duration": 0,
    "start_time": "2022-12-13T05:58:27.804Z"
   },
   {
    "duration": 0,
    "start_time": "2022-12-13T05:58:27.805Z"
   },
   {
    "duration": 6,
    "start_time": "2022-12-13T05:58:48.906Z"
   },
   {
    "duration": 12,
    "start_time": "2022-12-13T05:59:36.932Z"
   },
   {
    "duration": 13,
    "start_time": "2022-12-13T05:59:52.794Z"
   },
   {
    "duration": 8,
    "start_time": "2022-12-13T06:00:10.558Z"
   },
   {
    "duration": 12,
    "start_time": "2022-12-13T06:00:46.386Z"
   },
   {
    "duration": 9,
    "start_time": "2022-12-13T06:00:55.740Z"
   },
   {
    "duration": 13,
    "start_time": "2022-12-13T06:01:20.504Z"
   },
   {
    "duration": 31,
    "start_time": "2022-12-13T06:01:57.748Z"
   },
   {
    "duration": 9,
    "start_time": "2022-12-13T06:05:53.473Z"
   },
   {
    "duration": 5,
    "start_time": "2022-12-13T06:06:00.574Z"
   },
   {
    "duration": 5,
    "start_time": "2022-12-13T06:06:32.148Z"
   },
   {
    "duration": 3,
    "start_time": "2022-12-13T06:57:46.325Z"
   },
   {
    "duration": 52,
    "start_time": "2022-12-13T06:57:50.845Z"
   },
   {
    "duration": 767,
    "start_time": "2022-12-13T06:57:57.119Z"
   },
   {
    "duration": 4,
    "start_time": "2022-12-13T06:58:02.208Z"
   },
   {
    "duration": 7,
    "start_time": "2022-12-13T06:58:04.859Z"
   },
   {
    "duration": 5,
    "start_time": "2022-12-13T06:58:10.249Z"
   },
   {
    "duration": 17,
    "start_time": "2022-12-13T06:58:13.992Z"
   },
   {
    "duration": 8,
    "start_time": "2022-12-13T06:58:17.298Z"
   },
   {
    "duration": 13,
    "start_time": "2022-12-13T06:58:19.601Z"
   },
   {
    "duration": 7,
    "start_time": "2022-12-13T06:58:23.562Z"
   },
   {
    "duration": 14,
    "start_time": "2022-12-13T06:58:26.109Z"
   },
   {
    "duration": 6,
    "start_time": "2022-12-13T06:58:28.452Z"
   },
   {
    "duration": 17,
    "start_time": "2022-12-13T06:58:30.992Z"
   },
   {
    "duration": 32,
    "start_time": "2022-12-13T06:58:33.532Z"
   },
   {
    "duration": 18,
    "start_time": "2022-12-13T06:58:40.381Z"
   },
   {
    "duration": 49,
    "start_time": "2022-12-13T07:07:46.882Z"
   },
   {
    "duration": 57,
    "start_time": "2022-12-13T07:07:52.744Z"
   },
   {
    "duration": 5,
    "start_time": "2022-12-13T07:08:26.794Z"
   },
   {
    "duration": 18,
    "start_time": "2022-12-13T07:08:48.477Z"
   },
   {
    "duration": 13,
    "start_time": "2022-12-13T07:08:57.433Z"
   },
   {
    "duration": 4,
    "start_time": "2022-12-13T07:09:04.932Z"
   },
   {
    "duration": 40,
    "start_time": "2022-12-13T07:30:26.766Z"
   },
   {
    "duration": 11,
    "start_time": "2022-12-13T07:30:45.855Z"
   },
   {
    "duration": 13,
    "start_time": "2022-12-13T07:35:37.654Z"
   },
   {
    "duration": 568,
    "start_time": "2022-12-13T07:37:26.702Z"
   },
   {
    "duration": 3,
    "start_time": "2022-12-13T07:37:36.392Z"
   },
   {
    "duration": 62,
    "start_time": "2022-12-13T07:37:36.397Z"
   },
   {
    "duration": 15,
    "start_time": "2022-12-13T07:37:36.460Z"
   },
   {
    "duration": 18,
    "start_time": "2022-12-13T07:37:36.477Z"
   },
   {
    "duration": 804,
    "start_time": "2022-12-13T07:37:36.497Z"
   },
   {
    "duration": 4,
    "start_time": "2022-12-13T07:37:37.303Z"
   },
   {
    "duration": 38,
    "start_time": "2022-12-13T07:37:37.309Z"
   },
   {
    "duration": 18,
    "start_time": "2022-12-13T07:37:37.349Z"
   },
   {
    "duration": 34,
    "start_time": "2022-12-13T07:37:37.370Z"
   },
   {
    "duration": 21,
    "start_time": "2022-12-13T07:37:37.406Z"
   },
   {
    "duration": 19,
    "start_time": "2022-12-13T07:37:37.428Z"
   },
   {
    "duration": 27,
    "start_time": "2022-12-13T07:37:37.448Z"
   },
   {
    "duration": 13,
    "start_time": "2022-12-13T07:37:37.476Z"
   },
   {
    "duration": 19,
    "start_time": "2022-12-13T07:37:37.491Z"
   },
   {
    "duration": 14,
    "start_time": "2022-12-13T07:37:37.511Z"
   },
   {
    "duration": 23,
    "start_time": "2022-12-13T07:37:37.527Z"
   },
   {
    "duration": 34,
    "start_time": "2022-12-13T07:37:37.552Z"
   },
   {
    "duration": 15,
    "start_time": "2022-12-13T07:37:37.588Z"
   },
   {
    "duration": 44,
    "start_time": "2022-12-13T07:37:37.605Z"
   },
   {
    "duration": 42,
    "start_time": "2022-12-13T07:37:37.651Z"
   },
   {
    "duration": 16,
    "start_time": "2022-12-13T07:38:02.398Z"
   },
   {
    "duration": 9,
    "start_time": "2022-12-13T07:38:23.403Z"
   },
   {
    "duration": 9,
    "start_time": "2022-12-13T07:38:30.283Z"
   },
   {
    "duration": 16,
    "start_time": "2022-12-13T07:38:36.025Z"
   },
   {
    "duration": 10,
    "start_time": "2022-12-13T07:38:44.890Z"
   },
   {
    "duration": 148,
    "start_time": "2022-12-13T07:39:03.590Z"
   },
   {
    "duration": 761,
    "start_time": "2022-12-13T07:39:45.237Z"
   },
   {
    "duration": 647,
    "start_time": "2022-12-13T07:39:57.726Z"
   },
   {
    "duration": 9,
    "start_time": "2022-12-13T07:41:01.120Z"
   },
   {
    "duration": 9,
    "start_time": "2022-12-13T07:41:11.193Z"
   },
   {
    "duration": 17,
    "start_time": "2022-12-13T07:41:18.342Z"
   },
   {
    "duration": 11,
    "start_time": "2022-12-13T07:44:38.475Z"
   },
   {
    "duration": 3,
    "start_time": "2022-12-13T08:03:55.874Z"
   },
   {
    "duration": 46,
    "start_time": "2022-12-13T08:03:57.620Z"
   },
   {
    "duration": 16,
    "start_time": "2022-12-13T08:04:00.709Z"
   },
   {
    "duration": 5,
    "start_time": "2022-12-13T08:04:05.694Z"
   },
   {
    "duration": 8,
    "start_time": "2022-12-13T08:04:07.684Z"
   },
   {
    "duration": 5,
    "start_time": "2022-12-13T08:04:10.677Z"
   },
   {
    "duration": 14,
    "start_time": "2022-12-13T08:04:13.566Z"
   },
   {
    "duration": 12,
    "start_time": "2022-12-13T08:04:16.801Z"
   },
   {
    "duration": 17,
    "start_time": "2022-12-13T08:04:18.902Z"
   },
   {
    "duration": 8,
    "start_time": "2022-12-13T08:04:21.882Z"
   },
   {
    "duration": 12,
    "start_time": "2022-12-13T08:04:24.947Z"
   },
   {
    "duration": 34,
    "start_time": "2022-12-13T08:04:27.604Z"
   },
   {
    "duration": 5,
    "start_time": "2022-12-13T08:04:29.950Z"
   },
   {
    "duration": 16,
    "start_time": "2022-12-13T08:04:35.110Z"
   },
   {
    "duration": 29,
    "start_time": "2022-12-13T08:04:37.203Z"
   },
   {
    "duration": 12,
    "start_time": "2022-12-13T08:04:40.191Z"
   },
   {
    "duration": 17,
    "start_time": "2022-12-13T08:04:42.975Z"
   },
   {
    "duration": 10,
    "start_time": "2022-12-13T08:04:46.497Z"
   },
   {
    "duration": 15,
    "start_time": "2022-12-13T08:04:49.133Z"
   },
   {
    "duration": 10,
    "start_time": "2022-12-13T08:05:02.909Z"
   },
   {
    "duration": 9,
    "start_time": "2022-12-13T08:07:04.524Z"
   },
   {
    "duration": 8,
    "start_time": "2022-12-13T08:07:13.542Z"
   },
   {
    "duration": 10,
    "start_time": "2022-12-13T08:07:20.966Z"
   },
   {
    "duration": 13,
    "start_time": "2022-12-13T08:07:26.684Z"
   },
   {
    "duration": 10,
    "start_time": "2022-12-13T08:07:43.315Z"
   },
   {
    "duration": 5,
    "start_time": "2022-12-13T08:07:54.281Z"
   },
   {
    "duration": 11,
    "start_time": "2022-12-13T08:09:50.426Z"
   },
   {
    "duration": 15,
    "start_time": "2022-12-13T08:09:54.526Z"
   },
   {
    "duration": 361,
    "start_time": "2022-12-13T08:10:00.787Z"
   },
   {
    "duration": 134,
    "start_time": "2022-12-13T08:14:03.615Z"
   },
   {
    "duration": 533,
    "start_time": "2022-12-13T08:14:22.434Z"
   },
   {
    "duration": 54,
    "start_time": "2022-12-13T08:31:58.764Z"
   },
   {
    "duration": 206,
    "start_time": "2022-12-13T08:32:06.026Z"
   },
   {
    "duration": 376,
    "start_time": "2022-12-13T08:32:33.314Z"
   },
   {
    "duration": 364,
    "start_time": "2022-12-13T08:32:37.675Z"
   },
   {
    "duration": 133,
    "start_time": "2022-12-13T08:32:51.648Z"
   },
   {
    "duration": 364,
    "start_time": "2022-12-13T08:33:06.902Z"
   },
   {
    "duration": 133,
    "start_time": "2022-12-13T08:33:58.920Z"
   },
   {
    "duration": 230,
    "start_time": "2022-12-13T08:34:10.797Z"
   },
   {
    "duration": 135,
    "start_time": "2022-12-13T08:34:15.290Z"
   },
   {
    "duration": 209,
    "start_time": "2022-12-13T08:34:50.456Z"
   },
   {
    "duration": 230,
    "start_time": "2022-12-13T08:35:13.999Z"
   },
   {
    "duration": 212,
    "start_time": "2022-12-13T08:35:20.358Z"
   },
   {
    "duration": 137,
    "start_time": "2022-12-13T09:20:04.729Z"
   },
   {
    "duration": 360,
    "start_time": "2022-12-13T09:20:13.483Z"
   },
   {
    "duration": 3,
    "start_time": "2022-12-13T09:22:26.377Z"
   },
   {
    "duration": 50,
    "start_time": "2022-12-13T09:22:29.907Z"
   },
   {
    "duration": 8,
    "start_time": "2022-12-13T09:22:37.046Z"
   },
   {
    "duration": 6,
    "start_time": "2022-12-13T09:22:39.094Z"
   },
   {
    "duration": 8,
    "start_time": "2022-12-13T09:22:43.173Z"
   },
   {
    "duration": 12,
    "start_time": "2022-12-13T09:22:46.558Z"
   },
   {
    "duration": 13,
    "start_time": "2022-12-13T09:22:48.946Z"
   },
   {
    "duration": 21,
    "start_time": "2022-12-13T09:22:51.277Z"
   },
   {
    "duration": 38,
    "start_time": "2022-12-13T09:22:54.708Z"
   },
   {
    "duration": 16,
    "start_time": "2022-12-13T09:22:57.822Z"
   },
   {
    "duration": 27,
    "start_time": "2022-12-13T09:23:01.495Z"
   },
   {
    "duration": 12,
    "start_time": "2022-12-13T09:23:07.060Z"
   },
   {
    "duration": 389,
    "start_time": "2022-12-13T09:23:10.597Z"
   },
   {
    "duration": 145,
    "start_time": "2022-12-13T09:23:55.700Z"
   },
   {
    "duration": 476,
    "start_time": "2022-12-13T09:25:03.120Z"
   },
   {
    "duration": 549,
    "start_time": "2022-12-13T09:26:39.965Z"
   },
   {
    "duration": 515,
    "start_time": "2022-12-13T09:26:53.345Z"
   },
   {
    "duration": 378,
    "start_time": "2022-12-13T09:27:05.896Z"
   },
   {
    "duration": 475,
    "start_time": "2022-12-13T09:27:11.264Z"
   },
   {
    "duration": 364,
    "start_time": "2022-12-13T09:27:16.634Z"
   },
   {
    "duration": 564,
    "start_time": "2022-12-13T09:28:12.171Z"
   },
   {
    "duration": 397,
    "start_time": "2022-12-13T09:28:27.670Z"
   },
   {
    "duration": 426,
    "start_time": "2022-12-13T09:28:36.837Z"
   },
   {
    "duration": 497,
    "start_time": "2022-12-13T09:28:43.551Z"
   },
   {
    "duration": 377,
    "start_time": "2022-12-13T09:28:54.320Z"
   },
   {
    "duration": 378,
    "start_time": "2022-12-13T09:29:40.957Z"
   },
   {
    "duration": 382,
    "start_time": "2022-12-13T09:30:59.180Z"
   },
   {
    "duration": 3,
    "start_time": "2022-12-13T09:41:12.956Z"
   },
   {
    "duration": 4,
    "start_time": "2022-12-13T09:43:08.440Z"
   },
   {
    "duration": 14,
    "start_time": "2022-12-13T09:43:11.620Z"
   },
   {
    "duration": 8,
    "start_time": "2022-12-13T09:50:41.526Z"
   },
   {
    "duration": 12,
    "start_time": "2022-12-13T09:50:47.054Z"
   },
   {
    "duration": 15,
    "start_time": "2022-12-13T09:51:18.839Z"
   },
   {
    "duration": 8,
    "start_time": "2022-12-13T09:51:28.615Z"
   },
   {
    "duration": 7,
    "start_time": "2022-12-13T09:51:53.060Z"
   },
   {
    "duration": 13,
    "start_time": "2022-12-13T09:51:59.923Z"
   },
   {
    "duration": 49,
    "start_time": "2022-12-13T09:56:59.018Z"
   },
   {
    "duration": 107,
    "start_time": "2022-12-13T09:57:44.998Z"
   },
   {
    "duration": 12,
    "start_time": "2022-12-13T10:03:29.062Z"
   },
   {
    "duration": 19,
    "start_time": "2022-12-13T10:04:11.286Z"
   },
   {
    "duration": 13,
    "start_time": "2022-12-13T10:04:21.465Z"
   },
   {
    "duration": 1371,
    "start_time": "2022-12-13T12:02:52.939Z"
   },
   {
    "duration": 186,
    "start_time": "2022-12-13T12:02:54.314Z"
   },
   {
    "duration": 32,
    "start_time": "2022-12-13T12:02:54.502Z"
   },
   {
    "duration": 34,
    "start_time": "2022-12-13T12:02:54.536Z"
   },
   {
    "duration": 813,
    "start_time": "2022-12-13T12:02:54.572Z"
   },
   {
    "duration": 7,
    "start_time": "2022-12-13T12:02:55.386Z"
   },
   {
    "duration": 44,
    "start_time": "2022-12-13T12:02:55.395Z"
   },
   {
    "duration": 27,
    "start_time": "2022-12-13T12:02:55.441Z"
   },
   {
    "duration": 54,
    "start_time": "2022-12-13T12:02:55.470Z"
   },
   {
    "duration": 23,
    "start_time": "2022-12-13T12:02:55.525Z"
   },
   {
    "duration": 39,
    "start_time": "2022-12-13T12:02:55.550Z"
   },
   {
    "duration": 32,
    "start_time": "2022-12-13T12:02:55.591Z"
   },
   {
    "duration": 35,
    "start_time": "2022-12-13T12:02:55.625Z"
   },
   {
    "duration": 49,
    "start_time": "2022-12-13T12:02:55.663Z"
   },
   {
    "duration": 19,
    "start_time": "2022-12-13T12:02:55.714Z"
   },
   {
    "duration": 33,
    "start_time": "2022-12-13T12:02:55.734Z"
   },
   {
    "duration": 34,
    "start_time": "2022-12-13T12:02:55.768Z"
   },
   {
    "duration": 17,
    "start_time": "2022-12-13T12:02:55.804Z"
   },
   {
    "duration": 39,
    "start_time": "2022-12-13T12:02:55.822Z"
   },
   {
    "duration": 429,
    "start_time": "2022-12-13T12:02:55.863Z"
   },
   {
    "duration": 18,
    "start_time": "2022-12-13T12:02:56.294Z"
   },
   {
    "duration": 13,
    "start_time": "2022-12-13T12:02:56.313Z"
   },
   {
    "duration": 118,
    "start_time": "2022-12-13T12:02:56.327Z"
   },
   {
    "duration": 13,
    "start_time": "2022-12-13T12:03:22.705Z"
   },
   {
    "duration": 310,
    "start_time": "2022-12-13T12:04:23.555Z"
   },
   {
    "duration": 111,
    "start_time": "2022-12-13T12:06:12.626Z"
   },
   {
    "duration": 10,
    "start_time": "2022-12-13T12:06:21.268Z"
   },
   {
    "duration": 4,
    "start_time": "2022-12-13T12:23:46.108Z"
   },
   {
    "duration": 22,
    "start_time": "2022-12-13T12:23:59.517Z"
   },
   {
    "duration": 22,
    "start_time": "2022-12-13T12:24:15.774Z"
   },
   {
    "duration": 16,
    "start_time": "2022-12-13T12:24:30.729Z"
   },
   {
    "duration": 19,
    "start_time": "2022-12-13T12:24:41.504Z"
   },
   {
    "duration": 21,
    "start_time": "2022-12-13T12:24:46.222Z"
   },
   {
    "duration": 75,
    "start_time": "2022-12-13T12:25:34.295Z"
   },
   {
    "duration": 18,
    "start_time": "2022-12-13T12:25:46.305Z"
   },
   {
    "duration": 18,
    "start_time": "2022-12-13T12:25:51.713Z"
   },
   {
    "duration": 15,
    "start_time": "2022-12-13T12:25:56.238Z"
   },
   {
    "duration": 66,
    "start_time": "2022-12-13T12:27:50.341Z"
   },
   {
    "duration": 15,
    "start_time": "2022-12-13T12:43:22.996Z"
   },
   {
    "duration": 10,
    "start_time": "2022-12-13T12:44:42.290Z"
   },
   {
    "duration": 4,
    "start_time": "2022-12-13T12:44:55.681Z"
   },
   {
    "duration": 91,
    "start_time": "2022-12-13T12:44:55.688Z"
   },
   {
    "duration": 18,
    "start_time": "2022-12-13T12:44:55.781Z"
   },
   {
    "duration": 39,
    "start_time": "2022-12-13T12:44:55.801Z"
   },
   {
    "duration": 742,
    "start_time": "2022-12-13T12:44:55.842Z"
   },
   {
    "duration": 5,
    "start_time": "2022-12-13T12:44:56.586Z"
   },
   {
    "duration": 28,
    "start_time": "2022-12-13T12:44:56.592Z"
   },
   {
    "duration": 19,
    "start_time": "2022-12-13T12:44:56.621Z"
   },
   {
    "duration": 34,
    "start_time": "2022-12-13T12:44:56.642Z"
   },
   {
    "duration": 13,
    "start_time": "2022-12-13T12:44:56.678Z"
   },
   {
    "duration": 23,
    "start_time": "2022-12-13T12:44:56.694Z"
   },
   {
    "duration": 28,
    "start_time": "2022-12-13T12:44:56.718Z"
   },
   {
    "duration": 29,
    "start_time": "2022-12-13T12:44:56.747Z"
   },
   {
    "duration": 31,
    "start_time": "2022-12-13T12:44:56.777Z"
   },
   {
    "duration": 28,
    "start_time": "2022-12-13T12:44:56.810Z"
   },
   {
    "duration": 31,
    "start_time": "2022-12-13T12:44:56.839Z"
   },
   {
    "duration": 54,
    "start_time": "2022-12-13T12:44:56.871Z"
   },
   {
    "duration": 11,
    "start_time": "2022-12-13T12:44:56.926Z"
   },
   {
    "duration": 38,
    "start_time": "2022-12-13T12:44:56.939Z"
   },
   {
    "duration": 395,
    "start_time": "2022-12-13T12:44:56.978Z"
   },
   {
    "duration": 16,
    "start_time": "2022-12-13T12:44:57.375Z"
   },
   {
    "duration": 14,
    "start_time": "2022-12-13T12:44:57.393Z"
   },
   {
    "duration": 0,
    "start_time": "2022-12-13T12:44:57.409Z"
   },
   {
    "duration": 11,
    "start_time": "2022-12-13T12:45:02.014Z"
   },
   {
    "duration": 3,
    "start_time": "2022-12-13T12:45:29.233Z"
   },
   {
    "duration": 52,
    "start_time": "2022-12-13T12:45:31.738Z"
   },
   {
    "duration": 14,
    "start_time": "2022-12-13T12:45:34.549Z"
   },
   {
    "duration": 4,
    "start_time": "2022-12-13T12:45:39.336Z"
   },
   {
    "duration": 8,
    "start_time": "2022-12-13T12:45:41.302Z"
   },
   {
    "duration": 7,
    "start_time": "2022-12-13T12:45:43.386Z"
   },
   {
    "duration": 20,
    "start_time": "2022-12-13T12:45:45.833Z"
   },
   {
    "duration": 7,
    "start_time": "2022-12-13T12:45:48.732Z"
   },
   {
    "duration": 18,
    "start_time": "2022-12-13T12:45:51.075Z"
   },
   {
    "duration": 10,
    "start_time": "2022-12-13T12:45:54.133Z"
   },
   {
    "duration": 14,
    "start_time": "2022-12-13T12:45:56.377Z"
   },
   {
    "duration": 30,
    "start_time": "2022-12-13T12:45:58.321Z"
   },
   {
    "duration": 5,
    "start_time": "2022-12-13T12:46:00.503Z"
   },
   {
    "duration": 14,
    "start_time": "2022-12-13T12:46:02.553Z"
   },
   {
    "duration": 31,
    "start_time": "2022-12-13T12:46:04.364Z"
   },
   {
    "duration": 14,
    "start_time": "2022-12-13T12:46:07.234Z"
   },
   {
    "duration": 17,
    "start_time": "2022-12-13T12:46:10.066Z"
   },
   {
    "duration": 406,
    "start_time": "2022-12-13T12:46:37.764Z"
   },
   {
    "duration": 18,
    "start_time": "2022-12-13T12:46:45.996Z"
   },
   {
    "duration": 16,
    "start_time": "2022-12-13T12:46:53.498Z"
   },
   {
    "duration": 9,
    "start_time": "2022-12-13T12:47:25.758Z"
   },
   {
    "duration": 12,
    "start_time": "2022-12-13T12:47:35.116Z"
   },
   {
    "duration": 19,
    "start_time": "2022-12-13T12:48:14.186Z"
   },
   {
    "duration": 16,
    "start_time": "2022-12-13T12:48:45.618Z"
   },
   {
    "duration": 24,
    "start_time": "2022-12-13T12:49:04.266Z"
   },
   {
    "duration": 17,
    "start_time": "2022-12-13T12:49:13.943Z"
   },
   {
    "duration": 18,
    "start_time": "2022-12-13T12:49:18.217Z"
   },
   {
    "duration": 77,
    "start_time": "2022-12-13T12:57:40.523Z"
   },
   {
    "duration": 69,
    "start_time": "2022-12-13T12:58:14.938Z"
   },
   {
    "duration": 75,
    "start_time": "2022-12-13T12:58:21.319Z"
   },
   {
    "duration": 19,
    "start_time": "2022-12-13T12:58:27.833Z"
   },
   {
    "duration": 20,
    "start_time": "2022-12-13T12:58:34.833Z"
   },
   {
    "duration": 23,
    "start_time": "2022-12-13T13:02:34.111Z"
   },
   {
    "duration": 637,
    "start_time": "2022-12-13T13:03:59.969Z"
   },
   {
    "duration": 342,
    "start_time": "2022-12-13T13:04:57.365Z"
   },
   {
    "duration": 374,
    "start_time": "2022-12-13T13:07:14.003Z"
   },
   {
    "duration": 14,
    "start_time": "2022-12-13T13:08:11.862Z"
   },
   {
    "duration": 8,
    "start_time": "2022-12-13T13:15:13.846Z"
   },
   {
    "duration": 28,
    "start_time": "2022-12-13T13:16:17.114Z"
   },
   {
    "duration": 27,
    "start_time": "2022-12-13T13:16:40.527Z"
   },
   {
    "duration": 46,
    "start_time": "2022-12-13T13:17:35.721Z"
   },
   {
    "duration": 8,
    "start_time": "2022-12-13T13:19:01.438Z"
   },
   {
    "duration": 28,
    "start_time": "2022-12-13T13:21:41.469Z"
   },
   {
    "duration": 27,
    "start_time": "2022-12-13T13:22:03.406Z"
   },
   {
    "duration": 25,
    "start_time": "2022-12-13T13:22:51.503Z"
   },
   {
    "duration": 22,
    "start_time": "2022-12-13T13:23:38.625Z"
   },
   {
    "duration": 15,
    "start_time": "2022-12-13T13:24:24.742Z"
   },
   {
    "duration": 10,
    "start_time": "2022-12-13T13:24:31.280Z"
   },
   {
    "duration": 700,
    "start_time": "2022-12-13T13:24:45.785Z"
   },
   {
    "duration": 7,
    "start_time": "2022-12-13T13:26:24.310Z"
   },
   {
    "duration": 4,
    "start_time": "2022-12-13T13:29:31.718Z"
   },
   {
    "duration": 4,
    "start_time": "2022-12-13T13:29:44.954Z"
   },
   {
    "duration": 324,
    "start_time": "2022-12-13T13:30:42.093Z"
   },
   {
    "duration": 22,
    "start_time": "2022-12-13T13:31:03.027Z"
   },
   {
    "duration": 40,
    "start_time": "2022-12-13T13:31:14.978Z"
   },
   {
    "duration": 284,
    "start_time": "2022-12-13T13:31:28.628Z"
   },
   {
    "duration": 270,
    "start_time": "2022-12-13T13:31:38.307Z"
   },
   {
    "duration": 305,
    "start_time": "2022-12-13T13:34:24.205Z"
   },
   {
    "duration": 1459,
    "start_time": "2022-12-14T06:39:19.456Z"
   },
   {
    "duration": 148,
    "start_time": "2022-12-14T06:39:21.617Z"
   },
   {
    "duration": 22,
    "start_time": "2022-12-14T06:40:37.727Z"
   },
   {
    "duration": 16,
    "start_time": "2022-12-14T06:40:40.139Z"
   },
   {
    "duration": 5,
    "start_time": "2022-12-14T06:40:44.700Z"
   },
   {
    "duration": 10,
    "start_time": "2022-12-14T06:40:46.694Z"
   },
   {
    "duration": 7,
    "start_time": "2022-12-14T06:40:48.758Z"
   },
   {
    "duration": 20,
    "start_time": "2022-12-14T06:40:50.938Z"
   },
   {
    "duration": 11,
    "start_time": "2022-12-14T06:40:53.156Z"
   },
   {
    "duration": 19,
    "start_time": "2022-12-14T06:40:55.219Z"
   },
   {
    "duration": 12,
    "start_time": "2022-12-14T06:40:57.706Z"
   },
   {
    "duration": 15,
    "start_time": "2022-12-14T06:41:00.088Z"
   },
   {
    "duration": 21,
    "start_time": "2022-12-14T06:41:02.274Z"
   },
   {
    "duration": 8,
    "start_time": "2022-12-14T06:41:03.977Z"
   },
   {
    "duration": 30,
    "start_time": "2022-12-14T06:41:06.878Z"
   },
   {
    "duration": 38,
    "start_time": "2022-12-14T06:41:08.751Z"
   },
   {
    "duration": 14,
    "start_time": "2022-12-14T06:41:11.736Z"
   },
   {
    "duration": 17,
    "start_time": "2022-12-14T06:41:14.922Z"
   },
   {
    "duration": 500,
    "start_time": "2022-12-14T06:41:23.063Z"
   },
   {
    "duration": 21,
    "start_time": "2022-12-14T06:41:29.741Z"
   },
   {
    "duration": 372,
    "start_time": "2022-12-14T06:41:32.962Z"
   },
   {
    "duration": 404,
    "start_time": "2022-12-14T06:42:33.682Z"
   },
   {
    "duration": 15,
    "start_time": "2022-12-14T06:42:37.955Z"
   },
   {
    "duration": 5,
    "start_time": "2022-12-14T06:42:41.945Z"
   },
   {
    "duration": 412,
    "start_time": "2022-12-14T06:43:22.558Z"
   },
   {
    "duration": 26,
    "start_time": "2022-12-14T06:58:53.963Z"
   },
   {
    "duration": 12,
    "start_time": "2022-12-14T07:00:28.113Z"
   },
   {
    "duration": 121,
    "start_time": "2022-12-14T07:00:49.714Z"
   },
   {
    "duration": 21,
    "start_time": "2022-12-14T07:01:06.031Z"
   },
   {
    "duration": 16,
    "start_time": "2022-12-14T07:01:12.409Z"
   },
   {
    "duration": 18,
    "start_time": "2022-12-14T07:01:17.247Z"
   },
   {
    "duration": 14,
    "start_time": "2022-12-14T07:01:22.550Z"
   },
   {
    "duration": 1312,
    "start_time": "2022-12-14T07:04:33.910Z"
   },
   {
    "duration": 15,
    "start_time": "2022-12-14T07:04:53.598Z"
   },
   {
    "duration": 5,
    "start_time": "2022-12-14T07:04:56.620Z"
   },
   {
    "duration": 626,
    "start_time": "2022-12-14T07:05:28.881Z"
   },
   {
    "duration": 525,
    "start_time": "2022-12-14T07:51:33.016Z"
   },
   {
    "duration": 14,
    "start_time": "2022-12-14T07:53:05.050Z"
   },
   {
    "duration": 5,
    "start_time": "2022-12-14T07:53:09.162Z"
   },
   {
    "duration": 472,
    "start_time": "2022-12-14T07:53:16.069Z"
   },
   {
    "duration": 573,
    "start_time": "2022-12-14T07:55:43.894Z"
   },
   {
    "duration": 502,
    "start_time": "2022-12-14T07:56:03.358Z"
   },
   {
    "duration": 621,
    "start_time": "2022-12-14T07:56:07.440Z"
   },
   {
    "duration": 613,
    "start_time": "2022-12-14T07:56:15.192Z"
   },
   {
    "duration": 685,
    "start_time": "2022-12-14T08:02:24.411Z"
   },
   {
    "duration": 460,
    "start_time": "2022-12-14T08:02:37.988Z"
   },
   {
    "duration": 18,
    "start_time": "2022-12-14T08:03:44.477Z"
   },
   {
    "duration": 5,
    "start_time": "2022-12-14T08:03:49.203Z"
   },
   {
    "duration": 533,
    "start_time": "2022-12-14T08:03:54.855Z"
   },
   {
    "duration": 43,
    "start_time": "2022-12-14T08:12:28.985Z"
   },
   {
    "duration": 28,
    "start_time": "2022-12-14T08:12:46.840Z"
   },
   {
    "duration": 39,
    "start_time": "2022-12-14T08:12:59.759Z"
   },
   {
    "duration": 27,
    "start_time": "2022-12-14T08:13:24.203Z"
   },
   {
    "duration": 396,
    "start_time": "2022-12-14T08:17:16.155Z"
   },
   {
    "duration": 369,
    "start_time": "2022-12-14T08:17:48.307Z"
   },
   {
    "duration": 343,
    "start_time": "2022-12-14T08:18:02.446Z"
   },
   {
    "duration": 353,
    "start_time": "2022-12-14T08:19:22.635Z"
   },
   {
    "duration": 34,
    "start_time": "2022-12-14T08:20:46.264Z"
   },
   {
    "duration": 27,
    "start_time": "2022-12-14T08:29:02.456Z"
   },
   {
    "duration": 291,
    "start_time": "2022-12-14T08:40:43.667Z"
   },
   {
    "duration": 6,
    "start_time": "2022-12-14T08:44:08.678Z"
   },
   {
    "duration": 202,
    "start_time": "2022-12-14T08:44:34.302Z"
   },
   {
    "duration": 6,
    "start_time": "2022-12-14T08:48:40.647Z"
   },
   {
    "duration": 18,
    "start_time": "2022-12-14T08:49:32.010Z"
   },
   {
    "duration": 13,
    "start_time": "2022-12-14T08:57:41.532Z"
   },
   {
    "duration": 13,
    "start_time": "2022-12-14T08:58:00.944Z"
   },
   {
    "duration": 12,
    "start_time": "2022-12-14T09:14:45.149Z"
   },
   {
    "duration": 19,
    "start_time": "2022-12-14T09:16:52.732Z"
   },
   {
    "duration": 23,
    "start_time": "2022-12-14T09:17:10.765Z"
   },
   {
    "duration": 56,
    "start_time": "2022-12-14T09:17:28.222Z"
   },
   {
    "duration": 24,
    "start_time": "2022-12-14T09:17:40.239Z"
   },
   {
    "duration": 15,
    "start_time": "2022-12-14T09:19:06.671Z"
   },
   {
    "duration": 4,
    "start_time": "2022-12-14T09:19:18.544Z"
   },
   {
    "duration": 17,
    "start_time": "2022-12-14T09:19:38.339Z"
   },
   {
    "duration": 16,
    "start_time": "2022-12-14T09:19:55.810Z"
   },
   {
    "duration": 13,
    "start_time": "2022-12-14T09:21:24.433Z"
   },
   {
    "duration": 20,
    "start_time": "2022-12-14T09:21:30.775Z"
   },
   {
    "duration": 14,
    "start_time": "2022-12-14T09:22:59.839Z"
   },
   {
    "duration": 62,
    "start_time": "2022-12-14T09:23:03.282Z"
   },
   {
    "duration": 22,
    "start_time": "2022-12-14T09:23:17.189Z"
   },
   {
    "duration": 60,
    "start_time": "2022-12-14T09:24:34.191Z"
   },
   {
    "duration": 53,
    "start_time": "2022-12-14T09:24:48.167Z"
   },
   {
    "duration": 90,
    "start_time": "2022-12-14T09:25:00.858Z"
   },
   {
    "duration": 58,
    "start_time": "2022-12-14T09:25:07.409Z"
   },
   {
    "duration": 65,
    "start_time": "2022-12-14T09:25:20.506Z"
   },
   {
    "duration": 22,
    "start_time": "2022-12-14T09:25:23.609Z"
   },
   {
    "duration": 19,
    "start_time": "2022-12-14T09:25:47.609Z"
   },
   {
    "duration": 18,
    "start_time": "2022-12-14T09:26:11.065Z"
   },
   {
    "duration": 17,
    "start_time": "2022-12-14T09:28:47.511Z"
   },
   {
    "duration": 25,
    "start_time": "2022-12-14T09:29:04.462Z"
   },
   {
    "duration": 16,
    "start_time": "2022-12-14T09:31:11.316Z"
   },
   {
    "duration": 60,
    "start_time": "2022-12-14T09:49:48.438Z"
   },
   {
    "duration": 32,
    "start_time": "2022-12-14T09:50:11.043Z"
   },
   {
    "duration": 32,
    "start_time": "2022-12-14T09:55:33.640Z"
   },
   {
    "duration": 25,
    "start_time": "2022-12-14T09:55:43.839Z"
   },
   {
    "duration": 23,
    "start_time": "2022-12-14T09:56:04.679Z"
   },
   {
    "duration": 22,
    "start_time": "2022-12-14T10:18:44.096Z"
   },
   {
    "duration": 29,
    "start_time": "2022-12-14T10:20:52.592Z"
   },
   {
    "duration": 21,
    "start_time": "2022-12-14T10:32:50.216Z"
   },
   {
    "duration": 4,
    "start_time": "2022-12-14T10:34:15.087Z"
   },
   {
    "duration": 22,
    "start_time": "2022-12-14T10:34:28.687Z"
   },
   {
    "duration": 28,
    "start_time": "2022-12-14T10:35:38.254Z"
   },
   {
    "duration": 23,
    "start_time": "2022-12-14T10:37:50.631Z"
   },
   {
    "duration": 21,
    "start_time": "2022-12-14T10:38:02.197Z"
   },
   {
    "duration": 21,
    "start_time": "2022-12-14T10:39:14.583Z"
   },
   {
    "duration": 24,
    "start_time": "2022-12-14T10:39:20.727Z"
   },
   {
    "duration": 24,
    "start_time": "2022-12-14T10:39:44.440Z"
   },
   {
    "duration": 21,
    "start_time": "2022-12-14T10:40:38.420Z"
   },
   {
    "duration": 28,
    "start_time": "2022-12-14T10:40:44.541Z"
   },
   {
    "duration": 3,
    "start_time": "2022-12-14T10:41:54.432Z"
   },
   {
    "duration": 81,
    "start_time": "2022-12-14T10:41:54.438Z"
   },
   {
    "duration": 32,
    "start_time": "2022-12-14T10:41:54.521Z"
   },
   {
    "duration": 43,
    "start_time": "2022-12-14T10:41:54.556Z"
   },
   {
    "duration": 936,
    "start_time": "2022-12-14T10:41:54.601Z"
   },
   {
    "duration": 4,
    "start_time": "2022-12-14T10:41:55.539Z"
   },
   {
    "duration": 20,
    "start_time": "2022-12-14T10:41:55.545Z"
   },
   {
    "duration": 12,
    "start_time": "2022-12-14T10:41:55.569Z"
   },
   {
    "duration": 19,
    "start_time": "2022-12-14T10:41:55.583Z"
   },
   {
    "duration": 9,
    "start_time": "2022-12-14T10:41:55.604Z"
   },
   {
    "duration": 12,
    "start_time": "2022-12-14T10:41:55.615Z"
   },
   {
    "duration": 32,
    "start_time": "2022-12-14T10:41:55.629Z"
   },
   {
    "duration": 17,
    "start_time": "2022-12-14T10:41:55.663Z"
   },
   {
    "duration": 23,
    "start_time": "2022-12-14T10:41:55.682Z"
   },
   {
    "duration": 11,
    "start_time": "2022-12-14T10:41:55.707Z"
   },
   {
    "duration": 22,
    "start_time": "2022-12-14T10:41:55.719Z"
   },
   {
    "duration": 56,
    "start_time": "2022-12-14T10:41:55.743Z"
   },
   {
    "duration": 13,
    "start_time": "2022-12-14T10:41:55.801Z"
   },
   {
    "duration": 53,
    "start_time": "2022-12-14T10:41:55.816Z"
   },
   {
    "duration": 423,
    "start_time": "2022-12-14T10:41:55.871Z"
   },
   {
    "duration": 16,
    "start_time": "2022-12-14T10:41:56.296Z"
   },
   {
    "duration": 406,
    "start_time": "2022-12-14T10:41:56.315Z"
   },
   {
    "duration": 9,
    "start_time": "2022-12-14T10:41:56.723Z"
   },
   {
    "duration": 23,
    "start_time": "2022-12-14T10:41:56.735Z"
   },
   {
    "duration": 459,
    "start_time": "2022-12-14T10:41:56.764Z"
   },
   {
    "duration": 15,
    "start_time": "2022-12-14T10:41:57.225Z"
   },
   {
    "duration": 13,
    "start_time": "2022-12-14T10:41:57.256Z"
   },
   {
    "duration": 537,
    "start_time": "2022-12-14T10:41:57.271Z"
   },
   {
    "duration": 363,
    "start_time": "2022-12-14T10:41:57.810Z"
   },
   {
    "duration": 169,
    "start_time": "2022-12-14T10:41:58.175Z"
   },
   {
    "duration": 178,
    "start_time": "2022-12-14T10:41:58.346Z"
   },
   {
    "duration": 17,
    "start_time": "2022-12-14T10:41:58.525Z"
   },
   {
    "duration": 42,
    "start_time": "2022-12-14T10:41:58.544Z"
   },
   {
    "duration": 24,
    "start_time": "2022-12-14T10:41:58.587Z"
   },
   {
    "duration": 28,
    "start_time": "2022-12-14T10:42:09.439Z"
   },
   {
    "duration": 40,
    "start_time": "2022-12-14T10:42:36.629Z"
   },
   {
    "duration": 33,
    "start_time": "2022-12-14T10:43:07.465Z"
   },
   {
    "duration": 24,
    "start_time": "2022-12-14T10:43:32.173Z"
   },
   {
    "duration": 21,
    "start_time": "2022-12-14T10:44:27.313Z"
   },
   {
    "duration": 22,
    "start_time": "2022-12-14T10:44:32.790Z"
   },
   {
    "duration": 24,
    "start_time": "2022-12-14T10:44:41.725Z"
   },
   {
    "duration": 10,
    "start_time": "2022-12-14T11:19:52.375Z"
   },
   {
    "duration": 10,
    "start_time": "2022-12-14T11:20:03.237Z"
   },
   {
    "duration": 10,
    "start_time": "2022-12-14T11:20:30.899Z"
   },
   {
    "duration": 10,
    "start_time": "2022-12-14T11:21:05.041Z"
   },
   {
    "duration": 6,
    "start_time": "2022-12-14T11:22:12.638Z"
   },
   {
    "duration": 12,
    "start_time": "2022-12-14T11:22:18.812Z"
   },
   {
    "duration": 15,
    "start_time": "2022-12-14T11:22:34.425Z"
   },
   {
    "duration": 15,
    "start_time": "2022-12-14T11:22:43.406Z"
   },
   {
    "duration": 14,
    "start_time": "2022-12-14T11:23:26.010Z"
   },
   {
    "duration": 11,
    "start_time": "2022-12-14T11:23:32.239Z"
   },
   {
    "duration": 13,
    "start_time": "2022-12-14T11:23:40.520Z"
   },
   {
    "duration": 17,
    "start_time": "2022-12-14T11:24:00.278Z"
   },
   {
    "duration": 24,
    "start_time": "2022-12-14T11:24:19.641Z"
   },
   {
    "duration": 18,
    "start_time": "2022-12-14T11:24:32.972Z"
   },
   {
    "duration": 1215,
    "start_time": "2022-12-14T14:25:37.364Z"
   },
   {
    "duration": 117,
    "start_time": "2022-12-14T14:25:38.581Z"
   },
   {
    "duration": 17,
    "start_time": "2022-12-14T14:25:38.700Z"
   },
   {
    "duration": 14,
    "start_time": "2022-12-14T14:25:38.718Z"
   },
   {
    "duration": 714,
    "start_time": "2022-12-14T14:25:38.734Z"
   },
   {
    "duration": 4,
    "start_time": "2022-12-14T14:25:39.450Z"
   },
   {
    "duration": 12,
    "start_time": "2022-12-14T14:25:39.455Z"
   },
   {
    "duration": 6,
    "start_time": "2022-12-14T14:25:39.469Z"
   },
   {
    "duration": 24,
    "start_time": "2022-12-14T14:25:39.476Z"
   },
   {
    "duration": 6,
    "start_time": "2022-12-14T14:25:39.502Z"
   },
   {
    "duration": 10,
    "start_time": "2022-12-14T14:25:39.510Z"
   },
   {
    "duration": 7,
    "start_time": "2022-12-14T14:25:39.521Z"
   },
   {
    "duration": 12,
    "start_time": "2022-12-14T14:25:39.529Z"
   },
   {
    "duration": 16,
    "start_time": "2022-12-14T14:25:39.544Z"
   },
   {
    "duration": 13,
    "start_time": "2022-12-14T14:25:39.562Z"
   },
   {
    "duration": 14,
    "start_time": "2022-12-14T14:25:39.597Z"
   },
   {
    "duration": 28,
    "start_time": "2022-12-14T14:25:39.612Z"
   },
   {
    "duration": 11,
    "start_time": "2022-12-14T14:25:39.641Z"
   },
   {
    "duration": 21,
    "start_time": "2022-12-14T14:25:39.654Z"
   },
   {
    "duration": 358,
    "start_time": "2022-12-14T14:25:39.698Z"
   },
   {
    "duration": 12,
    "start_time": "2022-12-14T14:25:40.058Z"
   },
   {
    "duration": 301,
    "start_time": "2022-12-14T14:25:40.072Z"
   },
   {
    "duration": 7,
    "start_time": "2022-12-14T14:25:40.374Z"
   },
   {
    "duration": 19,
    "start_time": "2022-12-14T14:25:40.382Z"
   },
   {
    "duration": 330,
    "start_time": "2022-12-14T14:25:40.402Z"
   },
   {
    "duration": 12,
    "start_time": "2022-12-14T14:25:40.734Z"
   },
   {
    "duration": 12,
    "start_time": "2022-12-14T14:25:40.748Z"
   },
   {
    "duration": 444,
    "start_time": "2022-12-14T14:25:40.762Z"
   },
   {
    "duration": 325,
    "start_time": "2022-12-14T14:25:41.208Z"
   },
   {
    "duration": 137,
    "start_time": "2022-12-14T14:25:41.534Z"
   },
   {
    "duration": 139,
    "start_time": "2022-12-14T14:25:41.673Z"
   },
   {
    "duration": 13,
    "start_time": "2022-12-14T14:25:41.813Z"
   },
   {
    "duration": 20,
    "start_time": "2022-12-14T14:25:41.828Z"
   },
   {
    "duration": 11,
    "start_time": "2022-12-14T14:25:41.849Z"
   },
   {
    "duration": 38,
    "start_time": "2022-12-14T14:25:41.861Z"
   },
   {
    "duration": 3,
    "start_time": "2022-12-14T14:25:54.651Z"
   },
   {
    "duration": 49,
    "start_time": "2022-12-14T14:25:56.501Z"
   },
   {
    "duration": 14,
    "start_time": "2022-12-14T14:25:58.903Z"
   },
   {
    "duration": 14,
    "start_time": "2022-12-14T14:26:01.332Z"
   },
   {
    "duration": 805,
    "start_time": "2022-12-14T14:26:05.599Z"
   },
   {
    "duration": 4,
    "start_time": "2022-12-14T14:26:11.508Z"
   },
   {
    "duration": 7,
    "start_time": "2022-12-14T14:26:13.809Z"
   },
   {
    "duration": 5,
    "start_time": "2022-12-14T14:26:15.928Z"
   },
   {
    "duration": 15,
    "start_time": "2022-12-14T14:26:18.160Z"
   },
   {
    "duration": 9,
    "start_time": "2022-12-14T14:26:20.504Z"
   },
   {
    "duration": 11,
    "start_time": "2022-12-14T14:26:22.802Z"
   },
   {
    "duration": 7,
    "start_time": "2022-12-14T14:26:28.599Z"
   },
   {
    "duration": 10,
    "start_time": "2022-12-14T14:26:30.971Z"
   },
   {
    "duration": 17,
    "start_time": "2022-12-14T14:26:33.284Z"
   },
   {
    "duration": 4,
    "start_time": "2022-12-14T14:26:35.341Z"
   },
   {
    "duration": 14,
    "start_time": "2022-12-14T14:26:37.530Z"
   },
   {
    "duration": 27,
    "start_time": "2022-12-14T14:26:39.571Z"
   },
   {
    "duration": 11,
    "start_time": "2022-12-14T14:26:42.123Z"
   },
   {
    "duration": 16,
    "start_time": "2022-12-14T14:26:46.059Z"
   },
   {
    "duration": 357,
    "start_time": "2022-12-14T14:26:50.065Z"
   },
   {
    "duration": 13,
    "start_time": "2022-12-14T14:26:53.191Z"
   },
   {
    "duration": 294,
    "start_time": "2022-12-14T14:26:55.368Z"
   },
   {
    "duration": 7,
    "start_time": "2022-12-14T14:26:58.497Z"
   },
   {
    "duration": 4,
    "start_time": "2022-12-14T14:27:00.466Z"
   },
   {
    "duration": 269,
    "start_time": "2022-12-14T14:27:02.411Z"
   },
   {
    "duration": 11,
    "start_time": "2022-12-14T14:27:10.597Z"
   },
   {
    "duration": 5,
    "start_time": "2022-12-14T14:27:13.981Z"
   },
   {
    "duration": 412,
    "start_time": "2022-12-14T14:27:16.092Z"
   },
   {
    "duration": 314,
    "start_time": "2022-12-14T14:27:18.898Z"
   },
   {
    "duration": 226,
    "start_time": "2022-12-14T14:27:23.497Z"
   },
   {
    "duration": 150,
    "start_time": "2022-12-14T14:27:25.573Z"
   },
   {
    "duration": 15,
    "start_time": "2022-12-14T14:27:29.162Z"
   },
   {
    "duration": 18,
    "start_time": "2022-12-14T14:27:31.522Z"
   },
   {
    "duration": 20,
    "start_time": "2022-12-14T14:27:36.037Z"
   },
   {
    "duration": 13,
    "start_time": "2022-12-14T14:27:38.979Z"
   },
   {
    "duration": 19,
    "start_time": "2022-12-14T14:27:41.799Z"
   },
   {
    "duration": 14,
    "start_time": "2022-12-14T14:32:40.656Z"
   },
   {
    "duration": 6,
    "start_time": "2022-12-14T14:34:24.691Z"
   },
   {
    "duration": 8,
    "start_time": "2022-12-14T14:34:30.965Z"
   },
   {
    "duration": 100,
    "start_time": "2022-12-14T14:34:56.184Z"
   },
   {
    "duration": 10,
    "start_time": "2022-12-14T14:35:28.130Z"
   },
   {
    "duration": 7,
    "start_time": "2022-12-14T14:35:43.726Z"
   },
   {
    "duration": 11,
    "start_time": "2022-12-14T14:36:04.982Z"
   },
   {
    "duration": 13,
    "start_time": "2022-12-14T14:36:14.422Z"
   },
   {
    "duration": 15,
    "start_time": "2022-12-14T14:36:27.999Z"
   },
   {
    "duration": 13,
    "start_time": "2022-12-14T14:39:16.782Z"
   },
   {
    "duration": 14,
    "start_time": "2022-12-14T14:39:30.670Z"
   },
   {
    "duration": 15,
    "start_time": "2022-12-14T14:39:37.401Z"
   },
   {
    "duration": 15,
    "start_time": "2022-12-14T14:40:40.892Z"
   },
   {
    "duration": 92,
    "start_time": "2022-12-14T14:40:51.090Z"
   },
   {
    "duration": 92,
    "start_time": "2022-12-14T14:41:36.345Z"
   },
   {
    "duration": 13,
    "start_time": "2022-12-14T14:42:11.439Z"
   },
   {
    "duration": 16,
    "start_time": "2022-12-14T14:43:24.045Z"
   },
   {
    "duration": 12,
    "start_time": "2022-12-14T14:43:32.747Z"
   },
   {
    "duration": 11,
    "start_time": "2022-12-14T14:43:42.436Z"
   },
   {
    "duration": 14,
    "start_time": "2022-12-14T14:44:03.968Z"
   },
   {
    "duration": 13,
    "start_time": "2022-12-14T14:45:28.938Z"
   },
   {
    "duration": 88,
    "start_time": "2022-12-14T14:45:45.729Z"
   },
   {
    "duration": 121,
    "start_time": "2022-12-14T14:46:05.670Z"
   },
   {
    "duration": 80,
    "start_time": "2022-12-14T14:46:12.341Z"
   },
   {
    "duration": 91,
    "start_time": "2022-12-14T14:46:24.641Z"
   },
   {
    "duration": 99,
    "start_time": "2022-12-14T14:47:06.847Z"
   },
   {
    "duration": 102,
    "start_time": "2022-12-14T14:47:32.284Z"
   },
   {
    "duration": 235,
    "start_time": "2022-12-14T14:49:20.836Z"
   },
   {
    "duration": 99,
    "start_time": "2022-12-14T14:49:25.354Z"
   },
   {
    "duration": 15,
    "start_time": "2022-12-14T14:51:17.008Z"
   },
   {
    "duration": 96,
    "start_time": "2022-12-14T14:51:27.445Z"
   },
   {
    "duration": 13,
    "start_time": "2022-12-14T14:52:10.846Z"
   },
   {
    "duration": 14,
    "start_time": "2022-12-14T14:52:38.189Z"
   },
   {
    "duration": 107,
    "start_time": "2022-12-14T14:52:50.830Z"
   },
   {
    "duration": 183,
    "start_time": "2022-12-14T14:52:58.300Z"
   },
   {
    "duration": 24,
    "start_time": "2022-12-14T14:56:09.190Z"
   },
   {
    "duration": 14,
    "start_time": "2022-12-14T14:56:24.357Z"
   },
   {
    "duration": 13,
    "start_time": "2022-12-14T14:56:30.919Z"
   },
   {
    "duration": 93,
    "start_time": "2022-12-14T14:57:26.526Z"
   },
   {
    "duration": 119,
    "start_time": "2022-12-14T15:33:44.666Z"
   },
   {
    "duration": 10,
    "start_time": "2022-12-14T15:33:48.990Z"
   },
   {
    "duration": 10,
    "start_time": "2022-12-14T15:33:51.314Z"
   },
   {
    "duration": 13,
    "start_time": "2022-12-14T15:34:05.569Z"
   },
   {
    "duration": 10,
    "start_time": "2022-12-14T15:55:02.556Z"
   },
   {
    "duration": 333,
    "start_time": "2022-12-14T15:55:09.281Z"
   },
   {
    "duration": 98,
    "start_time": "2022-12-14T15:55:19.626Z"
   },
   {
    "duration": 14,
    "start_time": "2022-12-14T15:55:48.214Z"
   },
   {
    "duration": 12,
    "start_time": "2022-12-14T15:56:07.224Z"
   },
   {
    "duration": 12,
    "start_time": "2022-12-14T15:56:25.121Z"
   },
   {
    "duration": 13,
    "start_time": "2022-12-14T15:56:49.815Z"
   },
   {
    "duration": 46,
    "start_time": "2022-12-14T15:57:32.949Z"
   },
   {
    "duration": 95,
    "start_time": "2022-12-14T15:57:40.487Z"
   },
   {
    "duration": 12,
    "start_time": "2022-12-14T15:57:51.274Z"
   },
   {
    "duration": 89,
    "start_time": "2022-12-14T15:57:54.138Z"
   },
   {
    "duration": 51,
    "start_time": "2022-12-14T15:59:44.222Z"
   },
   {
    "duration": 104,
    "start_time": "2022-12-14T15:59:51.898Z"
   },
   {
    "duration": 11,
    "start_time": "2022-12-14T16:01:59.780Z"
   },
   {
    "duration": 12,
    "start_time": "2022-12-14T16:02:08.412Z"
   },
   {
    "duration": 13,
    "start_time": "2022-12-14T16:02:15.068Z"
   },
   {
    "duration": 94,
    "start_time": "2022-12-14T16:02:19.478Z"
   },
   {
    "duration": 13,
    "start_time": "2022-12-14T16:02:23.355Z"
   },
   {
    "duration": 93,
    "start_time": "2022-12-14T16:02:26.567Z"
   },
   {
    "duration": 9,
    "start_time": "2022-12-14T16:02:37.785Z"
   },
   {
    "duration": 97,
    "start_time": "2022-12-14T16:02:40.204Z"
   },
   {
    "duration": 1336,
    "start_time": "2022-12-15T07:26:18.190Z"
   },
   {
    "duration": 109,
    "start_time": "2022-12-15T07:26:19.528Z"
   },
   {
    "duration": 18,
    "start_time": "2022-12-15T07:26:19.638Z"
   },
   {
    "duration": 26,
    "start_time": "2022-12-15T07:26:19.658Z"
   },
   {
    "duration": 747,
    "start_time": "2022-12-15T07:26:19.686Z"
   },
   {
    "duration": 5,
    "start_time": "2022-12-15T07:26:20.434Z"
   },
   {
    "duration": 10,
    "start_time": "2022-12-15T07:26:20.440Z"
   },
   {
    "duration": 5,
    "start_time": "2022-12-15T07:26:20.452Z"
   },
   {
    "duration": 15,
    "start_time": "2022-12-15T07:26:20.459Z"
   },
   {
    "duration": 7,
    "start_time": "2022-12-15T07:26:20.475Z"
   },
   {
    "duration": 41,
    "start_time": "2022-12-15T07:26:20.484Z"
   },
   {
    "duration": 7,
    "start_time": "2022-12-15T07:26:20.527Z"
   },
   {
    "duration": 13,
    "start_time": "2022-12-15T07:26:20.536Z"
   },
   {
    "duration": 17,
    "start_time": "2022-12-15T07:26:20.552Z"
   },
   {
    "duration": 7,
    "start_time": "2022-12-15T07:26:20.571Z"
   },
   {
    "duration": 49,
    "start_time": "2022-12-15T07:26:20.579Z"
   },
   {
    "duration": 29,
    "start_time": "2022-12-15T07:26:20.629Z"
   },
   {
    "duration": 12,
    "start_time": "2022-12-15T07:26:20.659Z"
   },
   {
    "duration": 44,
    "start_time": "2022-12-15T07:26:20.673Z"
   },
   {
    "duration": 370,
    "start_time": "2022-12-15T07:26:20.719Z"
   },
   {
    "duration": 13,
    "start_time": "2022-12-15T07:26:21.090Z"
   },
   {
    "duration": 339,
    "start_time": "2022-12-15T07:26:21.115Z"
   },
   {
    "duration": 8,
    "start_time": "2022-12-15T07:26:21.455Z"
   },
   {
    "duration": 8,
    "start_time": "2022-12-15T07:26:21.465Z"
   },
   {
    "duration": 375,
    "start_time": "2022-12-15T07:26:21.475Z"
   },
   {
    "duration": 12,
    "start_time": "2022-12-15T07:26:21.852Z"
   },
   {
    "duration": 4,
    "start_time": "2022-12-15T07:26:21.866Z"
   },
   {
    "duration": 499,
    "start_time": "2022-12-15T07:26:21.872Z"
   },
   {
    "duration": 360,
    "start_time": "2022-12-15T07:26:22.373Z"
   },
   {
    "duration": 158,
    "start_time": "2022-12-15T07:26:22.734Z"
   },
   {
    "duration": 210,
    "start_time": "2022-12-15T07:26:22.894Z"
   },
   {
    "duration": 19,
    "start_time": "2022-12-15T07:26:23.106Z"
   },
   {
    "duration": 21,
    "start_time": "2022-12-15T07:26:23.127Z"
   },
   {
    "duration": 11,
    "start_time": "2022-12-15T07:26:23.150Z"
   },
   {
    "duration": 18,
    "start_time": "2022-12-15T07:26:23.163Z"
   },
   {
    "duration": 37,
    "start_time": "2022-12-15T07:26:23.182Z"
   },
   {
    "duration": 106,
    "start_time": "2022-12-15T07:26:23.220Z"
   },
   {
    "duration": 4,
    "start_time": "2022-12-15T07:26:32.903Z"
   },
   {
    "duration": 50,
    "start_time": "2022-12-15T07:26:34.510Z"
   },
   {
    "duration": 16,
    "start_time": "2022-12-15T07:26:36.511Z"
   },
   {
    "duration": 16,
    "start_time": "2022-12-15T07:26:38.908Z"
   },
   {
    "duration": 4,
    "start_time": "2022-12-15T07:26:43.633Z"
   },
   {
    "duration": 6,
    "start_time": "2022-12-15T07:26:45.532Z"
   },
   {
    "duration": 5,
    "start_time": "2022-12-15T07:26:47.547Z"
   },
   {
    "duration": 15,
    "start_time": "2022-12-15T07:26:49.513Z"
   },
   {
    "duration": 8,
    "start_time": "2022-12-15T07:26:51.562Z"
   },
   {
    "duration": 12,
    "start_time": "2022-12-15T07:26:53.798Z"
   },
   {
    "duration": 8,
    "start_time": "2022-12-15T07:26:55.732Z"
   },
   {
    "duration": 16,
    "start_time": "2022-12-15T07:26:58.004Z"
   },
   {
    "duration": 21,
    "start_time": "2022-12-15T07:27:00.015Z"
   },
   {
    "duration": 6,
    "start_time": "2022-12-15T07:27:02.042Z"
   },
   {
    "duration": 16,
    "start_time": "2022-12-15T07:27:03.975Z"
   },
   {
    "duration": 32,
    "start_time": "2022-12-15T07:27:06.073Z"
   },
   {
    "duration": 13,
    "start_time": "2022-12-15T07:27:08.663Z"
   },
   {
    "duration": 16,
    "start_time": "2022-12-15T07:27:11.410Z"
   },
   {
    "duration": 351,
    "start_time": "2022-12-15T07:27:14.620Z"
   },
   {
    "duration": 13,
    "start_time": "2022-12-15T07:27:18.665Z"
   },
   {
    "duration": 401,
    "start_time": "2022-12-15T07:27:20.838Z"
   },
   {
    "duration": 8,
    "start_time": "2022-12-15T07:27:23.479Z"
   },
   {
    "duration": 5,
    "start_time": "2022-12-15T07:27:28.619Z"
   },
   {
    "duration": 331,
    "start_time": "2022-12-15T07:27:30.709Z"
   },
   {
    "duration": 12,
    "start_time": "2022-12-15T07:27:33.797Z"
   },
   {
    "duration": 6,
    "start_time": "2022-12-15T07:27:36.216Z"
   },
   {
    "duration": 447,
    "start_time": "2022-12-15T07:27:38.074Z"
   },
   {
    "duration": 380,
    "start_time": "2022-12-15T07:27:46.176Z"
   },
   {
    "duration": 147,
    "start_time": "2022-12-15T07:27:49.589Z"
   },
   {
    "duration": 165,
    "start_time": "2022-12-15T07:27:52.047Z"
   },
   {
    "duration": 21,
    "start_time": "2022-12-15T07:27:54.524Z"
   },
   {
    "duration": 20,
    "start_time": "2022-12-15T07:27:56.495Z"
   },
   {
    "duration": 12,
    "start_time": "2022-12-15T07:27:59.039Z"
   },
   {
    "duration": 22,
    "start_time": "2022-12-15T07:28:01.219Z"
   },
   {
    "duration": 10,
    "start_time": "2022-12-15T07:28:04.427Z"
   },
   {
    "duration": 107,
    "start_time": "2022-12-15T07:28:06.106Z"
   },
   {
    "duration": 4,
    "start_time": "2022-12-15T07:28:25.538Z"
   },
   {
    "duration": 99,
    "start_time": "2022-12-15T07:29:27.560Z"
   },
   {
    "duration": 9,
    "start_time": "2022-12-15T07:29:42.277Z"
   },
   {
    "duration": 174,
    "start_time": "2022-12-15T07:29:48.727Z"
   },
   {
    "duration": 8,
    "start_time": "2022-12-15T07:30:29.952Z"
   },
   {
    "duration": 99,
    "start_time": "2022-12-15T07:30:47.952Z"
   },
   {
    "duration": 132,
    "start_time": "2022-12-15T07:30:56.210Z"
   },
   {
    "duration": 101,
    "start_time": "2022-12-15T08:07:24.999Z"
   },
   {
    "duration": 106,
    "start_time": "2022-12-15T08:07:38.313Z"
   },
   {
    "duration": 99,
    "start_time": "2022-12-15T08:07:49.466Z"
   },
   {
    "duration": 19,
    "start_time": "2022-12-15T08:08:50.740Z"
   },
   {
    "duration": 12,
    "start_time": "2022-12-15T08:09:50.878Z"
   },
   {
    "duration": 112,
    "start_time": "2022-12-15T08:10:33.683Z"
   },
   {
    "duration": 108,
    "start_time": "2022-12-15T08:11:31.241Z"
   },
   {
    "duration": 103,
    "start_time": "2022-12-15T08:12:22.941Z"
   },
   {
    "duration": 3,
    "start_time": "2022-12-15T08:21:54.467Z"
   },
   {
    "duration": 4,
    "start_time": "2022-12-15T08:57:26.040Z"
   },
   {
    "duration": 1305,
    "start_time": "2022-12-15T09:50:10.222Z"
   },
   {
    "duration": 197,
    "start_time": "2022-12-15T09:50:11.960Z"
   },
   {
    "duration": 18,
    "start_time": "2022-12-15T09:50:13.892Z"
   },
   {
    "duration": 15,
    "start_time": "2022-12-15T09:50:16.272Z"
   },
   {
    "duration": 4,
    "start_time": "2022-12-15T09:50:20.683Z"
   },
   {
    "duration": 7,
    "start_time": "2022-12-15T09:50:22.635Z"
   },
   {
    "duration": 7,
    "start_time": "2022-12-15T09:50:24.654Z"
   },
   {
    "duration": 14,
    "start_time": "2022-12-15T09:50:26.526Z"
   },
   {
    "duration": 9,
    "start_time": "2022-12-15T09:50:28.738Z"
   },
   {
    "duration": 11,
    "start_time": "2022-12-15T09:50:30.840Z"
   },
   {
    "duration": 7,
    "start_time": "2022-12-15T09:50:32.632Z"
   },
   {
    "duration": 18,
    "start_time": "2022-12-15T09:50:35.384Z"
   },
   {
    "duration": 31,
    "start_time": "2022-12-15T09:50:37.755Z"
   },
   {
    "duration": 4,
    "start_time": "2022-12-15T09:50:39.721Z"
   },
   {
    "duration": 15,
    "start_time": "2022-12-15T09:50:41.527Z"
   },
   {
    "duration": 38,
    "start_time": "2022-12-15T09:50:43.124Z"
   },
   {
    "duration": 11,
    "start_time": "2022-12-15T09:50:46.365Z"
   },
   {
    "duration": 22,
    "start_time": "2022-12-15T09:50:49.923Z"
   },
   {
    "duration": 372,
    "start_time": "2022-12-15T09:50:55.921Z"
   },
   {
    "duration": 12,
    "start_time": "2022-12-15T09:50:58.847Z"
   },
   {
    "duration": 367,
    "start_time": "2022-12-15T09:51:01.668Z"
   },
   {
    "duration": 8,
    "start_time": "2022-12-15T09:51:05.182Z"
   },
   {
    "duration": 5,
    "start_time": "2022-12-15T09:51:07.347Z"
   },
   {
    "duration": 309,
    "start_time": "2022-12-15T09:51:09.478Z"
   },
   {
    "duration": 13,
    "start_time": "2022-12-15T09:51:13.457Z"
   },
   {
    "duration": 5,
    "start_time": "2022-12-15T09:51:20.556Z"
   },
   {
    "duration": 603,
    "start_time": "2022-12-15T09:51:23.058Z"
   },
   {
    "duration": 325,
    "start_time": "2022-12-15T09:51:25.724Z"
   },
   {
    "duration": 152,
    "start_time": "2022-12-15T09:51:43.931Z"
   },
   {
    "duration": 143,
    "start_time": "2022-12-15T09:51:46.567Z"
   },
   {
    "duration": 16,
    "start_time": "2022-12-15T09:51:53.558Z"
   },
   {
    "duration": 23,
    "start_time": "2022-12-15T09:51:56.987Z"
   },
   {
    "duration": 17,
    "start_time": "2022-12-15T09:52:02.892Z"
   },
   {
    "duration": 23,
    "start_time": "2022-12-15T09:52:06.023Z"
   },
   {
    "duration": 121,
    "start_time": "2022-12-15T09:52:16.334Z"
   },
   {
    "duration": 121,
    "start_time": "2022-12-15T09:52:26.511Z"
   },
   {
    "duration": 147,
    "start_time": "2022-12-15T09:52:32.405Z"
   },
   {
    "duration": 120,
    "start_time": "2022-12-15T09:52:45.646Z"
   },
   {
    "duration": 120,
    "start_time": "2022-12-15T09:52:49.862Z"
   },
   {
    "duration": 113,
    "start_time": "2022-12-15T09:52:54.283Z"
   },
   {
    "duration": 17,
    "start_time": "2022-12-15T09:54:23.887Z"
   },
   {
    "duration": 10,
    "start_time": "2022-12-15T10:00:29.080Z"
   },
   {
    "duration": 7,
    "start_time": "2022-12-15T10:00:48.353Z"
   },
   {
    "duration": 15,
    "start_time": "2022-12-15T10:00:57.001Z"
   },
   {
    "duration": 7,
    "start_time": "2022-12-15T10:01:59.499Z"
   },
   {
    "duration": 16,
    "start_time": "2022-12-15T10:02:02.920Z"
   },
   {
    "duration": 113,
    "start_time": "2022-12-15T10:04:04.340Z"
   },
   {
    "duration": 96,
    "start_time": "2022-12-15T10:04:30.973Z"
   },
   {
    "duration": 97,
    "start_time": "2022-12-15T10:09:51.054Z"
   },
   {
    "duration": 97,
    "start_time": "2022-12-15T10:10:17.430Z"
   },
   {
    "duration": 193,
    "start_time": "2022-12-15T10:10:31.895Z"
   },
   {
    "duration": 98,
    "start_time": "2022-12-15T10:11:20.644Z"
   },
   {
    "duration": 7,
    "start_time": "2022-12-15T10:14:26.563Z"
   },
   {
    "duration": 4,
    "start_time": "2022-12-15T10:14:39.185Z"
   },
   {
    "duration": 9,
    "start_time": "2022-12-15T10:29:50.465Z"
   },
   {
    "duration": 11,
    "start_time": "2022-12-15T10:40:35.951Z"
   },
   {
    "duration": 3,
    "start_time": "2022-12-15T10:40:40.101Z"
   },
   {
    "duration": 73,
    "start_time": "2022-12-15T10:40:40.107Z"
   },
   {
    "duration": 34,
    "start_time": "2022-12-15T10:40:40.183Z"
   },
   {
    "duration": 40,
    "start_time": "2022-12-15T10:40:40.222Z"
   },
   {
    "duration": 922,
    "start_time": "2022-12-15T10:40:40.265Z"
   },
   {
    "duration": 7,
    "start_time": "2022-12-15T10:40:41.190Z"
   },
   {
    "duration": 22,
    "start_time": "2022-12-15T10:40:41.200Z"
   },
   {
    "duration": 9,
    "start_time": "2022-12-15T10:40:41.224Z"
   },
   {
    "duration": 22,
    "start_time": "2022-12-15T10:40:41.236Z"
   },
   {
    "duration": 15,
    "start_time": "2022-12-15T10:40:41.260Z"
   },
   {
    "duration": 42,
    "start_time": "2022-12-15T10:40:41.278Z"
   },
   {
    "duration": 12,
    "start_time": "2022-12-15T10:40:41.322Z"
   },
   {
    "duration": 25,
    "start_time": "2022-12-15T10:40:41.337Z"
   },
   {
    "duration": 50,
    "start_time": "2022-12-15T10:40:41.365Z"
   },
   {
    "duration": 8,
    "start_time": "2022-12-15T10:40:41.417Z"
   },
   {
    "duration": 28,
    "start_time": "2022-12-15T10:40:41.427Z"
   },
   {
    "duration": 66,
    "start_time": "2022-12-15T10:40:41.458Z"
   },
   {
    "duration": 16,
    "start_time": "2022-12-15T10:40:41.526Z"
   },
   {
    "duration": 10,
    "start_time": "2022-12-15T10:40:41.544Z"
   },
   {
    "duration": 26,
    "start_time": "2022-12-15T10:40:41.557Z"
   },
   {
    "duration": 405,
    "start_time": "2022-12-15T10:40:41.585Z"
   },
   {
    "duration": 24,
    "start_time": "2022-12-15T10:40:41.993Z"
   },
   {
    "duration": 361,
    "start_time": "2022-12-15T10:40:42.019Z"
   },
   {
    "duration": 10,
    "start_time": "2022-12-15T10:40:42.383Z"
   },
   {
    "duration": 22,
    "start_time": "2022-12-15T10:40:42.396Z"
   },
   {
    "duration": 444,
    "start_time": "2022-12-15T10:40:42.421Z"
   },
   {
    "duration": 23,
    "start_time": "2022-12-15T10:40:42.868Z"
   },
   {
    "duration": 21,
    "start_time": "2022-12-15T10:40:42.894Z"
   },
   {
    "duration": 578,
    "start_time": "2022-12-15T10:40:42.919Z"
   },
   {
    "duration": 317,
    "start_time": "2022-12-15T10:40:43.499Z"
   },
   {
    "duration": 174,
    "start_time": "2022-12-15T10:40:43.817Z"
   },
   {
    "duration": 169,
    "start_time": "2022-12-15T10:40:43.993Z"
   },
   {
    "duration": 16,
    "start_time": "2022-12-15T10:40:44.163Z"
   },
   {
    "duration": 43,
    "start_time": "2022-12-15T10:40:44.181Z"
   },
   {
    "duration": 13,
    "start_time": "2022-12-15T10:40:44.225Z"
   },
   {
    "duration": 24,
    "start_time": "2022-12-15T10:40:44.240Z"
   },
   {
    "duration": 160,
    "start_time": "2022-12-15T10:40:44.265Z"
   },
   {
    "duration": 116,
    "start_time": "2022-12-15T10:40:44.427Z"
   },
   {
    "duration": 120,
    "start_time": "2022-12-15T10:40:44.545Z"
   },
   {
    "duration": 140,
    "start_time": "2022-12-15T10:40:44.667Z"
   },
   {
    "duration": 146,
    "start_time": "2022-12-15T10:40:44.813Z"
   },
   {
    "duration": 203,
    "start_time": "2022-12-15T10:40:44.960Z"
   },
   {
    "duration": 119,
    "start_time": "2022-12-15T10:40:45.165Z"
   },
   {
    "duration": 112,
    "start_time": "2022-12-15T10:40:45.285Z"
   },
   {
    "duration": 129,
    "start_time": "2022-12-15T10:40:45.399Z"
   },
   {
    "duration": 3,
    "start_time": "2022-12-15T10:51:09.480Z"
   },
   {
    "duration": 59,
    "start_time": "2022-12-15T10:51:09.485Z"
   },
   {
    "duration": 17,
    "start_time": "2022-12-15T10:51:09.546Z"
   },
   {
    "duration": 17,
    "start_time": "2022-12-15T10:51:09.566Z"
   },
   {
    "duration": 813,
    "start_time": "2022-12-15T10:51:09.585Z"
   },
   {
    "duration": 13,
    "start_time": "2022-12-15T10:51:10.400Z"
   },
   {
    "duration": 26,
    "start_time": "2022-12-15T10:51:10.415Z"
   },
   {
    "duration": 16,
    "start_time": "2022-12-15T10:51:10.442Z"
   },
   {
    "duration": 21,
    "start_time": "2022-12-15T10:51:10.462Z"
   },
   {
    "duration": 12,
    "start_time": "2022-12-15T10:51:10.486Z"
   },
   {
    "duration": 22,
    "start_time": "2022-12-15T10:51:10.500Z"
   },
   {
    "duration": 8,
    "start_time": "2022-12-15T10:51:10.523Z"
   },
   {
    "duration": 16,
    "start_time": "2022-12-15T10:51:10.534Z"
   },
   {
    "duration": 20,
    "start_time": "2022-12-15T10:51:10.552Z"
   },
   {
    "duration": 13,
    "start_time": "2022-12-15T10:51:10.574Z"
   },
   {
    "duration": 32,
    "start_time": "2022-12-15T10:51:10.589Z"
   },
   {
    "duration": 27,
    "start_time": "2022-12-15T10:51:10.623Z"
   },
   {
    "duration": 11,
    "start_time": "2022-12-15T10:51:10.652Z"
   },
   {
    "duration": 6,
    "start_time": "2022-12-15T10:51:10.664Z"
   },
   {
    "duration": 49,
    "start_time": "2022-12-15T10:51:10.672Z"
   },
   {
    "duration": 387,
    "start_time": "2022-12-15T10:51:10.723Z"
   },
   {
    "duration": 11,
    "start_time": "2022-12-15T10:51:11.113Z"
   },
   {
    "duration": 416,
    "start_time": "2022-12-15T10:51:11.126Z"
   },
   {
    "duration": 7,
    "start_time": "2022-12-15T10:51:11.546Z"
   },
   {
    "duration": 9,
    "start_time": "2022-12-15T10:51:11.555Z"
   },
   {
    "duration": 305,
    "start_time": "2022-12-15T10:51:11.565Z"
   },
   {
    "duration": 13,
    "start_time": "2022-12-15T10:51:11.872Z"
   },
   {
    "duration": 4,
    "start_time": "2022-12-15T10:51:11.886Z"
   },
   {
    "duration": 536,
    "start_time": "2022-12-15T10:51:11.892Z"
   },
   {
    "duration": 292,
    "start_time": "2022-12-15T10:51:12.431Z"
   },
   {
    "duration": 161,
    "start_time": "2022-12-15T10:51:12.725Z"
   },
   {
    "duration": 164,
    "start_time": "2022-12-15T10:51:12.887Z"
   },
   {
    "duration": 27,
    "start_time": "2022-12-15T10:51:13.054Z"
   },
   {
    "duration": 37,
    "start_time": "2022-12-15T10:51:13.084Z"
   },
   {
    "duration": 13,
    "start_time": "2022-12-15T10:51:13.122Z"
   },
   {
    "duration": 21,
    "start_time": "2022-12-15T10:51:13.136Z"
   },
   {
    "duration": 127,
    "start_time": "2022-12-15T10:51:13.159Z"
   },
   {
    "duration": 116,
    "start_time": "2022-12-15T10:51:13.288Z"
   },
   {
    "duration": 203,
    "start_time": "2022-12-15T10:51:13.405Z"
   },
   {
    "duration": 122,
    "start_time": "2022-12-15T10:51:13.613Z"
   },
   {
    "duration": 111,
    "start_time": "2022-12-15T10:51:13.737Z"
   },
   {
    "duration": 130,
    "start_time": "2022-12-15T10:51:13.850Z"
   },
   {
    "duration": 114,
    "start_time": "2022-12-15T10:51:13.982Z"
   },
   {
    "duration": 117,
    "start_time": "2022-12-15T10:51:14.098Z"
   },
   {
    "duration": 112,
    "start_time": "2022-12-15T10:51:14.218Z"
   },
   {
    "duration": 3,
    "start_time": "2022-12-15T10:52:00.735Z"
   },
   {
    "duration": 62,
    "start_time": "2022-12-15T10:52:02.613Z"
   },
   {
    "duration": 7,
    "start_time": "2022-12-15T10:52:10.123Z"
   },
   {
    "duration": 7,
    "start_time": "2022-12-15T10:52:12.654Z"
   },
   {
    "duration": 11,
    "start_time": "2022-12-15T10:52:16.440Z"
   },
   {
    "duration": 11,
    "start_time": "2022-12-15T10:52:18.560Z"
   },
   {
    "duration": 12,
    "start_time": "2022-12-15T10:52:20.486Z"
   },
   {
    "duration": 13,
    "start_time": "2022-12-15T10:52:23.181Z"
   },
   {
    "duration": 18,
    "start_time": "2022-12-15T10:52:25.186Z"
   },
   {
    "duration": 5,
    "start_time": "2022-12-15T10:52:27.222Z"
   },
   {
    "duration": 22,
    "start_time": "2022-12-15T10:52:30.469Z"
   },
   {
    "duration": 28,
    "start_time": "2022-12-15T10:52:32.708Z"
   },
   {
    "duration": 13,
    "start_time": "2022-12-15T10:52:34.966Z"
   },
   {
    "duration": 10,
    "start_time": "2022-12-15T10:52:39.055Z"
   },
   {
    "duration": 30,
    "start_time": "2022-12-15T10:52:42.172Z"
   },
   {
    "duration": 351,
    "start_time": "2022-12-15T10:52:45.517Z"
   },
   {
    "duration": 12,
    "start_time": "2022-12-15T10:52:49.508Z"
   },
   {
    "duration": 319,
    "start_time": "2022-12-15T10:52:51.334Z"
   },
   {
    "duration": 8,
    "start_time": "2022-12-15T10:52:53.658Z"
   },
   {
    "duration": 6,
    "start_time": "2022-12-15T10:52:56.735Z"
   },
   {
    "duration": 23,
    "start_time": "2022-12-15T10:53:12.723Z"
   },
   {
    "duration": 5,
    "start_time": "2022-12-15T10:53:20.734Z"
   },
   {
    "duration": 390,
    "start_time": "2022-12-15T10:53:27.535Z"
   },
   {
    "duration": 158,
    "start_time": "2022-12-15T10:53:33.861Z"
   },
   {
    "duration": 150,
    "start_time": "2022-12-15T10:53:36.579Z"
   },
   {
    "duration": 20,
    "start_time": "2022-12-15T10:53:42.194Z"
   },
   {
    "duration": 13,
    "start_time": "2022-12-15T10:53:45.674Z"
   },
   {
    "duration": 20,
    "start_time": "2022-12-15T10:53:49.388Z"
   },
   {
    "duration": 105,
    "start_time": "2022-12-15T10:53:54.134Z"
   },
   {
    "duration": 105,
    "start_time": "2022-12-15T10:53:58.154Z"
   },
   {
    "duration": 107,
    "start_time": "2022-12-15T10:54:00.540Z"
   },
   {
    "duration": 110,
    "start_time": "2022-12-15T10:54:03.434Z"
   },
   {
    "duration": 109,
    "start_time": "2022-12-15T10:54:05.548Z"
   },
   {
    "duration": 114,
    "start_time": "2022-12-15T10:54:07.815Z"
   },
   {
    "duration": 114,
    "start_time": "2022-12-15T10:54:23.310Z"
   },
   {
    "duration": 126,
    "start_time": "2022-12-15T10:54:48.867Z"
   },
   {
    "duration": 110,
    "start_time": "2022-12-15T10:54:51.678Z"
   },
   {
    "duration": 11,
    "start_time": "2022-12-15T10:59:25.858Z"
   },
   {
    "duration": 3,
    "start_time": "2022-12-15T10:59:30.065Z"
   },
   {
    "duration": 75,
    "start_time": "2022-12-15T10:59:30.070Z"
   },
   {
    "duration": 15,
    "start_time": "2022-12-15T10:59:30.147Z"
   },
   {
    "duration": 36,
    "start_time": "2022-12-15T10:59:30.163Z"
   },
   {
    "duration": 899,
    "start_time": "2022-12-15T10:59:30.201Z"
   },
   {
    "duration": 5,
    "start_time": "2022-12-15T10:59:31.101Z"
   },
   {
    "duration": 21,
    "start_time": "2022-12-15T10:59:31.113Z"
   },
   {
    "duration": 32,
    "start_time": "2022-12-15T10:59:31.136Z"
   },
   {
    "duration": 29,
    "start_time": "2022-12-15T10:59:31.170Z"
   },
   {
    "duration": 25,
    "start_time": "2022-12-15T10:59:31.201Z"
   },
   {
    "duration": 8,
    "start_time": "2022-12-15T10:59:31.229Z"
   },
   {
    "duration": 14,
    "start_time": "2022-12-15T10:59:31.239Z"
   },
   {
    "duration": 9,
    "start_time": "2022-12-15T10:59:31.255Z"
   },
   {
    "duration": 17,
    "start_time": "2022-12-15T10:59:31.265Z"
   },
   {
    "duration": 30,
    "start_time": "2022-12-15T10:59:31.283Z"
   },
   {
    "duration": 24,
    "start_time": "2022-12-15T10:59:31.314Z"
   },
   {
    "duration": 20,
    "start_time": "2022-12-15T10:59:31.341Z"
   },
   {
    "duration": 30,
    "start_time": "2022-12-15T10:59:31.363Z"
   },
   {
    "duration": 22,
    "start_time": "2022-12-15T10:59:31.395Z"
   },
   {
    "duration": 20,
    "start_time": "2022-12-15T10:59:31.418Z"
   },
   {
    "duration": 360,
    "start_time": "2022-12-15T10:59:31.439Z"
   },
   {
    "duration": 18,
    "start_time": "2022-12-15T10:59:31.800Z"
   },
   {
    "duration": 337,
    "start_time": "2022-12-15T10:59:31.820Z"
   },
   {
    "duration": 8,
    "start_time": "2022-12-15T10:59:32.158Z"
   },
   {
    "duration": 9,
    "start_time": "2022-12-15T10:59:32.167Z"
   },
   {
    "duration": 305,
    "start_time": "2022-12-15T10:59:32.178Z"
   },
   {
    "duration": 15,
    "start_time": "2022-12-15T10:59:32.485Z"
   },
   {
    "duration": 6,
    "start_time": "2022-12-15T10:59:32.513Z"
   },
   {
    "duration": 601,
    "start_time": "2022-12-15T10:59:32.524Z"
   },
   {
    "duration": 311,
    "start_time": "2022-12-15T10:59:33.127Z"
   },
   {
    "duration": 172,
    "start_time": "2022-12-15T10:59:33.441Z"
   },
   {
    "duration": 168,
    "start_time": "2022-12-15T10:59:33.615Z"
   },
   {
    "duration": 32,
    "start_time": "2022-12-15T10:59:33.786Z"
   },
   {
    "duration": 20,
    "start_time": "2022-12-15T10:59:33.820Z"
   },
   {
    "duration": 14,
    "start_time": "2022-12-15T10:59:33.842Z"
   },
   {
    "duration": 24,
    "start_time": "2022-12-15T10:59:33.857Z"
   },
   {
    "duration": 124,
    "start_time": "2022-12-15T10:59:33.914Z"
   },
   {
    "duration": 121,
    "start_time": "2022-12-15T10:59:34.040Z"
   },
   {
    "duration": 156,
    "start_time": "2022-12-15T10:59:34.163Z"
   },
   {
    "duration": 137,
    "start_time": "2022-12-15T10:59:34.322Z"
   },
   {
    "duration": 123,
    "start_time": "2022-12-15T10:59:34.461Z"
   },
   {
    "duration": 137,
    "start_time": "2022-12-15T10:59:34.586Z"
   },
   {
    "duration": 117,
    "start_time": "2022-12-15T10:59:34.729Z"
   },
   {
    "duration": 224,
    "start_time": "2022-12-15T10:59:34.848Z"
   },
   {
    "duration": 124,
    "start_time": "2022-12-15T10:59:35.074Z"
   },
   {
    "duration": 114,
    "start_time": "2022-12-15T10:59:39.650Z"
   },
   {
    "duration": 126,
    "start_time": "2022-12-15T10:59:43.507Z"
   },
   {
    "duration": 113,
    "start_time": "2022-12-15T10:59:46.437Z"
   },
   {
    "duration": 4,
    "start_time": "2022-12-15T11:06:49.151Z"
   },
   {
    "duration": 15,
    "start_time": "2022-12-15T11:08:15.320Z"
   },
   {
    "duration": 6,
    "start_time": "2022-12-15T11:26:34.763Z"
   },
   {
    "duration": 26,
    "start_time": "2022-12-15T11:27:56.732Z"
   },
   {
    "duration": 10,
    "start_time": "2022-12-15T11:34:04.214Z"
   },
   {
    "duration": 13,
    "start_time": "2022-12-15T11:37:02.318Z"
   },
   {
    "duration": 5,
    "start_time": "2022-12-15T11:39:00.758Z"
   },
   {
    "duration": 6,
    "start_time": "2022-12-15T11:42:30.321Z"
   },
   {
    "duration": 47,
    "start_time": "2022-12-15T11:42:46.085Z"
   },
   {
    "duration": 49,
    "start_time": "2022-12-15T11:43:02.357Z"
   },
   {
    "duration": 31,
    "start_time": "2022-12-15T11:43:18.347Z"
   },
   {
    "duration": 12,
    "start_time": "2022-12-15T11:43:41.778Z"
   },
   {
    "duration": 19,
    "start_time": "2022-12-15T11:47:11.548Z"
   },
   {
    "duration": 6,
    "start_time": "2022-12-15T11:48:02.694Z"
   },
   {
    "duration": 6,
    "start_time": "2022-12-15T11:48:37.555Z"
   },
   {
    "duration": 5,
    "start_time": "2022-12-15T11:48:46.483Z"
   },
   {
    "duration": 4,
    "start_time": "2022-12-15T11:51:08.744Z"
   },
   {
    "duration": 72,
    "start_time": "2022-12-15T11:53:56.847Z"
   },
   {
    "duration": 11,
    "start_time": "2022-12-15T11:56:55.617Z"
   },
   {
    "duration": 8,
    "start_time": "2022-12-15T11:57:21.877Z"
   },
   {
    "duration": 5,
    "start_time": "2022-12-15T11:57:27.153Z"
   },
   {
    "duration": 3,
    "start_time": "2022-12-15T11:58:21.419Z"
   },
   {
    "duration": 47,
    "start_time": "2022-12-15T11:58:23.142Z"
   },
   {
    "duration": 14,
    "start_time": "2022-12-15T11:58:25.829Z"
   },
   {
    "duration": 14,
    "start_time": "2022-12-15T11:58:28.110Z"
   },
   {
    "duration": 4,
    "start_time": "2022-12-15T11:58:32.303Z"
   },
   {
    "duration": 6,
    "start_time": "2022-12-15T11:58:34.450Z"
   },
   {
    "duration": 5,
    "start_time": "2022-12-15T11:58:37.844Z"
   },
   {
    "duration": 7,
    "start_time": "2022-12-15T11:58:40.709Z"
   },
   {
    "duration": 14,
    "start_time": "2022-12-15T11:58:42.753Z"
   },
   {
    "duration": 8,
    "start_time": "2022-12-15T11:58:53.121Z"
   },
   {
    "duration": 10,
    "start_time": "2022-12-15T11:58:55.446Z"
   },
   {
    "duration": 7,
    "start_time": "2022-12-15T11:59:12.047Z"
   },
   {
    "duration": 12,
    "start_time": "2022-12-15T11:59:19.523Z"
   },
   {
    "duration": 17,
    "start_time": "2022-12-15T11:59:22.204Z"
   },
   {
    "duration": 6,
    "start_time": "2022-12-15T11:59:26.352Z"
   },
   {
    "duration": 14,
    "start_time": "2022-12-15T11:59:28.478Z"
   },
   {
    "duration": 32,
    "start_time": "2022-12-15T11:59:33.959Z"
   },
   {
    "duration": 13,
    "start_time": "2022-12-15T11:59:50.451Z"
   },
   {
    "duration": 7,
    "start_time": "2022-12-15T12:00:56.342Z"
   },
   {
    "duration": 19,
    "start_time": "2022-12-15T12:01:19.214Z"
   },
   {
    "duration": 366,
    "start_time": "2022-12-15T12:01:22.982Z"
   },
   {
    "duration": 13,
    "start_time": "2022-12-15T12:01:26.033Z"
   },
   {
    "duration": 330,
    "start_time": "2022-12-15T12:01:28.269Z"
   },
   {
    "duration": 8,
    "start_time": "2022-12-15T12:01:31.198Z"
   },
   {
    "duration": 4,
    "start_time": "2022-12-15T12:01:33.346Z"
   },
   {
    "duration": 291,
    "start_time": "2022-12-15T12:01:36.141Z"
   },
   {
    "duration": 13,
    "start_time": "2022-12-15T12:01:38.804Z"
   },
   {
    "duration": 5,
    "start_time": "2022-12-15T12:01:41.384Z"
   },
   {
    "duration": 593,
    "start_time": "2022-12-15T12:01:43.193Z"
   },
   {
    "duration": 320,
    "start_time": "2022-12-15T12:01:45.873Z"
   },
   {
    "duration": 177,
    "start_time": "2022-12-15T12:01:48.917Z"
   },
   {
    "duration": 161,
    "start_time": "2022-12-15T12:02:08.193Z"
   },
   {
    "duration": 151,
    "start_time": "2022-12-15T12:02:24.982Z"
   },
   {
    "duration": 16,
    "start_time": "2022-12-15T12:02:34.717Z"
   },
   {
    "duration": 21,
    "start_time": "2022-12-15T12:02:46.681Z"
   },
   {
    "duration": 12,
    "start_time": "2022-12-15T12:02:50.497Z"
   },
   {
    "duration": 22,
    "start_time": "2022-12-15T12:02:53.290Z"
   },
   {
    "duration": 112,
    "start_time": "2022-12-15T12:02:57.395Z"
   },
   {
    "duration": 110,
    "start_time": "2022-12-15T12:03:02.972Z"
   },
   {
    "duration": 103,
    "start_time": "2022-12-15T12:03:05.152Z"
   },
   {
    "duration": 112,
    "start_time": "2022-12-15T12:03:07.851Z"
   },
   {
    "duration": 112,
    "start_time": "2022-12-15T12:03:10.115Z"
   },
   {
    "duration": 221,
    "start_time": "2022-12-15T12:03:11.980Z"
   },
   {
    "duration": 117,
    "start_time": "2022-12-15T12:03:16.026Z"
   },
   {
    "duration": 108,
    "start_time": "2022-12-15T12:03:18.154Z"
   },
   {
    "duration": 145,
    "start_time": "2022-12-15T12:03:20.250Z"
   },
   {
    "duration": 14,
    "start_time": "2022-12-15T12:03:24.658Z"
   },
   {
    "duration": 9,
    "start_time": "2022-12-15T12:03:27.943Z"
   },
   {
    "duration": 6,
    "start_time": "2022-12-15T12:03:45.600Z"
   },
   {
    "duration": 4,
    "start_time": "2022-12-15T12:03:47.556Z"
   },
   {
    "duration": 12,
    "start_time": "2022-12-15T12:03:52.614Z"
   },
   {
    "duration": 6,
    "start_time": "2022-12-15T12:04:03.423Z"
   },
   {
    "duration": 7,
    "start_time": "2022-12-15T12:04:30.193Z"
   },
   {
    "duration": 5,
    "start_time": "2022-12-15T12:04:32.816Z"
   },
   {
    "duration": 20,
    "start_time": "2022-12-15T12:05:05.102Z"
   },
   {
    "duration": 8,
    "start_time": "2022-12-15T12:06:26.851Z"
   },
   {
    "duration": 5,
    "start_time": "2022-12-15T12:13:31.240Z"
   },
   {
    "duration": 4,
    "start_time": "2022-12-15T12:14:07.563Z"
   },
   {
    "duration": 5,
    "start_time": "2022-12-15T12:14:11.218Z"
   },
   {
    "duration": 54,
    "start_time": "2022-12-15T15:09:53.003Z"
   },
   {
    "duration": 6,
    "start_time": "2022-12-15T15:10:08.869Z"
   },
   {
    "duration": 1286,
    "start_time": "2022-12-15T15:10:12.664Z"
   },
   {
    "duration": 206,
    "start_time": "2022-12-15T15:10:13.952Z"
   },
   {
    "duration": 17,
    "start_time": "2022-12-15T15:10:14.161Z"
   },
   {
    "duration": 13,
    "start_time": "2022-12-15T15:10:14.180Z"
   },
   {
    "duration": 811,
    "start_time": "2022-12-15T15:10:14.195Z"
   },
   {
    "duration": 5,
    "start_time": "2022-12-15T15:10:15.008Z"
   },
   {
    "duration": 23,
    "start_time": "2022-12-15T15:10:15.014Z"
   },
   {
    "duration": 18,
    "start_time": "2022-12-15T15:10:15.038Z"
   },
   {
    "duration": 27,
    "start_time": "2022-12-15T15:10:15.057Z"
   },
   {
    "duration": 12,
    "start_time": "2022-12-15T15:10:15.086Z"
   },
   {
    "duration": 23,
    "start_time": "2022-12-15T15:10:15.100Z"
   },
   {
    "duration": 15,
    "start_time": "2022-12-15T15:10:15.125Z"
   },
   {
    "duration": 26,
    "start_time": "2022-12-15T15:10:15.142Z"
   },
   {
    "duration": 18,
    "start_time": "2022-12-15T15:10:15.172Z"
   },
   {
    "duration": 33,
    "start_time": "2022-12-15T15:10:15.192Z"
   },
   {
    "duration": 35,
    "start_time": "2022-12-15T15:10:15.227Z"
   },
   {
    "duration": 44,
    "start_time": "2022-12-15T15:10:15.264Z"
   },
   {
    "duration": 11,
    "start_time": "2022-12-15T15:10:15.310Z"
   },
   {
    "duration": 30,
    "start_time": "2022-12-15T15:10:15.323Z"
   },
   {
    "duration": 21,
    "start_time": "2022-12-15T15:10:15.355Z"
   },
   {
    "duration": 354,
    "start_time": "2022-12-15T15:10:15.378Z"
   },
   {
    "duration": 19,
    "start_time": "2022-12-15T15:10:15.733Z"
   },
   {
    "duration": 319,
    "start_time": "2022-12-15T15:10:15.753Z"
   },
   {
    "duration": 7,
    "start_time": "2022-12-15T15:10:16.073Z"
   },
   {
    "duration": 8,
    "start_time": "2022-12-15T15:10:16.082Z"
   },
   {
    "duration": 368,
    "start_time": "2022-12-15T15:10:16.092Z"
   },
   {
    "duration": 12,
    "start_time": "2022-12-15T15:10:16.462Z"
   },
   {
    "duration": 3,
    "start_time": "2022-12-15T15:10:16.476Z"
   },
   {
    "duration": 486,
    "start_time": "2022-12-15T15:10:16.481Z"
   },
   {
    "duration": 341,
    "start_time": "2022-12-15T15:10:16.968Z"
   },
   {
    "duration": 166,
    "start_time": "2022-12-15T15:10:17.311Z"
   },
   {
    "duration": 164,
    "start_time": "2022-12-15T15:10:17.478Z"
   },
   {
    "duration": 21,
    "start_time": "2022-12-15T15:10:17.644Z"
   },
   {
    "duration": 22,
    "start_time": "2022-12-15T15:10:17.667Z"
   },
   {
    "duration": 13,
    "start_time": "2022-12-15T15:10:17.690Z"
   },
   {
    "duration": 25,
    "start_time": "2022-12-15T15:10:17.704Z"
   },
   {
    "duration": 135,
    "start_time": "2022-12-15T15:10:17.731Z"
   },
   {
    "duration": 111,
    "start_time": "2022-12-15T15:10:17.868Z"
   },
   {
    "duration": 113,
    "start_time": "2022-12-15T15:10:17.980Z"
   },
   {
    "duration": 204,
    "start_time": "2022-12-15T15:10:18.095Z"
   },
   {
    "duration": 109,
    "start_time": "2022-12-15T15:10:18.302Z"
   },
   {
    "duration": 114,
    "start_time": "2022-12-15T15:10:18.413Z"
   },
   {
    "duration": 108,
    "start_time": "2022-12-15T15:10:18.529Z"
   },
   {
    "duration": 117,
    "start_time": "2022-12-15T15:10:18.638Z"
   },
   {
    "duration": 101,
    "start_time": "2022-12-15T15:10:18.757Z"
   },
   {
    "duration": 11,
    "start_time": "2022-12-15T15:10:18.860Z"
   },
   {
    "duration": 11,
    "start_time": "2022-12-15T15:10:18.872Z"
   },
   {
    "duration": 7,
    "start_time": "2022-12-15T15:10:18.885Z"
   },
   {
    "duration": 6,
    "start_time": "2022-12-15T15:10:18.894Z"
   },
   {
    "duration": 14,
    "start_time": "2022-12-15T15:10:18.902Z"
   },
   {
    "duration": 8,
    "start_time": "2022-12-15T15:10:18.918Z"
   },
   {
    "duration": 8,
    "start_time": "2022-12-15T15:10:18.953Z"
   },
   {
    "duration": 13,
    "start_time": "2022-12-15T15:10:18.963Z"
   },
   {
    "duration": 3,
    "start_time": "2022-12-15T15:12:29.701Z"
   },
   {
    "duration": 51,
    "start_time": "2022-12-15T15:12:31.708Z"
   },
   {
    "duration": 14,
    "start_time": "2022-12-15T15:12:33.756Z"
   },
   {
    "duration": 15,
    "start_time": "2022-12-15T15:13:22.973Z"
   },
   {
    "duration": 4,
    "start_time": "2022-12-15T15:15:06.682Z"
   },
   {
    "duration": 6,
    "start_time": "2022-12-15T15:15:12.762Z"
   },
   {
    "duration": 5,
    "start_time": "2022-12-15T15:15:20.481Z"
   },
   {
    "duration": 14,
    "start_time": "2022-12-15T15:15:30.839Z"
   },
   {
    "duration": 9,
    "start_time": "2022-12-15T15:15:55.611Z"
   },
   {
    "duration": 10,
    "start_time": "2022-12-15T15:15:57.666Z"
   },
   {
    "duration": 6,
    "start_time": "2022-12-15T15:16:16.954Z"
   },
   {
    "duration": 11,
    "start_time": "2022-12-15T15:16:32.214Z"
   },
   {
    "duration": 25,
    "start_time": "2022-12-15T15:18:10.048Z"
   },
   {
    "duration": 5,
    "start_time": "2022-12-15T15:18:13.414Z"
   },
   {
    "duration": 15,
    "start_time": "2022-12-15T15:18:21.389Z"
   },
   {
    "duration": 29,
    "start_time": "2022-12-15T15:18:23.417Z"
   },
   {
    "duration": 11,
    "start_time": "2022-12-15T15:18:35.981Z"
   },
   {
    "duration": 6,
    "start_time": "2022-12-15T15:18:40.749Z"
   },
   {
    "duration": 17,
    "start_time": "2022-12-15T15:18:51.637Z"
   },
   {
    "duration": 4,
    "start_time": "2022-12-15T15:22:52.884Z"
   },
   {
    "duration": 296,
    "start_time": "2022-12-15T15:22:55.101Z"
   },
   {
    "duration": 4,
    "start_time": "2022-12-15T15:24:27.256Z"
   },
   {
    "duration": 454,
    "start_time": "2022-12-15T15:24:29.908Z"
   },
   {
    "duration": 70,
    "start_time": "2022-12-15T15:25:30.526Z"
   },
   {
    "duration": 10,
    "start_time": "2022-12-15T15:25:43.127Z"
   },
   {
    "duration": 13,
    "start_time": "2022-12-15T15:26:31.200Z"
   },
   {
    "duration": 16,
    "start_time": "2022-12-15T15:26:55.553Z"
   },
   {
    "duration": 290,
    "start_time": "2022-12-15T15:27:22.564Z"
   },
   {
    "duration": 231,
    "start_time": "2022-12-15T15:28:28.784Z"
   },
   {
    "duration": 145,
    "start_time": "2022-12-15T15:29:15.718Z"
   },
   {
    "duration": 22,
    "start_time": "2022-12-15T15:29:32.492Z"
   },
   {
    "duration": 19,
    "start_time": "2022-12-15T15:30:00.332Z"
   },
   {
    "duration": 12,
    "start_time": "2022-12-15T15:30:20.121Z"
   },
   {
    "duration": 20,
    "start_time": "2022-12-15T15:30:31.705Z"
   },
   {
    "duration": 106,
    "start_time": "2022-12-15T15:32:38.582Z"
   },
   {
    "duration": 104,
    "start_time": "2022-12-15T15:32:41.476Z"
   },
   {
    "duration": 118,
    "start_time": "2022-12-15T15:32:44.266Z"
   },
   {
    "duration": 124,
    "start_time": "2022-12-15T15:33:11.375Z"
   },
   {
    "duration": 104,
    "start_time": "2022-12-15T15:33:14.351Z"
   },
   {
    "duration": 105,
    "start_time": "2022-12-15T15:33:16.712Z"
   },
   {
    "duration": 97,
    "start_time": "2022-12-15T15:34:10.728Z"
   },
   {
    "duration": 100,
    "start_time": "2022-12-15T15:34:13.846Z"
   },
   {
    "duration": 101,
    "start_time": "2022-12-15T15:34:16.077Z"
   },
   {
    "duration": 11,
    "start_time": "2022-12-15T15:37:10.350Z"
   },
   {
    "duration": 8,
    "start_time": "2022-12-15T15:37:12.439Z"
   },
   {
    "duration": 5,
    "start_time": "2022-12-15T15:37:14.517Z"
   },
   {
    "duration": 4,
    "start_time": "2022-12-15T15:37:16.112Z"
   },
   {
    "duration": 11,
    "start_time": "2022-12-15T15:37:20.629Z"
   },
   {
    "duration": 7,
    "start_time": "2022-12-15T15:37:38.973Z"
   },
   {
    "duration": 5,
    "start_time": "2022-12-15T15:38:16.451Z"
   },
   {
    "duration": 6,
    "start_time": "2022-12-15T15:38:18.443Z"
   },
   {
    "duration": 1160,
    "start_time": "2022-12-15T16:02:53.107Z"
   },
   {
    "duration": 54,
    "start_time": "2022-12-15T16:02:54.270Z"
   },
   {
    "duration": 18,
    "start_time": "2022-12-15T16:02:54.326Z"
   },
   {
    "duration": 14,
    "start_time": "2022-12-15T16:02:54.347Z"
   },
   {
    "duration": 824,
    "start_time": "2022-12-15T16:02:54.363Z"
   },
   {
    "duration": 4,
    "start_time": "2022-12-15T16:02:55.189Z"
   },
   {
    "duration": 19,
    "start_time": "2022-12-15T16:02:55.195Z"
   },
   {
    "duration": 5,
    "start_time": "2022-12-15T16:02:55.216Z"
   },
   {
    "duration": 30,
    "start_time": "2022-12-15T16:02:55.223Z"
   },
   {
    "duration": 8,
    "start_time": "2022-12-15T16:02:55.256Z"
   },
   {
    "duration": 13,
    "start_time": "2022-12-15T16:02:55.266Z"
   },
   {
    "duration": 8,
    "start_time": "2022-12-15T16:02:55.280Z"
   },
   {
    "duration": 19,
    "start_time": "2022-12-15T16:02:55.290Z"
   },
   {
    "duration": 42,
    "start_time": "2022-12-15T16:02:55.311Z"
   },
   {
    "duration": 8,
    "start_time": "2022-12-15T16:02:55.355Z"
   },
   {
    "duration": 24,
    "start_time": "2022-12-15T16:02:55.365Z"
   },
   {
    "duration": 30,
    "start_time": "2022-12-15T16:02:55.391Z"
   },
   {
    "duration": 35,
    "start_time": "2022-12-15T16:02:55.422Z"
   },
   {
    "duration": 8,
    "start_time": "2022-12-15T16:02:55.458Z"
   },
   {
    "duration": 22,
    "start_time": "2022-12-15T16:02:55.467Z"
   },
   {
    "duration": 399,
    "start_time": "2022-12-15T16:02:55.490Z"
   },
   {
    "duration": 12,
    "start_time": "2022-12-15T16:02:55.891Z"
   },
   {
    "duration": 324,
    "start_time": "2022-12-15T16:02:55.905Z"
   },
   {
    "duration": 7,
    "start_time": "2022-12-15T16:02:56.231Z"
   },
   {
    "duration": 14,
    "start_time": "2022-12-15T16:02:56.239Z"
   },
   {
    "duration": 369,
    "start_time": "2022-12-15T16:02:56.255Z"
   },
   {
    "duration": 13,
    "start_time": "2022-12-15T16:02:56.626Z"
   },
   {
    "duration": 5,
    "start_time": "2022-12-15T16:02:56.653Z"
   },
   {
    "duration": 491,
    "start_time": "2022-12-15T16:02:56.660Z"
   },
   {
    "duration": 309,
    "start_time": "2022-12-15T16:02:57.152Z"
   },
   {
    "duration": 152,
    "start_time": "2022-12-15T16:02:57.463Z"
   },
   {
    "duration": 157,
    "start_time": "2022-12-15T16:02:57.616Z"
   },
   {
    "duration": 15,
    "start_time": "2022-12-15T16:02:57.775Z"
   },
   {
    "duration": 22,
    "start_time": "2022-12-15T16:02:57.792Z"
   },
   {
    "duration": 11,
    "start_time": "2022-12-15T16:02:57.816Z"
   },
   {
    "duration": 41,
    "start_time": "2022-12-15T16:02:57.829Z"
   },
   {
    "duration": 120,
    "start_time": "2022-12-15T16:02:57.872Z"
   },
   {
    "duration": 118,
    "start_time": "2022-12-15T16:02:57.993Z"
   },
   {
    "duration": 106,
    "start_time": "2022-12-15T16:02:58.113Z"
   },
   {
    "duration": 203,
    "start_time": "2022-12-15T16:02:58.220Z"
   },
   {
    "duration": 113,
    "start_time": "2022-12-15T16:02:58.424Z"
   },
   {
    "duration": 116,
    "start_time": "2022-12-15T16:02:58.538Z"
   },
   {
    "duration": 110,
    "start_time": "2022-12-15T16:02:58.656Z"
   },
   {
    "duration": 111,
    "start_time": "2022-12-15T16:02:58.768Z"
   },
   {
    "duration": 117,
    "start_time": "2022-12-15T16:02:58.881Z"
   },
   {
    "duration": 11,
    "start_time": "2022-12-15T16:02:59.000Z"
   },
   {
    "duration": 12,
    "start_time": "2022-12-15T16:02:59.012Z"
   },
   {
    "duration": 7,
    "start_time": "2022-12-15T16:02:59.027Z"
   },
   {
    "duration": 18,
    "start_time": "2022-12-15T16:02:59.035Z"
   },
   {
    "duration": 13,
    "start_time": "2022-12-15T16:02:59.055Z"
   },
   {
    "duration": 8,
    "start_time": "2022-12-15T16:02:59.069Z"
   },
   {
    "duration": 6,
    "start_time": "2022-12-15T16:02:59.079Z"
   },
   {
    "duration": 6,
    "start_time": "2022-12-15T16:02:59.087Z"
   },
   {
    "duration": 1458,
    "start_time": "2022-12-15T19:07:04.508Z"
   },
   {
    "duration": 110,
    "start_time": "2022-12-15T19:07:05.968Z"
   },
   {
    "duration": 27,
    "start_time": "2022-12-15T19:07:06.080Z"
   },
   {
    "duration": 24,
    "start_time": "2022-12-15T19:07:06.110Z"
   },
   {
    "duration": 791,
    "start_time": "2022-12-15T19:07:06.137Z"
   },
   {
    "duration": 4,
    "start_time": "2022-12-15T19:07:06.930Z"
   },
   {
    "duration": 29,
    "start_time": "2022-12-15T19:07:06.935Z"
   },
   {
    "duration": 7,
    "start_time": "2022-12-15T19:07:06.966Z"
   },
   {
    "duration": 27,
    "start_time": "2022-12-15T19:07:06.975Z"
   },
   {
    "duration": 12,
    "start_time": "2022-12-15T19:07:07.006Z"
   },
   {
    "duration": 36,
    "start_time": "2022-12-15T19:07:07.020Z"
   },
   {
    "duration": 11,
    "start_time": "2022-12-15T19:07:07.059Z"
   },
   {
    "duration": 20,
    "start_time": "2022-12-15T19:07:07.072Z"
   },
   {
    "duration": 30,
    "start_time": "2022-12-15T19:07:07.094Z"
   },
   {
    "duration": 32,
    "start_time": "2022-12-15T19:07:07.126Z"
   },
   {
    "duration": 17,
    "start_time": "2022-12-15T19:07:07.160Z"
   },
   {
    "duration": 30,
    "start_time": "2022-12-15T19:07:07.179Z"
   },
   {
    "duration": 11,
    "start_time": "2022-12-15T19:07:07.211Z"
   },
   {
    "duration": 8,
    "start_time": "2022-12-15T19:07:07.255Z"
   },
   {
    "duration": 18,
    "start_time": "2022-12-15T19:07:07.264Z"
   },
   {
    "duration": 389,
    "start_time": "2022-12-15T19:07:07.283Z"
   },
   {
    "duration": 14,
    "start_time": "2022-12-15T19:07:07.674Z"
   },
   {
    "duration": 340,
    "start_time": "2022-12-15T19:07:07.689Z"
   },
   {
    "duration": 11,
    "start_time": "2022-12-15T19:07:08.031Z"
   },
   {
    "duration": 23,
    "start_time": "2022-12-15T19:07:08.045Z"
   },
   {
    "duration": 411,
    "start_time": "2022-12-15T19:07:08.070Z"
   },
   {
    "duration": 13,
    "start_time": "2022-12-15T19:07:08.482Z"
   },
   {
    "duration": 4,
    "start_time": "2022-12-15T19:07:08.500Z"
   },
   {
    "duration": 545,
    "start_time": "2022-12-15T19:07:08.505Z"
   },
   {
    "duration": 348,
    "start_time": "2022-12-15T19:07:09.052Z"
   },
   {
    "duration": 171,
    "start_time": "2022-12-15T19:07:09.403Z"
   },
   {
    "duration": 170,
    "start_time": "2022-12-15T19:07:09.576Z"
   },
   {
    "duration": 22,
    "start_time": "2022-12-15T19:07:09.748Z"
   },
   {
    "duration": 38,
    "start_time": "2022-12-15T19:07:09.772Z"
   },
   {
    "duration": 12,
    "start_time": "2022-12-15T19:07:09.811Z"
   },
   {
    "duration": 38,
    "start_time": "2022-12-15T19:07:09.824Z"
   },
   {
    "duration": 121,
    "start_time": "2022-12-15T19:07:09.864Z"
   },
   {
    "duration": 135,
    "start_time": "2022-12-15T19:07:09.988Z"
   },
   {
    "duration": 136,
    "start_time": "2022-12-15T19:07:10.124Z"
   },
   {
    "duration": 228,
    "start_time": "2022-12-15T19:07:10.265Z"
   },
   {
    "duration": 132,
    "start_time": "2022-12-15T19:07:10.495Z"
   },
   {
    "duration": 128,
    "start_time": "2022-12-15T19:07:10.629Z"
   },
   {
    "duration": 115,
    "start_time": "2022-12-15T19:07:10.759Z"
   },
   {
    "duration": 120,
    "start_time": "2022-12-15T19:07:10.877Z"
   },
   {
    "duration": 115,
    "start_time": "2022-12-15T19:07:11.000Z"
   },
   {
    "duration": 10,
    "start_time": "2022-12-15T19:07:11.117Z"
   },
   {
    "duration": 11,
    "start_time": "2022-12-15T19:07:11.128Z"
   },
   {
    "duration": 19,
    "start_time": "2022-12-15T19:07:11.141Z"
   },
   {
    "duration": 21,
    "start_time": "2022-12-15T19:07:11.162Z"
   },
   {
    "duration": 31,
    "start_time": "2022-12-15T19:07:11.185Z"
   },
   {
    "duration": 12,
    "start_time": "2022-12-15T19:07:11.219Z"
   },
   {
    "duration": 18,
    "start_time": "2022-12-15T19:07:11.233Z"
   },
   {
    "duration": 11,
    "start_time": "2022-12-15T19:07:11.254Z"
   },
   {
    "duration": 99,
    "start_time": "2022-12-16T06:16:38.187Z"
   },
   {
    "duration": 43,
    "start_time": "2022-12-16T06:29:30.561Z"
   },
   {
    "duration": 1308,
    "start_time": "2022-12-16T06:29:41.014Z"
   },
   {
    "duration": 197,
    "start_time": "2022-12-16T06:29:42.324Z"
   },
   {
    "duration": 18,
    "start_time": "2022-12-16T06:29:42.522Z"
   },
   {
    "duration": 15,
    "start_time": "2022-12-16T06:29:42.541Z"
   },
   {
    "duration": 757,
    "start_time": "2022-12-16T06:29:42.558Z"
   },
   {
    "duration": 7,
    "start_time": "2022-12-16T06:29:43.316Z"
   },
   {
    "duration": 9,
    "start_time": "2022-12-16T06:29:43.325Z"
   },
   {
    "duration": 71,
    "start_time": "2022-12-16T06:29:43.335Z"
   },
   {
    "duration": 0,
    "start_time": "2022-12-16T06:29:43.408Z"
   },
   {
    "duration": 0,
    "start_time": "2022-12-16T06:29:43.409Z"
   },
   {
    "duration": 0,
    "start_time": "2022-12-16T06:29:43.410Z"
   },
   {
    "duration": 0,
    "start_time": "2022-12-16T06:29:43.412Z"
   },
   {
    "duration": 0,
    "start_time": "2022-12-16T06:29:43.412Z"
   },
   {
    "duration": 0,
    "start_time": "2022-12-16T06:29:43.414Z"
   },
   {
    "duration": 0,
    "start_time": "2022-12-16T06:29:43.415Z"
   },
   {
    "duration": 0,
    "start_time": "2022-12-16T06:29:43.415Z"
   },
   {
    "duration": 0,
    "start_time": "2022-12-16T06:29:43.416Z"
   },
   {
    "duration": 0,
    "start_time": "2022-12-16T06:29:43.417Z"
   },
   {
    "duration": 0,
    "start_time": "2022-12-16T06:29:43.418Z"
   },
   {
    "duration": 0,
    "start_time": "2022-12-16T06:29:43.419Z"
   },
   {
    "duration": 0,
    "start_time": "2022-12-16T06:29:43.420Z"
   },
   {
    "duration": 0,
    "start_time": "2022-12-16T06:29:43.421Z"
   },
   {
    "duration": 0,
    "start_time": "2022-12-16T06:29:43.421Z"
   },
   {
    "duration": 0,
    "start_time": "2022-12-16T06:29:43.422Z"
   },
   {
    "duration": 0,
    "start_time": "2022-12-16T06:29:43.423Z"
   },
   {
    "duration": 0,
    "start_time": "2022-12-16T06:29:43.424Z"
   },
   {
    "duration": 0,
    "start_time": "2022-12-16T06:29:43.425Z"
   },
   {
    "duration": 0,
    "start_time": "2022-12-16T06:29:43.426Z"
   },
   {
    "duration": 0,
    "start_time": "2022-12-16T06:29:43.427Z"
   },
   {
    "duration": 0,
    "start_time": "2022-12-16T06:29:43.427Z"
   },
   {
    "duration": 0,
    "start_time": "2022-12-16T06:29:43.428Z"
   },
   {
    "duration": 0,
    "start_time": "2022-12-16T06:29:43.429Z"
   },
   {
    "duration": 1,
    "start_time": "2022-12-16T06:29:43.429Z"
   },
   {
    "duration": 0,
    "start_time": "2022-12-16T06:29:43.430Z"
   },
   {
    "duration": 0,
    "start_time": "2022-12-16T06:29:43.431Z"
   },
   {
    "duration": 0,
    "start_time": "2022-12-16T06:29:43.432Z"
   },
   {
    "duration": 0,
    "start_time": "2022-12-16T06:29:43.433Z"
   },
   {
    "duration": 0,
    "start_time": "2022-12-16T06:29:43.435Z"
   },
   {
    "duration": 0,
    "start_time": "2022-12-16T06:29:43.435Z"
   },
   {
    "duration": 0,
    "start_time": "2022-12-16T06:29:43.436Z"
   },
   {
    "duration": 0,
    "start_time": "2022-12-16T06:29:43.438Z"
   },
   {
    "duration": 0,
    "start_time": "2022-12-16T06:29:43.438Z"
   },
   {
    "duration": 0,
    "start_time": "2022-12-16T06:29:43.439Z"
   },
   {
    "duration": 0,
    "start_time": "2022-12-16T06:29:43.440Z"
   },
   {
    "duration": 0,
    "start_time": "2022-12-16T06:29:43.441Z"
   },
   {
    "duration": 0,
    "start_time": "2022-12-16T06:29:43.442Z"
   },
   {
    "duration": 0,
    "start_time": "2022-12-16T06:29:43.443Z"
   },
   {
    "duration": 0,
    "start_time": "2022-12-16T06:29:43.444Z"
   },
   {
    "duration": 0,
    "start_time": "2022-12-16T06:29:43.445Z"
   },
   {
    "duration": 0,
    "start_time": "2022-12-16T06:29:43.446Z"
   },
   {
    "duration": 0,
    "start_time": "2022-12-16T06:29:43.447Z"
   },
   {
    "duration": 0,
    "start_time": "2022-12-16T06:29:43.448Z"
   },
   {
    "duration": 0,
    "start_time": "2022-12-16T06:29:43.449Z"
   },
   {
    "duration": 0,
    "start_time": "2022-12-16T06:29:43.450Z"
   },
   {
    "duration": 0,
    "start_time": "2022-12-16T06:29:43.451Z"
   },
   {
    "duration": 7,
    "start_time": "2022-12-16T06:30:11.191Z"
   },
   {
    "duration": 76,
    "start_time": "2022-12-16T06:30:24.104Z"
   },
   {
    "duration": 12,
    "start_time": "2022-12-16T06:33:37.116Z"
   },
   {
    "duration": 11,
    "start_time": "2022-12-16T06:33:46.946Z"
   },
   {
    "duration": 7,
    "start_time": "2022-12-16T06:33:49.529Z"
   },
   {
    "duration": 21,
    "start_time": "2022-12-16T06:34:14.088Z"
   },
   {
    "duration": 79,
    "start_time": "2022-12-16T06:35:26.906Z"
   },
   {
    "duration": 22,
    "start_time": "2022-12-16T06:36:06.649Z"
   },
   {
    "duration": 23,
    "start_time": "2022-12-16T06:36:12.972Z"
   },
   {
    "duration": 95,
    "start_time": "2022-12-16T06:38:39.766Z"
   },
   {
    "duration": 11,
    "start_time": "2022-12-16T06:38:57.643Z"
   },
   {
    "duration": 8,
    "start_time": "2022-12-16T06:39:11.152Z"
   },
   {
    "duration": 5,
    "start_time": "2022-12-16T06:39:17.763Z"
   },
   {
    "duration": 14,
    "start_time": "2022-12-16T06:39:26.506Z"
   },
   {
    "duration": 16,
    "start_time": "2022-12-16T06:40:36.920Z"
   },
   {
    "duration": 14,
    "start_time": "2022-12-16T06:40:41.575Z"
   },
   {
    "duration": 4,
    "start_time": "2022-12-16T06:41:01.924Z"
   },
   {
    "duration": 6,
    "start_time": "2022-12-16T06:41:04.075Z"
   },
   {
    "duration": 14,
    "start_time": "2022-12-16T06:41:06.525Z"
   },
   {
    "duration": 11,
    "start_time": "2022-12-16T06:42:19.166Z"
   },
   {
    "duration": 7,
    "start_time": "2022-12-16T06:42:21.610Z"
   },
   {
    "duration": 12,
    "start_time": "2022-12-16T06:42:25.648Z"
   },
   {
    "duration": 19,
    "start_time": "2022-12-16T06:42:28.848Z"
   },
   {
    "duration": 4,
    "start_time": "2022-12-16T06:43:37.018Z"
   },
   {
    "duration": 6,
    "start_time": "2022-12-16T06:43:44.705Z"
   },
   {
    "duration": 15,
    "start_time": "2022-12-16T06:43:52.951Z"
   },
   {
    "duration": 28,
    "start_time": "2022-12-16T06:43:54.963Z"
   },
   {
    "duration": 10,
    "start_time": "2022-12-16T06:45:54.315Z"
   },
   {
    "duration": 9,
    "start_time": "2022-12-16T06:46:08.783Z"
   },
   {
    "duration": 27,
    "start_time": "2022-12-16T06:46:20.405Z"
   },
   {
    "duration": 25,
    "start_time": "2022-12-16T06:46:26.404Z"
   },
   {
    "duration": 14,
    "start_time": "2022-12-16T07:06:12.508Z"
   },
   {
    "duration": 7,
    "start_time": "2022-12-16T07:06:24.373Z"
   },
   {
    "duration": 1133,
    "start_time": "2022-12-16T07:07:20.722Z"
   },
   {
    "duration": 17,
    "start_time": "2022-12-16T07:07:28.788Z"
   },
   {
    "duration": 420,
    "start_time": "2022-12-16T07:08:23.016Z"
   },
   {
    "duration": 572,
    "start_time": "2022-12-16T07:08:36.828Z"
   },
   {
    "duration": 13,
    "start_time": "2022-12-16T07:08:55.290Z"
   },
   {
    "duration": 11,
    "start_time": "2022-12-16T07:09:04.180Z"
   },
   {
    "duration": 5,
    "start_time": "2022-12-16T07:09:06.412Z"
   },
   {
    "duration": 485,
    "start_time": "2022-12-16T07:09:16.837Z"
   },
   {
    "duration": 448,
    "start_time": "2022-12-16T07:09:41.547Z"
   },
   {
    "duration": 318,
    "start_time": "2022-12-16T07:17:36.970Z"
   },
   {
    "duration": 219,
    "start_time": "2022-12-16T07:20:09.942Z"
   },
   {
    "duration": 300,
    "start_time": "2022-12-16T07:20:26.421Z"
   },
   {
    "duration": 13,
    "start_time": "2022-12-16T07:20:54.494Z"
   },
   {
    "duration": 5,
    "start_time": "2022-12-16T07:20:56.947Z"
   },
   {
    "duration": 403,
    "start_time": "2022-12-16T07:21:16.432Z"
   },
   {
    "duration": 461,
    "start_time": "2022-12-16T07:22:59.664Z"
   },
   {
    "duration": 168,
    "start_time": "2022-12-16T07:26:21.863Z"
   },
   {
    "duration": 364,
    "start_time": "2022-12-16T07:27:16.396Z"
   },
   {
    "duration": 309,
    "start_time": "2022-12-16T07:29:47.857Z"
   },
   {
    "duration": 225,
    "start_time": "2022-12-16T07:29:59.617Z"
   },
   {
    "duration": 368,
    "start_time": "2022-12-16T07:30:21.051Z"
   },
   {
    "duration": 308,
    "start_time": "2022-12-16T07:30:38.706Z"
   },
   {
    "duration": 541,
    "start_time": "2022-12-16T07:31:11.853Z"
   },
   {
    "duration": 555,
    "start_time": "2022-12-16T07:31:41.858Z"
   },
   {
    "duration": 534,
    "start_time": "2022-12-16T07:33:15.135Z"
   },
   {
    "duration": 537,
    "start_time": "2022-12-16T07:34:00.409Z"
   },
   {
    "duration": 442,
    "start_time": "2022-12-16T07:34:33.388Z"
   },
   {
    "duration": 557,
    "start_time": "2022-12-16T07:36:28.589Z"
   },
   {
    "duration": 499,
    "start_time": "2022-12-16T07:44:01.157Z"
   },
   {
    "duration": 487,
    "start_time": "2022-12-16T07:44:46.618Z"
   },
   {
    "duration": 383,
    "start_time": "2022-12-16T07:46:51.577Z"
   },
   {
    "duration": 317,
    "start_time": "2022-12-16T07:47:17.589Z"
   },
   {
    "duration": 162,
    "start_time": "2022-12-16T07:48:53.337Z"
   },
   {
    "duration": 157,
    "start_time": "2022-12-16T07:48:56.823Z"
   },
   {
    "duration": 15,
    "start_time": "2022-12-16T07:49:18.905Z"
   },
   {
    "duration": 20,
    "start_time": "2022-12-16T07:49:23.931Z"
   },
   {
    "duration": 16,
    "start_time": "2022-12-16T07:49:29.838Z"
   },
   {
    "duration": 22,
    "start_time": "2022-12-16T07:49:34.812Z"
   },
   {
    "duration": 117,
    "start_time": "2022-12-16T07:49:54.519Z"
   },
   {
    "duration": 227,
    "start_time": "2022-12-16T07:49:57.619Z"
   },
   {
    "duration": 104,
    "start_time": "2022-12-16T07:50:00.711Z"
   },
   {
    "duration": 127,
    "start_time": "2022-12-16T07:50:03.719Z"
   },
   {
    "duration": 115,
    "start_time": "2022-12-16T07:50:19.272Z"
   },
   {
    "duration": 118,
    "start_time": "2022-12-16T07:50:22.170Z"
   },
   {
    "duration": 110,
    "start_time": "2022-12-16T07:50:26.512Z"
   },
   {
    "duration": 108,
    "start_time": "2022-12-16T07:50:29.300Z"
   },
   {
    "duration": 107,
    "start_time": "2022-12-16T07:50:31.997Z"
   },
   {
    "duration": 11,
    "start_time": "2022-12-16T07:50:50.009Z"
   },
   {
    "duration": 7,
    "start_time": "2022-12-16T07:50:52.660Z"
   },
   {
    "duration": 4,
    "start_time": "2022-12-16T07:50:55.131Z"
   },
   {
    "duration": 5,
    "start_time": "2022-12-16T07:50:57.002Z"
   },
   {
    "duration": 12,
    "start_time": "2022-12-16T07:51:00.916Z"
   },
   {
    "duration": 7,
    "start_time": "2022-12-16T07:51:03.655Z"
   },
   {
    "duration": 5,
    "start_time": "2022-12-16T07:51:06.199Z"
   },
   {
    "duration": 5,
    "start_time": "2022-12-16T07:51:08.193Z"
   },
   {
    "duration": 1221,
    "start_time": "2022-12-16T07:51:48.218Z"
   },
   {
    "duration": 50,
    "start_time": "2022-12-16T07:51:49.441Z"
   },
   {
    "duration": 18,
    "start_time": "2022-12-16T07:51:49.493Z"
   },
   {
    "duration": 18,
    "start_time": "2022-12-16T07:51:49.513Z"
   },
   {
    "duration": 744,
    "start_time": "2022-12-16T07:51:49.532Z"
   },
   {
    "duration": 5,
    "start_time": "2022-12-16T07:51:50.277Z"
   },
   {
    "duration": 15,
    "start_time": "2022-12-16T07:51:50.283Z"
   },
   {
    "duration": 5,
    "start_time": "2022-12-16T07:51:50.300Z"
   },
   {
    "duration": 13,
    "start_time": "2022-12-16T07:51:50.326Z"
   },
   {
    "duration": 5,
    "start_time": "2022-12-16T07:51:50.343Z"
   },
   {
    "duration": 8,
    "start_time": "2022-12-16T07:51:50.350Z"
   },
   {
    "duration": 11,
    "start_time": "2022-12-16T07:51:50.360Z"
   },
   {
    "duration": 7,
    "start_time": "2022-12-16T07:51:50.373Z"
   },
   {
    "duration": 43,
    "start_time": "2022-12-16T07:51:50.382Z"
   },
   {
    "duration": 18,
    "start_time": "2022-12-16T07:51:50.427Z"
   },
   {
    "duration": 6,
    "start_time": "2022-12-16T07:51:50.447Z"
   },
   {
    "duration": 10,
    "start_time": "2022-12-16T07:51:50.455Z"
   },
   {
    "duration": 17,
    "start_time": "2022-12-16T07:51:50.467Z"
   },
   {
    "duration": 48,
    "start_time": "2022-12-16T07:51:50.486Z"
   },
   {
    "duration": 11,
    "start_time": "2022-12-16T07:51:50.535Z"
   },
   {
    "duration": 6,
    "start_time": "2022-12-16T07:51:50.548Z"
   },
   {
    "duration": 19,
    "start_time": "2022-12-16T07:51:50.555Z"
   },
   {
    "duration": 415,
    "start_time": "2022-12-16T07:51:50.575Z"
   },
   {
    "duration": 14,
    "start_time": "2022-12-16T07:51:50.992Z"
   },
   {
    "duration": 361,
    "start_time": "2022-12-16T07:51:51.008Z"
   },
   {
    "duration": 7,
    "start_time": "2022-12-16T07:51:51.371Z"
   },
   {
    "duration": 7,
    "start_time": "2022-12-16T07:51:51.380Z"
   },
   {
    "duration": 577,
    "start_time": "2022-12-16T07:51:51.391Z"
   },
   {
    "duration": 14,
    "start_time": "2022-12-16T07:51:51.970Z"
   },
   {
    "duration": 4,
    "start_time": "2022-12-16T07:51:51.986Z"
   },
   {
    "duration": 532,
    "start_time": "2022-12-16T07:51:51.992Z"
   },
   {
    "duration": 303,
    "start_time": "2022-12-16T07:51:52.526Z"
   },
   {
    "duration": 165,
    "start_time": "2022-12-16T07:51:52.831Z"
   },
   {
    "duration": 178,
    "start_time": "2022-12-16T07:51:52.998Z"
   },
   {
    "duration": 16,
    "start_time": "2022-12-16T07:51:53.178Z"
   },
   {
    "duration": 33,
    "start_time": "2022-12-16T07:51:53.196Z"
   },
   {
    "duration": 12,
    "start_time": "2022-12-16T07:51:53.231Z"
   },
   {
    "duration": 22,
    "start_time": "2022-12-16T07:51:53.244Z"
   },
   {
    "duration": 125,
    "start_time": "2022-12-16T07:51:53.268Z"
   },
   {
    "duration": 129,
    "start_time": "2022-12-16T07:51:53.395Z"
   },
   {
    "duration": 117,
    "start_time": "2022-12-16T07:51:53.526Z"
   },
   {
    "duration": 219,
    "start_time": "2022-12-16T07:51:53.645Z"
   },
   {
    "duration": 135,
    "start_time": "2022-12-16T07:51:53.866Z"
   },
   {
    "duration": 154,
    "start_time": "2022-12-16T07:51:54.003Z"
   },
   {
    "duration": 148,
    "start_time": "2022-12-16T07:51:54.159Z"
   },
   {
    "duration": 118,
    "start_time": "2022-12-16T07:51:54.309Z"
   },
   {
    "duration": 126,
    "start_time": "2022-12-16T07:51:54.429Z"
   },
   {
    "duration": 11,
    "start_time": "2022-12-16T07:51:54.556Z"
   },
   {
    "duration": 10,
    "start_time": "2022-12-16T07:51:54.570Z"
   },
   {
    "duration": 7,
    "start_time": "2022-12-16T07:51:54.582Z"
   },
   {
    "duration": 7,
    "start_time": "2022-12-16T07:51:54.590Z"
   },
   {
    "duration": 34,
    "start_time": "2022-12-16T07:51:54.599Z"
   },
   {
    "duration": 16,
    "start_time": "2022-12-16T07:51:54.634Z"
   },
   {
    "duration": 13,
    "start_time": "2022-12-16T07:51:54.652Z"
   },
   {
    "duration": 14,
    "start_time": "2022-12-16T07:51:54.666Z"
   },
   {
    "duration": 1375,
    "start_time": "2022-12-16T11:10:08.895Z"
   },
   {
    "duration": 207,
    "start_time": "2022-12-16T11:10:10.272Z"
   },
   {
    "duration": 20,
    "start_time": "2022-12-16T11:10:10.482Z"
   },
   {
    "duration": 75,
    "start_time": "2022-12-16T11:10:10.505Z"
   },
   {
    "duration": 825,
    "start_time": "2022-12-16T11:10:10.583Z"
   },
   {
    "duration": 5,
    "start_time": "2022-12-16T11:10:11.410Z"
   },
   {
    "duration": 39,
    "start_time": "2022-12-16T11:10:11.417Z"
   },
   {
    "duration": 19,
    "start_time": "2022-12-16T11:10:11.459Z"
   },
   {
    "duration": 50,
    "start_time": "2022-12-16T11:10:11.480Z"
   },
   {
    "duration": 23,
    "start_time": "2022-12-16T11:10:11.532Z"
   },
   {
    "duration": 18,
    "start_time": "2022-12-16T11:10:11.557Z"
   },
   {
    "duration": 46,
    "start_time": "2022-12-16T11:10:11.577Z"
   },
   {
    "duration": 55,
    "start_time": "2022-12-16T11:10:11.625Z"
   },
   {
    "duration": 63,
    "start_time": "2022-12-16T11:10:11.683Z"
   },
   {
    "duration": 41,
    "start_time": "2022-12-16T11:10:11.748Z"
   },
   {
    "duration": 49,
    "start_time": "2022-12-16T11:10:11.791Z"
   },
   {
    "duration": 61,
    "start_time": "2022-12-16T11:10:11.841Z"
   },
   {
    "duration": 47,
    "start_time": "2022-12-16T11:10:11.904Z"
   },
   {
    "duration": 58,
    "start_time": "2022-12-16T11:10:11.953Z"
   },
   {
    "duration": 25,
    "start_time": "2022-12-16T11:10:12.013Z"
   },
   {
    "duration": 42,
    "start_time": "2022-12-16T11:10:12.040Z"
   },
   {
    "duration": 45,
    "start_time": "2022-12-16T11:10:12.083Z"
   },
   {
    "duration": 401,
    "start_time": "2022-12-16T11:10:12.130Z"
   },
   {
    "duration": 12,
    "start_time": "2022-12-16T11:10:12.533Z"
   },
   {
    "duration": 349,
    "start_time": "2022-12-16T11:10:12.547Z"
   },
   {
    "duration": 8,
    "start_time": "2022-12-16T11:10:12.898Z"
   },
   {
    "duration": 38,
    "start_time": "2022-12-16T11:10:12.907Z"
   },
   {
    "duration": 540,
    "start_time": "2022-12-16T11:10:12.947Z"
   },
   {
    "duration": 15,
    "start_time": "2022-12-16T11:10:13.489Z"
   },
   {
    "duration": 40,
    "start_time": "2022-12-16T11:10:13.505Z"
   },
   {
    "duration": 549,
    "start_time": "2022-12-16T11:10:13.547Z"
   },
   {
    "duration": 383,
    "start_time": "2022-12-16T11:10:14.099Z"
   },
   {
    "duration": 193,
    "start_time": "2022-12-16T11:10:14.484Z"
   },
   {
    "duration": 211,
    "start_time": "2022-12-16T11:10:14.679Z"
   },
   {
    "duration": 18,
    "start_time": "2022-12-16T11:10:14.892Z"
   },
   {
    "duration": 72,
    "start_time": "2022-12-16T11:10:14.912Z"
   },
   {
    "duration": 90,
    "start_time": "2022-12-16T11:10:14.986Z"
   },
   {
    "duration": 59,
    "start_time": "2022-12-16T11:10:15.078Z"
   },
   {
    "duration": 168,
    "start_time": "2022-12-16T11:10:15.139Z"
   },
   {
    "duration": 122,
    "start_time": "2022-12-16T11:10:15.308Z"
   },
   {
    "duration": 125,
    "start_time": "2022-12-16T11:10:15.433Z"
   },
   {
    "duration": 228,
    "start_time": "2022-12-16T11:10:15.560Z"
   },
   {
    "duration": 117,
    "start_time": "2022-12-16T11:10:15.790Z"
   },
   {
    "duration": 130,
    "start_time": "2022-12-16T11:10:15.909Z"
   },
   {
    "duration": 118,
    "start_time": "2022-12-16T11:10:16.041Z"
   },
   {
    "duration": 130,
    "start_time": "2022-12-16T11:10:16.161Z"
   },
   {
    "duration": 116,
    "start_time": "2022-12-16T11:10:16.293Z"
   },
   {
    "duration": 11,
    "start_time": "2022-12-16T11:10:16.411Z"
   },
   {
    "duration": 15,
    "start_time": "2022-12-16T11:10:16.423Z"
   },
   {
    "duration": 11,
    "start_time": "2022-12-16T11:10:16.439Z"
   },
   {
    "duration": 8,
    "start_time": "2022-12-16T11:10:16.452Z"
   },
   {
    "duration": 14,
    "start_time": "2022-12-16T11:10:16.479Z"
   },
   {
    "duration": 8,
    "start_time": "2022-12-16T11:10:16.495Z"
   },
   {
    "duration": 10,
    "start_time": "2022-12-16T11:10:16.505Z"
   },
   {
    "duration": 11,
    "start_time": "2022-12-16T11:10:16.517Z"
   },
   {
    "duration": 109,
    "start_time": "2022-12-16T11:11:50.374Z"
   },
   {
    "duration": 691,
    "start_time": "2022-12-16T11:15:06.949Z"
   },
   {
    "duration": 343,
    "start_time": "2022-12-16T11:16:09.389Z"
   },
   {
    "duration": 280,
    "start_time": "2022-12-16T11:16:25.008Z"
   },
   {
    "duration": 323,
    "start_time": "2022-12-16T11:16:34.411Z"
   },
   {
    "duration": 273,
    "start_time": "2022-12-16T11:18:20.754Z"
   },
   {
    "duration": 378,
    "start_time": "2022-12-16T11:25:46.720Z"
   },
   {
    "duration": 276,
    "start_time": "2022-12-16T11:26:05.197Z"
   },
   {
    "duration": 376,
    "start_time": "2022-12-16T11:26:22.237Z"
   },
   {
    "duration": 285,
    "start_time": "2022-12-16T11:26:24.775Z"
   },
   {
    "duration": 269,
    "start_time": "2022-12-16T11:27:19.228Z"
   },
   {
    "duration": 282,
    "start_time": "2022-12-16T11:27:39.686Z"
   },
   {
    "duration": 367,
    "start_time": "2022-12-16T11:28:07.530Z"
   },
   {
    "duration": 370,
    "start_time": "2022-12-16T11:28:32.060Z"
   },
   {
    "duration": 275,
    "start_time": "2022-12-16T11:31:49.004Z"
   },
   {
    "duration": 3,
    "start_time": "2022-12-16T11:34:12.985Z"
   },
   {
    "duration": 50,
    "start_time": "2022-12-16T11:34:15.095Z"
   },
   {
    "duration": 14,
    "start_time": "2022-12-16T11:34:17.607Z"
   },
   {
    "duration": 16,
    "start_time": "2022-12-16T11:34:19.715Z"
   },
   {
    "duration": 5,
    "start_time": "2022-12-16T11:34:24.862Z"
   },
   {
    "duration": 6,
    "start_time": "2022-12-16T11:34:26.796Z"
   },
   {
    "duration": 6,
    "start_time": "2022-12-16T11:34:29.203Z"
   },
   {
    "duration": 22,
    "start_time": "2022-12-16T11:34:31.580Z"
   },
   {
    "duration": 6,
    "start_time": "2022-12-16T11:34:33.912Z"
   },
   {
    "duration": 6,
    "start_time": "2022-12-16T11:35:38.313Z"
   },
   {
    "duration": 12,
    "start_time": "2022-12-16T11:36:07.038Z"
   },
   {
    "duration": 7,
    "start_time": "2022-12-16T11:36:09.112Z"
   },
   {
    "duration": 11,
    "start_time": "2022-12-16T11:36:11.855Z"
   },
   {
    "duration": 18,
    "start_time": "2022-12-16T11:36:13.715Z"
   },
   {
    "duration": 6,
    "start_time": "2022-12-16T11:36:20.029Z"
   },
   {
    "duration": 3,
    "start_time": "2022-12-16T11:36:48.364Z"
   },
   {
    "duration": 70,
    "start_time": "2022-12-16T11:36:48.369Z"
   },
   {
    "duration": 14,
    "start_time": "2022-12-16T11:36:48.440Z"
   },
   {
    "duration": 24,
    "start_time": "2022-12-16T11:36:48.456Z"
   },
   {
    "duration": 719,
    "start_time": "2022-12-16T11:36:48.481Z"
   },
   {
    "duration": 3,
    "start_time": "2022-12-16T11:36:49.203Z"
   },
   {
    "duration": 31,
    "start_time": "2022-12-16T11:36:49.208Z"
   },
   {
    "duration": 8,
    "start_time": "2022-12-16T11:36:49.240Z"
   },
   {
    "duration": 20,
    "start_time": "2022-12-16T11:36:49.251Z"
   },
   {
    "duration": 4,
    "start_time": "2022-12-16T11:36:49.273Z"
   },
   {
    "duration": 11,
    "start_time": "2022-12-16T11:36:49.279Z"
   },
   {
    "duration": 15,
    "start_time": "2022-12-16T11:36:49.292Z"
   },
   {
    "duration": 6,
    "start_time": "2022-12-16T11:36:49.309Z"
   },
   {
    "duration": 14,
    "start_time": "2022-12-16T11:36:49.317Z"
   },
   {
    "duration": 16,
    "start_time": "2022-12-16T11:36:49.333Z"
   },
   {
    "duration": 6,
    "start_time": "2022-12-16T11:36:49.351Z"
   },
   {
    "duration": 22,
    "start_time": "2022-12-16T11:36:49.358Z"
   },
   {
    "duration": 21,
    "start_time": "2022-12-16T11:36:49.382Z"
   },
   {
    "duration": 25,
    "start_time": "2022-12-16T11:36:49.404Z"
   },
   {
    "duration": 11,
    "start_time": "2022-12-16T11:36:49.430Z"
   },
   {
    "duration": 12,
    "start_time": "2022-12-16T11:36:49.443Z"
   },
   {
    "duration": 39,
    "start_time": "2022-12-16T11:36:49.456Z"
   },
   {
    "duration": 341,
    "start_time": "2022-12-16T11:36:49.496Z"
   },
   {
    "duration": 11,
    "start_time": "2022-12-16T11:36:49.840Z"
   },
   {
    "duration": 319,
    "start_time": "2022-12-16T11:36:49.852Z"
   },
   {
    "duration": 10,
    "start_time": "2022-12-16T11:36:50.173Z"
   },
   {
    "duration": 7,
    "start_time": "2022-12-16T11:36:50.184Z"
   },
   {
    "duration": 532,
    "start_time": "2022-12-16T11:36:50.192Z"
   },
   {
    "duration": 14,
    "start_time": "2022-12-16T11:36:50.726Z"
   },
   {
    "duration": 11,
    "start_time": "2022-12-16T11:36:50.741Z"
   },
   {
    "duration": 485,
    "start_time": "2022-12-16T11:36:50.754Z"
   },
   {
    "duration": 319,
    "start_time": "2022-12-16T11:36:51.241Z"
   },
   {
    "duration": 163,
    "start_time": "2022-12-16T11:36:51.562Z"
   },
   {
    "duration": 156,
    "start_time": "2022-12-16T11:36:51.727Z"
   },
   {
    "duration": 16,
    "start_time": "2022-12-16T11:36:51.884Z"
   },
   {
    "duration": 43,
    "start_time": "2022-12-16T11:36:51.901Z"
   },
   {
    "duration": 12,
    "start_time": "2022-12-16T11:36:51.946Z"
   },
   {
    "duration": 24,
    "start_time": "2022-12-16T11:36:51.960Z"
   },
   {
    "duration": 273,
    "start_time": "2022-12-16T11:36:51.985Z"
   },
   {
    "duration": 400,
    "start_time": "2022-12-16T11:36:52.259Z"
   },
   {
    "duration": 278,
    "start_time": "2022-12-16T11:36:52.661Z"
   },
   {
    "duration": 12,
    "start_time": "2022-12-16T11:36:52.940Z"
   },
   {
    "duration": 10,
    "start_time": "2022-12-16T11:36:52.953Z"
   },
   {
    "duration": 16,
    "start_time": "2022-12-16T11:36:52.964Z"
   },
   {
    "duration": 9,
    "start_time": "2022-12-16T11:36:52.982Z"
   },
   {
    "duration": 17,
    "start_time": "2022-12-16T11:36:52.992Z"
   },
   {
    "duration": 8,
    "start_time": "2022-12-16T11:36:53.011Z"
   },
   {
    "duration": 10,
    "start_time": "2022-12-16T11:36:53.020Z"
   },
   {
    "duration": 6,
    "start_time": "2022-12-16T11:36:53.031Z"
   },
   {
    "duration": 3,
    "start_time": "2022-12-16T11:37:06.486Z"
   },
   {
    "duration": 52,
    "start_time": "2022-12-16T11:37:07.906Z"
   },
   {
    "duration": 14,
    "start_time": "2022-12-16T11:37:09.959Z"
   },
   {
    "duration": 13,
    "start_time": "2022-12-16T11:37:15.511Z"
   },
   {
    "duration": 4,
    "start_time": "2022-12-16T11:37:21.255Z"
   },
   {
    "duration": 6,
    "start_time": "2022-12-16T11:37:23.562Z"
   },
   {
    "duration": 5,
    "start_time": "2022-12-16T11:37:26.182Z"
   },
   {
    "duration": 14,
    "start_time": "2022-12-16T11:37:30.497Z"
   },
   {
    "duration": 5,
    "start_time": "2022-12-16T11:37:37.323Z"
   },
   {
    "duration": 5,
    "start_time": "2022-12-16T11:37:39.476Z"
   },
   {
    "duration": 10,
    "start_time": "2022-12-16T11:37:43.384Z"
   },
   {
    "duration": 7,
    "start_time": "2022-12-16T11:37:45.842Z"
   },
   {
    "duration": 11,
    "start_time": "2022-12-16T11:37:48.701Z"
   },
   {
    "duration": 18,
    "start_time": "2022-12-16T11:37:57.692Z"
   },
   {
    "duration": 7,
    "start_time": "2022-12-16T11:38:01.893Z"
   },
   {
    "duration": 14,
    "start_time": "2022-12-16T11:38:11.747Z"
   },
   {
    "duration": 29,
    "start_time": "2022-12-16T11:38:13.764Z"
   },
   {
    "duration": 11,
    "start_time": "2022-12-16T11:38:20.271Z"
   },
   {
    "duration": 7,
    "start_time": "2022-12-16T11:38:23.176Z"
   },
   {
    "duration": 18,
    "start_time": "2022-12-16T11:38:26.418Z"
   },
   {
    "duration": 371,
    "start_time": "2022-12-16T11:38:31.404Z"
   },
   {
    "duration": 25,
    "start_time": "2022-12-16T11:38:34.946Z"
   },
   {
    "duration": 352,
    "start_time": "2022-12-16T11:38:36.910Z"
   },
   {
    "duration": 8,
    "start_time": "2022-12-16T11:38:39.847Z"
   },
   {
    "duration": 5,
    "start_time": "2022-12-16T11:38:41.940Z"
   },
   {
    "duration": 444,
    "start_time": "2022-12-16T11:38:44.859Z"
   },
   {
    "duration": 14,
    "start_time": "2022-12-16T11:38:53.007Z"
   },
   {
    "duration": 4,
    "start_time": "2022-12-16T11:38:58.595Z"
   },
   {
    "duration": 268,
    "start_time": "2022-12-16T11:39:29.413Z"
   },
   {
    "duration": 173,
    "start_time": "2022-12-16T11:39:37.900Z"
   },
   {
    "duration": 237,
    "start_time": "2022-12-16T11:39:40.072Z"
   },
   {
    "duration": 17,
    "start_time": "2022-12-16T11:40:24.962Z"
   },
   {
    "duration": 19,
    "start_time": "2022-12-16T11:40:27.908Z"
   },
   {
    "duration": 12,
    "start_time": "2022-12-16T11:40:35.412Z"
   },
   {
    "duration": 25,
    "start_time": "2022-12-16T11:40:38.343Z"
   },
   {
    "duration": 88,
    "start_time": "2022-12-16T11:41:28.476Z"
   },
   {
    "duration": 66,
    "start_time": "2022-12-16T11:41:40.730Z"
   },
   {
    "duration": 1218,
    "start_time": "2022-12-16T11:41:52.260Z"
   },
   {
    "duration": 83,
    "start_time": "2022-12-16T11:42:08.885Z"
   },
   {
    "duration": 26,
    "start_time": "2022-12-16T11:42:14.020Z"
   },
   {
    "duration": 26,
    "start_time": "2022-12-16T11:44:52.906Z"
   },
   {
    "duration": 20,
    "start_time": "2022-12-16T11:45:21.036Z"
   },
   {
    "duration": 20,
    "start_time": "2022-12-16T11:45:45.077Z"
   },
   {
    "duration": 263,
    "start_time": "2022-12-16T11:46:38.028Z"
   },
   {
    "duration": 282,
    "start_time": "2022-12-16T11:46:40.552Z"
   },
   {
    "duration": 271,
    "start_time": "2022-12-16T11:46:43.525Z"
   },
   {
    "duration": 11,
    "start_time": "2022-12-16T11:47:08.714Z"
   },
   {
    "duration": 9,
    "start_time": "2022-12-16T11:47:36.548Z"
   },
   {
    "duration": 137,
    "start_time": "2022-12-16T11:47:40.642Z"
   },
   {
    "duration": 149,
    "start_time": "2022-12-16T11:48:04.783Z"
   },
   {
    "duration": 143,
    "start_time": "2022-12-16T11:50:51.691Z"
   },
   {
    "duration": 152,
    "start_time": "2022-12-16T11:51:32.986Z"
   },
   {
    "duration": 255,
    "start_time": "2022-12-16T11:51:37.385Z"
   },
   {
    "duration": 136,
    "start_time": "2022-12-16T11:51:49.625Z"
   },
   {
    "duration": 360,
    "start_time": "2022-12-16T11:54:14.773Z"
   },
   {
    "duration": 172,
    "start_time": "2022-12-16T11:54:28.515Z"
   },
   {
    "duration": 188,
    "start_time": "2022-12-16T11:54:33.362Z"
   },
   {
    "duration": 332,
    "start_time": "2022-12-16T11:54:43.271Z"
   },
   {
    "duration": 315,
    "start_time": "2022-12-16T11:55:59.038Z"
   },
   {
    "duration": 458,
    "start_time": "2022-12-16T12:00:19.077Z"
   },
   {
    "duration": 358,
    "start_time": "2022-12-16T12:15:09.064Z"
   },
   {
    "duration": 331,
    "start_time": "2022-12-16T12:15:57.247Z"
   },
   {
    "duration": 3,
    "start_time": "2022-12-16T12:22:35.147Z"
   },
   {
    "duration": 60,
    "start_time": "2022-12-16T12:22:35.152Z"
   },
   {
    "duration": 17,
    "start_time": "2022-12-16T12:22:35.215Z"
   },
   {
    "duration": 20,
    "start_time": "2022-12-16T12:22:35.234Z"
   },
   {
    "duration": 883,
    "start_time": "2022-12-16T12:22:35.257Z"
   },
   {
    "duration": 4,
    "start_time": "2022-12-16T12:22:36.142Z"
   },
   {
    "duration": 20,
    "start_time": "2022-12-16T12:22:36.148Z"
   },
   {
    "duration": 12,
    "start_time": "2022-12-16T12:22:36.170Z"
   },
   {
    "duration": 29,
    "start_time": "2022-12-16T12:22:36.184Z"
   },
   {
    "duration": 8,
    "start_time": "2022-12-16T12:22:36.214Z"
   },
   {
    "duration": 35,
    "start_time": "2022-12-16T12:22:36.225Z"
   },
   {
    "duration": 40,
    "start_time": "2022-12-16T12:22:36.261Z"
   },
   {
    "duration": 34,
    "start_time": "2022-12-16T12:22:36.303Z"
   },
   {
    "duration": 23,
    "start_time": "2022-12-16T12:22:36.339Z"
   },
   {
    "duration": 30,
    "start_time": "2022-12-16T12:22:36.364Z"
   },
   {
    "duration": 14,
    "start_time": "2022-12-16T12:22:36.396Z"
   },
   {
    "duration": 28,
    "start_time": "2022-12-16T12:22:36.413Z"
   },
   {
    "duration": 31,
    "start_time": "2022-12-16T12:22:36.443Z"
   },
   {
    "duration": 34,
    "start_time": "2022-12-16T12:22:36.475Z"
   },
   {
    "duration": 13,
    "start_time": "2022-12-16T12:22:36.511Z"
   },
   {
    "duration": 8,
    "start_time": "2022-12-16T12:22:36.526Z"
   },
   {
    "duration": 47,
    "start_time": "2022-12-16T12:22:36.536Z"
   },
   {
    "duration": 433,
    "start_time": "2022-12-16T12:22:36.585Z"
   },
   {
    "duration": 13,
    "start_time": "2022-12-16T12:22:37.020Z"
   },
   {
    "duration": 488,
    "start_time": "2022-12-16T12:22:37.035Z"
   },
   {
    "duration": 9,
    "start_time": "2022-12-16T12:22:37.525Z"
   },
   {
    "duration": 17,
    "start_time": "2022-12-16T12:22:37.536Z"
   },
   {
    "duration": 554,
    "start_time": "2022-12-16T12:22:37.555Z"
   },
   {
    "duration": 14,
    "start_time": "2022-12-16T12:22:38.113Z"
   },
   {
    "duration": 17,
    "start_time": "2022-12-16T12:22:38.129Z"
   },
   {
    "duration": 479,
    "start_time": "2022-12-16T12:22:38.148Z"
   },
   {
    "duration": 340,
    "start_time": "2022-12-16T12:22:38.629Z"
   },
   {
    "duration": 161,
    "start_time": "2022-12-16T12:22:38.979Z"
   },
   {
    "duration": 168,
    "start_time": "2022-12-16T12:22:39.142Z"
   },
   {
    "duration": 23,
    "start_time": "2022-12-16T12:22:39.312Z"
   },
   {
    "duration": 58,
    "start_time": "2022-12-16T12:22:39.337Z"
   },
   {
    "duration": 29,
    "start_time": "2022-12-16T12:22:39.397Z"
   },
   {
    "duration": 22,
    "start_time": "2022-12-16T12:22:39.428Z"
   },
   {
    "duration": 515,
    "start_time": "2022-12-16T12:22:39.452Z"
   },
   {
    "duration": 307,
    "start_time": "2022-12-16T12:22:39.969Z"
   },
   {
    "duration": 293,
    "start_time": "2022-12-16T12:22:40.278Z"
   },
   {
    "duration": 15,
    "start_time": "2022-12-16T12:22:40.573Z"
   },
   {
    "duration": 361,
    "start_time": "2022-12-16T12:22:40.590Z"
   },
   {
    "duration": 9,
    "start_time": "2022-12-16T12:22:40.953Z"
   },
   {
    "duration": 15,
    "start_time": "2022-12-16T12:22:40.964Z"
   },
   {
    "duration": 10,
    "start_time": "2022-12-16T12:22:40.981Z"
   },
   {
    "duration": 23,
    "start_time": "2022-12-16T12:22:40.993Z"
   },
   {
    "duration": 326,
    "start_time": "2022-12-16T12:22:41.017Z"
   },
   {
    "duration": 7,
    "start_time": "2022-12-16T12:22:41.345Z"
   },
   {
    "duration": 23,
    "start_time": "2022-12-16T12:22:41.353Z"
   },
   {
    "duration": 7,
    "start_time": "2022-12-16T12:22:41.378Z"
   },
   {
    "duration": 177,
    "start_time": "2022-12-16T12:23:18.977Z"
   },
   {
    "duration": 339,
    "start_time": "2022-12-16T12:23:32.613Z"
   },
   {
    "duration": 13,
    "start_time": "2022-12-16T12:23:37.319Z"
   }
  ],
  "kernelspec": {
   "display_name": "Python 3 (ipykernel)",
   "language": "python",
   "name": "python3"
  },
  "language_info": {
   "codemirror_mode": {
    "name": "ipython",
    "version": 3
   },
   "file_extension": ".py",
   "mimetype": "text/x-python",
   "name": "python",
   "nbconvert_exporter": "python",
   "pygments_lexer": "ipython3",
   "version": "3.9.5"
  },
  "toc": {
   "base_numbering": 1,
   "nav_menu": {},
   "number_sections": true,
   "sideBar": true,
   "skip_h1_title": true,
   "title_cell": "Table of Contents",
   "title_sidebar": "Contents",
   "toc_cell": false,
   "toc_position": {
    "height": "calc(100% - 180px)",
    "left": "10px",
    "top": "150px",
    "width": "255.398px"
   },
   "toc_section_display": true,
   "toc_window_display": false
  }
 },
 "nbformat": 4,
 "nbformat_minor": 2
}
