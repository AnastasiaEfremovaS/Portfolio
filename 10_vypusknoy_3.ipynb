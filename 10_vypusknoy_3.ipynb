{
 "cells": [
  {
   "cell_type": "markdown",
   "id": "0368b68d",
   "metadata": {},
   "source": [
    "<div class=\"alert alert-info\">\n",
    "Привет, Анастасия! Меня зовут Светлана и я буду проверять твой проект. Моя основная цель — не указать на совершенные тобою ошибки, а поделиться своим опытом и помочь тебе. Предлагаю общаться на «ты». Но если это не удобно - дай знать, и мы перейдем на «вы».\n",
    "\n",
    "<div class=\"alert alert-success\">\n",
    "<b>👍 Успех:</b> Зелёным цветом отмечены удачные и элегантные решения, на которые можно опираться в будущих проектах.\n",
    "</div>\n",
    "<div class=\"alert alert-warning\">\n",
    "<b>🤔 Рекомендация:</b> Жёлтым цветом выделено то, что в следующий раз можно сделать по-другому. Ты можешь учесть эти комментарии при выполнении будущих заданий или доработать проект сейчас (однако это не обязательно).\n",
    "</div>\n",
    "<div class=\"alert alert-danger\">\n",
    "<b>😔 Необходимо исправить:</b> Красным цветом выделены комментарии, без исправления которых, я не смогу принять проект :(\n",
    "</div>\n",
    "<div class=\"alert alert-info\">\n",
    "<b>👂 Совет:</b> Какие-то дополнительные материалы\n",
    "</div>\n",
    "Давай работать над проектом в диалоге: если ты что-то меняешь в проекте по моим рекомендациям — пиши об этом.\n",
    "Мне будет легче отследить изменения, если ты выделишь свои комментарии:\n",
    "<div class=\"alert alert-info\"> <b>🎓 Комментарий студента:</b> Например, вот так.</div>\n",
    "Пожалуйста, не перемещай, не изменяй и не удаляй мои комментарии. Всё это поможет выполнить повторную проверку твоего проекта быстрее.\n",
    " </div>"
   ]
  },
  {
   "cell_type": "markdown",
   "id": "80506a57",
   "metadata": {},
   "source": [
    "# ПРОЕКТ SQL: ЧТЕНИЕ ПО ПОДПИСКЕ"
   ]
  },
  {
   "cell_type": "markdown",
   "id": "f5561ce5",
   "metadata": {},
   "source": [
    "Цель проекта: сформулировать ценностное предложение для нового продукта для сервиса чтения книг по подписке.\n",
    "\n",
    "Для этого нам предоставлена база данных с информацией о книгах, издательствах, авторах, пользовательских обзоров книг, уже имеющихся в купленном сервисе.\n",
    "\n",
    "Для начала импортируем необходимые библиотеки и напишем путь к базе данных"
   ]
  },
  {
   "cell_type": "code",
   "execution_count": 1,
   "id": "6095ea4d",
   "metadata": {},
   "outputs": [],
   "source": [
    "#lets import necessary libraries\n",
    "import pandas as pd\n",
    "from sqlalchemy import text, create_engine\n",
    "from PIL import Image\n",
    "\n",
    "#set parameters\n",
    "db_config = {'user': 'praktikum_student', #user name\n",
    "'pwd': 'Sdf4$2;d-d30pp', # password\n",
    "'host': 'rc1b-wcoijxj3yxfsf3fs.mdb.yandexcloud.net', #host\n",
    "'port': 6432, #connection port\n",
    "'db': 'data-analyst-final-project-db'} #database name\n",
    "connection_string = 'postgresql://{user}:{pwd}@{host}:{port}/{db}'.format(**db_config)\n",
    "#save connector\n",
    "engine = create_engine(connection_string, connect_args={'sslmode':'require'})"
   ]
  },
  {
   "cell_type": "markdown",
   "id": "12107e8e",
   "metadata": {},
   "source": [
    " Посмотрим первые 5 строк всех таблиц из базы данных:\n",
    " **Таблица `books`**\n",
    "\n",
    "Содержит данные о книгах:\n",
    "\n",
    "- `book_id` — идентификатор книги;\n",
    "- `author_id` — идентификатор автора;\n",
    "- `title` — название книги;\n",
    "- `num_pages` — количество страниц;\n",
    "- `publication_date` — дата публикации книги;\n",
    "- `publisher_id` — идентификатор издателя."
   ]
  },
  {
   "cell_type": "code",
   "execution_count": 2,
   "id": "86394926",
   "metadata": {},
   "outputs": [
    {
     "data": {
      "text/html": [
       "<div>\n",
       "<style scoped>\n",
       "    .dataframe tbody tr th:only-of-type {\n",
       "        vertical-align: middle;\n",
       "    }\n",
       "\n",
       "    .dataframe tbody tr th {\n",
       "        vertical-align: top;\n",
       "    }\n",
       "\n",
       "    .dataframe thead th {\n",
       "        text-align: right;\n",
       "    }\n",
       "</style>\n",
       "<table border=\"1\" class=\"dataframe\">\n",
       "  <thead>\n",
       "    <tr style=\"text-align: right;\">\n",
       "      <th></th>\n",
       "      <th>book_id</th>\n",
       "      <th>author_id</th>\n",
       "      <th>title</th>\n",
       "      <th>num_pages</th>\n",
       "      <th>publication_date</th>\n",
       "      <th>publisher_id</th>\n",
       "    </tr>\n",
       "  </thead>\n",
       "  <tbody>\n",
       "    <tr>\n",
       "      <th>0</th>\n",
       "      <td>1</td>\n",
       "      <td>546</td>\n",
       "      <td>'Salem's Lot</td>\n",
       "      <td>594</td>\n",
       "      <td>2005-11-01</td>\n",
       "      <td>93</td>\n",
       "    </tr>\n",
       "    <tr>\n",
       "      <th>1</th>\n",
       "      <td>2</td>\n",
       "      <td>465</td>\n",
       "      <td>1 000 Places to See Before You Die</td>\n",
       "      <td>992</td>\n",
       "      <td>2003-05-22</td>\n",
       "      <td>336</td>\n",
       "    </tr>\n",
       "    <tr>\n",
       "      <th>2</th>\n",
       "      <td>3</td>\n",
       "      <td>407</td>\n",
       "      <td>13 Little Blue Envelopes (Little Blue Envelope...</td>\n",
       "      <td>322</td>\n",
       "      <td>2010-12-21</td>\n",
       "      <td>135</td>\n",
       "    </tr>\n",
       "    <tr>\n",
       "      <th>3</th>\n",
       "      <td>4</td>\n",
       "      <td>82</td>\n",
       "      <td>1491: New Revelations of the Americas Before C...</td>\n",
       "      <td>541</td>\n",
       "      <td>2006-10-10</td>\n",
       "      <td>309</td>\n",
       "    </tr>\n",
       "    <tr>\n",
       "      <th>4</th>\n",
       "      <td>5</td>\n",
       "      <td>125</td>\n",
       "      <td>1776</td>\n",
       "      <td>386</td>\n",
       "      <td>2006-07-04</td>\n",
       "      <td>268</td>\n",
       "    </tr>\n",
       "  </tbody>\n",
       "</table>\n",
       "</div>"
      ],
      "text/plain": [
       "   book_id  author_id                                              title  \\\n",
       "0        1        546                                       'Salem's Lot   \n",
       "1        2        465                 1 000 Places to See Before You Die   \n",
       "2        3        407  13 Little Blue Envelopes (Little Blue Envelope...   \n",
       "3        4         82  1491: New Revelations of the Americas Before C...   \n",
       "4        5        125                                               1776   \n",
       "\n",
       "   num_pages publication_date  publisher_id  \n",
       "0        594       2005-11-01            93  \n",
       "1        992       2003-05-22           336  \n",
       "2        322       2010-12-21           135  \n",
       "3        541       2006-10-10           309  \n",
       "4        386       2006-07-04           268  "
      ]
     },
     "execution_count": 2,
     "metadata": {},
     "output_type": "execute_result"
    }
   ],
   "source": [
    "query = '''SELECT *\n",
    "             FROM books\n",
    "             limit 5'''\n",
    "con=engine.connect()\n",
    "pd.io.sql.read_sql(sql=text(query), con = con)"
   ]
  },
  {
   "cell_type": "markdown",
   "id": "d544ade2",
   "metadata": {},
   "source": [
    "**Таблица `authors`**\n",
    "\n",
    "Содержит данные об авторах:\n",
    "\n",
    "- `author_id` — идентификатор автора;\n",
    "- `author` — имя автора."
   ]
  },
  {
   "cell_type": "code",
   "execution_count": 3,
   "id": "6d8522a9",
   "metadata": {},
   "outputs": [
    {
     "data": {
      "text/html": [
       "<div>\n",
       "<style scoped>\n",
       "    .dataframe tbody tr th:only-of-type {\n",
       "        vertical-align: middle;\n",
       "    }\n",
       "\n",
       "    .dataframe tbody tr th {\n",
       "        vertical-align: top;\n",
       "    }\n",
       "\n",
       "    .dataframe thead th {\n",
       "        text-align: right;\n",
       "    }\n",
       "</style>\n",
       "<table border=\"1\" class=\"dataframe\">\n",
       "  <thead>\n",
       "    <tr style=\"text-align: right;\">\n",
       "      <th></th>\n",
       "      <th>author_id</th>\n",
       "      <th>author</th>\n",
       "    </tr>\n",
       "  </thead>\n",
       "  <tbody>\n",
       "    <tr>\n",
       "      <th>0</th>\n",
       "      <td>1</td>\n",
       "      <td>A.S. Byatt</td>\n",
       "    </tr>\n",
       "    <tr>\n",
       "      <th>1</th>\n",
       "      <td>2</td>\n",
       "      <td>Aesop/Laura Harris/Laura Gibbs</td>\n",
       "    </tr>\n",
       "    <tr>\n",
       "      <th>2</th>\n",
       "      <td>3</td>\n",
       "      <td>Agatha Christie</td>\n",
       "    </tr>\n",
       "    <tr>\n",
       "      <th>3</th>\n",
       "      <td>4</td>\n",
       "      <td>Alan Brennert</td>\n",
       "    </tr>\n",
       "    <tr>\n",
       "      <th>4</th>\n",
       "      <td>5</td>\n",
       "      <td>Alan Moore/David   Lloyd</td>\n",
       "    </tr>\n",
       "  </tbody>\n",
       "</table>\n",
       "</div>"
      ],
      "text/plain": [
       "   author_id                          author\n",
       "0          1                      A.S. Byatt\n",
       "1          2  Aesop/Laura Harris/Laura Gibbs\n",
       "2          3                 Agatha Christie\n",
       "3          4                   Alan Brennert\n",
       "4          5        Alan Moore/David   Lloyd"
      ]
     },
     "execution_count": 3,
     "metadata": {},
     "output_type": "execute_result"
    }
   ],
   "source": [
    "query = '''SELECT *\n",
    "             FROM authors\n",
    "             limit 5'''\n",
    "con=engine.connect()\n",
    "pd.io.sql.read_sql(sql=text(query), con = con)"
   ]
  },
  {
   "cell_type": "markdown",
   "id": "8c86b082",
   "metadata": {},
   "source": [
    "**Таблица `publishers`**\n",
    "\n",
    "Содержит данные об издательствах:\n",
    "\n",
    "- `publisher_id` — идентификатор издательства;\n",
    "- `publisher` — название издательства;"
   ]
  },
  {
   "cell_type": "code",
   "execution_count": 4,
   "id": "649bc511",
   "metadata": {},
   "outputs": [
    {
     "data": {
      "text/html": [
       "<div>\n",
       "<style scoped>\n",
       "    .dataframe tbody tr th:only-of-type {\n",
       "        vertical-align: middle;\n",
       "    }\n",
       "\n",
       "    .dataframe tbody tr th {\n",
       "        vertical-align: top;\n",
       "    }\n",
       "\n",
       "    .dataframe thead th {\n",
       "        text-align: right;\n",
       "    }\n",
       "</style>\n",
       "<table border=\"1\" class=\"dataframe\">\n",
       "  <thead>\n",
       "    <tr style=\"text-align: right;\">\n",
       "      <th></th>\n",
       "      <th>publisher_id</th>\n",
       "      <th>publisher</th>\n",
       "    </tr>\n",
       "  </thead>\n",
       "  <tbody>\n",
       "    <tr>\n",
       "      <th>0</th>\n",
       "      <td>1</td>\n",
       "      <td>Ace</td>\n",
       "    </tr>\n",
       "    <tr>\n",
       "      <th>1</th>\n",
       "      <td>2</td>\n",
       "      <td>Ace Book</td>\n",
       "    </tr>\n",
       "    <tr>\n",
       "      <th>2</th>\n",
       "      <td>3</td>\n",
       "      <td>Ace Books</td>\n",
       "    </tr>\n",
       "    <tr>\n",
       "      <th>3</th>\n",
       "      <td>4</td>\n",
       "      <td>Ace Hardcover</td>\n",
       "    </tr>\n",
       "    <tr>\n",
       "      <th>4</th>\n",
       "      <td>5</td>\n",
       "      <td>Addison Wesley Publishing Company</td>\n",
       "    </tr>\n",
       "  </tbody>\n",
       "</table>\n",
       "</div>"
      ],
      "text/plain": [
       "   publisher_id                          publisher\n",
       "0             1                                Ace\n",
       "1             2                           Ace Book\n",
       "2             3                          Ace Books\n",
       "3             4                      Ace Hardcover\n",
       "4             5  Addison Wesley Publishing Company"
      ]
     },
     "execution_count": 4,
     "metadata": {},
     "output_type": "execute_result"
    }
   ],
   "source": [
    "query = '''SELECT *\n",
    "             FROM publishers\n",
    "             limit 5'''\n",
    "con=engine.connect()\n",
    "pd.io.sql.read_sql(sql=text(query), con = con)"
   ]
  },
  {
   "cell_type": "markdown",
   "id": "b7e0d093",
   "metadata": {},
   "source": [
    "**Таблица `ratings`**\n",
    "\n",
    "Содержит данные о пользовательских оценках книг:\n",
    "\n",
    "- `rating_id` — идентификатор оценки;\n",
    "- `book_id` — идентификатор книги;\n",
    "- `username` — имя пользователя, оставившего оценку;\n",
    "- `rating` — оценка книги."
   ]
  },
  {
   "cell_type": "code",
   "execution_count": 5,
   "id": "2a6b1b35",
   "metadata": {},
   "outputs": [
    {
     "data": {
      "text/html": [
       "<div>\n",
       "<style scoped>\n",
       "    .dataframe tbody tr th:only-of-type {\n",
       "        vertical-align: middle;\n",
       "    }\n",
       "\n",
       "    .dataframe tbody tr th {\n",
       "        vertical-align: top;\n",
       "    }\n",
       "\n",
       "    .dataframe thead th {\n",
       "        text-align: right;\n",
       "    }\n",
       "</style>\n",
       "<table border=\"1\" class=\"dataframe\">\n",
       "  <thead>\n",
       "    <tr style=\"text-align: right;\">\n",
       "      <th></th>\n",
       "      <th>rating_id</th>\n",
       "      <th>book_id</th>\n",
       "      <th>username</th>\n",
       "      <th>rating</th>\n",
       "    </tr>\n",
       "  </thead>\n",
       "  <tbody>\n",
       "    <tr>\n",
       "      <th>0</th>\n",
       "      <td>1</td>\n",
       "      <td>1</td>\n",
       "      <td>ryanfranco</td>\n",
       "      <td>4</td>\n",
       "    </tr>\n",
       "    <tr>\n",
       "      <th>1</th>\n",
       "      <td>2</td>\n",
       "      <td>1</td>\n",
       "      <td>grantpatricia</td>\n",
       "      <td>2</td>\n",
       "    </tr>\n",
       "    <tr>\n",
       "      <th>2</th>\n",
       "      <td>3</td>\n",
       "      <td>1</td>\n",
       "      <td>brandtandrea</td>\n",
       "      <td>5</td>\n",
       "    </tr>\n",
       "    <tr>\n",
       "      <th>3</th>\n",
       "      <td>4</td>\n",
       "      <td>2</td>\n",
       "      <td>lorichen</td>\n",
       "      <td>3</td>\n",
       "    </tr>\n",
       "    <tr>\n",
       "      <th>4</th>\n",
       "      <td>5</td>\n",
       "      <td>2</td>\n",
       "      <td>mariokeller</td>\n",
       "      <td>2</td>\n",
       "    </tr>\n",
       "  </tbody>\n",
       "</table>\n",
       "</div>"
      ],
      "text/plain": [
       "   rating_id  book_id       username  rating\n",
       "0          1        1     ryanfranco       4\n",
       "1          2        1  grantpatricia       2\n",
       "2          3        1   brandtandrea       5\n",
       "3          4        2       lorichen       3\n",
       "4          5        2    mariokeller       2"
      ]
     },
     "execution_count": 5,
     "metadata": {},
     "output_type": "execute_result"
    }
   ],
   "source": [
    "query = '''SELECT *\n",
    "             FROM ratings\n",
    "             limit 5'''\n",
    "con=engine.connect()\n",
    "pd.io.sql.read_sql(sql=text(query), con = con)"
   ]
  },
  {
   "cell_type": "markdown",
   "id": "dcee598b",
   "metadata": {},
   "source": [
    "**Таблица `reviews`**\n",
    "\n",
    "Содержит данные о пользовательских обзорах на книги:\n",
    "\n",
    "- `review_id` — идентификатор обзора;\n",
    "- `book_id` — идентификатор книги;\n",
    "- `username` — имя пользователя, написавшего обзор;\n",
    "- `text` — текст обзора."
   ]
  },
  {
   "cell_type": "code",
   "execution_count": 6,
   "id": "0935d66e",
   "metadata": {},
   "outputs": [
    {
     "data": {
      "text/html": [
       "<div>\n",
       "<style scoped>\n",
       "    .dataframe tbody tr th:only-of-type {\n",
       "        vertical-align: middle;\n",
       "    }\n",
       "\n",
       "    .dataframe tbody tr th {\n",
       "        vertical-align: top;\n",
       "    }\n",
       "\n",
       "    .dataframe thead th {\n",
       "        text-align: right;\n",
       "    }\n",
       "</style>\n",
       "<table border=\"1\" class=\"dataframe\">\n",
       "  <thead>\n",
       "    <tr style=\"text-align: right;\">\n",
       "      <th></th>\n",
       "      <th>review_id</th>\n",
       "      <th>book_id</th>\n",
       "      <th>username</th>\n",
       "      <th>text</th>\n",
       "    </tr>\n",
       "  </thead>\n",
       "  <tbody>\n",
       "    <tr>\n",
       "      <th>0</th>\n",
       "      <td>1</td>\n",
       "      <td>1</td>\n",
       "      <td>brandtandrea</td>\n",
       "      <td>Mention society tell send professor analysis. ...</td>\n",
       "    </tr>\n",
       "    <tr>\n",
       "      <th>1</th>\n",
       "      <td>2</td>\n",
       "      <td>1</td>\n",
       "      <td>ryanfranco</td>\n",
       "      <td>Foot glass pretty audience hit themselves. Amo...</td>\n",
       "    </tr>\n",
       "    <tr>\n",
       "      <th>2</th>\n",
       "      <td>3</td>\n",
       "      <td>2</td>\n",
       "      <td>lorichen</td>\n",
       "      <td>Listen treat keep worry. Miss husband tax but ...</td>\n",
       "    </tr>\n",
       "    <tr>\n",
       "      <th>3</th>\n",
       "      <td>4</td>\n",
       "      <td>3</td>\n",
       "      <td>johnsonamanda</td>\n",
       "      <td>Finally month interesting blue could nature cu...</td>\n",
       "    </tr>\n",
       "    <tr>\n",
       "      <th>4</th>\n",
       "      <td>5</td>\n",
       "      <td>3</td>\n",
       "      <td>scotttamara</td>\n",
       "      <td>Nation purpose heavy give wait song will. List...</td>\n",
       "    </tr>\n",
       "  </tbody>\n",
       "</table>\n",
       "</div>"
      ],
      "text/plain": [
       "   review_id  book_id       username  \\\n",
       "0          1        1   brandtandrea   \n",
       "1          2        1     ryanfranco   \n",
       "2          3        2       lorichen   \n",
       "3          4        3  johnsonamanda   \n",
       "4          5        3    scotttamara   \n",
       "\n",
       "                                                text  \n",
       "0  Mention society tell send professor analysis. ...  \n",
       "1  Foot glass pretty audience hit themselves. Amo...  \n",
       "2  Listen treat keep worry. Miss husband tax but ...  \n",
       "3  Finally month interesting blue could nature cu...  \n",
       "4  Nation purpose heavy give wait song will. List...  "
      ]
     },
     "execution_count": 6,
     "metadata": {},
     "output_type": "execute_result"
    }
   ],
   "source": [
    "query = '''SELECT *\n",
    "             FROM reviews\n",
    "             limit 5'''\n",
    "con=engine.connect()\n",
    "pd.io.sql.read_sql(sql=text(query), con = con)"
   ]
  },
  {
   "cell_type": "markdown",
   "id": "7eb9ecca",
   "metadata": {},
   "source": [
    "Отлично, все таблицы просмотрены, теперь осталось вывести схему базы данных, чтобы под рукой были все взаимосвязи и ключи между таблицами"
   ]
  },
  {
   "cell_type": "markdown",
   "id": "7e5269e2",
   "metadata": {},
   "source": [
    "<a href=\"https://ibb.co/kXTfmmp\">\n",
    "<img src=\"https://i.ibb.co/w4qXccT/Untitled-33.png\" alt=\"Untitled-33\" border=\"0\">\n",
    "</a>"
   ]
  },
  {
   "cell_type": "markdown",
   "id": "692a8f88",
   "metadata": {},
   "source": [
    " <div class=\"alert alert-success\">\n",
    " <b>👍 Успех:</b> Есть описание задачи, схема БД, импортированы все нужные библиотеки, создано подключение к БД, просмотрены таблицы\n",
    " </div>"
   ]
  },
  {
   "cell_type": "markdown",
   "id": "2f208503",
   "metadata": {},
   "source": [
    "### Задания для анализа\n",
    "\n",
    "1) Посчитайте, сколько книг вышло после 1 января 2000 года;"
   ]
  },
  {
   "cell_type": "code",
   "execution_count": 7,
   "id": "dd8f1db0",
   "metadata": {},
   "outputs": [
    {
     "data": {
      "text/html": [
       "<div>\n",
       "<style scoped>\n",
       "    .dataframe tbody tr th:only-of-type {\n",
       "        vertical-align: middle;\n",
       "    }\n",
       "\n",
       "    .dataframe tbody tr th {\n",
       "        vertical-align: top;\n",
       "    }\n",
       "\n",
       "    .dataframe thead th {\n",
       "        text-align: right;\n",
       "    }\n",
       "</style>\n",
       "<table border=\"1\" class=\"dataframe\">\n",
       "  <thead>\n",
       "    <tr style=\"text-align: right;\">\n",
       "      <th></th>\n",
       "      <th>count</th>\n",
       "    </tr>\n",
       "  </thead>\n",
       "  <tbody>\n",
       "    <tr>\n",
       "      <th>0</th>\n",
       "      <td>819</td>\n",
       "    </tr>\n",
       "  </tbody>\n",
       "</table>\n",
       "</div>"
      ],
      "text/plain": [
       "   count\n",
       "0    819"
      ]
     },
     "execution_count": 7,
     "metadata": {},
     "output_type": "execute_result"
    }
   ],
   "source": [
    "#how many books issued after 1/1/2000\n",
    "query = '''SELECT COUNT(book_id)\n",
    "             FROM books\n",
    "             WHERE CAST (publication_date AS date) > '2000-01-01'\n",
    "             '''\n",
    "con=engine.connect()\n",
    "pd.io.sql.read_sql(sql=text(query), con = con)"
   ]
  },
  {
   "cell_type": "markdown",
   "id": "ae9f93d6",
   "metadata": {},
   "source": [
    "**Вывод**: после 1 января 2000 года вышло 819 книг\n",
    "\n",
    " <div class=\"alert alert-success\">\n",
    " <b>👍 Успех:</b> Все верно!\n",
    " </div>\n",
    "\n",
    "2) Для каждой книги посчитайте количество обзоров и среднюю оценку;"
   ]
  },
  {
   "cell_type": "code",
   "execution_count": 8,
   "id": "601b2014",
   "metadata": {},
   "outputs": [
    {
     "data": {
      "text/html": [
       "<div>\n",
       "<style scoped>\n",
       "    .dataframe tbody tr th:only-of-type {\n",
       "        vertical-align: middle;\n",
       "    }\n",
       "\n",
       "    .dataframe tbody tr th {\n",
       "        vertical-align: top;\n",
       "    }\n",
       "\n",
       "    .dataframe thead th {\n",
       "        text-align: right;\n",
       "    }\n",
       "</style>\n",
       "<table border=\"1\" class=\"dataframe\">\n",
       "  <thead>\n",
       "    <tr style=\"text-align: right;\">\n",
       "      <th></th>\n",
       "      <th>id</th>\n",
       "      <th>title</th>\n",
       "      <th>number_of_reviewes</th>\n",
       "      <th>average_rating</th>\n",
       "    </tr>\n",
       "  </thead>\n",
       "  <tbody>\n",
       "    <tr>\n",
       "      <th>0</th>\n",
       "      <td>948</td>\n",
       "      <td>Twilight (Twilight  #1)</td>\n",
       "      <td>7</td>\n",
       "      <td>3.66</td>\n",
       "    </tr>\n",
       "    <tr>\n",
       "      <th>1</th>\n",
       "      <td>302</td>\n",
       "      <td>Harry Potter and the Prisoner of Azkaban (Harr...</td>\n",
       "      <td>6</td>\n",
       "      <td>4.41</td>\n",
       "    </tr>\n",
       "    <tr>\n",
       "      <th>2</th>\n",
       "      <td>299</td>\n",
       "      <td>Harry Potter and the Chamber of Secrets (Harry...</td>\n",
       "      <td>6</td>\n",
       "      <td>4.29</td>\n",
       "    </tr>\n",
       "    <tr>\n",
       "      <th>3</th>\n",
       "      <td>656</td>\n",
       "      <td>The Book Thief</td>\n",
       "      <td>6</td>\n",
       "      <td>4.26</td>\n",
       "    </tr>\n",
       "    <tr>\n",
       "      <th>4</th>\n",
       "      <td>734</td>\n",
       "      <td>The Glass Castle</td>\n",
       "      <td>6</td>\n",
       "      <td>4.21</td>\n",
       "    </tr>\n",
       "    <tr>\n",
       "      <th>...</th>\n",
       "      <td>...</td>\n",
       "      <td>...</td>\n",
       "      <td>...</td>\n",
       "      <td>...</td>\n",
       "    </tr>\n",
       "    <tr>\n",
       "      <th>995</th>\n",
       "      <td>191</td>\n",
       "      <td>Disney's Beauty and the Beast (A Little Golden...</td>\n",
       "      <td>0</td>\n",
       "      <td>4.00</td>\n",
       "    </tr>\n",
       "    <tr>\n",
       "      <th>996</th>\n",
       "      <td>387</td>\n",
       "      <td>Leonardo's Notebooks</td>\n",
       "      <td>0</td>\n",
       "      <td>4.00</td>\n",
       "    </tr>\n",
       "    <tr>\n",
       "      <th>997</th>\n",
       "      <td>221</td>\n",
       "      <td>Essential Tales and Poems</td>\n",
       "      <td>0</td>\n",
       "      <td>4.00</td>\n",
       "    </tr>\n",
       "    <tr>\n",
       "      <th>998</th>\n",
       "      <td>83</td>\n",
       "      <td>Anne Rice's The Vampire Lestat: A Graphic Novel</td>\n",
       "      <td>0</td>\n",
       "      <td>3.67</td>\n",
       "    </tr>\n",
       "    <tr>\n",
       "      <th>999</th>\n",
       "      <td>808</td>\n",
       "      <td>The Natural Way to Draw</td>\n",
       "      <td>0</td>\n",
       "      <td>3.00</td>\n",
       "    </tr>\n",
       "  </tbody>\n",
       "</table>\n",
       "<p>1000 rows × 4 columns</p>\n",
       "</div>"
      ],
      "text/plain": [
       "      id                                              title  \\\n",
       "0    948                            Twilight (Twilight  #1)   \n",
       "1    302  Harry Potter and the Prisoner of Azkaban (Harr...   \n",
       "2    299  Harry Potter and the Chamber of Secrets (Harry...   \n",
       "3    656                                     The Book Thief   \n",
       "4    734                                   The Glass Castle   \n",
       "..   ...                                                ...   \n",
       "995  191  Disney's Beauty and the Beast (A Little Golden...   \n",
       "996  387                               Leonardo's Notebooks   \n",
       "997  221                          Essential Tales and Poems   \n",
       "998   83    Anne Rice's The Vampire Lestat: A Graphic Novel   \n",
       "999  808                            The Natural Way to Draw   \n",
       "\n",
       "     number_of_reviewes  average_rating  \n",
       "0                     7            3.66  \n",
       "1                     6            4.41  \n",
       "2                     6            4.29  \n",
       "3                     6            4.26  \n",
       "4                     6            4.21  \n",
       "..                  ...             ...  \n",
       "995                   0            4.00  \n",
       "996                   0            4.00  \n",
       "997                   0            4.00  \n",
       "998                   0            3.67  \n",
       "999                   0            3.00  \n",
       "\n",
       "[1000 rows x 4 columns]"
      ]
     },
     "execution_count": 8,
     "metadata": {},
     "output_type": "execute_result"
    }
   ],
   "source": [
    "#count number of reviews and average score\n",
    "query = '''SELECT b.book_id AS id, b.title AS title, COUNT (DISTINCT rw.review_id) as number_of_reviewes, \\\n",
    "                                                                    ROUND (AVG(rt.rating),2) as average_rating\n",
    "             FROM books AS b \n",
    "             FULL OUTER JOIN reviews AS rw ON b.book_id=rw.book_id\n",
    "             JOIN ratings AS rt ON b.book_id=rt.book_id\n",
    "             GROUP BY 1,2\n",
    "             ORDER BY number_of_reviewes DESC, average_rating DESC\n",
    "             '''\n",
    "con=engine.connect()\n",
    "pd.io.sql.read_sql(sql=text(query), con = con)"
   ]
  },
  {
   "cell_type": "markdown",
   "id": "6c1f3ddb",
   "metadata": {},
   "source": [
    "**Вывод**: получена таблица со всеми книгами, количеством отзывов и средним рейтингом по каждой книге. Наибольшее количество обзоров у книги \"Сумерки\"\n",
    "\n",
    " <div class=\"alert alert-danger\">\n",
    " <s><b>😔 Необходимо исправить:</b> Ты группируешь по неуникальному признаку, у нас всего 1000 книг</s>\n",
    " </div>\n",
    " \n",
    " <div class=\"alert alert-info\"> <b>🎓 Комментарий студента:</b> Исправлено.</div>\n",
    " \n",
    "  <div class=\"alert alert-success\">\n",
    " <b>👍 Успех:</b> Все верно!\n",
    " </div>\n",
    "\n",
    "3) Определите издательство, которое выпустило наибольшее число книг толще 50 страниц — так вы исключите из анализа брошюры;\n"
   ]
  },
  {
   "cell_type": "code",
   "execution_count": 9,
   "id": "b51654de",
   "metadata": {},
   "outputs": [
    {
     "data": {
      "text/html": [
       "<div>\n",
       "<style scoped>\n",
       "    .dataframe tbody tr th:only-of-type {\n",
       "        vertical-align: middle;\n",
       "    }\n",
       "\n",
       "    .dataframe tbody tr th {\n",
       "        vertical-align: top;\n",
       "    }\n",
       "\n",
       "    .dataframe thead th {\n",
       "        text-align: right;\n",
       "    }\n",
       "</style>\n",
       "<table border=\"1\" class=\"dataframe\">\n",
       "  <thead>\n",
       "    <tr style=\"text-align: right;\">\n",
       "      <th></th>\n",
       "      <th>publisher</th>\n",
       "      <th>number_of_books</th>\n",
       "    </tr>\n",
       "  </thead>\n",
       "  <tbody>\n",
       "    <tr>\n",
       "      <th>0</th>\n",
       "      <td>Penguin Books</td>\n",
       "      <td>42</td>\n",
       "    </tr>\n",
       "  </tbody>\n",
       "</table>\n",
       "</div>"
      ],
      "text/plain": [
       "       publisher  number_of_books\n",
       "0  Penguin Books               42"
      ]
     },
     "execution_count": 9,
     "metadata": {},
     "output_type": "execute_result"
    }
   ],
   "source": [
    "#count publisher with most quantity of books over 50 pages\n",
    "query = '''SELECT p.publisher, COUNT (DISTINCT b.book_id) as number_of_books\n",
    "             FROM publishers AS p\n",
    "             JOIN books AS b ON p.publisher_id=b.publisher_id\n",
    "             WHERE num_pages > 50\n",
    "             GROUP BY p.publisher\n",
    "             ORDER BY number_of_books DESC\n",
    "             LIMIT 1\n",
    "             '''\n",
    "con=engine.connect()\n",
    "pd.io.sql.read_sql(sql=text(query), con = con)"
   ]
  },
  {
   "cell_type": "markdown",
   "id": "c22a124a",
   "metadata": {},
   "source": [
    "**Вывод**: издательство, выпустившее наибольшее число книг толще 50 страниц - Penguin Books. Оно выпустило 42 толстых книги.\n",
    "\n",
    " <div class=\"alert alert-success\">\n",
    " <b>👍 Успех:</b> Все верно!\n",
    " </div>\n",
    "\n",
    "4) Определите автора с самой высокой средней оценкой книг — учитывайте только книги с 50 и более оценками;"
   ]
  },
  {
   "cell_type": "code",
   "execution_count": 12,
   "id": "fb86f9c8",
   "metadata": {},
   "outputs": [
    {
     "data": {
      "text/html": [
       "<div>\n",
       "<style scoped>\n",
       "    .dataframe tbody tr th:only-of-type {\n",
       "        vertical-align: middle;\n",
       "    }\n",
       "\n",
       "    .dataframe tbody tr th {\n",
       "        vertical-align: top;\n",
       "    }\n",
       "\n",
       "    .dataframe thead th {\n",
       "        text-align: right;\n",
       "    }\n",
       "</style>\n",
       "<table border=\"1\" class=\"dataframe\">\n",
       "  <thead>\n",
       "    <tr style=\"text-align: right;\">\n",
       "      <th></th>\n",
       "      <th>author</th>\n",
       "      <th>round</th>\n",
       "    </tr>\n",
       "  </thead>\n",
       "  <tbody>\n",
       "    <tr>\n",
       "      <th>0</th>\n",
       "      <td>J.K. Rowling/Mary GrandPré</td>\n",
       "      <td>4.29</td>\n",
       "    </tr>\n",
       "  </tbody>\n",
       "</table>\n",
       "</div>"
      ],
      "text/plain": [
       "                       author  round\n",
       "0  J.K. Rowling/Mary GrandPré   4.29"
      ]
     },
     "execution_count": 12,
     "metadata": {},
     "output_type": "execute_result"
    }
   ],
   "source": [
    "query = '''SELECT a.author, ROUND(AVG(r.rating),2)\n",
    "FROM authors AS a\n",
    "LEFT JOIN books AS b ON a.author_id=b.author_id\n",
    "LEFT JOIN ratings AS r on b.book_id=r.book_id\n",
    "WHERE b.book_id IN (SELECT b.book_id\n",
    "                    FROM books AS b\n",
    "                    LEFT JOIN ratings AS r on b.book_id=r.book_id\n",
    "                    GROUP BY b.book_id\n",
    "                    HAVING COUNT (r.rating_id) >= 50)\n",
    "GROUP BY 1\n",
    "ORDER BY AVG(r.rating) desc\n",
    "limit 1\n",
    "'''\n",
    "con=engine.connect()\n",
    "pd.io.sql.read_sql(sql=text(query), con = con)"
   ]
  },
  {
   "cell_type": "markdown",
   "id": "b2d6e407",
   "metadata": {},
   "source": [
    "**Вывод**: писательница Джоанн Роулинг и иллюстратор Мэри ГрандПре, с их детищем Гарри Поттером, лидируют по среднему рейтингу среди наиболее часто оцениваемых книг.  \n",
    "\n",
    " <div class=\"alert alert-danger\">\n",
    " <s><b>😔 Необходимо исправить:</b> В подзапросе ты оставляешь только одну книгу, а нам нужно найти среднюю оценку по всем книгам авторов и выбрать автора с самой высокой средней оценкой по всем книгам, попадающим под условие. То есть тебе нужно еще раз сгруппировать данные по автору и найти среднее от среднего</s>\n",
    " </div>\n",
    " \n",
    "  <div class=\"alert alert-info\"> <b>🎓 Комментарий студента:</b> Исправлено.</div>\n",
    "  \n",
    "   <div class=\"alert alert-success\">\n",
    " <b>👍 Успех:</b> Все верно!\n",
    " </div>\n",
    "\n",
    "5) Посчитайте среднее количество обзоров от пользователей, которые поставили больше 48 оценок."
   ]
  },
  {
   "cell_type": "code",
   "execution_count": 11,
   "id": "fbf480e5",
   "metadata": {},
   "outputs": [
    {
     "data": {
      "text/html": [
       "<div>\n",
       "<style scoped>\n",
       "    .dataframe tbody tr th:only-of-type {\n",
       "        vertical-align: middle;\n",
       "    }\n",
       "\n",
       "    .dataframe tbody tr th {\n",
       "        vertical-align: top;\n",
       "    }\n",
       "\n",
       "    .dataframe thead th {\n",
       "        text-align: right;\n",
       "    }\n",
       "</style>\n",
       "<table border=\"1\" class=\"dataframe\">\n",
       "  <thead>\n",
       "    <tr style=\"text-align: right;\">\n",
       "      <th></th>\n",
       "      <th>round</th>\n",
       "    </tr>\n",
       "  </thead>\n",
       "  <tbody>\n",
       "    <tr>\n",
       "      <th>0</th>\n",
       "      <td>24.0</td>\n",
       "    </tr>\n",
       "  </tbody>\n",
       "</table>\n",
       "</div>"
      ],
      "text/plain": [
       "   round\n",
       "0   24.0"
      ]
     },
     "execution_count": 11,
     "metadata": {},
     "output_type": "execute_result"
    }
   ],
   "source": [
    "#count average number of reviewes from users that made more 48 ratings\n",
    "query = '''WITH\n",
    "rev AS (SELECT username, COUNT (DISTINCT review_id) AS number_of_reviews\n",
    "            FROM reviews\n",
    "            GROUP BY username),\n",
    "rat AS (SELECT username, COUNT (rating) \n",
    "            FROM ratings\n",
    "            GROUP BY username\n",
    "            HAVING COUNT (rating) > 48)\n",
    "SELECT ROUND(AVG(rev.number_of_reviews))\n",
    "FROM rev JOIN rat ON rev.username = rat.username\n",
    "'''\n",
    "con=engine.connect()\n",
    "pd.io.sql.read_sql(sql=text(query), con = con)"
   ]
  },
  {
   "cell_type": "markdown",
   "id": "4d238eff",
   "metadata": {},
   "source": [
    "**Вывод**: активные пользователи, которые поставили больше 48 оценок, довольно активны и в написании обзоров - в среднем они сделали 24 обзора по книгам приложения"
   ]
  },
  {
   "cell_type": "markdown",
   "id": "0365d8fc",
   "metadata": {},
   "source": [
    " <div class=\"alert alert-success\">\n",
    " <b>👍 Успех:</b> Все верно!\n",
    " </div>"
   ]
  },
  {
   "cell_type": "markdown",
   "id": "4e4424d9",
   "metadata": {},
   "source": [
    "**ОБЩИЙ ВЫВОД**: \n",
    "Полученные данные прочитаны и проведен анализ для формирования ценностного предложения для нового продукта:\n",
    "- согласно нашим базам данных, после 1 января 2000 года вышло в свет 819 новых книг. Исходя из этих данных можно строить прогнозы по продуктивности авторов на будущие годы, и соответственно планировать свои доходы\n",
    "- собраны данные по каждой книге по количеству обзоров и средней оценке. Пользуясь этими данными, можно вычислить какие книги наиболее интересны пользователям - по таким книгам пишут больше обзоров и ставят максимальные рейтинги\n",
    "- определено издательство, выпустившее наибольшее число книг толще 50 страниц - это Penguin Books. Вот и стратегический партнер для нашего нового бизнеса! Можно продумать кросс-маркетинговые акции либо программы сотрудничества с этим издательством.\n",
    "- выявлен автор с самой высокой средней оценкой книг среди книг с 50 и более оценками: это всемирно известная писательница Джоанн Роулинг и иллюстратор ее книг о Гарри Поттере - Мэри ГрандПре. Опять же, данная информация помогает лучше узнать целевую аудиторию - что нравится читателям нашего сервиса.\n",
    "- среднее количество обзоров от пользователей, которые поставили больше 48 оценок - 24. Это говорит о том, что активные пользователи в среднем пишут в два раза меньше отзывов, чем ставят оценок.\n",
    "\n",
    " <div class=\"alert alert-info\"> <b>🎓 Комментарий студента:</b> Ошибки исправлены, вывод не поменялся.</div>"
   ]
  },
  {
   "cell_type": "markdown",
   "id": "80e223b9",
   "metadata": {},
   "source": [
    " <div class=\"alert alert-success\">\n",
    " <b>👍 Успех:</b> Хорошая работа, поздравляю с окончанием курса! У тебя получились уверенные работы на финальном спринте, логичные и последовательные, ты умешшь рассуждать, визуализировать данные и делать выводы, это очень хорошие качества для аналитика! Рекомендую еще пройти бесплатный курс от практикума по <a href='https://practicum.yandex.ru/profile/ycloud-datalens/'> DataLens<a>\n",
    " </div>"
   ]
  },
  {
   "cell_type": "code",
   "execution_count": null,
   "id": "20ae8bdf",
   "metadata": {},
   "outputs": [],
   "source": []
  }
 ],
 "metadata": {
  "ExecuteTimeLog": [
   {
    "duration": 8586,
    "start_time": "2023-04-30T22:29:27.808Z"
   },
   {
    "duration": 67,
    "start_time": "2023-04-30T22:29:36.396Z"
   },
   {
    "duration": 62,
    "start_time": "2023-04-30T22:29:36.464Z"
   },
   {
    "duration": 10,
    "start_time": "2023-04-30T22:29:36.528Z"
   },
   {
    "duration": 12,
    "start_time": "2023-04-30T22:29:36.539Z"
   },
   {
    "duration": 12,
    "start_time": "2023-04-30T22:29:36.553Z"
   },
   {
    "duration": 9,
    "start_time": "2023-04-30T22:29:36.567Z"
   },
   {
    "duration": 36,
    "start_time": "2023-04-30T22:29:36.578Z"
   },
   {
    "duration": 13,
    "start_time": "2023-04-30T22:29:36.616Z"
   },
   {
    "duration": 86,
    "start_time": "2023-04-30T22:29:36.631Z"
   },
   {
    "duration": 0,
    "start_time": "2023-04-30T22:29:36.719Z"
   },
   {
    "duration": 21,
    "start_time": "2023-04-30T22:29:55.974Z"
   },
   {
    "duration": 46,
    "start_time": "2023-04-30T22:30:27.117Z"
   },
   {
    "duration": 8496,
    "start_time": "2023-05-01T13:12:40.293Z"
   },
   {
    "duration": 77,
    "start_time": "2023-05-01T13:12:48.792Z"
   },
   {
    "duration": 39,
    "start_time": "2023-05-01T13:12:48.872Z"
   },
   {
    "duration": 12,
    "start_time": "2023-05-01T13:12:48.913Z"
   },
   {
    "duration": 13,
    "start_time": "2023-05-01T13:12:48.928Z"
   },
   {
    "duration": 12,
    "start_time": "2023-05-01T13:12:48.943Z"
   },
   {
    "duration": 16,
    "start_time": "2023-05-01T13:12:48.957Z"
   },
   {
    "duration": 39,
    "start_time": "2023-05-01T13:12:48.985Z"
   },
   {
    "duration": 17,
    "start_time": "2023-05-01T13:12:49.026Z"
   },
   {
    "duration": 20,
    "start_time": "2023-05-01T13:12:49.045Z"
   },
   {
    "duration": 18,
    "start_time": "2023-05-01T13:12:49.067Z"
   },
   {
    "duration": 40,
    "start_time": "2023-05-01T13:12:59.560Z"
   },
   {
    "duration": 35,
    "start_time": "2023-05-01T13:13:19.955Z"
   },
   {
    "duration": 114,
    "start_time": "2023-05-01T13:14:00.030Z"
   },
   {
    "duration": 34,
    "start_time": "2023-05-01T13:14:16.795Z"
   },
   {
    "duration": 48,
    "start_time": "2023-05-01T13:16:55.920Z"
   },
   {
    "duration": 24,
    "start_time": "2023-05-01T13:18:05.757Z"
   },
   {
    "duration": 21,
    "start_time": "2023-05-01T13:18:11.426Z"
   },
   {
    "duration": 49,
    "start_time": "2023-05-01T13:18:44.429Z"
   },
   {
    "duration": 44,
    "start_time": "2023-05-01T13:19:04.190Z"
   },
   {
    "duration": 68,
    "start_time": "2023-05-01T13:19:18.214Z"
   },
   {
    "duration": 22,
    "start_time": "2023-05-01T13:20:41.648Z"
   },
   {
    "duration": 20,
    "start_time": "2023-05-01T13:20:47.107Z"
   },
   {
    "duration": 31,
    "start_time": "2023-05-01T13:20:54.307Z"
   },
   {
    "duration": 18,
    "start_time": "2023-05-01T13:21:06.464Z"
   },
   {
    "duration": 43,
    "start_time": "2023-05-01T13:21:18.045Z"
   },
   {
    "duration": 42,
    "start_time": "2023-05-01T13:23:21.990Z"
   },
   {
    "duration": 32,
    "start_time": "2023-05-01T13:28:18.597Z"
   },
   {
    "duration": 22,
    "start_time": "2023-05-01T13:29:41.180Z"
   },
   {
    "duration": 29,
    "start_time": "2023-05-01T13:30:06.447Z"
   },
   {
    "duration": 17,
    "start_time": "2023-05-01T13:30:16.893Z"
   },
   {
    "duration": 17,
    "start_time": "2023-05-01T13:30:56.480Z"
   },
   {
    "duration": 16,
    "start_time": "2023-05-01T13:32:39.986Z"
   },
   {
    "duration": 109,
    "start_time": "2023-05-01T13:39:53.387Z"
   },
   {
    "duration": 69,
    "start_time": "2023-05-01T13:40:14.401Z"
   },
   {
    "duration": 92,
    "start_time": "2023-05-01T13:53:29.879Z"
   },
   {
    "duration": 22,
    "start_time": "2023-05-01T13:54:15.200Z"
   },
   {
    "duration": 21,
    "start_time": "2023-05-01T13:54:52.522Z"
   },
   {
    "duration": 21,
    "start_time": "2023-05-01T13:55:11.336Z"
   },
   {
    "duration": 31,
    "start_time": "2023-05-01T13:56:08.367Z"
   },
   {
    "duration": 22,
    "start_time": "2023-05-01T13:56:42.451Z"
   },
   {
    "duration": 37,
    "start_time": "2023-05-01T13:56:56.883Z"
   },
   {
    "duration": 68,
    "start_time": "2023-05-01T13:57:15.358Z"
   },
   {
    "duration": 21,
    "start_time": "2023-05-01T13:57:23.799Z"
   },
   {
    "duration": 19,
    "start_time": "2023-05-01T14:31:34.644Z"
   },
   {
    "duration": 18,
    "start_time": "2023-05-01T14:31:42.513Z"
   },
   {
    "duration": 16,
    "start_time": "2023-05-01T14:36:43.669Z"
   },
   {
    "duration": 20,
    "start_time": "2023-05-01T14:45:40.937Z"
   },
   {
    "duration": 21,
    "start_time": "2023-05-01T14:46:00.547Z"
   },
   {
    "duration": 28,
    "start_time": "2023-05-01T14:49:16.073Z"
   },
   {
    "duration": 20,
    "start_time": "2023-05-01T14:49:19.815Z"
   },
   {
    "duration": 23,
    "start_time": "2023-05-01T14:49:53.109Z"
   },
   {
    "duration": 29,
    "start_time": "2023-05-01T14:51:02.720Z"
   },
   {
    "duration": 26,
    "start_time": "2023-05-01T14:51:18.415Z"
   },
   {
    "duration": 39,
    "start_time": "2023-05-01T14:51:28.042Z"
   },
   {
    "duration": 16,
    "start_time": "2023-05-01T14:53:40.347Z"
   },
   {
    "duration": 15,
    "start_time": "2023-05-01T14:55:47.015Z"
   },
   {
    "duration": 10369,
    "start_time": "2023-05-01T14:55:51.766Z"
   },
   {
    "duration": 43,
    "start_time": "2023-05-01T14:56:02.137Z"
   },
   {
    "duration": 69,
    "start_time": "2023-05-01T14:56:02.181Z"
   },
   {
    "duration": 13,
    "start_time": "2023-05-01T14:56:02.252Z"
   },
   {
    "duration": 14,
    "start_time": "2023-05-01T14:56:02.267Z"
   },
   {
    "duration": 40,
    "start_time": "2023-05-01T14:56:02.283Z"
   },
   {
    "duration": 10,
    "start_time": "2023-05-01T14:56:02.325Z"
   },
   {
    "duration": 38,
    "start_time": "2023-05-01T14:56:02.337Z"
   },
   {
    "duration": 32,
    "start_time": "2023-05-01T14:56:02.377Z"
   },
   {
    "duration": 20,
    "start_time": "2023-05-01T14:56:02.417Z"
   },
   {
    "duration": 16,
    "start_time": "2023-05-01T14:56:02.439Z"
   },
   {
    "duration": 8498,
    "start_time": "2023-05-02T15:48:43.862Z"
   },
   {
    "duration": 67,
    "start_time": "2023-05-02T15:48:52.362Z"
   },
   {
    "duration": 33,
    "start_time": "2023-05-02T15:48:52.431Z"
   },
   {
    "duration": 10,
    "start_time": "2023-05-02T15:48:52.466Z"
   },
   {
    "duration": 22,
    "start_time": "2023-05-02T15:48:52.478Z"
   },
   {
    "duration": 18,
    "start_time": "2023-05-02T15:48:52.501Z"
   },
   {
    "duration": 10,
    "start_time": "2023-05-02T15:48:52.521Z"
   },
   {
    "duration": 36,
    "start_time": "2023-05-02T15:48:52.533Z"
   },
   {
    "duration": 13,
    "start_time": "2023-05-02T15:48:52.571Z"
   },
   {
    "duration": 22,
    "start_time": "2023-05-02T15:48:52.586Z"
   },
   {
    "duration": 15,
    "start_time": "2023-05-02T15:48:52.610Z"
   },
   {
    "duration": 18,
    "start_time": "2023-05-02T15:49:10.071Z"
   }
  ],
  "kernelspec": {
   "display_name": "Python 3 (ipykernel)",
   "language": "python",
   "name": "python3"
  },
  "language_info": {
   "codemirror_mode": {
    "name": "ipython",
    "version": 3
   },
   "file_extension": ".py",
   "mimetype": "text/x-python",
   "name": "python",
   "nbconvert_exporter": "python",
   "pygments_lexer": "ipython3",
   "version": "3.9.5"
  },
  "toc": {
   "base_numbering": 1,
   "nav_menu": {},
   "number_sections": true,
   "sideBar": true,
   "skip_h1_title": true,
   "title_cell": "Table of Contents",
   "title_sidebar": "Contents",
   "toc_cell": false,
   "toc_position": {},
   "toc_section_display": true,
   "toc_window_display": false
  }
 },
 "nbformat": 4,
 "nbformat_minor": 5
}
